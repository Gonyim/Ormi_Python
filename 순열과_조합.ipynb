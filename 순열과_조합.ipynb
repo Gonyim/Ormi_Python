{
  "nbformat": 4,
  "nbformat_minor": 0,
  "metadata": {
    "colab": {
      "provenance": [],
      "authorship_tag": "ABX9TyOvo9GZFnQ8k5T9mpxUfAxT",
      "include_colab_link": true
    },
    "kernelspec": {
      "name": "python3",
      "display_name": "Python 3"
    },
    "language_info": {
      "name": "python"
    }
  },
  "cells": [
    {
      "cell_type": "markdown",
      "metadata": {
        "id": "view-in-github",
        "colab_type": "text"
      },
      "source": [
        "<a href=\"https://colab.research.google.com/github/Gonyim/Ormi_Python/blob/main/%EC%88%9C%EC%97%B4%EA%B3%BC_%EC%A1%B0%ED%95%A9.ipynb\" target=\"_parent\"><img src=\"https://colab.research.google.com/assets/colab-badge.svg\" alt=\"Open In Colab\"/></a>"
      ]
    },
    {
      "cell_type": "markdown",
      "source": [
        "* 순열과 조합이 쓰이는 문제는 '완전 탐색' 문제에서 주로 사용이 됩니다. 아래와 같은 문제도 '완전 탐색'으로 손쉽게 풀 수 있습니다. 단, 효율이 좋지는 않습니다.\n",
        "\n",
        "* https://school.programmers.co.kr/learn/courses/30/lessons/120956"
      ],
      "metadata": {
        "id": "-W-ulX3eMngm"
      }
    },
    {
      "cell_type": "markdown",
      "source": [
        "## 순열\n",
        "\n",
        "* 중복을 허용하지않고 r개를 뽑아서 나열한다.(nPr)"
      ],
      "metadata": {
        "id": "Zl_ag7hHMkBb"
      }
    },
    {
      "cell_type": "code",
      "execution_count": null,
      "metadata": {
        "id": "cfhAM05NMe_f"
      },
      "outputs": [],
      "source": [
        "from itertools import permutations\n",
        "\n",
        "list(permutations([1, 2, 3, 4], 2)) +\\\n",
        "list(permutations([1, 2, 3, 4], 3)) +\\\n",
        "list(permutations([1, 2, 3, 4], 4))\n",
        "\n",
        "list(permutations(range(1, 5), 2))\n",
        "list(permutations('hello', 2))"
      ]
    },
    {
      "cell_type": "code",
      "source": [
        "list(permutations(['aya', 'ye', 'woo', 'ma'], 1)) +\\\n",
        "list(permutations(['aya', 'ye', 'woo', 'ma'], 2)) +\\\n",
        "list(permutations(['aya', 'ye', 'woo', 'ma'], 3)) +\\\n",
        "list(permutations(['aya', 'ye', 'woo', 'ma'], 4))"
      ],
      "metadata": {
        "id": "3ULeGFs8NzsU"
      },
      "execution_count": null,
      "outputs": []
    },
    {
      "cell_type": "code",
      "source": [
        "순열 = list(permutations(['aya', 'ye', 'woo', 'ma'], 1)) +\\\n",
        "list(permutations(['aya', 'ye', 'woo', 'ma'], 2)) +\\\n",
        "list(permutations(['aya', 'ye', 'woo', 'ma'], 3)) +\\\n",
        "list(permutations(['aya', 'ye', 'woo', 'ma'], 4))\n",
        "\n",
        "순열집합 = []\n",
        "\n",
        "for i in 순열:\n",
        "    순열집합.append(''.join(i))\n",
        "\n",
        "순열집합"
      ],
      "metadata": {
        "id": "PnfUma7hONDB"
      },
      "execution_count": null,
      "outputs": []
    },
    {
      "cell_type": "code",
      "source": [
        "count = 0\n",
        "for i in ['ayaye', 'uuuma', 'ye', 'yemawoo', 'ayaa']:\n",
        "    if i in 순열집합:\n",
        "        count += 1\n",
        "\n",
        "count"
      ],
      "metadata": {
        "colab": {
          "base_uri": "https://localhost:8080/"
        },
        "id": "1Lbi6WKCO4Jc",
        "outputId": "b44a89b4-96ac-49f2-877a-37e40b7e5169"
      },
      "execution_count": 16,
      "outputs": [
        {
          "output_type": "execute_result",
          "data": {
            "text/plain": [
              "3"
            ]
          },
          "metadata": {},
          "execution_count": 16
        }
      ]
    },
    {
      "cell_type": "code",
      "source": [
        "import re\n",
        "\n",
        "def solution(babbling):\n",
        "    count = 0\n",
        "    p = [\"aya\", \"ye\", \"woo\", \"ma\"]\n",
        "    for i in babbling:\n",
        "        print('------------')\n",
        "        print(i)\n",
        "        for pattern in p:\n",
        "            i = re.sub(pattern, ' ', i)\n",
        "            print(i)\n",
        "        if i.replace(' ', '') == '':\n",
        "            count += 1\n",
        "    return count\n",
        "\n",
        "solution([\"aya\", \"yee\", \"u\", \"maa\", \"wyeoo\"])"
      ],
      "metadata": {
        "id": "stdRzutoSdda"
      },
      "execution_count": null,
      "outputs": []
    },
    {
      "cell_type": "markdown",
      "source": [
        "## 조합\n",
        "\n",
        "* 순서를 정하지 않고 나열한다.(nCr)"
      ],
      "metadata": {
        "id": "XdleKL9hPpJY"
      }
    },
    {
      "cell_type": "code",
      "source": [
        "from itertools import combinations\n",
        "\n",
        "list(combinations([1, 2, 3, 4], 2))"
      ],
      "metadata": {
        "colab": {
          "base_uri": "https://localhost:8080/"
        },
        "id": "BPW-z7VtPtx5",
        "outputId": "8ff47799-278d-4568-fba9-cb2b148726c6"
      },
      "execution_count": 18,
      "outputs": [
        {
          "output_type": "execute_result",
          "data": {
            "text/plain": [
              "[(1, 2), (1, 3), (1, 4), (2, 3), (2, 4), (3, 4)]"
            ]
          },
          "metadata": {},
          "execution_count": 18
        }
      ]
    },
    {
      "cell_type": "code",
      "source": [
        "from itertools import combinations\n",
        "\n",
        "list(combinations('abcd', 2))"
      ],
      "metadata": {
        "colab": {
          "base_uri": "https://localhost:8080/"
        },
        "id": "_r6O3YhYP4xc",
        "outputId": "5511d25b-257f-4b57-99b4-762b0885c741"
      },
      "execution_count": 20,
      "outputs": [
        {
          "output_type": "execute_result",
          "data": {
            "text/plain": [
              "[]"
            ]
          },
          "metadata": {},
          "execution_count": 20
        }
      ]
    }
  ]
}