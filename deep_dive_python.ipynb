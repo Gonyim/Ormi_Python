{
  "nbformat": 4,
  "nbformat_minor": 0,
  "metadata": {
    "colab": {
      "provenance": [],
      "authorship_tag": "ABX9TyO5eXWxZTxPHiWCJ3yrDzLY",
      "include_colab_link": true
    },
    "kernelspec": {
      "name": "python3",
      "display_name": "Python 3"
    },
    "language_info": {
      "name": "python"
    }
  },
  "cells": [
    {
      "cell_type": "markdown",
      "metadata": {
        "id": "view-in-github",
        "colab_type": "text"
      },
      "source": [
        "<a href=\"https://colab.research.google.com/github/Gonyim/Ormi_Python/blob/main/deep_dive_python.ipynb\" target=\"_parent\"><img src=\"https://colab.research.google.com/assets/colab-badge.svg\" alt=\"Open In Colab\"/></a>"
      ]
    },
    {
      "cell_type": "markdown",
      "source": [
        "# colab 사용법"
      ],
      "metadata": {
        "id": "8PuypgQ6uxt5"
      }
    },
    {
      "cell_type": "markdown",
      "source": [
        "** MAC을 사용하는 경우 Ctrl 대신 Command입니다. Alt 대신 Option입니다.\n",
        "\n",
        "1. **실행 단축키**\n",
        "    1. (필수) `Ctrl(Command)` + `Enter` : 해당 셀 실행\n",
        "    2. `Shift` + `Enter` : 해당 셀 실행 + 커서를 다음 셀로 이동\n",
        "    3. (필수) `Alt(Option)` + `Enter` : 해당 셀 실행 + 코드 불록 하단 추가\n",
        "2. **셀 삽입/삭제 관련 단축키**\n",
        "    1. `Ctrl(Command)` + M A : 코드 셀 위에 삽입\n",
        "    2. `Ctrl(Command)` + M B : 코드 셀 아래 삽입\n",
        "    3. `Ctrl(Command)` + M D : 셀 지우기\n",
        "    4. `Ctrl(Command)` + M Y : 코드 셀로 변경\n",
        "    5. `Ctrl(Command)` + M M : 마크다운 셀로 변경\n",
        "    6. `Ctrl(Command)` + M Z : 실행 취소\n",
        "3. 수정 관련된 단축키\n",
        "    1. `Ctrl(Command)` + `Alt(Option)` + 화살표위아래 : 동시 수정\n",
        "    2. (자주) `Ctrl(Command)` + D : 같은 단어 찾아 동시 수정\n",
        "    3. `Ctrl(Command)` + `Shift` + L : 동일 단어를 전체로 찾아 동시 수정\n",
        "    4. `Alt(Option)` + `Shift` + 화살표위아래 : 해당내용을 위나 아래 복사해서 붙여넣기\n",
        "    5. `Alt(Option)` + 화살표위아래 : 해당 내용을 위나 아래로 보내기\n",
        "    6. (자주) `Ctrl(Command)` + `Alt(Option)` + 화살표위아래 : 위아래 동시 수정\n",
        "    7. (자주) Home, End : 문장의 양 끝\n",
        "    8. (필수) `Ctrl` + `/` : 주석\n",
        "    9. (필수) `Shift` + `Del` : 한 줄 지우기\n",
        "    10. (필수) `Tab`, `Ctrl` + `]` : 들여쓰기\n",
        "    11. (필수) `Shift` + `Tab`, `Ctrl` + `[` : 내어쓰기\n",
        "4. 단축키 보기 및 설정\n",
        "    1. `Ctrl(Command)` + M H : 단축키 모음"
      ],
      "metadata": {
        "id": "53LuUDX5vgCD"
      }
    },
    {
      "cell_type": "markdown",
      "source": [
        "# 마크다운"
      ],
      "metadata": {
        "id": "zDx6J6k5yB9H"
      }
    },
    {
      "cell_type": "markdown",
      "source": [
        "* 필수 마크다운\n",
        "\n",
        "  ```\n",
        "  # hello\n",
        "  ## hello\n",
        "  ### hello\n",
        "\n",
        "  1. hello\n",
        "  2. hello\n",
        "  3. hello\n",
        "\n",
        "  * hello\n",
        "  * hello\n",
        "  * hello\n",
        "  ```\n",
        "\n",
        "* 선택 마크다운(필수가 아니니 부담가지지마세요.)\n",
        "\n",
        "      # h1\n",
        "      ## h2\n",
        "      ### h3\n",
        "      #### h4\n",
        "      ##### h5\n",
        "      ###### h6\n",
        "\n",
        "---\n",
        "\n",
        "      1. hello\n",
        "      2. hello\n",
        "      3. hello\n",
        "\n",
        "      * hello\n",
        "      * hello\n",
        "      * hello\n",
        "\n",
        "      - hello\n",
        "      - hello\n",
        "      - hello\n",
        "\n",
        "      __굵게__\n",
        "      **굵게**\n",
        "      _기울여 쓰기_\n",
        "      *기울여 쓰기*\n",
        "      ~취소선~\n",
        "      ~~취소선~~\n",
        "\n",
        "      > 인용문 작성하기\n",
        "      `인라인 코드는 이렇게 작성해요.`\n",
        "\n",
        "      [인라인 링크](https://velog.io/)\n",
        "\n",
        "      ![이미지 설명](이미지 링크)\n",
        "\n",
        "\n",
        "      * table은 직접 만들지 마시고 https://www.tablesgenerator.com/markdown_tables 와 같은 서비스를 이용하세요.\n",
        "      | 1 | 2     | 3 | 4 | 5     |\n",
        "      |---|-------|---|---|-------|\n",
        "      | 1 | hello | 3 | 4 | world |\n",
        "\n",
        "      * [ ] hello\n",
        "      * [X] hello"
      ],
      "metadata": {
        "id": "T8TCRmDayGET"
      }
    },
    {
      "cell_type": "markdown",
      "source": [
        "#Python"
      ],
      "metadata": {
        "id": "ulrQLQ3_4DrS"
      }
    },
    {
      "cell_type": "code",
      "source": [
        "#행 단위 주석입니다.\n",
        "\"\"\"\n",
        "큰 따옴표로 세번 묶거나\n",
        "작은따옴표로 세번 묶으면\n",
        "열단위 주석이 됩니다.\n",
        "\"\"\"\n",
        "\n",
        "#행 단위 주석입니다.\n",
        "'''\n",
        "큰 따옴표로 세번 묶거나\n",
        "작은따옴표로 세번 묶으면\n",
        "열단위 주석이 됩니다.\n",
        "'''"
      ],
      "metadata": {
        "colab": {
          "base_uri": "https://localhost:8080/",
          "height": 35
        },
        "id": "GDpAVzcw4GAk",
        "outputId": "1d228117-8207-46e3-a816-fc91da57ae8e"
      },
      "execution_count": null,
      "outputs": [
        {
          "output_type": "execute_result",
          "data": {
            "text/plain": [
              "'\\n큰 따옴표로 세번 묶거나\\n작은따옴표로 세번 묶으면\\n열단위 주석이 됩니다.\\n'"
            ],
            "application/vnd.google.colaboratory.intrinsic+json": {
              "type": "string"
            }
          },
          "metadata": {},
          "execution_count": 1
        }
      ]
    },
    {
      "cell_type": "code",
      "source": [
        "# 아래와 같이 열단위 주석으로 text를 넣을 수도 있습니다.\n",
        "data = '''\n",
        "큰 따옴표로 세번 묶거나\n",
        "작은따옴표로 세번 묶으면\n",
        "열단위 주석이 됩니다.\n",
        "'''"
      ],
      "metadata": {
        "id": "CMD4Zcj14tzj"
      },
      "execution_count": null,
      "outputs": []
    },
    {
      "cell_type": "markdown",
      "source": [
        "* Code convention python\n",
        "* https://google.github.io/styleguide/\n",
        "* https://google.github.io/styleguide/pyguide.html"
      ],
      "metadata": {
        "id": "cs4rov_n48ml"
      }
    },
    {
      "cell_type": "code",
      "source": [
        "def connect_to_next_port(self, minimum: int) -> int:\n",
        "    '''Connects to the next available port.\n",
        "\n",
        "    Args:\n",
        "      minimum: A port value greater or equal to 1024.\n",
        "\n",
        "    Returns:\n",
        "      The new minimum port.\n",
        "\n",
        "    Raises:\n",
        "      ConnectionError: If no available port is found.\n",
        "    '''\n",
        "    if minimum < 1024:\n",
        "        # Note that this raising of ValueError is not mentioned in the doc\n",
        "        # string's \"Raises:\" section because it is not appropriate to\n",
        "        # guarantee this specific behavioral reaction to API misuse.\n",
        "        raise ValueError(f'Min. port must be at least 1024, not {minimum}.')\n",
        "    port = self._find_next_open_port(minimum)\n",
        "    if port is None:\n",
        "        raise ConnectionError(\n",
        "            f'Could not connect to service on port {minimum} or higher.')\n",
        "    assert port >= minimum, (\n",
        "        f'Unexpected port {port} when minimum was {minimum}.')\n",
        "    return port"
      ],
      "metadata": {
        "id": "4r11kkXm5xuc"
      },
      "execution_count": null,
      "outputs": []
    },
    {
      "cell_type": "code",
      "source": [
        "# 띄어쓰기 4칸 (tab(스페이스 4칸과 다릅니다!). 6칸, 7칸 다 작동합니다.)\n",
        "# 아래와 같이 탭과 띄어쓰기 4번을 혼용하시면 error가 납니다.\n",
        "for i in range(10):\n",
        "    print(i)\n",
        "    print('큰 따옴표로 세번 묶거나')"
      ],
      "metadata": {
        "colab": {
          "base_uri": "https://localhost:8080/"
        },
        "id": "4Qhgu_hy6rZb",
        "outputId": "f37e47f8-60d5-495a-ba61-88585cbec67e"
      },
      "execution_count": null,
      "outputs": [
        {
          "output_type": "stream",
          "name": "stdout",
          "text": [
            "0\n",
            "큰 따옴표로 세번 묶거나\n",
            "1\n",
            "큰 따옴표로 세번 묶거나\n",
            "2\n",
            "큰 따옴표로 세번 묶거나\n",
            "3\n",
            "큰 따옴표로 세번 묶거나\n",
            "4\n",
            "큰 따옴표로 세번 묶거나\n",
            "5\n",
            "큰 따옴표로 세번 묶거나\n",
            "6\n",
            "큰 따옴표로 세번 묶거나\n",
            "7\n",
            "큰 따옴표로 세번 묶거나\n",
            "8\n",
            "큰 따옴표로 세번 묶거나\n",
            "9\n",
            "큰 따옴표로 세번 묶거나\n"
          ]
        }
      ]
    },
    {
      "cell_type": "code",
      "source": [
        "a = 10     #int, 정수형\n",
        "b = 10.1   #float, 실수\n",
        "c = -1\n",
        "d = True   #bool, 논리형(부울형, 참거짓형)\n",
        "e = 'good'\n",
        "f = '10'   #str, 문자열\n",
        "g = 'kim'\n",
        "h = 'honggildong'\n",
        "i = 'example'\n",
        "j = 10 + 2j #complex, 복소수\n",
        "k = 0b110   #int, 2진법 \n",
        "l = 0o56    #int, 8진법\n",
        "m = 0xAC    #int, 16진법\n",
        "\n",
        "##########\n",
        "def hello():\n",
        "    return\n",
        "\n",
        "class A:\n",
        "    pass\n",
        "\n",
        "n = hello # function\n",
        "o = print # bulit-in function\n",
        "p = lambda x:x**2 # function\n",
        "q = int # type\n",
        "r = A # class\n",
        "s = A() # instance\n",
        "##########\n",
        "\n",
        "print(f'type(10) : {type(a)}')\n",
        "print(f'type(10.1) : {type(b)}')\n",
        "print(f'type(-1) : {type(c)}')\n",
        "print(f'type(True) : {type(d)}')\n",
        "print(f'type(\\'good\\') : {type(e)}')\n",
        "print(f'type(\\'good\\'.upper) : {type(e.upper)}')\n",
        "print(f'\\'10\\' + \\'10\\' : {f + f}')\n",
        "print(f'\\'10\\' * 3 : {f * 3}')\n",
        "print(f'\\'hong\\' + \\'gildong\\' : {g + h}')\n",
        "print(f'type(\\'gildong\\') : {type(h)}')\n",
        "print(f'type(\\'gildong100!!\\') : {type(i)}')\n",
        "print(f'type(10 + 2j) : {type(j)}')\n",
        "print(f'type(0b110) : {type(k)}')\n",
        "print(k)\n",
        "print(f'type(0o56) : {type(i)}')\n",
        "print(i)\n",
        "print(f'type(0xAC) : {type(m)}')\n",
        "print(m)\n",
        "print(f'type(def func():...생략...) : {type(n)}')\n",
        "print(f'type(print) : {type(o)}')\n",
        "print(f'type(lambda x:x**2) : {type(p)}')\n",
        "print(f'type(int) : {type(int)}')+"
      ],
      "metadata": {
        "colab": {
          "base_uri": "https://localhost:8080/",
          "height": 135
        },
        "id": "Zz2ghe2G79q_",
        "outputId": "5092df44-8a65-485f-849a-74aa331c0a73"
      },
      "execution_count": null,
      "outputs": [
        {
          "output_type": "error",
          "ename": "SyntaxError",
          "evalue": "ignored",
          "traceback": [
            "\u001b[0;36m  File \u001b[0;32m\"<ipython-input-5-55d982ef094a>\"\u001b[0;36m, line \u001b[0;32m1\u001b[0m\n\u001b[0;31m    3a = 10     #int, 정수형\u001b[0m\n\u001b[0m    ^\u001b[0m\n\u001b[0;31mSyntaxError\u001b[0m\u001b[0;31m:\u001b[0m invalid decimal literal\n"
          ]
        }
      ]
    },
    {
      "cell_type": "code",
      "source": [
        "# 변수를 처음 만나시면 type, dir을 해봅니다.\n",
        "# type을 찍으면 검색 키워드를 알 수 있습니다.\n",
        "# dir을 찍으면 속성을 알 수 있습니다.\n",
        "type(a)"
      ],
      "metadata": {
        "id": "p843Tk208ndJ"
      },
      "execution_count": null,
      "outputs": []
    },
    {
      "cell_type": "code",
      "source": [
        "print(type(a))"
      ],
      "metadata": {
        "id": "cxOQLQMZ8sYt"
      },
      "execution_count": null,
      "outputs": []
    },
    {
      "cell_type": "code",
      "source": [
        "dir(a)"
      ],
      "metadata": {
        "id": "MUo_nMut8028"
      },
      "execution_count": null,
      "outputs": []
    },
    {
      "cell_type": "code",
      "source": [
        "# 이스케이프 문자자\n",
        "# https://ko.wikipedia.org/wiki/%EC%9D%B4%EC%8A%A4%EC%BC%80%EC%9D%B4%ED%94%84_%EB%AC%B8%EC%9E%90\n",
        "print('hello \\n world')\n",
        "print('hello \\t world')\n",
        "print('hello \\' world')\n",
        "print('hello \\\" world')\n",
        "print('hello \\\\ world')"
      ],
      "metadata": {
        "id": "LPR8Rxvw-kka"
      },
      "execution_count": null,
      "outputs": []
    },
    {
      "cell_type": "code",
      "source": [
        "hello = 10\n",
        "\n",
        "print(r'hello \\n world') # str -> raw (Django 2.x까지 url parsing을 이렇게 사용하고 있어요)\n",
        "print(f'hello \\n world {hello}') # 앞으로 f-string 기법\n",
        "print('hello world {}'.format(hello))"
      ],
      "metadata": {
        "id": "y75yHEzb_vy3"
      },
      "execution_count": null,
      "outputs": []
    },
    {
      "cell_type": "code",
      "source": [
        "# 오일러의 수를 모른다 해서, 수학 연산이 약하다 해서 우리 수업에 문제가 되지 않습니다.\n",
        "print(2.3e3) # 무리수, 오일러 수(2.718에 수렴, 파이가 3.14인 것처럼)\n",
        "print(2.3E3)\n",
        "\n",
        "2.3 * (10 ** 3)"
      ],
      "metadata": {
        "id": "hjHO1agdEaP3"
      },
      "execution_count": null,
      "outputs": []
    },
    {
      "cell_type": "code",
      "source": [
        "print(2.3e-3) # 무리수, 오일러 수(2.718에 수렴, 파이가 3.14인 것처럼)\n",
        "print(2.3E-3)\n",
        "\n",
        "2.3 * (10 ** -3)"
      ],
      "metadata": {
        "id": "2KUnSzxdFMEo"
      },
      "execution_count": null,
      "outputs": []
    },
    {
      "cell_type": "code",
      "source": [
        "class A: # 자동차 공장\n",
        "    pass\n",
        "\n",
        "    a = A # class\n",
        "    b = A() # instance # 자동차\n",
        "\n",
        "    print(type(a))\n",
        "    print(type(b))\n",
        "    "
      ],
      "metadata": {
        "id": "_ks9J1T1-ox3"
      },
      "execution_count": null,
      "outputs": []
    },
    {
      "cell_type": "code",
      "source": [
        "# 실무에서 자주 사용하는 구문\n",
        "type(10)\n",
        "type(10) == int\n",
        "type(10.1) == float"
      ],
      "metadata": {
        "id": "lNjsmgEl_sTs"
      },
      "execution_count": null,
      "outputs": []
    },
    {
      "cell_type": "code",
      "source": [
        "# 위만큼 자주사용하진 않지만 타입 확인 코드\n",
        "a = 10\n",
        "isinstance(a, int)\n",
        "isinstance(a, float)"
      ],
      "metadata": {
        "id": "I9VUwWOAFn01"
      },
      "execution_count": null,
      "outputs": []
    },
    {
      "cell_type": "markdown",
      "source": [
        "## 변수"
      ],
      "metadata": {
        "id": "wfiVZglaF7Bf"
      }
    },
    {
      "cell_type": "code",
      "source": [
        "# CS 변수는 포스트잇\n",
        "# 변수는 메모리 공간을 가리킵니다.\n",
        "\n",
        "# x라는 포스트잇도 붙였지만\n",
        "# y라는 포스트잇도 붙여져 있는 것입니다.\n",
        "x = 10\n",
        "y = 10\n",
        "\n",
        "id(x), id(y) # id는 누굴 가리키고 있는지 그 주소값을 반환합니다."
      ],
      "metadata": {
        "id": "4K9CUZr4F-YF"
      },
      "execution_count": null,
      "outputs": []
    },
    {
      "cell_type": "code",
      "source": [
        "x is y"
      ],
      "metadata": {
        "id": "LomNG5OPHOxZ"
      },
      "execution_count": null,
      "outputs": []
    },
    {
      "cell_type": "code",
      "source": [
        "x = 257\n",
        "y = 257\n",
        "\n",
        "id(x), id(y)"
      ],
      "metadata": {
        "id": "mHy1X_7XHahI"
      },
      "execution_count": null,
      "outputs": []
    },
    {
      "cell_type": "code",
      "source": [
        "x is y"
      ],
      "metadata": {
        "id": "ZSZY5iHLHmff"
      },
      "execution_count": null,
      "outputs": []
    },
    {
      "cell_type": "code",
      "source": [
        "# Python은 자체적으로 속도를 높이기 위한 \n",
        "# 여러가지 노력들을 해왔습니다.\n",
        "# (아래 언급한 것 말고도 각각의 자료형에서 메모리를 효율적으로 관리하기 위한 노력들을 말씀드리겠습니다.)\n",
        "# 구버전도 말씀을 드릴 것인데 이유는 여러분이 실무에가서 접할 환경이 최신 버전이 아니기 때문입니다.\n",
        "# 야xx의 경우에는 Django 1.x, python 2.x를 사용하고 있어요. \n",
        "# 대부분의 기업들이 한 번 구축해놓은 시스템은 바꾸기가 쉽지 않습니다.\n",
        "\n",
        "# 그래서 -5 ~ 256은 먼저 메모리에 적재를 합니다."
      ],
      "metadata": {
        "id": "nVrXA0QAIAih"
      },
      "execution_count": null,
      "outputs": []
    },
    {
      "cell_type": "code",
      "source": [
        "x = -5\n",
        "y = -5\n",
        "\n",
        "id(x), id(y)"
      ],
      "metadata": {
        "id": "1T_sQRbHIPmR"
      },
      "execution_count": null,
      "outputs": []
    },
    {
      "cell_type": "markdown",
      "source": [
        "* 변수의 타입이란 무엇인가?\n",
        "* 변수의 타입은 왜 있는 것일까?\n",
        "* 어떤 고민을 통해 변수의 속성을 정했을까?"
      ],
      "metadata": {
        "id": "4XgZxImaIucu"
      }
    },
    {
      "cell_type": "code",
      "source": [
        "'a' + 'a'"
      ],
      "metadata": {
        "id": "TOv1bdviJDQl"
      },
      "execution_count": null,
      "outputs": []
    },
    {
      "cell_type": "code",
      "source": [
        "# 왜 이어 붙였지?\n",
        "# 컴퓨터 입장에서 a는 97(인간이 보는 숫자) -> 0x61! 결국 숫자!"
      ],
      "metadata": {
        "id": "pxYcZEmdJFMj"
      },
      "execution_count": null,
      "outputs": []
    },
    {
      "cell_type": "code",
      "source": [
        "# cpython -> 이어 붙이라고 정의가 되어 있어서\n",
        "# 사회 통념적인 약속 -> 코드로 구현\n",
        "# 이러한 약속들은 매직메서드(__init__.....)를 통해 구현하게 됩니다."
      ],
      "metadata": {
        "id": "SHfjzdLZJdCg"
      },
      "execution_count": null,
      "outputs": []
    },
    {
      "cell_type": "markdown",
      "source": [
        "## 변수의 속성 변경"
      ],
      "metadata": {
        "id": "1HSAhixTJ9ga"
      }
    },
    {
      "cell_type": "code",
      "source": [
        "'10' + '10'"
      ],
      "metadata": {
        "id": "-4gdmL0NKBHU"
      },
      "execution_count": null,
      "outputs": []
    },
    {
      "cell_type": "code",
      "source": [
        "int('10') + int('10')"
      ],
      "metadata": {
        "id": "RZua_xtCKSXW"
      },
      "execution_count": null,
      "outputs": []
    },
    {
      "cell_type": "code",
      "source": [
        "# 지금 배우는 포인트는 class가 중요한 문법이 아니라\n",
        "# 이러한 '약속'을 우리가 변경할 수 있다가 중요한 포인트입니다.\n",
        "class int(int):\n",
        "    def __add__(self, a):\n",
        "        return 'kimgwonyi'\n",
        "\n",
        "int('10') + int('10')"
      ],
      "metadata": {
        "id": "N7So4PnKKVkn"
      },
      "execution_count": null,
      "outputs": []
    },
    {
      "cell_type": "code",
      "source": [
        "class int(int):\n",
        "    def __add__(self, a):\n",
        "        return self * a\n",
        "\n",
        "int('10') + int('10')"
      ],
      "metadata": {
        "id": "WJPelgyjKs2Y"
      },
      "execution_count": null,
      "outputs": []
    },
    {
      "cell_type": "code",
      "source": [
        "dir(10)"
      ],
      "metadata": {
        "id": "g4TYY8DuK7QF"
      },
      "execution_count": null,
      "outputs": []
    },
    {
      "cell_type": "code",
      "source": [
        "class int(int):\n",
        "    def 제곱(self, 승수):\n",
        "        return self ** 승수\n",
        "\n",
        "value = int('10')\n",
        "print(dir(value))"
      ],
      "metadata": {
        "id": "fBfFWYavLG6E"
      },
      "execution_count": null,
      "outputs": []
    },
    {
      "cell_type": "code",
      "source": [
        "value.제곱(3)"
      ],
      "metadata": {
        "id": "VnuEx8s1Lxx2"
      },
      "execution_count": null,
      "outputs": []
    },
    {
      "cell_type": "code",
      "source": [
        "x = 10\n",
        "y = x\n",
        "z = y\n",
        "\n",
        "print(id(x), id(y), id(z))"
      ],
      "metadata": {
        "id": "RyoU7MGdMEDS"
      },
      "execution_count": null,
      "outputs": []
    },
    {
      "cell_type": "code",
      "source": [
        "x = 10\n",
        "y = x\n",
        "x = 100\n",
        "\n",
        "print(x, y)\n",
        "print(id(x), id(y), id(z))"
      ],
      "metadata": {
        "id": "M668yaRlNDUy"
      },
      "execution_count": null,
      "outputs": []
    },
    {
      "cell_type": "markdown",
      "source": [
        "###변수의 속성성"
      ],
      "metadata": {
        "id": "4tIomxbsNeRH"
      }
    },
    {
      "cell_type": "markdown",
      "source": [
        "* 변수는 주로 스네이크 표기법을 많이 사용합니다. 물론 회사 컨벤션에 따르셔야 합니다.\n",
        "* 영문과 숫자를 사용할 수 있지만, 숫자로  시작하지는 못합니다.\n",
        "* 특수문자는 사용하지 않아요.(언더바(_)는  사용합니다. 스네이크 표기법, 특수문자나  이미중 사용 가능한 것들이 있기는 합니다.  권하지 않습니다.)\n",
        "* 예약어는 사용하지 않습니다.(if, elif, while, * for, etc)\n",
        "* 대소문자는 구분합니다.\n",
        "* 언더바로만 사용하거나 언더바로 시작할 수 있습니다.\n",
        "* 대문자로 시작하는 변수를 사용할 수 있지만, 관습적으로 대문자로 시작하는 변수는 Class로 만들기 때문에 소문자로 시작하는 변수를 만들기를 권합니다. Class는 보통 파스칼 표기법을 따릅니다. 다만 회사 컨벤션마다 다릅니다."
      ],
      "metadata": {
        "id": "Yb_pEzNnNhW5"
      }
    },
    {
      "cell_type": "code",
      "source": [
        "# 스네이크 표기법 (Python에서 주로)\n",
        "hello_world = 10\n",
        "\n",
        "# 카멜 표기법 (JavaScript에서 주로)\n",
        "helloWorldHello = 10\n",
        "\n",
        "# 파스칼 표기법 (Class 같은 곳에서 많이 사용합니다.)\n",
        "Hello = 10"
      ],
      "metadata": {
        "id": "H9q7zjvyN5tz"
      },
      "execution_count": null,
      "outputs": []
    },
    {
      "cell_type": "code",
      "source": [
        "# 10hello = 100 (안됨)\n",
        "hello10 = 100\n",
        "\n"
      ],
      "metadata": {
        "id": "rN1XIwghhM63"
      },
      "execution_count": null,
      "outputs": []
    },
    {
      "cell_type": "code",
      "source": [
        "_ = 100 # 언더바는 자주사용되는데 이렇게 사용되진 않습니다.\n",
        "print(_)\n",
        "\n",
        "3.14\n",
        "100"
      ],
      "metadata": {
        "id": "D80RldCLigA8"
      },
      "execution_count": null,
      "outputs": []
    },
    {
      "cell_type": "code",
      "source": [
        "a = 100"
      ],
      "metadata": {
        "id": "SpKP74qFjBpN"
      },
      "execution_count": null,
      "outputs": []
    },
    {
      "cell_type": "code",
      "source": [
        "# if = 100\n",
        "# print = 100"
      ],
      "metadata": {
        "id": "lfT__Us4ilq7"
      },
      "execution_count": null,
      "outputs": []
    },
    {
      "cell_type": "code",
      "source": [
        "print = 100"
      ],
      "metadata": {
        "id": "Wj1tPc26iykW"
      },
      "execution_count": null,
      "outputs": []
    },
    {
      "cell_type": "code",
      "source": [
        "print(a)"
      ],
      "metadata": {
        "id": "EgOPbL2vjKS5"
      },
      "execution_count": null,
      "outputs": []
    },
    {
      "cell_type": "markdown",
      "source": [
        "## 입력과 출력"
      ],
      "metadata": {
        "id": "3XW69pD5jjQb"
      }
    },
    {
      "cell_type": "code",
      "source": [
        "x = input()\n",
        "x"
      ],
      "metadata": {
        "colab": {
          "base_uri": "https://localhost:8080/",
          "height": 53
        },
        "id": "sI8RFP5Pjnu0",
        "outputId": "54c715b7-2a47-4fd2-8352-7f65c417a93e"
      },
      "execution_count": null,
      "outputs": [
        {
          "name": "stdout",
          "output_type": "stream",
          "text": [
            "10\n"
          ]
        },
        {
          "output_type": "execute_result",
          "data": {
            "text/plain": [
              "'10'"
            ],
            "application/vnd.google.colaboratory.intrinsic+json": {
              "type": "string"
            }
          },
          "metadata": {},
          "execution_count": 6
        }
      ]
    },
    {
      "cell_type": "code",
      "source": [
        "x + x # 사용자에게 받은 입력은 str"
      ],
      "metadata": {
        "colab": {
          "base_uri": "https://localhost:8080/",
          "height": 35
        },
        "id": "hu1VcKVzjr6I",
        "outputId": "3e5c683f-90b8-4491-fdf0-30e791dfe3a2"
      },
      "execution_count": null,
      "outputs": [
        {
          "output_type": "execute_result",
          "data": {
            "text/plain": [
              "'1010'"
            ],
            "application/vnd.google.colaboratory.intrinsic+json": {
              "type": "string"
            }
          },
          "metadata": {},
          "execution_count": 7
        }
      ]
    },
    {
      "cell_type": "code",
      "source": [
        "print(10, 10, 10)"
      ],
      "metadata": {
        "colab": {
          "base_uri": "https://localhost:8080/"
        },
        "id": "_T7anzZPj9Z0",
        "outputId": "f6bc44d8-929a-4cf8-d8d8-56beec34b712"
      },
      "execution_count": null,
      "outputs": [
        {
          "output_type": "stream",
          "name": "stdout",
          "text": [
            "10 10 10\n"
          ]
        }
      ]
    },
    {
      "cell_type": "code",
      "source": [
        "print('hello', 'world', 'hello')"
      ],
      "metadata": {
        "colab": {
          "base_uri": "https://localhost:8080/"
        },
        "id": "50CuHFt5kBfd",
        "outputId": "b0567d70-e6a5-442b-d409-d0be819f8d4b"
      },
      "execution_count": null,
      "outputs": [
        {
          "output_type": "stream",
          "name": "stdout",
          "text": [
            "hello world hello\n"
          ]
        }
      ]
    },
    {
      "cell_type": "code",
      "source": [
        "print(x, x)"
      ],
      "metadata": {
        "colab": {
          "base_uri": "https://localhost:8080/"
        },
        "id": "XW9jXccekEIC",
        "outputId": "c13322ef-c3aa-432b-92a7-44fe3ef671a8"
      },
      "execution_count": null,
      "outputs": [
        {
          "output_type": "stream",
          "name": "stdout",
          "text": [
            "10 10\n"
          ]
        }
      ]
    },
    {
      "cell_type": "code",
      "source": [
        "min(['hello', 'world', 'hi'], key=len)\n",
        "sum([[1, 2, 3], [4, 5, 6]], [])"
      ],
      "metadata": {
        "colab": {
          "base_uri": "https://localhost:8080/"
        },
        "id": "8msYpy26kHJO",
        "outputId": "0001173e-01ed-4662-fc57-c2e69b66f93b"
      },
      "execution_count": null,
      "outputs": [
        {
          "output_type": "execute_result",
          "data": {
            "text/plain": [
              "[1, 2, 3, 4, 5, 6]"
            ]
          },
          "metadata": {},
          "execution_count": 15
        }
      ]
    },
    {
      "cell_type": "code",
      "source": [
        "print('hello world', end='!')\n",
        "print('hello world', end='!')\n",
        "print('hello world', end='!')\n",
        "# end 옵션은 나와 다음꺼 나올때 뭐 붙일거냐? 디폴트 \\n"
      ],
      "metadata": {
        "colab": {
          "base_uri": "https://localhost:8080/"
        },
        "id": "2pHY9dq_kspo",
        "outputId": "0cfe136a-2feb-4cff-e206-0dc47888dad3"
      },
      "execution_count": null,
      "outputs": [
        {
          "output_type": "stream",
          "name": "stdout",
          "text": [
            "hello world!hello world!hello world!"
          ]
        }
      ]
    },
    {
      "cell_type": "code",
      "source": [
        "print('hello', 'world', sep='!')\n",
        "print('010', '5044', '2903', sep='-')\n",
        "# sep 는 두개를 어떻게 붙일거냐냐"
      ],
      "metadata": {
        "colab": {
          "base_uri": "https://localhost:8080/"
        },
        "id": "EJ6M0o4Zk-XR",
        "outputId": "37ef42a2-6982-4905-8f27-8509db99ed89"
      },
      "execution_count": null,
      "outputs": [
        {
          "output_type": "stream",
          "name": "stdout",
          "text": [
            "hello!world\n",
            "010-5044-2903\n"
          ]
        }
      ]
    },
    {
      "cell_type": "code",
      "source": [
        "이름 = '김권이'\n",
        "나이 = 10\n",
        "print('1. 제 이름은 김권이입니다. 제 나이는 10입니다.')\n",
        "print('2. 제 이름은 ', 이름, '입니다. 제 나이는 ', 나이, '입니다.', sep='')\n",
        "print('3. 제 이름은 %s입니다. 제 나이는 %d입니다, ' %(이름, 나이))\n",
        "print('4, 제 이름은 {}입니다. 제 나이는 {}입니다.'.format(이름, 나이))\n",
        "print(f'4, 제 이름은 {이름}입니다. 제 나이는 {나이}입니다.')"
      ],
      "metadata": {
        "colab": {
          "base_uri": "https://localhost:8080/"
        },
        "id": "acjKkXG2lZsi",
        "outputId": "4b736032-23cf-4a5f-d324-407519d798ea"
      },
      "execution_count": null,
      "outputs": [
        {
          "output_type": "stream",
          "name": "stdout",
          "text": [
            "1. 제 이름은 김권이입니다. 제 나이는 10입니다.\n",
            "2. 제 이름은 김권이입니다. 제 나이는 10입니다.\n",
            "3. 제 이름은 김권이입니다. 제 나이는 10입니다, \n",
            "4, 제 이름은 김권이입니다. 제 나이는 10입니다.\n",
            "4, 제 이름은 김권이입니다. 제 나이는 10입니다.\n"
          ]
        }
      ]
    },
    {
      "cell_type": "markdown",
      "source": [
        "[포멧코드](https://www.notion.so/paullabworkspace/9fd33417740f4eba8715f5c4a1ed7c7b?v=e01ecdfe2f9448dcaad68b03a38057a5)"
      ],
      "metadata": {
        "id": "XP9IbqZzmU4_"
      }
    },
    {
      "cell_type": "markdown",
      "source": [
        "## formatting"
      ],
      "metadata": {
        "id": "LrlDdIPxm5v4"
      }
    },
    {
      "cell_type": "code",
      "source": [
        "print(f'{100 * 10}')"
      ],
      "metadata": {
        "colab": {
          "base_uri": "https://localhost:8080/"
        },
        "id": "6H1yX1mznFHL",
        "outputId": "50808d84-b63c-4e76-f910-6749ef17c22d"
      },
      "execution_count": null,
      "outputs": [
        {
          "output_type": "stream",
          "name": "stdout",
          "text": [
            "1000\n"
          ]
        }
      ]
    },
    {
      "cell_type": "code",
      "source": [
        "# 중괄호 안에서 복잡한 연산을 하시는 것을 권하지 않습니다.\n",
        "result = 100 * 10\n",
        "print(f'{result}')"
      ],
      "metadata": {
        "colab": {
          "base_uri": "https://localhost:8080/"
        },
        "id": "yHtUrGUknKvY",
        "outputId": "d72c00f3-f817-4f3e-9b10-90ab9e7a043c"
      },
      "execution_count": null,
      "outputs": [
        {
          "output_type": "stream",
          "name": "stdout",
          "text": [
            "1000\n"
          ]
        }
      ]
    },
    {
      "cell_type": "code",
      "source": [
        "#이런 문법은 필요에 의해 검색해 보시다 보면 익숙해집니다.\n",
        "\n",
        "print(f'{\"hello\":<10}') #왼쪽 정렬\n",
        "print(f'{\"hello\":>10}') #오른쪽 정렬\n",
        "print(f'{\"hello\":^10}') #중앙 정렬"
      ],
      "metadata": {
        "colab": {
          "base_uri": "https://localhost:8080/"
        },
        "id": "WzwYXTsDna4z",
        "outputId": "9616bb6d-49c0-4df7-d84b-77dac4ab6356"
      },
      "execution_count": null,
      "outputs": [
        {
          "output_type": "stream",
          "name": "stdout",
          "text": [
            "hello     \n",
            "     hello\n",
            "  hello   \n"
          ]
        }
      ]
    },
    {
      "cell_type": "code",
      "source": [
        "txt = 'hello'\n",
        "i = 10\n",
        "print(f'{txt:>10}')\n",
        "print(f'{txt:>{i}}')"
      ],
      "metadata": {
        "colab": {
          "base_uri": "https://localhost:8080/"
        },
        "id": "X4kGcdjrn1WT",
        "outputId": "fe2e8374-2523-4dec-d84f-56b562d21846"
      },
      "execution_count": null,
      "outputs": [
        {
          "output_type": "stream",
          "name": "stdout",
          "text": [
            "     hello\n",
            "     hello\n"
          ]
        }
      ]
    },
    {
      "cell_type": "code",
      "source": [
        "#이런 문법은 필요에 의해 검색해 보시다 보면 익숙해집니다.\n",
        "\n",
        "print(f'{\"hello\":!<10}') #왼쪽 정렬\n",
        "print(f'{\"hello\":!>10}') #오른쪽 정렬\n",
        "print(f'{\"hello\":!^10}') #중앙 정렬"
      ],
      "metadata": {
        "colab": {
          "base_uri": "https://localhost:8080/"
        },
        "id": "UlMlHbSQoYHQ",
        "outputId": "8c66ae5a-591c-47b7-9c26-802e20eae272"
      },
      "execution_count": null,
      "outputs": [
        {
          "output_type": "stream",
          "name": "stdout",
          "text": [
            "hello!!!!!\n",
            "!!!!!hello\n",
            "!!hello!!!\n"
          ]
        }
      ]
    },
    {
      "cell_type": "code",
      "source": [
        "#이런 문법은 필요에 의해 검색해 보시다 보면 익숙해집니다.\n",
        "\n",
        "print(f'{\"hello\":=<10}') #왼쪽 정렬\n",
        "print(f'{\"hello\":=>10}') #오른쪽 정렬\n",
        "print(f'{\"hello\":=^10}') #중앙 정렬"
      ],
      "metadata": {
        "colab": {
          "base_uri": "https://localhost:8080/"
        },
        "id": "VgRI-2plob89",
        "outputId": "265ae2bd-c28a-49da-a758-bc8143b4d6c4"
      },
      "execution_count": null,
      "outputs": [
        {
          "output_type": "stream",
          "name": "stdout",
          "text": [
            "hello=====\n",
            "=====hello\n",
            "==hello===\n"
          ]
        }
      ]
    },
    {
      "cell_type": "code",
      "source": [
        "# https://tech.kakao.com/2017/09/27/kakao-blind-recruitment-round-1/\n",
        "bin(9)\n",
        "print(f'{bin(9)[2:]:0>5}')"
      ],
      "metadata": {
        "colab": {
          "base_uri": "https://localhost:8080/"
        },
        "id": "uwqmketNud9U",
        "outputId": "d0388d7a-22c6-408e-e458-d9e8da19affc"
      },
      "execution_count": null,
      "outputs": [
        {
          "output_type": "stream",
          "name": "stdout",
          "text": [
            "01001\n"
          ]
        }
      ]
    },
    {
      "cell_type": "code",
      "source": [
        "# 요정도 활용을 합니다.\n",
        "print(f'{\"start\":-^20}')"
      ],
      "metadata": {
        "colab": {
          "base_uri": "https://localhost:8080/"
        },
        "id": "mTRvb8eWvQV4",
        "outputId": "b39aa0e9-98c8-40d5-a10b-f38007a7dc87"
      },
      "execution_count": null,
      "outputs": [
        {
          "output_type": "stream",
          "name": "stdout",
          "text": [
            "-------start--------\n"
          ]
        }
      ]
    },
    {
      "cell_type": "code",
      "source": [
        "print(f'{0.12345:0.2f}')"
      ],
      "metadata": {
        "colab": {
          "base_uri": "https://localhost:8080/"
        },
        "id": "7ettq-OXvfR-",
        "outputId": "23456206-c643-4bec-989f-3e2dd6552d15"
      },
      "execution_count": null,
      "outputs": [
        {
          "output_type": "stream",
          "name": "stdout",
          "text": [
            "0.12\n"
          ]
        }
      ]
    },
    {
      "cell_type": "markdown",
      "source": [
        "* 이 아래 코드는 필수는 아닙니다.\n",
        "참고삼아서만 넣어드립니다.\n",
        "\n"
      ],
      "metadata": {
        "id": "f6O_XuGowZyt"
      }
    },
    {
      "cell_type": "code",
      "source": [
        "# 이전 방식\n",
        "print('나의 이름은 %s입니다'%('한사람'))\n",
        "print('나의 이름은 \"%s\"입니다. 나이는 %d세이고 성별은 %s입니다.'%('한사람',33,'남성'))\n",
        "print('나이는 %d세이고 성별은 %s입니다. 나의 이름은 %s입니다. '%(33,'남성','한사람'))\n",
        "print('나이는 %03d세이고 신장은 %6.2f입니다. 나의 이름은 %s입니다. '%(33,56.789,'한사람'))\n",
        "print('-' * 40)\n",
        "\n",
        "# 파이썬(Python) 3 포맷팅 방식\n",
        "print('나의 이름은 {}입니다'.format('한사람'))\n",
        "print('나의 이름은 {0}입니다. 나이는 {1}세이고 성별은 {2}입니다.'.format('한사람',33,'남성'))\n",
        "print('나이는 {1}세이고 성별은 {2}입니다. 나의 이름은 {0}입니다. '.format('한사람',33,'남성'))\n",
        "print('나이는 {age}세이고 성별은 {gender}입니다. 나의 이름은 {name}입니다. '\n",
        "         .format(name='한사람',age=33,gender='남성'))\n",
        "print('만세삼창 :  {0}!!! {0}!!! {0}!!! '.format('만세'))\n",
        "print('삼삼칠 박수 :  {0}!!! {0}!!! {1}!!! '.format('짝'*3,'짝'*7))\n",
        "print('-' * 40)\n",
        "\n",
        "# 파이썬(Python) 3.6 f-string 방식\n",
        "something = '볼펜'\n",
        "EA = 2\n",
        "one_length = 5.343\n",
        "scale = 'cm'\n",
        "\n",
        "print(f'{something} {EA}개의 길이는 {one_length*EA}{scale} 입니다.')\n",
        "print(f'{something} {EA}개의 길이는 {one_length*EA:.1f}{scale} 입니다.')"
      ],
      "metadata": {
        "id": "Crr0TkSEwnqx"
      },
      "execution_count": null,
      "outputs": []
    },
    {
      "cell_type": "code",
      "source": [
        "print('Python is [{:15}]'.format('good'))\n",
        "print('Python is [{:<15}]'.format('good'))\n",
        "print('Python is [{:>15}]'.format('good'))\n",
        "print('Python is [{:^15}]'.format('good'))\n",
        "print('당신의 나이는 [{:15}]세'.format(22))\n",
        "print('당신의 나이는 [{:<15}]세'.format(22))\n",
        "print('당신의 나이는 [{:>15}]세'.format(22))\n",
        "print('당신의 나이는 [{:<15}]세'.format(22))\n",
        "print('-' * 40)"
      ],
      "metadata": {
        "id": "M1emu30jwba_"
      },
      "execution_count": null,
      "outputs": []
    },
    {
      "cell_type": "markdown",
      "source": [
        "##int"
      ],
      "metadata": {
        "id": "IOmIqemmwo8d"
      }
    },
    {
      "cell_type": "markdown",
      "source": [
        "* 파이썬에서는 숫자를 정수, 실수, 복소수로 나눠 표현합니다.\n",
        "* 2진수, 8진수, 16진수는 정수로 표현됩니다."
      ],
      "metadata": {
        "id": "iJ3aM6CpwrFx"
      }
    },
    {
      "cell_type": "code",
      "source": [
        "10 # 정수\n",
        "-10 # 정수\n",
        "10.1 # 실수\n",
        "\n",
        "a = 10\n",
        "type(a)\n",
        "dir(a)"
      ],
      "metadata": {
        "colab": {
          "base_uri": "https://localhost:8080/"
        },
        "id": "F-7ilV2aw0NS",
        "outputId": "578997fe-c58b-4d03-b793-1147c30aa9b2"
      },
      "execution_count": null,
      "outputs": [
        {
          "output_type": "execute_result",
          "data": {
            "text/plain": [
              "['__abs__',\n",
              " '__add__',\n",
              " '__and__',\n",
              " '__bool__',\n",
              " '__ceil__',\n",
              " '__class__',\n",
              " '__delattr__',\n",
              " '__dir__',\n",
              " '__divmod__',\n",
              " '__doc__',\n",
              " '__eq__',\n",
              " '__float__',\n",
              " '__floor__',\n",
              " '__floordiv__',\n",
              " '__format__',\n",
              " '__ge__',\n",
              " '__getattribute__',\n",
              " '__getnewargs__',\n",
              " '__gt__',\n",
              " '__hash__',\n",
              " '__index__',\n",
              " '__init__',\n",
              " '__init_subclass__',\n",
              " '__int__',\n",
              " '__invert__',\n",
              " '__le__',\n",
              " '__lshift__',\n",
              " '__lt__',\n",
              " '__mod__',\n",
              " '__mul__',\n",
              " '__ne__',\n",
              " '__neg__',\n",
              " '__new__',\n",
              " '__or__',\n",
              " '__pos__',\n",
              " '__pow__',\n",
              " '__radd__',\n",
              " '__rand__',\n",
              " '__rdivmod__',\n",
              " '__reduce__',\n",
              " '__reduce_ex__',\n",
              " '__repr__',\n",
              " '__rfloordiv__',\n",
              " '__rlshift__',\n",
              " '__rmod__',\n",
              " '__rmul__',\n",
              " '__ror__',\n",
              " '__round__',\n",
              " '__rpow__',\n",
              " '__rrshift__',\n",
              " '__rshift__',\n",
              " '__rsub__',\n",
              " '__rtruediv__',\n",
              " '__rxor__',\n",
              " '__setattr__',\n",
              " '__sizeof__',\n",
              " '__str__',\n",
              " '__sub__',\n",
              " '__subclasshook__',\n",
              " '__truediv__',\n",
              " '__trunc__',\n",
              " '__xor__',\n",
              " 'as_integer_ratio',\n",
              " 'bit_count',\n",
              " 'bit_length',\n",
              " 'conjugate',\n",
              " 'denominator',\n",
              " 'from_bytes',\n",
              " 'imag',\n",
              " 'numerator',\n",
              " 'real',\n",
              " 'to_bytes']"
            ]
          },
          "metadata": {},
          "execution_count": 55
        }
      ]
    },
    {
      "cell_type": "code",
      "source": [
        "'bit_length' # bit로 바꾸었을 때 비트의 길이\n",
        "'to_bytes'"
      ],
      "metadata": {
        "colab": {
          "base_uri": "https://localhost:8080/",
          "height": 35
        },
        "id": "ngKpm3kDxncj",
        "outputId": "9843b88a-9bf1-4568-d078-20ae69c3c41b"
      },
      "execution_count": null,
      "outputs": [
        {
          "output_type": "execute_result",
          "data": {
            "text/plain": [
              "'to_bytes'"
            ],
            "application/vnd.google.colaboratory.intrinsic+json": {
              "type": "string"
            }
          },
          "metadata": {},
          "execution_count": 56
        }
      ]
    },
    {
      "cell_type": "code",
      "source": [
        "# 1Bit, 0 ~ 1 # bit - 1자리\n",
        "# 1Bytes = 8bit, 00000000 ~ 11111111 # 1byte - 8bit\n",
        "# 1KB (키로바이트) = 1024Bytes\n",
        "# 1MB (메가바이트) = 1024Kb \n",
        "# 1GB (기가바이트) = 1024MB\n",
        "# 1TB (테라바이트) = 1024GB\n",
        "# 1PB (페타바이트) = 1024TB"
      ],
      "metadata": {
        "id": "RwCa1kflx2wF"
      },
      "execution_count": null,
      "outputs": []
    },
    {
      "cell_type": "code",
      "source": [
        "(9).bit_length() # 1001"
      ],
      "metadata": {
        "colab": {
          "base_uri": "https://localhost:8080/"
        },
        "id": "qUaesG3OzjG8",
        "outputId": "a9487e0c-5d88-437d-c083-856c4799adaf"
      },
      "execution_count": null,
      "outputs": [
        {
          "output_type": "execute_result",
          "data": {
            "text/plain": [
              "4"
            ]
          },
          "metadata": {},
          "execution_count": 58
        }
      ]
    },
    {
      "cell_type": "code",
      "source": [
        "(2).to_bytes(1, byteorder='little', signed=True)\n",
        "(1).to_bytes(1, byteorder='little', signed=True)\n",
        "(0).to_bytes(1, byteorder='little', signed=True)\n",
        "(-1).to_bytes(1, byteorder='little', signed=True)\n",
        "(-2).to_bytes(1, byteorder='little', signed=True)\n",
        "\n",
        "# 컴퓨터가 숫자를 어떻게 저장하는가"
      ],
      "metadata": {
        "colab": {
          "base_uri": "https://localhost:8080/"
        },
        "id": "g8Gflq4Yz1aw",
        "outputId": "acee6574-a97f-439c-d58b-b42ce5d102e7"
      },
      "execution_count": null,
      "outputs": [
        {
          "output_type": "execute_result",
          "data": {
            "text/plain": [
              "b'\\xfe'"
            ]
          },
          "metadata": {},
          "execution_count": 64
        }
      ]
    },
    {
      "cell_type": "code",
      "source": [
        "# 컴퓨터는 음수를 자체적으로 표현할 수 없기에 2의 보수를 사용합니다.\n",
        "# 1의 보수를 사용하게 되면 +0과 -0이 존재하게 됨으로 비트 하나를 낭비하게 됩니다.\n",
        "# 따라서 2의 보수를 사용합니다.\n"
      ],
      "metadata": {
        "id": "VWj78_Jo2Wgc"
      },
      "execution_count": null,
      "outputs": []
    },
    {
      "cell_type": "code",
      "source": [
        "# 0000 0001 # 1\n",
        "# 1111 1110 # 1의 1의 보수\n",
        "# 1111 1111 # 1의 2의 보수 => ff"
      ],
      "metadata": {
        "id": "-GG59LE820xL"
      },
      "execution_count": null,
      "outputs": []
    },
    {
      "cell_type": "code",
      "source": [
        "# 진법 변환 쉽게 하는 법 : 가장 가까운 승수를 찾아 더하거나 뺀다.\n",
        "\n",
        "# 10진법\n",
        "# 0 1 2 3 4 5 6 7 8 9 -> 10\n",
        "#1324 = 1*10^3 + 3*10^2 + 2*10^1 + 4*10^0\n",
        "\n",
        "# 2진법\n",
        "#0 1 -> 10\n",
        "# 1001 = 1*2^3 + 1*2^0 = 9\n",
        "\n",
        "# 8진법\n",
        "# 0 1 2 3 4 5 6 7 -> 10\n",
        "\n",
        "# 16진법\n",
        "# 0 1 2 3 4 5 6 7 8 9 a b c d e f"
      ],
      "metadata": {
        "id": "njOjbyML21Ws"
      },
      "execution_count": null,
      "outputs": []
    },
    {
      "cell_type": "code",
      "source": [
        "# color의 표현\n",
        "# 2596be\n",
        "# 000000 ~ ffffff\n",
        "# ff는 10진수로 무슨 숫자를 의미\n",
        "# 100 - 1 = ff가 됩니다. 그래서 256 - 1"
      ],
      "metadata": {
        "id": "8XI4TuC774ej"
      },
      "execution_count": null,
      "outputs": []
    },
    {
      "cell_type": "code",
      "source": [
        "a = 10\n",
        "type(a)"
      ],
      "metadata": {
        "colab": {
          "base_uri": "https://localhost:8080/"
        },
        "id": "fyBCag7j8M9Q",
        "outputId": "14cd3c91-f47d-49db-d3f3-89b1afad3200"
      },
      "execution_count": null,
      "outputs": [
        {
          "output_type": "execute_result",
          "data": {
            "text/plain": [
              "int"
            ]
          },
          "metadata": {},
          "execution_count": 70
        }
      ]
    },
    {
      "cell_type": "code",
      "source": [
        "int('10') + int('10')"
      ],
      "metadata": {
        "colab": {
          "base_uri": "https://localhost:8080/"
        },
        "id": "BNJPcTHf8PRr",
        "outputId": "8f5a52a6-70f1-4a42-8013-adb7188c6fcd"
      },
      "execution_count": null,
      "outputs": [
        {
          "output_type": "execute_result",
          "data": {
            "text/plain": [
              "20"
            ]
          },
          "metadata": {},
          "execution_count": 75
        }
      ]
    },
    {
      "cell_type": "code",
      "source": [
        "int('10', 2) # 2진법으로 10은?"
      ],
      "metadata": {
        "colab": {
          "base_uri": "https://localhost:8080/"
        },
        "id": "U8H46bE-8YvK",
        "outputId": "c9aefde5-d419-4262-b503-9fe32e6f7f6a"
      },
      "execution_count": null,
      "outputs": [
        {
          "output_type": "execute_result",
          "data": {
            "text/plain": [
              "2"
            ]
          },
          "metadata": {},
          "execution_count": 77
        }
      ]
    },
    {
      "cell_type": "code",
      "source": [
        "int('10', 8) # 8진법으로 10은?"
      ],
      "metadata": {
        "colab": {
          "base_uri": "https://localhost:8080/"
        },
        "id": "NmlhBmya8gFU",
        "outputId": "31f7fd25-a209-4d63-ea81-fcda6ac521cd"
      },
      "execution_count": null,
      "outputs": [
        {
          "output_type": "execute_result",
          "data": {
            "text/plain": [
              "8"
            ]
          },
          "metadata": {},
          "execution_count": 79
        }
      ]
    },
    {
      "cell_type": "code",
      "source": [
        "int('10', 16) # 16진법으로 10은?"
      ],
      "metadata": {
        "colab": {
          "base_uri": "https://localhost:8080/"
        },
        "id": "1mWm2-iE8ijb",
        "outputId": "ec3e84a1-f193-4216-d6b8-9982ce6a4e32"
      },
      "execution_count": null,
      "outputs": [
        {
          "output_type": "execute_result",
          "data": {
            "text/plain": [
              "16"
            ]
          },
          "metadata": {},
          "execution_count": 81
        }
      ]
    },
    {
      "cell_type": "code",
      "source": [
        "print(0b110) # 바이너리 - 2진수\n",
        "print(0o110) # 옥타 - 8진수\n",
        "print(0x110) # 헥사 - 16진수"
      ],
      "metadata": {
        "colab": {
          "base_uri": "https://localhost:8080/"
        },
        "id": "C2mYEgLL8mZk",
        "outputId": "603a4898-239c-4173-d76f-12be8154ced3"
      },
      "execution_count": null,
      "outputs": [
        {
          "output_type": "stream",
          "name": "stdout",
          "text": [
            "6\n",
            "72\n",
            "272\n"
          ]
        }
      ]
    },
    {
      "cell_type": "code",
      "source": [
        "a = 10\n",
        "type(a) == int\n",
        "isinstance(a, int)"
      ],
      "metadata": {
        "colab": {
          "base_uri": "https://localhost:8080/"
        },
        "id": "MivjxiaH9CLN",
        "outputId": "45cec08e-ddc7-4b2b-cef8-2b060f8f2b89"
      },
      "execution_count": null,
      "outputs": [
        {
          "output_type": "execute_result",
          "data": {
            "text/plain": [
              "True"
            ]
          },
          "metadata": {},
          "execution_count": 85
        }
      ]
    },
    {
      "cell_type": "markdown",
      "source": [
        "### float (실수)"
      ],
      "metadata": {
        "id": "Pn9e_28L9PuK"
      }
    },
    {
      "cell_type": "code",
      "source": [
        "a = 10.1\n",
        "\n",
        "type(a)"
      ],
      "metadata": {
        "colab": {
          "base_uri": "https://localhost:8080/"
        },
        "id": "tGcrtgdD9RFG",
        "outputId": "c4bb9aa4-6003-4924-89ee-c3e0c7eb8584"
      },
      "execution_count": null,
      "outputs": [
        {
          "output_type": "execute_result",
          "data": {
            "text/plain": [
              "float"
            ]
          },
          "metadata": {},
          "execution_count": 87
        }
      ]
    },
    {
      "cell_type": "code",
      "source": [
        "dir(a)"
      ],
      "metadata": {
        "colab": {
          "base_uri": "https://localhost:8080/"
        },
        "id": "Wuo_X8M-9Tv1",
        "outputId": "721e8701-1a09-4976-d16d-6be7b1f74e88"
      },
      "execution_count": null,
      "outputs": [
        {
          "output_type": "execute_result",
          "data": {
            "text/plain": [
              "['__abs__',\n",
              " '__add__',\n",
              " '__bool__',\n",
              " '__ceil__',\n",
              " '__class__',\n",
              " '__delattr__',\n",
              " '__dir__',\n",
              " '__divmod__',\n",
              " '__doc__',\n",
              " '__eq__',\n",
              " '__float__',\n",
              " '__floor__',\n",
              " '__floordiv__',\n",
              " '__format__',\n",
              " '__ge__',\n",
              " '__getattribute__',\n",
              " '__getformat__',\n",
              " '__getnewargs__',\n",
              " '__gt__',\n",
              " '__hash__',\n",
              " '__init__',\n",
              " '__init_subclass__',\n",
              " '__int__',\n",
              " '__le__',\n",
              " '__lt__',\n",
              " '__mod__',\n",
              " '__mul__',\n",
              " '__ne__',\n",
              " '__neg__',\n",
              " '__new__',\n",
              " '__pos__',\n",
              " '__pow__',\n",
              " '__radd__',\n",
              " '__rdivmod__',\n",
              " '__reduce__',\n",
              " '__reduce_ex__',\n",
              " '__repr__',\n",
              " '__rfloordiv__',\n",
              " '__rmod__',\n",
              " '__rmul__',\n",
              " '__round__',\n",
              " '__rpow__',\n",
              " '__rsub__',\n",
              " '__rtruediv__',\n",
              " '__setattr__',\n",
              " '__setformat__',\n",
              " '__sizeof__',\n",
              " '__str__',\n",
              " '__sub__',\n",
              " '__subclasshook__',\n",
              " '__truediv__',\n",
              " '__trunc__',\n",
              " 'as_integer_ratio',\n",
              " 'conjugate',\n",
              " 'fromhex',\n",
              " 'hex',\n",
              " 'imag',\n",
              " 'is_integer',\n",
              " 'real']"
            ]
          },
          "metadata": {},
          "execution_count": 88
        }
      ]
    },
    {
      "cell_type": "code",
      "source": [
        "a = 10\n",
        "b = 10.1\n",
        "\n",
        "a + b # 다른 일부 언어에서는 허용되지 않습니다."
      ],
      "metadata": {
        "colab": {
          "base_uri": "https://localhost:8080/"
        },
        "id": "5tdK59e09asy",
        "outputId": "c2be4ed5-6248-4686-9f27-94ac7614b2de"
      },
      "execution_count": null,
      "outputs": [
        {
          "output_type": "execute_result",
          "data": {
            "text/plain": [
              "20.1"
            ]
          },
          "metadata": {},
          "execution_count": 90
        }
      ]
    },
    {
      "cell_type": "code",
      "source": [
        "# 부동소수점 오차(2진법으로 변환했을 때 0.1이 무한대수가 발생합니다.)\n",
        "0.1 + 0.2 # 대부분의 언어 공통입니다."
      ],
      "metadata": {
        "colab": {
          "base_uri": "https://localhost:8080/"
        },
        "id": "l-Ptmfpb9lDx",
        "outputId": "03cacd51-ab2b-40ab-8ed2-38374bd865fd"
      },
      "execution_count": null,
      "outputs": [
        {
          "output_type": "execute_result",
          "data": {
            "text/plain": [
              "0.30000000000000004"
            ]
          },
          "metadata": {},
          "execution_count": 92
        }
      ]
    },
    {
      "cell_type": "code",
      "source": [
        "# 20번 반복해보세요\n",
        "a = a + 0.1\n",
        "a"
      ],
      "metadata": {
        "colab": {
          "base_uri": "https://localhost:8080/"
        },
        "id": "KnB7fzL6-CNb",
        "outputId": "08864faa-8f55-49ed-905a-d05588f1726e"
      },
      "execution_count": null,
      "outputs": [
        {
          "output_type": "execute_result",
          "data": {
            "text/plain": [
              "2.0000000000000004"
            ]
          },
          "metadata": {},
          "execution_count": 112
        }
      ]
    },
    {
      "cell_type": "code",
      "source": [
        "'hello'.count('')"
      ],
      "metadata": {
        "colab": {
          "base_uri": "https://localhost:8080/"
        },
        "id": "7-w7J4fgAYwP",
        "outputId": "64f23433-b696-4ce1-eabe-67f0c6a1cd1e"
      },
      "execution_count": null,
      "outputs": [
        {
          "output_type": "execute_result",
          "data": {
            "text/plain": [
              "6"
            ]
          },
          "metadata": {},
          "execution_count": 113
        }
      ]
    },
    {
      "cell_type": "markdown",
      "source": [
        "* https://docs.python.org/ko/3/tutorial/floatingpoint.html\n",
        "* https://0.30000000000000004.com/ 에서 언어별 해결책을 제시한다.\n",
        "* 컴퓨터에서 부동소수점 숫자는 2진 분수로 표현되기에 무한대수가 발생한다.\n",
        "* [무한수가 발생되는 원리](https://www.notion.so/paullabworkspace/5f34f21bf9a34015b170e7afd7da9593)"
      ],
      "metadata": {
        "id": "PlQ2nBS1AtnS"
      }
    },
    {
      "cell_type": "markdown",
      "source": [
        "## str (문자열)\n",
        "\n",
        "- 순서가 있는 **시퀀스 자료형**입니다.\n",
        "- 작은 따옴표(' ')나 큰 따옴표(\" \"), 삼중따옴표('''str''', \"\"\"str\"\"\")로 감싸는 것도 가능합니다. (삼중따옴표를 사용할 경우에는 줄단위의 문자열을 나타낼 수 있습니다.)\n",
        "- 작은 따옴표 안에 큰 따옴표, 큰 따옴표 안에 작은 따옴표 사용이 가능합니다.\n",
        "- 이스케이프 문자도 사용이 가능합니다.\n",
        "- 리스트, 튜플도 시퀀스 자료형입니다."
      ],
      "metadata": {
        "id": "0-12i4aA0JKK"
      }
    },
    {
      "cell_type": "code",
      "source": [
        "s = 'paullab CEO Gony'\n",
        "s[0] # 0은 index입니다. 이렇게 호출하는 것을 indexing이라고 합니다."
      ],
      "metadata": {
        "colab": {
          "base_uri": "https://localhost:8080/",
          "height": 35
        },
        "id": "tOMKUdMe0KN6",
        "outputId": "d638fd6d-2c5b-407f-bf5a-6458e64343cf"
      },
      "execution_count": null,
      "outputs": [
        {
          "output_type": "execute_result",
          "data": {
            "text/plain": [
              "'p'"
            ],
            "application/vnd.google.colaboratory.intrinsic+json": {
              "type": "string"
            }
          },
          "metadata": {},
          "execution_count": 1
        }
      ]
    },
    {
      "cell_type": "code",
      "source": [
        "type(s)"
      ],
      "metadata": {
        "colab": {
          "base_uri": "https://localhost:8080/"
        },
        "id": "78I9XraQ0L3d",
        "outputId": "a7734e1e-596a-4518-f676-372ffda8f0a3"
      },
      "execution_count": null,
      "outputs": [
        {
          "output_type": "execute_result",
          "data": {
            "text/plain": [
              "str"
            ]
          },
          "metadata": {},
          "execution_count": 3
        }
      ]
    },
    {
      "cell_type": "code",
      "source": [
        "dir(s)"
      ],
      "metadata": {
        "colab": {
          "base_uri": "https://localhost:8080/"
        },
        "id": "bUUs2uRg0PmW",
        "outputId": "5f3b180f-e17c-4295-cce8-df6f42fe421d"
      },
      "execution_count": null,
      "outputs": [
        {
          "output_type": "execute_result",
          "data": {
            "text/plain": [
              "['__add__',\n",
              " '__class__',\n",
              " '__contains__',\n",
              " '__delattr__',\n",
              " '__dir__',\n",
              " '__doc__',\n",
              " '__eq__',\n",
              " '__format__',\n",
              " '__ge__',\n",
              " '__getattribute__',\n",
              " '__getitem__',\n",
              " '__getnewargs__',\n",
              " '__gt__',\n",
              " '__hash__',\n",
              " '__init__',\n",
              " '__init_subclass__',\n",
              " '__iter__',\n",
              " '__le__',\n",
              " '__len__',\n",
              " '__lt__',\n",
              " '__mod__',\n",
              " '__mul__',\n",
              " '__ne__',\n",
              " '__new__',\n",
              " '__reduce__',\n",
              " '__reduce_ex__',\n",
              " '__repr__',\n",
              " '__rmod__',\n",
              " '__rmul__',\n",
              " '__setattr__',\n",
              " '__sizeof__',\n",
              " '__str__',\n",
              " '__subclasshook__',\n",
              " 'capitalize',\n",
              " 'casefold',\n",
              " 'center',\n",
              " 'count',\n",
              " 'encode',\n",
              " 'endswith',\n",
              " 'expandtabs',\n",
              " 'find',\n",
              " 'format',\n",
              " 'format_map',\n",
              " 'index',\n",
              " 'isalnum',\n",
              " 'isalpha',\n",
              " 'isascii',\n",
              " 'isdecimal',\n",
              " 'isdigit',\n",
              " 'isidentifier',\n",
              " 'islower',\n",
              " 'isnumeric',\n",
              " 'isprintable',\n",
              " 'isspace',\n",
              " 'istitle',\n",
              " 'isupper',\n",
              " 'join',\n",
              " 'ljust',\n",
              " 'lower',\n",
              " 'lstrip',\n",
              " 'maketrans',\n",
              " 'partition',\n",
              " 'removeprefix',\n",
              " 'removesuffix',\n",
              " 'replace',\n",
              " 'rfind',\n",
              " 'rindex',\n",
              " 'rjust',\n",
              " 'rpartition',\n",
              " 'rsplit',\n",
              " 'rstrip',\n",
              " 'split',\n",
              " 'splitlines',\n",
              " 'startswith',\n",
              " 'strip',\n",
              " 'swapcase',\n",
              " 'title',\n",
              " 'translate',\n",
              " 'upper',\n",
              " 'zfill']"
            ]
          },
          "metadata": {},
          "execution_count": 4
        }
      ]
    },
    {
      "cell_type": "code",
      "source": [
        "# 문자열의 메서드\n",
        "# 'capitalize','casefold','center','count','encode',\n",
        "# 'endswith','expandtabs','find','format','format_map',\n",
        "# 'index','isalnum','isalpha','isascii','isdecimal','isdigit',\n",
        "# 'isidentifier','islower','isnumeric','isprintable','isspace',\n",
        "# 'istitle','isupper','join','ljust','lower','lstrip',\n",
        "# 'maketrans','partition','removeprefix','removesuffix',\n",
        "# 'replace','rfind','rindex','rjust','rpartition','rsplit',\n",
        "# 'rstrip','split','splitlines','startswith','strip','swapcase',\n",
        "# 'title','translate','upper','zfill'"
      ],
      "metadata": {
        "id": "sUAYDuwP0VLR"
      },
      "execution_count": null,
      "outputs": []
    },
    {
      "cell_type": "code",
      "source": [
        "s = 'paullab CEO Gony'\n",
        "s.lower(), s.upper()\n",
        "# 특히 사용자에게 입력을 받는 경우 lower도 많이 사용합니다."
      ],
      "metadata": {
        "colab": {
          "base_uri": "https://localhost:8080/"
        },
        "id": "aWVWjia20iAv",
        "outputId": "da4116f7-1fd8-4ed8-98c9-0bd324e2b881"
      },
      "execution_count": null,
      "outputs": [
        {
          "output_type": "execute_result",
          "data": {
            "text/plain": [
              "('paullab ceo gony', 'PAULLAB CEO GONY')"
            ]
          },
          "metadata": {},
          "execution_count": 9
        }
      ]
    },
    {
      "cell_type": "code",
      "source": [
        "s = 'paullab CEO Gony'\n",
        "s.find('C'), s.index('C')"
      ],
      "metadata": {
        "colab": {
          "base_uri": "https://localhost:8080/"
        },
        "id": "K4uR_A0U08zo",
        "outputId": "54f679be-1473-4d3b-b3d0-3d9bd94f326e"
      },
      "execution_count": null,
      "outputs": [
        {
          "output_type": "execute_result",
          "data": {
            "text/plain": [
              "(8, 8)"
            ]
          },
          "metadata": {},
          "execution_count": 11
        }
      ]
    },
    {
      "cell_type": "code",
      "source": [
        "# 견고한 코드란?\n",
        "# 시간이 지나도 그대로 사용할 수 있고\n",
        "# error가 예측 가능하게 나는 코드\n",
        "# 네이버에 이미지 슬라이딩 코드\n",
        "# bool(s.find('Z')) => -1은 True이기 때문에 주의가 필요합니다다\n",
        "s.find('Z')"
      ],
      "metadata": {
        "colab": {
          "base_uri": "https://localhost:8080/"
        },
        "id": "SjKGYATk16eM",
        "outputId": "1bf659ec-7006-40ef-f107-dca353161599"
      },
      "execution_count": null,
      "outputs": [
        {
          "output_type": "execute_result",
          "data": {
            "text/plain": [
              "True"
            ]
          },
          "metadata": {},
          "execution_count": 16
        }
      ]
    },
    {
      "cell_type": "code",
      "source": [
        "# Error가 나면 Error를 주는 것이 좋을 수 있습니다\n",
        "# Error를 안주는 언어로 JavaScript\n",
        "s.index('Z')"
      ],
      "metadata": {
        "colab": {
          "base_uri": "https://localhost:8080/",
          "height": 171
        },
        "id": "tESPGTqJ1nj3",
        "outputId": "2009a123-8686-4f01-e71e-c668f05537b3"
      },
      "execution_count": null,
      "outputs": [
        {
          "output_type": "error",
          "ename": "ValueError",
          "evalue": "ignored",
          "traceback": [
            "\u001b[0;31m---------------------------------------------------------------------------\u001b[0m",
            "\u001b[0;31mValueError\u001b[0m                                Traceback (most recent call last)",
            "\u001b[0;32m<ipython-input-14-b727d3398a36>\u001b[0m in \u001b[0;36m<cell line: 1>\u001b[0;34m()\u001b[0m\n\u001b[0;32m----> 1\u001b[0;31m \u001b[0ms\u001b[0m\u001b[0;34m.\u001b[0m\u001b[0mindex\u001b[0m\u001b[0;34m(\u001b[0m\u001b[0;34m'Z'\u001b[0m\u001b[0;34m)\u001b[0m\u001b[0;34m\u001b[0m\u001b[0;34m\u001b[0m\u001b[0m\n\u001b[0m",
            "\u001b[0;31mValueError\u001b[0m: substring not found"
          ]
        }
      ]
    },
    {
      "cell_type": "code",
      "source": [
        "s = 'paullab CEO Gony'\n",
        "s.find('CEO')"
      ],
      "metadata": {
        "colab": {
          "base_uri": "https://localhost:8080/"
        },
        "id": "Xi0R1l5m2kI5",
        "outputId": "28bb796b-a45a-46d2-cacb-56e63e68df5a"
      },
      "execution_count": null,
      "outputs": [
        {
          "output_type": "execute_result",
          "data": {
            "text/plain": [
              "8"
            ]
          },
          "metadata": {},
          "execution_count": 17
        }
      ]
    },
    {
      "cell_type": "code",
      "source": [
        "# 별 5개개\n",
        "s = 'paullab CEO Gony'\n",
        "s.count('l')"
      ],
      "metadata": {
        "colab": {
          "base_uri": "https://localhost:8080/"
        },
        "id": "lAkBXCPh20Mb",
        "outputId": "548ada55-4ce1-4ab8-b715-e9f1cad3b432"
      },
      "execution_count": null,
      "outputs": [
        {
          "output_type": "execute_result",
          "data": {
            "text/plain": [
              "2"
            ]
          },
          "metadata": {},
          "execution_count": 18
        }
      ]
    },
    {
      "cell_type": "code",
      "source": [
        "str([1, 2, 3, 4, 5])"
      ],
      "metadata": {
        "colab": {
          "base_uri": "https://localhost:8080/",
          "height": 35
        },
        "id": "JYW3cdIt3Amt",
        "outputId": "727f720e-1856-4092-9633-3aef41226a0e"
      },
      "execution_count": null,
      "outputs": [
        {
          "output_type": "execute_result",
          "data": {
            "text/plain": [
              "'[1, 2, 3, 4, 5]'"
            ],
            "application/vnd.google.colaboratory.intrinsic+json": {
              "type": "string"
            }
          },
          "metadata": {},
          "execution_count": 19
        }
      ]
    },
    {
      "cell_type": "code",
      "source": [
        "str([1, 2, 3, 4, 5]).count(' ')"
      ],
      "metadata": {
        "colab": {
          "base_uri": "https://localhost:8080/"
        },
        "id": "_Swn0YBr3D2K",
        "outputId": "766b511f-38ca-4353-d5c3-25c38f9b6606"
      },
      "execution_count": null,
      "outputs": [
        {
          "output_type": "execute_result",
          "data": {
            "text/plain": [
              "4"
            ]
          },
          "metadata": {},
          "execution_count": 21
        }
      ]
    },
    {
      "cell_type": "code",
      "source": [
        "str([1, 2, 3, 4, 5]).count(',')"
      ],
      "metadata": {
        "colab": {
          "base_uri": "https://localhost:8080/"
        },
        "id": "JlcaZkoL3Ivs",
        "outputId": "3ea563d5-caba-40c8-b6f9-1c6957997866"
      },
      "execution_count": null,
      "outputs": [
        {
          "output_type": "execute_result",
          "data": {
            "text/plain": [
              "4"
            ]
          },
          "metadata": {},
          "execution_count": 22
        }
      ]
    },
    {
      "cell_type": "code",
      "source": [
        "str([1, 2, 11, 4, 111]).count('1')"
      ],
      "metadata": {
        "colab": {
          "base_uri": "https://localhost:8080/"
        },
        "id": "GHBiSub33LrW",
        "outputId": "6d4948d7-83bb-4790-9a55-c9e95332ce78"
      },
      "execution_count": null,
      "outputs": [
        {
          "output_type": "execute_result",
          "data": {
            "text/plain": [
              "6"
            ]
          },
          "metadata": {},
          "execution_count": 24
        }
      ]
    },
    {
      "cell_type": "code",
      "source": [
        "str(list(range(0, 10001))).count('8')"
      ],
      "metadata": {
        "colab": {
          "base_uri": "https://localhost:8080/"
        },
        "id": "eskM0rU85eua",
        "outputId": "0dbc8f39-92d3-44eb-e21b-009fdfee76d3"
      },
      "execution_count": null,
      "outputs": [
        {
          "output_type": "execute_result",
          "data": {
            "text/plain": [
              "4000"
            ]
          },
          "metadata": {},
          "execution_count": 37
        }
      ]
    },
    {
      "cell_type": "markdown",
      "source": [
        "- https://codingdojang.com/scode/393?answer_mode=hide"
      ],
      "metadata": {
        "id": "FxTIf-ZW3pca"
      }
    },
    {
      "cell_type": "code",
      "source": [
        "str([1,2,3,4,5]).count(' ')\n",
        "# list는 콤마 다음에 공백이 없더라도 공백으로 인식해줍니다."
      ],
      "metadata": {
        "colab": {
          "base_uri": "https://localhost:8080/"
        },
        "id": "WabHILVO3SBB",
        "outputId": "256d7faf-29b4-414c-9a00-5caf4287ecb3"
      },
      "execution_count": null,
      "outputs": [
        {
          "output_type": "execute_result",
          "data": {
            "text/plain": [
              "4"
            ]
          },
          "metadata": {},
          "execution_count": 26
        }
      ]
    },
    {
      "cell_type": "code",
      "source": [
        "str([1,\n",
        "     2,\n",
        "     3,\n",
        "     4,\n",
        "     5]).count(' ')"
      ],
      "metadata": {
        "colab": {
          "base_uri": "https://localhost:8080/"
        },
        "id": "QSppOgkC4vp-",
        "outputId": "842e9e3f-600f-4787-c26a-aa6e7cd73ae1"
      },
      "execution_count": null,
      "outputs": [
        {
          "output_type": "execute_result",
          "data": {
            "text/plain": [
              "4"
            ]
          },
          "metadata": {},
          "execution_count": 34
        }
      ]
    },
    {
      "cell_type": "code",
      "source": [
        "'hello'.count('')\n",
        "# 중간중간에 공백이 다 들어가있음"
      ],
      "metadata": {
        "colab": {
          "base_uri": "https://localhost:8080/"
        },
        "id": "8l_A12AB4NdG",
        "outputId": "1d76ddd6-8c1d-436c-e35c-0beb0c8cde0e"
      },
      "execution_count": null,
      "outputs": [
        {
          "output_type": "execute_result",
          "data": {
            "text/plain": [
              "6"
            ]
          },
          "metadata": {},
          "execution_count": 28
        }
      ]
    },
    {
      "cell_type": "code",
      "source": [
        "''.count('')"
      ],
      "metadata": {
        "colab": {
          "base_uri": "https://localhost:8080/"
        },
        "id": "JhXzw_Xy4YHv",
        "outputId": "e1b8d0d2-58c1-459f-f22a-5354ab50f8e6"
      },
      "execution_count": null,
      "outputs": [
        {
          "output_type": "execute_result",
          "data": {
            "text/plain": [
              "1"
            ]
          },
          "metadata": {},
          "execution_count": 30
        }
      ]
    },
    {
      "cell_type": "code",
      "source": [
        "'a'.count('')"
      ],
      "metadata": {
        "colab": {
          "base_uri": "https://localhost:8080/"
        },
        "id": "ojnIygUQ4h7F",
        "outputId": "ce32ed5e-dbb8-44b7-c822-aa7ede4567c7"
      },
      "execution_count": null,
      "outputs": [
        {
          "output_type": "execute_result",
          "data": {
            "text/plain": [
              "2"
            ]
          },
          "metadata": {},
          "execution_count": 32
        }
      ]
    },
    {
      "cell_type": "code",
      "source": [
        "'' + ''"
      ],
      "metadata": {
        "colab": {
          "base_uri": "https://localhost:8080/",
          "height": 35
        },
        "id": "Yw-IOvNO4kO7",
        "outputId": "84abd359-ad01-4bd9-c4e3-791f93f1c028"
      },
      "execution_count": null,
      "outputs": [
        {
          "output_type": "execute_result",
          "data": {
            "text/plain": [
              "''"
            ],
            "application/vnd.google.colaboratory.intrinsic+json": {
              "type": "string"
            }
          },
          "metadata": {},
          "execution_count": 33
        }
      ]
    },
    {
      "cell_type": "code",
      "source": [
        "'   hello   !   '.strip()\n",
        "# 앞뒤로 공백제거"
      ],
      "metadata": {
        "colab": {
          "base_uri": "https://localhost:8080/",
          "height": 35
        },
        "id": "t7rGgBPi4-IK",
        "outputId": "29bc79a7-9016-460f-b551-9b8594c98dcf"
      },
      "execution_count": null,
      "outputs": [
        {
          "output_type": "execute_result",
          "data": {
            "text/plain": [
              "'hello   !'"
            ],
            "application/vnd.google.colaboratory.intrinsic+json": {
              "type": "string"
            }
          },
          "metadata": {},
          "execution_count": 42
        }
      ]
    },
    {
      "cell_type": "code",
      "source": [
        "'   hello   !   '.rstrip()"
      ],
      "metadata": {
        "colab": {
          "base_uri": "https://localhost:8080/",
          "height": 35
        },
        "id": "kCHtM5Z66oRJ",
        "outputId": "8ba81026-aebd-46d0-d6c9-9e783cda289a"
      },
      "execution_count": null,
      "outputs": [
        {
          "output_type": "execute_result",
          "data": {
            "text/plain": [
              "'   hello   !'"
            ],
            "application/vnd.google.colaboratory.intrinsic+json": {
              "type": "string"
            }
          },
          "metadata": {},
          "execution_count": 44
        }
      ]
    },
    {
      "cell_type": "code",
      "source": [
        "'   hello   !   '.lstrip()"
      ],
      "metadata": {
        "colab": {
          "base_uri": "https://localhost:8080/",
          "height": 35
        },
        "id": "6Kinq30T6wFP",
        "outputId": "46b8064c-8409-48d7-e3f3-9ef7809935b4"
      },
      "execution_count": null,
      "outputs": [
        {
          "output_type": "execute_result",
          "data": {
            "text/plain": [
              "'hello   !   '"
            ],
            "application/vnd.google.colaboratory.intrinsic+json": {
              "type": "string"
            }
          },
          "metadata": {},
          "execution_count": 45
        }
      ]
    },
    {
      "cell_type": "code",
      "source": [
        "# 별5개\n",
        "'hello world hi'.replace(' ', '!')\n",
        "'hello world hi'.replace('world', 'W@O@R@L@D').upper()\n",
        "# .을계속 찍어나가는걸 메서드 체이닝 이라고 함"
      ],
      "metadata": {
        "colab": {
          "base_uri": "https://localhost:8080/",
          "height": 35
        },
        "id": "c8B6-I8s6y6l",
        "outputId": "9331f49d-56a3-4a74-c9f0-fd7504e38ddd"
      },
      "execution_count": null,
      "outputs": [
        {
          "output_type": "execute_result",
          "data": {
            "text/plain": [
              "'HELLO W@O@R@L@D HI'"
            ],
            "application/vnd.google.colaboratory.intrinsic+json": {
              "type": "string"
            }
          },
          "metadata": {},
          "execution_count": 51
        }
      ]
    },
    {
      "cell_type": "code",
      "source": [
        "'hello world hi'.replace('world', 'W@O@R@L@D').upper().split('@')\n",
        "# 반환값이 list이기 때문에 메서드 체이닝을 하려면\n",
        "# 이후로 list 메서드를 사용해야 합니다."
      ],
      "metadata": {
        "colab": {
          "base_uri": "https://localhost:8080/"
        },
        "id": "ADhj1FWz7X80",
        "outputId": "e95a38c2-643e-4d2e-f2e7-5ac8bbddd475"
      },
      "execution_count": null,
      "outputs": [
        {
          "output_type": "execute_result",
          "data": {
            "text/plain": [
              "['HELLO W', 'O', 'R', 'L', 'D HI']"
            ]
          },
          "metadata": {},
          "execution_count": 52
        }
      ]
    },
    {
      "cell_type": "code",
      "source": [
        "'hello world hi'.replace(' ','')"
      ],
      "metadata": {
        "colab": {
          "base_uri": "https://localhost:8080/",
          "height": 35
        },
        "id": "Z_2kTG-p7sTs",
        "outputId": "ad7fd363-cbf7-479b-cb8c-31156384aadd"
      },
      "execution_count": null,
      "outputs": [
        {
          "output_type": "execute_result",
          "data": {
            "text/plain": [
              "'helloworldhi'"
            ],
            "application/vnd.google.colaboratory.intrinsic+json": {
              "type": "string"
            }
          },
          "metadata": {},
          "execution_count": 53
        }
      ]
    },
    {
      "cell_type": "code",
      "source": [
        "data = '''  \"+ +-+ -+-\"  \n",
        "  \"++ -- +-+\"  \n",
        "  \"++-+ -+ -\"  \n",
        "  \"+ ++-+ -+\"  '''\n",
        "\n",
        "# Pythonic하지 않다!\n",
        "data.split('\\n')[0].replace(' ', '').replace('\"', '')\n",
        "data.split('\\n')[0].replace(' ',\n",
        "                '').replace('\"',\n",
        "                '')\n",
        "\n",
        "# Pythonic하게 하려면!\n",
        "data.split('\\n')[0]\\\n",
        "                .replace(' ', '')\\\n",
        "                .replace('\"', '')\n",
        "\n",
        "\n",
        "# 사용하는 기법\n",
        "processed_string = data.split('\\n')[0].replace(' ', '').replace('\"', '')\n",
        "processed_string.replace('\"', '').replace('\"', '')\n",
        "\n",
        "'++-+-+-'"
      ],
      "metadata": {
        "colab": {
          "base_uri": "https://localhost:8080/",
          "height": 35
        },
        "id": "NaUe8i_P7-Yd",
        "outputId": "e2321b7b-bb83-49a7-e1b7-f1b82bf04932"
      },
      "execution_count": null,
      "outputs": [
        {
          "output_type": "execute_result",
          "data": {
            "text/plain": [
              "'++-+-+-'"
            ],
            "application/vnd.google.colaboratory.intrinsic+json": {
              "type": "string"
            }
          },
          "metadata": {},
          "execution_count": 60
        }
      ]
    },
    {
      "cell_type": "code",
      "source": [
        "# aaaaaaaaaaaaaaaaaaaaaaaaaaaaaaaaaaaaaaaaaaaaaaaaaaaaaaaaaaaaaaaaaaaaaaaaaaaaaaaa 79자\n",
        "# 아아아아아아아아아아아아아아아아아아아아아아아아아아아아아아아아아아아아아아아아 39자"
      ],
      "metadata": {
        "id": "NV4CVw-k_DZT"
      },
      "execution_count": null,
      "outputs": []
    },
    {
      "cell_type": "code",
      "source": [
        "data = '''  \"+ +-+ -+-\"  \n",
        "  \"++ -- +-+\"  \n",
        "  \"++-+ -+ -\"  \n",
        "  \"+ ++-+ -+\"  '''\n",
        "\n",
        "data.split('\\n')[0].replace(' ', '').replace('\"', '').replace('+', '1').replace('-', '0')\n",
        "ord('A'), chr(65) # ord는 문자를 가지고 숫자로 변경 chr은 숫자를 가지고 문자로 변경합니다.\n",
        "\n",
        "숫자 = data.split('\\n')[0].replace(' ', '').replace('\"', '').replace('+', '1').replace('-', '0')\n",
        "int(숫자, 2)\n",
        "chr(int(숫자, 2))"
      ],
      "metadata": {
        "colab": {
          "base_uri": "https://localhost:8080/",
          "height": 35
        },
        "id": "3Nzjf-aHA8VQ",
        "outputId": "7482eb17-4904-42fb-c631-ff508dfda220"
      },
      "execution_count": null,
      "outputs": [
        {
          "output_type": "execute_result",
          "data": {
            "text/plain": [
              "'j'"
            ],
            "application/vnd.google.colaboratory.intrinsic+json": {
              "type": "string"
            }
          },
          "metadata": {},
          "execution_count": 61
        }
      ]
    },
    {
      "cell_type": "code",
      "source": [
        "'gonylab CEO Gony'.split(' ') #문자열을 쪼개어 줌!\n",
        "'gonylab!CEO!Gony'.split('!')\n",
        "'gonylab,CEO,Gony'.split(',')"
      ],
      "metadata": {
        "colab": {
          "base_uri": "https://localhost:8080/"
        },
        "id": "JH9SOHpACBxz",
        "outputId": "375a3cf6-7955-4918-af62-486748db6649"
      },
      "execution_count": null,
      "outputs": [
        {
          "output_type": "execute_result",
          "data": {
            "text/plain": [
              "['gonylab', 'CEO', 'Gony']"
            ]
          },
          "metadata": {},
          "execution_count": 63
        }
      ]
    },
    {
      "cell_type": "code",
      "source": [
        "'010 5044 2903'.split(',')\n",
        "'010-5044-2903'.split('-')\n",
        "'010 5044-2903'.replace(' ', '-').split('-')\n",
        "'010 5044-2903'.replace('-',' ').split(' ')"
      ],
      "metadata": {
        "colab": {
          "base_uri": "https://localhost:8080/"
        },
        "id": "TfKDZuKrCPPb",
        "outputId": "3760b483-1cd0-46dc-baf2-6fec74231d98"
      },
      "execution_count": null,
      "outputs": [
        {
          "output_type": "execute_result",
          "data": {
            "text/plain": [
              "['010', '5044', '2903']"
            ]
          },
          "metadata": {},
          "execution_count": 88
        }
      ]
    },
    {
      "cell_type": "code",
      "source": [
        "['010', '5044', '2903']\n",
        "[010, 5044, 2903]"
      ],
      "metadata": {
        "id": "6zwAvnHJCety"
      },
      "execution_count": null,
      "outputs": []
    },
    {
      "cell_type": "code",
      "source": [
        "# 퀴즈'\n",
        "010 5044 2903'.split(' ')\n",
        "'010-5044-2903'.split('-')\n",
        "'010 5044-2903'.replace(' ', '-').split('-')"
      ],
      "metadata": {
        "colab": {
          "base_uri": "https://localhost:8080/",
          "height": 153
        },
        "id": "zVviPeSgCqMz",
        "outputId": "1ad63236-ff91-4355-8dd0-cca4f56fbbd8"
      },
      "execution_count": null,
      "outputs": [
        {
          "output_type": "error",
          "ename": "SyntaxError",
          "evalue": "ignored",
          "traceback": [
            "\u001b[0;36m  File \u001b[0;32m\"<ipython-input-89-4ea5ef4a5c6c>\"\u001b[0;36m, line \u001b[0;32m2\u001b[0m\n\u001b[0;31m    010 5044 2903'.split(' ')\u001b[0m\n\u001b[0m    ^\u001b[0m\n\u001b[0;31mSyntaxError\u001b[0m\u001b[0;31m:\u001b[0m leading zeros in decimal integer literals are not permitted; use an 0o prefix for octal integers\n"
          ]
        }
      ]
    },
    {
      "cell_type": "code",
      "source": [
        "'010 5044 2903'.split() # 공백단위가 들어가기 됩니다."
      ],
      "metadata": {
        "colab": {
          "base_uri": "https://localhost:8080/"
        },
        "id": "TiLzHz2xF2HS",
        "outputId": "78ec9dd7-0725-45b0-bbea-57651e3c7b16"
      },
      "execution_count": null,
      "outputs": [
        {
          "output_type": "execute_result",
          "data": {
            "text/plain": [
              "['010', '5044', '2903']"
            ]
          },
          "metadata": {},
          "execution_count": 91
        }
      ]
    },
    {
      "cell_type": "code",
      "source": [
        "'01050442903'.split('') # 빈 문자열을 넣지는 못합니다"
      ],
      "metadata": {
        "colab": {
          "base_uri": "https://localhost:8080/",
          "height": 171
        },
        "id": "Bjrfb1hxF67H",
        "outputId": "26a6ac9d-21fc-488d-a0ce-2edccf30c772"
      },
      "execution_count": null,
      "outputs": [
        {
          "output_type": "error",
          "ename": "ValueError",
          "evalue": "ignored",
          "traceback": [
            "\u001b[0;31m---------------------------------------------------------------------------\u001b[0m",
            "\u001b[0;31mValueError\u001b[0m                                Traceback (most recent call last)",
            "\u001b[0;32m<ipython-input-93-1e65bc78a997>\u001b[0m in \u001b[0;36m<cell line: 1>\u001b[0;34m()\u001b[0m\n\u001b[0;32m----> 1\u001b[0;31m \u001b[0;34m'01050442903'\u001b[0m\u001b[0;34m.\u001b[0m\u001b[0msplit\u001b[0m\u001b[0;34m(\u001b[0m\u001b[0;34m''\u001b[0m\u001b[0;34m)\u001b[0m \u001b[0;31m# 빈 문자열을 넣지는 못합니다\u001b[0m\u001b[0;34m\u001b[0m\u001b[0;34m\u001b[0m\u001b[0m\n\u001b[0m",
            "\u001b[0;31mValueError\u001b[0m: empty separator"
          ]
        }
      ]
    },
    {
      "cell_type": "code",
      "source": [
        "list(map(int, '010 5044 2903'.split(' ')))"
      ],
      "metadata": {
        "colab": {
          "base_uri": "https://localhost:8080/"
        },
        "id": "8HyLfnZHGERs",
        "outputId": "e7cef17e-58ea-422b-f43f-189cb0f20d79"
      },
      "execution_count": null,
      "outputs": [
        {
          "output_type": "execute_result",
          "data": {
            "text/plain": [
              "[10, 5044, 2903]"
            ]
          },
          "metadata": {},
          "execution_count": 99
        }
      ]
    },
    {
      "cell_type": "code",
      "source": [
        "def 제곱함수(x):\n",
        "    return x ** 2\n",
        "\n",
        "def 정수함수(x):\n",
        "    return int(x)\n",
        "\n",
        "list(map(제곱함수, [1, 2, 3]))\n",
        "list(map(정수함수, ['1', '2', '3']))\n",
        "list(map(int, ['1', '2', '3']))\n",
        "\n",
        "list(map(int, ['010', '5044', '2903']))\n",
        "list(map(int,'010 5044 2903'.split(' ')))"
      ],
      "metadata": {
        "colab": {
          "base_uri": "https://localhost:8080/",
          "height": 135
        },
        "id": "BB9RQQsvG4Ce",
        "outputId": "55214965-d074-4557-aa3c-b44fdfda2a88"
      },
      "execution_count": null,
      "outputs": [
        {
          "output_type": "error",
          "ename": "SyntaxError",
          "evalue": "ignored",
          "traceback": [
            "\u001b[0;36m  File \u001b[0;32m\"<ipython-input-100-15ddd0656979>\"\u001b[0;36m, line \u001b[0;32m1\u001b[0m\n\u001b[0;31m    list(map(int, ['010', '5044', '2903''].split(' ')))\u001b[0m\n\u001b[0m                                                   ^\u001b[0m\n\u001b[0;31mSyntaxError\u001b[0m\u001b[0;31m:\u001b[0m unterminated string literal (detected at line 1)\n"
          ]
        }
      ]
    },
    {
      "cell_type": "code",
      "source": [
        "# 지금 진도에는 과하다\n",
        "#지금은 잊어도 됨\n",
        "#뒤에서 상세하게 다룹니다다\n",
        "\n",
        "def 함수(x):\n",
        "    return x ** 2\n",
        "    list(map(제곱함수, [1, 2, 3]))\n",
        "    list(map(정수함수, ['1', '2', '3']))\n",
        "    list(map(int), ['1', '2', '3']))"
      ],
      "metadata": {
        "colab": {
          "base_uri": "https://localhost:8080/",
          "height": 135
        },
        "id": "KF5JB3YqGRyn",
        "outputId": "2e398271-2f1e-451a-d83f-81cf3cd0ad99"
      },
      "execution_count": null,
      "outputs": [
        {
          "output_type": "error",
          "ename": "SyntaxError",
          "evalue": "ignored",
          "traceback": [
            "\u001b[0;36m  File \u001b[0;32m\"<ipython-input-101-aeec13b51176>\"\u001b[0;36m, line \u001b[0;32m9\u001b[0m\n\u001b[0;31m    list(map(int), ['1', '2', '3']))\u001b[0m\n\u001b[0m                                   ^\u001b[0m\n\u001b[0;31mSyntaxError\u001b[0m\u001b[0;31m:\u001b[0m unmatched ')'\n"
          ]
        }
      ]
    },
    {
      "cell_type": "code",
      "source": [
        "# 별 4.5개\n",
        "'~'.join(['hello', 'world', 'hello'])\n",
        "'!'.join(['hello', 'world', 'hello'])\n",
        "''.join(['hello', 'world', 'hello'])\n",
        "' '.join(['hello', 'world', 'hello'])"
      ],
      "metadata": {
        "colab": {
          "base_uri": "https://localhost:8080/",
          "height": 35
        },
        "id": "xQffLbvLHTbz",
        "outputId": "1537fbc7-c41d-4bcb-c3b0-d6f1b1b867f8"
      },
      "execution_count": null,
      "outputs": [
        {
          "output_type": "execute_result",
          "data": {
            "text/plain": [
              "'hello world hello'"
            ],
            "application/vnd.google.colaboratory.intrinsic+json": {
              "type": "string"
            }
          },
          "metadata": {},
          "execution_count": 104
        }
      ]
    },
    {
      "cell_type": "code",
      "source": [
        "'hello'.isalpha()"
      ],
      "metadata": {
        "colab": {
          "base_uri": "https://localhost:8080/"
        },
        "id": "YzAaRbqEH65T",
        "outputId": "0e8cf85b-a1ba-48fb-c304-6a6426809a1f"
      },
      "execution_count": null,
      "outputs": [
        {
          "output_type": "execute_result",
          "data": {
            "text/plain": [
              "True"
            ]
          },
          "metadata": {},
          "execution_count": 107
        }
      ]
    },
    {
      "cell_type": "code",
      "source": [
        "'he llo'.isalpha()"
      ],
      "metadata": {
        "colab": {
          "base_uri": "https://localhost:8080/"
        },
        "id": "MQepl_5fIFdU",
        "outputId": "f8a88381-465a-435a-ddb0-b42be0c3d27f"
      },
      "execution_count": null,
      "outputs": [
        {
          "output_type": "execute_result",
          "data": {
            "text/plain": [
              "False"
            ]
          },
          "metadata": {},
          "execution_count": 109
        }
      ]
    },
    {
      "cell_type": "code",
      "source": [
        "'123'.isdigit()"
      ],
      "metadata": {
        "colab": {
          "base_uri": "https://localhost:8080/"
        },
        "id": "C9J4ODlDII2J",
        "outputId": "8338038c-8f19-4488-ae2c-be0f6340228c"
      },
      "execution_count": null,
      "outputs": [
        {
          "output_type": "execute_result",
          "data": {
            "text/plain": [
              "True"
            ]
          },
          "metadata": {},
          "execution_count": 111
        }
      ]
    },
    {
      "cell_type": "code",
      "source": [
        "def 제곱함수(x):\n",
        "    return x ** 2\n",
        "\n",
        "def 정수함수(x):\n",
        "    return int(x)\n",
        "\n",
        "list(map(제곱함수, [1, 2, 3]))\n",
        "list(map(정수함수, ['1', '2', '3']))\n",
        "list(map(int, ['1', '2', '3']))\n",
        "\n",
        "list(map(int, ['010', '5044', '2903']))\n",
        "list(map(int,'010 5044 2903'.split(' ')))"
      ],
      "metadata": {
        "id": "qA0_YsK9MUrm"
      },
      "execution_count": null,
      "outputs": []
    },
    {
      "cell_type": "code",
      "source": [
        "int('010')"
      ],
      "metadata": {
        "colab": {
          "base_uri": "https://localhost:8080/"
        },
        "id": "C45soI7LMWUQ",
        "outputId": "8a6c2d28-dc9e-48ca-9d19-0211ea806fa0"
      },
      "execution_count": null,
      "outputs": [
        {
          "output_type": "execute_result",
          "data": {
            "text/plain": [
              "10"
            ]
          },
          "metadata": {},
          "execution_count": 136
        }
      ]
    },
    {
      "cell_type": "code",
      "source": [
        "# print(010) #error"
      ],
      "metadata": {
        "id": "msLyWEswMcOj"
      },
      "execution_count": null,
      "outputs": []
    },
    {
      "cell_type": "code",
      "source": [
        "num ='010 5044-2903'.replace('-',' ').split(' ')\n",
        "[int(i) for i in num] # 리스트 컴프리헨션 사용\n",
        "list(map(int, '010 5044 2903'.split(' ')))\n",
        "\n",
        "# 2개 모두 새로운 리스트를 만드는 것입니다.\n",
        "# 원본을 변경시키지 않습니다."
      ],
      "metadata": {
        "id": "U4n0S9tkM84j"
      },
      "execution_count": null,
      "outputs": []
    },
    {
      "cell_type": "code",
      "source": [
        "# 이 코드 보다는\n",
        "s = []\n",
        "for i in '010 5044-2903'.replace('-',' ').split(' ')\n",
        "    s.append(int(i))\n",
        "s\n"
      ],
      "metadata": {
        "id": "wMZCDFckNeEn"
      },
      "execution_count": null,
      "outputs": []
    },
    {
      "cell_type": "code",
      "source": [
        "num = '010 '"
      ],
      "metadata": {
        "id": "VgsXJPA4MgJv"
      },
      "execution_count": null,
      "outputs": []
    },
    {
      "cell_type": "code",
      "source": [],
      "metadata": {
        "id": "5jFJ__94MZPU"
      },
      "execution_count": null,
      "outputs": []
    },
    {
      "cell_type": "code",
      "source": [
        "# 퀴즈\n",
        "# 숫자를 모두 더하라!\n",
        "result = 0\n",
        "for i in '123abc913sldlf':\n",
        "    # print(i.isdigit())\n",
        "    if i.isdigit():\n",
        "        result += int(i) # result = result + int(i)\n",
        "result"
      ],
      "metadata": {
        "id": "d3qm6-LeKIge"
      },
      "execution_count": null,
      "outputs": []
    },
    {
      "cell_type": "code",
      "source": [
        "for i in '123abc913sldlf':\n",
        "    if i.isdigit():\n",
        "        result += int(i)\n",
        "result"
      ],
      "metadata": {
        "id": "2r2LT1N8KI8k"
      },
      "execution_count": null,
      "outputs": []
    },
    {
      "cell_type": "code",
      "source": [
        "'gonylab CEO Gony'.isascii()"
      ],
      "metadata": {
        "colab": {
          "base_uri": "https://localhost:8080/"
        },
        "id": "AscHYgd8N22-",
        "outputId": "ecfacb32-df44-4701-c0b9-43a1d7a63467"
      },
      "execution_count": null,
      "outputs": [
        {
          "output_type": "execute_result",
          "data": {
            "text/plain": [
              "True"
            ]
          },
          "metadata": {},
          "execution_count": 139
        }
      ]
    },
    {
      "cell_type": "code",
      "source": [
        "'Gonylab CEO Gony'.rjust(30) #오른쪽 정렬\n",
        "'Gonylab CEO Gony'.ljust(30) #왼쪽 정렬\n",
        "'Gonylab CEO Gony'.center(30)#가운데 정렬"
      ],
      "metadata": {
        "id": "gXWp0ydOKKeL"
      },
      "execution_count": null,
      "outputs": []
    },
    {
      "cell_type": "code",
      "source": [
        "'hello'.zfill(20)"
      ],
      "metadata": {
        "colab": {
          "base_uri": "https://localhost:8080/",
          "height": 35
        },
        "id": "i7bYOKk_NOMy",
        "outputId": "b1bd1068-c703-4b66-ff6c-e0a53e943578"
      },
      "execution_count": null,
      "outputs": [
        {
          "output_type": "execute_result",
          "data": {
            "text/plain": [
              "'000000000000000hello'"
            ],
            "application/vnd.google.colaboratory.intrinsic+json": {
              "type": "string"
            }
          },
          "metadata": {},
          "execution_count": 141
        }
      ]
    },
    {
      "cell_type": "code",
      "source": [
        "'1001'.zfill(20)"
      ],
      "metadata": {
        "colab": {
          "base_uri": "https://localhost:8080/",
          "height": 35
        },
        "id": "QAvX6RM6OLyE",
        "outputId": "39389c12-d4bd-4ce2-98f1-0fa065d34580"
      },
      "execution_count": null,
      "outputs": [
        {
          "output_type": "execute_result",
          "data": {
            "text/plain": [
              "'00000000000000001001'"
            ],
            "application/vnd.google.colaboratory.intrinsic+json": {
              "type": "string"
            }
          },
          "metadata": {},
          "execution_count": 142
        }
      ]
    },
    {
      "cell_type": "code",
      "source": [
        "'1001'.zfill(5)\n",
        "'hello'.zfill(10).replace('0', '-')"
      ],
      "metadata": {
        "colab": {
          "base_uri": "https://localhost:8080/",
          "height": 35
        },
        "id": "WOFpd6dcOW1W",
        "outputId": "d5a5edbb-551a-4cc2-9e09-5d5117b1d49d"
      },
      "execution_count": null,
      "outputs": [
        {
          "output_type": "execute_result",
          "data": {
            "text/plain": [
              "'-----hello'"
            ],
            "application/vnd.google.colaboratory.intrinsic+json": {
              "type": "string"
            }
          },
          "metadata": {},
          "execution_count": 145
        }
      ]
    },
    {
      "cell_type": "code",
      "source": [
        "규칙테이블 = str.maketrans({'\\n':'', '\\t':''})\n",
        "'gonylab \\n\\n\\n CEO \\t\\t\\t Gony'.translate(규칙테이블)"
      ],
      "metadata": {
        "colab": {
          "base_uri": "https://localhost:8080/",
          "height": 35
        },
        "id": "VWLcNfRiOoZE",
        "outputId": "06417697-96c7-41f1-a2d2-84f7b1a3d2ba"
      },
      "execution_count": null,
      "outputs": [
        {
          "output_type": "execute_result",
          "data": {
            "text/plain": [
              "'gonylab  CEO  Gony'"
            ],
            "application/vnd.google.colaboratory.intrinsic+json": {
              "type": "string"
            }
          },
          "metadata": {},
          "execution_count": 146
        }
      ]
    },
    {
      "cell_type": "code",
      "source": [
        "'gonylab \\n\\n\\n CEO \\t\\t\\t gony'.replace('\\n', '').replace('\\t', '')"
      ],
      "metadata": {
        "colab": {
          "base_uri": "https://localhost:8080/",
          "height": 35
        },
        "id": "1nC1C9pWO8WA",
        "outputId": "a4dd6376-6df1-4bf6-acea-5fc4eca990ea"
      },
      "execution_count": null,
      "outputs": [
        {
          "output_type": "execute_result",
          "data": {
            "text/plain": [
              "'gonylab  CEO  gony'"
            ],
            "application/vnd.google.colaboratory.intrinsic+json": {
              "type": "string"
            }
          },
          "metadata": {},
          "execution_count": 147
        }
      ]
    },
    {
      "cell_type": "markdown",
      "source": [
        "## pep"
      ],
      "metadata": {
        "id": "ftt7kt3cPVx8"
      }
    },
    {
      "cell_type": "code",
      "source": [
        "# aaaaaaaaaaaaaaaaaaaaaaaaaaaaaaaaaaaaaaaaaaaaaaaaaaaaaaaaaaaaaaaaaaaaaaaaaaaaaaaa => 80자\n",
        "# 아아아아아아아아아아아아아아아아아아아아아아아아아아아아아아아아아아아아아아아아아아 => 40자면 한글 넘어갑니다.\n",
        "# line에 딱 맞춰 들어간 것을 볼 수 있습니다. \n",
        "# 강제사항은 아닙니다.\n",
        "# 띄어쓰기 4번도 강제사항은 아닙니다.\n",
        "# pep8, pep 20에 기술되어 있습니다. => pep(Python Enhancement Proposal)란 무엇인가요? 8이란 무엇인가요?\n",
        "# pep8 : Style Guide for Python Code\n",
        "# pep20 : The Zen of Python\n",
        "# https://peps.python.org/"
      ],
      "metadata": {
        "id": "3-ei5tK9PXmh"
      },
      "execution_count": null,
      "outputs": []
    },
    {
      "cell_type": "code",
      "source": [
        "# Beautiful is better than ugly.\n",
        "# Explicit is better than implicit.\n",
        "# Simple is better than complex.\n",
        "# Complex is better than complicated.\n",
        "# Flat is better than nested.\n",
        "# Sparse is better than dense.\n",
        "# Readability counts.\n",
        "# Special cases aren't special enough to break the rules.\n",
        "# Although practicality beats purity.\n",
        "# Errors should never pass silently.\n",
        "# Unless explicitly silenced.\n",
        "# In the face of ambiguity, refuse the temptation to guess.\n",
        "# There should be one-- and preferably only one --obvious way to do it.\n",
        "# Although that way may not be obvious at first unless you're Dutch.\n",
        "# Now is better than never.\n",
        "# Although never is often better than *right* now.\n",
        "# If the implementation is hard to explain, it's a bad idea.\n",
        "# If the implementation is easy to explain, it may be a good idea.\n",
        "# Namespaces are one honking great idea -- let's do more of those!"
      ],
      "metadata": {
        "id": "z4Gb4cukPbYT"
      },
      "execution_count": null,
      "outputs": []
    },
    {
      "cell_type": "markdown",
      "source": [
        "## cpython\n",
        "\n",
        "* 공식홈페이지에서 다운로드 받는 것이 cpython입니다.\n",
        "* https://github.com/python/cpython\n",
        "* list를 구현한 코드 : https://github.com/python/cpython/blob/main/Objects/listobject.c"
      ],
      "metadata": {
        "id": "x0BKjHRwQyC5"
      }
    },
    {
      "cell_type": "markdown",
      "source": [
        "## 인덱싱과 슬라이싱"
      ],
      "metadata": {
        "id": "cV5pIFZ0SYGd"
      }
    },
    {
      "cell_type": "code",
      "source": [
        "name = 'Guido van Rossum'\n",
        "print(name[0])\n",
        "print(name[1])\n",
        "print(name[2])"
      ],
      "metadata": {
        "colab": {
          "base_uri": "https://localhost:8080/"
        },
        "id": "BmQTCCiKPc1k",
        "outputId": "d6038c06-5d58-4748-f4e1-dd352c917f5c"
      },
      "execution_count": null,
      "outputs": [
        {
          "output_type": "stream",
          "name": "stdout",
          "text": [
            "G\n",
            "u\n",
            "i\n"
          ]
        }
      ]
    },
    {
      "cell_type": "code",
      "source": [
        "# s[start:stop:step]\n",
        "s = 'gonylab CEO gony'\n",
        "s[5:]\n",
        "s[:5]\n",
        "s[3:10]\n",
        "s[:]\n",
        "s[0:20:2]"
      ],
      "metadata": {
        "colab": {
          "base_uri": "https://localhost:8080/",
          "height": 35
        },
        "id": "vwYgvFBmSmgd",
        "outputId": "009a6f0c-2530-4317-9b28-674c6901d725"
      },
      "execution_count": null,
      "outputs": [
        {
          "output_type": "execute_result",
          "data": {
            "text/plain": [
              "'gnlbCOgn'"
            ],
            "application/vnd.google.colaboratory.intrinsic+json": {
              "type": "string"
            }
          },
          "metadata": {},
          "execution_count": 157
        }
      ]
    },
    {
      "cell_type": "code",
      "source": [
        "# 자주 사용 되는 코드\n",
        "s = 'gonylab CEO gony'\n",
        "s[:] # string에서는 많이 사용되지 않지만 list에서 많이 사용합니다.\n",
        "s[:-1] # 마지막 요소만 제외하고 다 슬라이싱 합니다."
      ],
      "metadata": {
        "colab": {
          "base_uri": "https://localhost:8080/",
          "height": 35
        },
        "id": "fNI3vPJWTRPD",
        "outputId": "2b800423-aec0-45b3-e3b3-4e4811309dc8"
      },
      "execution_count": null,
      "outputs": [
        {
          "output_type": "execute_result",
          "data": {
            "text/plain": [
              "'gonylab CEO gon'"
            ],
            "application/vnd.google.colaboratory.intrinsic+json": {
              "type": "string"
            }
          },
          "metadata": {},
          "execution_count": 161
        }
      ]
    },
    {
      "cell_type": "code",
      "source": [
        "test = [1, 2, 3, 4]\n",
        "test2 = test\n",
        "test2[0] = 1000\n",
        "test, test2"
      ],
      "metadata": {
        "colab": {
          "base_uri": "https://localhost:8080/"
        },
        "id": "BwsWNkjLTtfh",
        "outputId": "1edf6155-180e-4536-fb12-c13aa4a5c9fe"
      },
      "execution_count": null,
      "outputs": [
        {
          "output_type": "execute_result",
          "data": {
            "text/plain": [
              "([1000, 2, 3, 4], [1000, 2, 3, 4])"
            ]
          },
          "metadata": {},
          "execution_count": 159
        }
      ]
    },
    {
      "cell_type": "code",
      "source": [
        "test = [1, 2, 3, 4]\n",
        "test2 = test[:] # 새로운 리스트를 만들어서 test2에게 줍니다\n",
        "test2[0] = 1000\n",
        "test, test2"
      ],
      "metadata": {
        "colab": {
          "base_uri": "https://localhost:8080/"
        },
        "id": "uDItC5IXTz9A",
        "outputId": "9fc389de-9556-47d2-fe18-a8008be040dc"
      },
      "execution_count": null,
      "outputs": [
        {
          "output_type": "execute_result",
          "data": {
            "text/plain": [
              "([1, 2, 3, 4], [1000, 2, 3, 4])"
            ]
          },
          "metadata": {},
          "execution_count": 160
        }
      ]
    },
    {
      "cell_type": "markdown",
      "source": [
        "## 문자열의 연산산"
      ],
      "metadata": {
        "id": "xxZDQze_UrT1"
      }
    },
    {
      "cell_type": "code",
      "source": [
        "s = 'hello world'\n",
        "dir(s)\n",
        "s + s\n",
        "s * 3"
      ],
      "metadata": {
        "colab": {
          "base_uri": "https://localhost:8080/",
          "height": 35
        },
        "id": "papueVmBUhOX",
        "outputId": "da6009d3-5e64-404e-8ea4-b530e9e01afc"
      },
      "execution_count": null,
      "outputs": [
        {
          "output_type": "execute_result",
          "data": {
            "text/plain": [
              "'hello worldhello worldhello world'"
            ],
            "application/vnd.google.colaboratory.intrinsic+json": {
              "type": "string"
            }
          },
          "metadata": {},
          "execution_count": 164
        }
      ]
    },
    {
      "cell_type": "markdown",
      "source": [
        "## 형변환\n",
        "-형변환 : type을 변형하는것것"
      ],
      "metadata": {
        "id": "K_k59FYmUut3"
      }
    },
    {
      "cell_type": "code",
      "source": [
        "x = int(input())\n",
        "x + x # but 알파벳 입력하면 error!"
      ],
      "metadata": {
        "colab": {
          "base_uri": "https://localhost:8080/",
          "height": 189
        },
        "id": "g121dnJ3U2RG",
        "outputId": "97cad104-f5dc-48a3-9099-b80b0c3d1ab5"
      },
      "execution_count": null,
      "outputs": [
        {
          "name": "stdout",
          "output_type": "stream",
          "text": [
            "'32432'\n"
          ]
        },
        {
          "output_type": "error",
          "ename": "ValueError",
          "evalue": "ignored",
          "traceback": [
            "\u001b[0;31m---------------------------------------------------------------------------\u001b[0m",
            "\u001b[0;31mValueError\u001b[0m                                Traceback (most recent call last)",
            "\u001b[0;32m<ipython-input-167-b18148c418c0>\u001b[0m in \u001b[0;36m<cell line: 1>\u001b[0;34m()\u001b[0m\n\u001b[0;32m----> 1\u001b[0;31m \u001b[0mx\u001b[0m \u001b[0;34m=\u001b[0m \u001b[0mint\u001b[0m\u001b[0;34m(\u001b[0m\u001b[0minput\u001b[0m\u001b[0;34m(\u001b[0m\u001b[0;34m)\u001b[0m\u001b[0;34m)\u001b[0m\u001b[0;34m\u001b[0m\u001b[0;34m\u001b[0m\u001b[0m\n\u001b[0m",
            "\u001b[0;31mValueError\u001b[0m: invalid literal for int() with base 10: \"'32432'\""
          ]
        }
      ]
    },
    {
      "cell_type": "code",
      "source": [
        "x = input()\n",
        "if x.isdigit():\n",
        "     x = int(x) # but 알파벳 입력하면 error !\n",
        "x + x"
      ],
      "metadata": {
        "id": "U6aGVeXpVI3A"
      },
      "execution_count": null,
      "outputs": []
    },
    {
      "cell_type": "code",
      "source": [],
      "metadata": {
        "id": "UR3yPvRSVVnu"
      },
      "execution_count": null,
      "outputs": []
    },
    {
      "cell_type": "code",
      "source": [
        "# int('abc') # error\n",
        "int(10.1) #버림\n",
        "int('10') #형변환 가능\n",
        "# int('10.1') #형변환 불가능"
      ],
      "metadata": {
        "id": "lR6eDyn_VYW3",
        "colab": {
          "base_uri": "https://localhost:8080/"
        },
        "outputId": "49afcecb-ec3e-4114-9dbe-4461a3035471"
      },
      "execution_count": null,
      "outputs": [
        {
          "output_type": "execute_result",
          "data": {
            "text/plain": [
              "10"
            ]
          },
          "metadata": {},
          "execution_count": 172
        }
      ]
    },
    {
      "cell_type": "code",
      "source": [
        "float('10') # 형변환 가능\n",
        "float('10.1') # 형변환 가능"
      ],
      "metadata": {
        "id": "iBHt_exuVuX2",
        "colab": {
          "base_uri": "https://localhost:8080/"
        },
        "outputId": "aff1dcaf-d779-430e-ea4f-bb0a6b93e1ab"
      },
      "execution_count": null,
      "outputs": [
        {
          "output_type": "execute_result",
          "data": {
            "text/plain": [
              "10.1"
            ]
          },
          "metadata": {},
          "execution_count": 173
        }
      ]
    },
    {
      "cell_type": "code",
      "source": [
        "int('10a') # 되는 언어가 있어서 보여드린 것입니다.\n",
        "# PYthon에서는 허용하지 않습니다."
      ],
      "metadata": {
        "id": "BG7sRl4yV4_7"
      },
      "execution_count": null,
      "outputs": []
    },
    {
      "cell_type": "code",
      "source": [
        "def hello():\n",
        "    pass\n",
        "\n",
        "str(type)\n",
        "str(hello)\n",
        "\n",
        "\n",
        "str('123')\n",
        "str(True)\n",
        "str(None)\n",
        "str([1, 2, 3])\n",
        "str([1, 2, 3])\n",
        "str({'one':1, 'two':2})"
      ],
      "metadata": {
        "colab": {
          "base_uri": "https://localhost:8080/",
          "height": 35
        },
        "id": "-brlFxo8WO-Q",
        "outputId": "5e6a2be0-8382-4bb2-ec27-8aeca50a9ed4"
      },
      "execution_count": null,
      "outputs": [
        {
          "output_type": "execute_result",
          "data": {
            "text/plain": [
              "\"{'one': 1, 'two': 2}\""
            ],
            "application/vnd.google.colaboratory.intrinsic+json": {
              "type": "string"
            }
          },
          "metadata": {},
          "execution_count": 178
        }
      ]
    },
    {
      "cell_type": "code",
      "source": [
        "# 별 5개\n",
        "# bool 형으로 형변환 하는 것\n",
        "if True:\n",
        "    print('hi')\n",
        "\n",
        "if 'hello':\n",
        "    print('hi')\n",
        "\n",
        "# 정말 많이 사용하는 코드\n",
        "l = [1, 2, 3]\n",
        "while l:\n",
        "    print(l.pop())\n",
        "\n",
        "bool('') # 빈 문자열을 제외하고 모두 True\n",
        "bool('a')\n",
        "bool('False') # 문자열 False이기 때문에 True\n",
        "bool(0) # 0을 제외하고 모두 True\n",
        "bool(-1)\n",
        "bool(100)\n",
        "bool(None) # None은 비어있음을 명시\n",
        "bool([]) # 컨벤션 자료형은 비어있으면 False입니다.\n",
        "bool({})"
      ],
      "metadata": {
        "colab": {
          "base_uri": "https://localhost:8080/"
        },
        "id": "MahI7_xdWyD4",
        "outputId": "33131a19-5f19-43b0-fe3f-5809e70716c1"
      },
      "execution_count": null,
      "outputs": [
        {
          "output_type": "stream",
          "name": "stdout",
          "text": [
            "hi\n",
            "hi\n",
            "3\n",
            "2\n",
            "1\n"
          ]
        },
        {
          "output_type": "execute_result",
          "data": {
            "text/plain": [
              "False"
            ]
          },
          "metadata": {},
          "execution_count": 187
        }
      ]
    },
    {
      "cell_type": "code",
      "source": [
        "# list로 형변환\n",
        "s = 'gony'\n",
        "l = list(s)\n",
        "l"
      ],
      "metadata": {
        "colab": {
          "base_uri": "https://localhost:8080/"
        },
        "id": "RfRdzAbZo7wa",
        "outputId": "dfe7a1ff-87ef-464b-ac91-c8ace7ab1a74"
      },
      "execution_count": null,
      "outputs": [
        {
          "output_type": "execute_result",
          "data": {
            "text/plain": [
              "['g', 'o', 'n', 'y']"
            ]
          },
          "metadata": {},
          "execution_count": 191
        }
      ]
    },
    {
      "cell_type": "code",
      "source": [
        "# 튜플로 형변환\n",
        "s = 'gony'\n",
        "l = tuple(s)\n",
        "l"
      ],
      "metadata": {
        "colab": {
          "base_uri": "https://localhost:8080/"
        },
        "id": "-PEHIC8ip0qC",
        "outputId": "42b52d95-9b50-43b5-e121-bf2df33f968a"
      },
      "execution_count": null,
      "outputs": [
        {
          "output_type": "execute_result",
          "data": {
            "text/plain": [
              "('g', 'o', 'n', 'y')"
            ]
          },
          "metadata": {},
          "execution_count": 194
        }
      ]
    },
    {
      "cell_type": "code",
      "source": [
        "# dict로 형변환\n",
        "# name = 'gony'   error!\n",
        "# dict(Namespaces\n",
        "     \n",
        "s = [('name', 'gony'), ('age',10)]\n",
        "d = dict(s)\n",
        "d"
      ],
      "metadata": {
        "colab": {
          "base_uri": "https://localhost:8080/"
        },
        "id": "mIkER8hip6YW",
        "outputId": "8054f6ea-7b2b-43ed-fc1a-b7aaba14c248"
      },
      "execution_count": null,
      "outputs": [
        {
          "output_type": "execute_result",
          "data": {
            "text/plain": [
              "{'name': 'gony', 'age': 10}"
            ]
          },
          "metadata": {},
          "execution_count": 196
        }
      ]
    },
    {
      "cell_type": "code",
      "source": [
        "# set(집합)으로 형변환\n",
        "name = 'gonyggg'\n",
        "set(name)"
      ],
      "metadata": {
        "colab": {
          "base_uri": "https://localhost:8080/"
        },
        "id": "gf7g139CqPZY",
        "outputId": "d81563a7-5ee0-46a0-9fac-089c8886e1c3"
      },
      "execution_count": null,
      "outputs": [
        {
          "output_type": "execute_result",
          "data": {
            "text/plain": [
              "{'g', 'n', 'o', 'y'}"
            ]
          },
          "metadata": {},
          "execution_count": 199
        }
      ]
    },
    {
      "cell_type": "code",
      "source": [
        "len('hello world') # __len__\n",
        "len([1, 2, 3, 4])"
      ],
      "metadata": {
        "colab": {
          "base_uri": "https://localhost:8080/"
        },
        "id": "ZWZ-XTMWqdjL",
        "outputId": "babf290e-d3d1-4dcb-e69f-576cbf12e6e0"
      },
      "execution_count": null,
      "outputs": [
        {
          "output_type": "execute_result",
          "data": {
            "text/plain": [
              "4"
            ]
          },
          "metadata": {},
          "execution_count": 204
        }
      ]
    },
    {
      "cell_type": "code",
      "source": [
        "user_input = input('문자를 입력해주세요!')\n",
        "print(user_input *2 )"
      ],
      "metadata": {
        "colab": {
          "base_uri": "https://localhost:8080/",
          "height": 355
        },
        "id": "B2eFusUuqsIB",
        "outputId": "cc56d7e0-7e34-42d6-d1bd-77589437ae2f"
      },
      "execution_count": null,
      "outputs": [
        {
          "output_type": "error",
          "ename": "KeyboardInterrupt",
          "evalue": "ignored",
          "traceback": [
            "\u001b[0;31m---------------------------------------------------------------------------\u001b[0m",
            "\u001b[0;31mKeyboardInterrupt\u001b[0m                         Traceback (most recent call last)",
            "\u001b[0;32m<ipython-input-218-ce20d92c9dab>\u001b[0m in \u001b[0;36m<cell line: 1>\u001b[0;34m()\u001b[0m\n\u001b[0;32m----> 1\u001b[0;31m \u001b[0muser_input\u001b[0m \u001b[0;34m=\u001b[0m \u001b[0minput\u001b[0m\u001b[0;34m(\u001b[0m\u001b[0;34m'문자를 입력해주세요!'\u001b[0m\u001b[0;34m)\u001b[0m\u001b[0;34m\u001b[0m\u001b[0;34m\u001b[0m\u001b[0m\n\u001b[0m\u001b[1;32m      2\u001b[0m \u001b[0mprint\u001b[0m\u001b[0;34m(\u001b[0m\u001b[0muser_input\u001b[0m \u001b[0;34m*\u001b[0m\u001b[0;36m2\u001b[0m \u001b[0;34m)\u001b[0m\u001b[0;34m\u001b[0m\u001b[0;34m\u001b[0m\u001b[0m\n",
            "\u001b[0;32m/usr/local/lib/python3.10/dist-packages/ipykernel/kernelbase.py\u001b[0m in \u001b[0;36mraw_input\u001b[0;34m(self, prompt)\u001b[0m\n\u001b[1;32m    849\u001b[0m                 \u001b[0;34m\"raw_input was called, but this frontend does not support input requests.\"\u001b[0m\u001b[0;34m\u001b[0m\u001b[0;34m\u001b[0m\u001b[0m\n\u001b[1;32m    850\u001b[0m             )\n\u001b[0;32m--> 851\u001b[0;31m         return self._input_request(str(prompt),\n\u001b[0m\u001b[1;32m    852\u001b[0m             \u001b[0mself\u001b[0m\u001b[0;34m.\u001b[0m\u001b[0m_parent_ident\u001b[0m\u001b[0;34m,\u001b[0m\u001b[0;34m\u001b[0m\u001b[0;34m\u001b[0m\u001b[0m\n\u001b[1;32m    853\u001b[0m             \u001b[0mself\u001b[0m\u001b[0;34m.\u001b[0m\u001b[0m_parent_header\u001b[0m\u001b[0;34m,\u001b[0m\u001b[0;34m\u001b[0m\u001b[0;34m\u001b[0m\u001b[0m\n",
            "\u001b[0;32m/usr/local/lib/python3.10/dist-packages/ipykernel/kernelbase.py\u001b[0m in \u001b[0;36m_input_request\u001b[0;34m(self, prompt, ident, parent, password)\u001b[0m\n\u001b[1;32m    893\u001b[0m             \u001b[0;32mexcept\u001b[0m \u001b[0mKeyboardInterrupt\u001b[0m\u001b[0;34m:\u001b[0m\u001b[0;34m\u001b[0m\u001b[0;34m\u001b[0m\u001b[0m\n\u001b[1;32m    894\u001b[0m                 \u001b[0;31m# re-raise KeyboardInterrupt, to truncate traceback\u001b[0m\u001b[0;34m\u001b[0m\u001b[0;34m\u001b[0m\u001b[0m\n\u001b[0;32m--> 895\u001b[0;31m                 \u001b[0;32mraise\u001b[0m \u001b[0mKeyboardInterrupt\u001b[0m\u001b[0;34m(\u001b[0m\u001b[0;34m\"Interrupted by user\"\u001b[0m\u001b[0;34m)\u001b[0m \u001b[0;32mfrom\u001b[0m \u001b[0;32mNone\u001b[0m\u001b[0;34m\u001b[0m\u001b[0;34m\u001b[0m\u001b[0m\n\u001b[0m\u001b[1;32m    896\u001b[0m             \u001b[0;32mexcept\u001b[0m \u001b[0mException\u001b[0m \u001b[0;32mas\u001b[0m \u001b[0me\u001b[0m\u001b[0;34m:\u001b[0m\u001b[0;34m\u001b[0m\u001b[0;34m\u001b[0m\u001b[0m\n\u001b[1;32m    897\u001b[0m                 \u001b[0mself\u001b[0m\u001b[0;34m.\u001b[0m\u001b[0mlog\u001b[0m\u001b[0;34m.\u001b[0m\u001b[0mwarning\u001b[0m\u001b[0;34m(\u001b[0m\u001b[0;34m\"Invalid Message:\"\u001b[0m\u001b[0;34m,\u001b[0m \u001b[0mexc_info\u001b[0m\u001b[0;34m=\u001b[0m\u001b[0;32mTrue\u001b[0m\u001b[0;34m)\u001b[0m\u001b[0;34m\u001b[0m\u001b[0;34m\u001b[0m\u001b[0m\n",
            "\u001b[0;31mKeyboardInterrupt\u001b[0m: Interrupted by user"
          ]
        }
      ]
    },
    {
      "cell_type": "code",
      "source": [
        "# 3번\n",
        "num = 1234567890\n",
        "list(str(num))[3]"
      ],
      "metadata": {
        "colab": {
          "base_uri": "https://localhost:8080/",
          "height": 35
        },
        "id": "ldC7K2qrsdVR",
        "outputId": "1f798716-826a-4906-e7dd-3f39d4cffcac"
      },
      "execution_count": null,
      "outputs": [
        {
          "output_type": "execute_result",
          "data": {
            "text/plain": [
              "'4'"
            ],
            "application/vnd.google.colaboratory.intrinsic+json": {
              "type": "string"
            }
          },
          "metadata": {},
          "execution_count": 220
        }
      ]
    },
    {
      "cell_type": "markdown",
      "source": [
        "## 산술연산"
      ],
      "metadata": {
        "id": "puEnUCems_Re"
      }
    },
    {
      "cell_type": "code",
      "source": [
        "a = 10\n",
        "b = 3\n",
        "\n",
        "print(f'10 + 3 == {a + b}')\n",
        "print(f'10 - 3 == {a - b}')\n",
        "print(f'10 / 3 == {a / b}')\n",
        "print(f'10 // 3 == {a // b}') # 몫만 나옵니다.(정수만!)\n",
        "print(f'10 * 3 == {a * b}')\n",
        "print(f'10 ** 3 == {a ** b}')\n",
        "print(f'10 % 3 == {a % b}') # 나머지"
      ],
      "metadata": {
        "colab": {
          "base_uri": "https://localhost:8080/"
        },
        "id": "cl6kltZwtA2h",
        "outputId": "88b74e3d-d0d9-459c-ccfd-4bdca4debe00"
      },
      "execution_count": null,
      "outputs": [
        {
          "output_type": "stream",
          "name": "stdout",
          "text": [
            "10 + 3 == 13\n",
            "10 - 3 == 7\n",
            "10 / 3 == 3.3333333333333335\n",
            "10 // 3 == 3\n",
            "10 * 3 == 30\n",
            "10 ** 3 == 1000\n",
            "10 % 3 == 1\n"
          ]
        }
      ]
    },
    {
      "cell_type": "code",
      "source": [
        "# 연산자 우선순위는 and, or, 4칙연산, 제곱 정도!\n",
        "# 코딩하는데 큰 무리가 없습니다\n",
        "# (모르시면 읽는데 어려움움이 생기기도 합니다.)\n",
        "\n",
        "print(3 ** 2 * 3)\n",
        "print(3 * 3 ** 2) # 왜 81이 아니지?\n",
        "# 곱하기 보다 제곱이 우선순위가 더 높습니다\n",
        "print(3 + 3 * 2) # 3 + 3부터 먼저 하지 않습니다."
      ],
      "metadata": {
        "colab": {
          "base_uri": "https://localhost:8080/"
        },
        "id": "sej7wNRRt7q3",
        "outputId": "5622dec7-751c-4bf1-91e1-8c5d67c02e48"
      },
      "execution_count": null,
      "outputs": [
        {
          "output_type": "stream",
          "name": "stdout",
          "text": [
            "27\n",
            "27\n",
            "9\n"
          ]
        }
      ]
    },
    {
      "cell_type": "code",
      "source": [
        "a = 10\n",
        "b = 3\n",
        "\n",
        "print(f'10 > 3 == {a > b}')\n",
        "print(f'10 >= 3 == {a >= b}')\n",
        "print(f'10 < 3 == {a < b}')\n",
        "print(f'10 <= 3 == {a <= b}')\n",
        "print(f'10 == 3 == {a == b}')\n",
        "print(f'10 != 3 == {a != b}')"
      ],
      "metadata": {
        "colab": {
          "base_uri": "https://localhost:8080/"
        },
        "id": "mNZhnjZPuunE",
        "outputId": "76f8ea93-35c7-402d-9cc7-e146f0beec6a"
      },
      "execution_count": null,
      "outputs": [
        {
          "output_type": "stream",
          "name": "stdout",
          "text": [
            "10 > 3 == True\n",
            "10 >= 3 == True\n",
            "10 < 3 == False\n",
            "10 <= 3 == False\n",
            "10 == 3 == False\n",
            "10 != 3 == True\n"
          ]
        }
      ]
    },
    {
      "cell_type": "markdown",
      "source": [
        "## 논리연산"
      ],
      "metadata": {
        "id": "bTIwVYBrvT3i"
      }
    },
    {
      "cell_type": "code",
      "source": [
        "# and 는 곱\n",
        "# or 는 합\n",
        "# not은 반대\n",
        "# True 1\n",
        "# False 0\n",
        "# 중요한 포인트는 저렇게 했을 때 언제 True가 되는지 정리하는 것것\n",
        "\n",
        "print(True and False)\n",
        "print(True or False)\n",
        "print(True or True)\n",
        "\n",
        "print(True and False)\n",
        "if True and False:\n",
        "    print('hello')\n",
        "\n",
        "\n",
        "if 10 > 3 and 8 % 3 == 0:\n",
        "    print('hello')\n",
        "\n",
        "# and는 언제 True가 되나요?\n",
        "# 모두 True일 때\n",
        "# or는 언제 True가 되나요?\n",
        "# 둘 중에 하나라도 참이라면 True"
      ],
      "metadata": {
        "colab": {
          "base_uri": "https://localhost:8080/"
        },
        "id": "NLNyRTYevU_P",
        "outputId": "8c98f275-8a19-402e-9c10-1a2dd4f839d1"
      },
      "execution_count": null,
      "outputs": [
        {
          "output_type": "stream",
          "name": "stdout",
          "text": [
            "False\n",
            "True\n",
            "True\n",
            "False\n"
          ]
        }
      ]
    },
    {
      "cell_type": "code",
      "source": [
        "for i in range(101):\n",
        "    if i % 3 == 0 and i % 5 == 0:\n",
        "        print(i)\n",
        "\n",
        "# https://codingdojang.com/scode/350?answer_mode=hide"
      ],
      "metadata": {
        "colab": {
          "base_uri": "https://localhost:8080/"
        },
        "id": "d69Z3FOrwreO",
        "outputId": "8eecfdd9-8975-4d61-faf8-d90e79143449"
      },
      "execution_count": null,
      "outputs": [
        {
          "output_type": "stream",
          "name": "stdout",
          "text": [
            "0\n",
            "15\n",
            "30\n",
            "45\n",
            "60\n",
            "75\n",
            "90\n"
          ]
        }
      ]
    },
    {
      "cell_type": "code",
      "source": [
        "for i in range(101):\n",
        "    if i % 3 == 0 or i % 5 == 0:\n",
        "        print(i)"
      ],
      "metadata": {
        "colab": {
          "base_uri": "https://localhost:8080/"
        },
        "id": "PwEdxirGyBtL",
        "outputId": "97af7c7a-3dba-4d13-eda7-306162a5c1a7"
      },
      "execution_count": null,
      "outputs": [
        {
          "output_type": "stream",
          "name": "stdout",
          "text": [
            "0\n",
            "3\n",
            "5\n",
            "6\n",
            "9\n",
            "10\n",
            "12\n",
            "15\n",
            "18\n",
            "20\n",
            "21\n",
            "24\n",
            "25\n",
            "27\n",
            "30\n",
            "33\n",
            "35\n",
            "36\n",
            "39\n",
            "40\n",
            "42\n",
            "45\n",
            "48\n",
            "50\n",
            "51\n",
            "54\n",
            "55\n",
            "57\n",
            "60\n",
            "63\n",
            "65\n",
            "66\n",
            "69\n",
            "70\n",
            "72\n",
            "75\n",
            "78\n",
            "80\n",
            "81\n",
            "84\n",
            "85\n",
            "87\n",
            "90\n",
            "93\n",
            "95\n",
            "96\n",
            "99\n",
            "100\n"
          ]
        }
      ]
    },
    {
      "cell_type": "code",
      "source": [
        "result = 0\n",
        "for i in range(101):\n",
        "    if i % 3 == 0:\n",
        "        result += i # result = result + i\n",
        "    if i % 5 == 0:\n",
        "        result += i\n",
        "    if i % 15 == 0:\n",
        "        result -= i\n",
        "print(result)"
      ],
      "metadata": {
        "id": "C6qPgL90yCB5"
      },
      "execution_count": null,
      "outputs": []
    },
    {
      "cell_type": "code",
      "source": [
        "result = 0\n",
        "for i in range(101):\n",
        "    if i % 3 == 0 or i % 5 == 0:\n",
        "        result += i\n",
        "result"
      ],
      "metadata": {
        "id": "JupGKhmEyeCU"
      },
      "execution_count": null,
      "outputs": []
    },
    {
      "cell_type": "code",
      "source": [
        "not True"
      ],
      "metadata": {
        "colab": {
          "base_uri": "https://localhost:8080/"
        },
        "id": "rvnChbZryhFz",
        "outputId": "89a1e216-8d56-4923-8890-cd6ed9a087b3"
      },
      "execution_count": null,
      "outputs": [
        {
          "output_type": "execute_result",
          "data": {
            "text/plain": [
              "False"
            ]
          },
          "metadata": {},
          "execution_count": 19
        }
      ]
    },
    {
      "cell_type": "code",
      "source": [
        "not False"
      ],
      "metadata": {
        "colab": {
          "base_uri": "https://localhost:8080/"
        },
        "id": "EaXDh6P5yik0",
        "outputId": "bc3ee654-b2fc-44ad-900c-7b31ada23886"
      },
      "execution_count": null,
      "outputs": [
        {
          "output_type": "execute_result",
          "data": {
            "text/plain": [
              "True"
            ]
          },
          "metadata": {},
          "execution_count": 20
        }
      ]
    },
    {
      "cell_type": "code",
      "source": [
        "# python 입장에서 보는 코드\n",
        "# False and ?????? => 물음표에 무엇이 나오든 False\n",
        "# 그래서 Python도 저 물음표를 보지 않습니다.\n",
        "def solution():\n",
        "    1/0\n",
        "\n",
        "if False and solution():\n",
        "    print('hello')"
      ],
      "metadata": {
        "id": "KWjnWIxmyjWF"
      },
      "execution_count": null,
      "outputs": []
    },
    {
      "cell_type": "code",
      "source": [
        "# True or ?????? => 물음표에 무엇이 나오든 True\n",
        "# 그래서 Python도 저 물음표를 보지 않습니다.\n",
        "def solution():\n",
        "    1/0\n",
        "\n",
        "if True or solution():\n",
        "    print('hello')"
      ],
      "metadata": {
        "colab": {
          "base_uri": "https://localhost:8080/"
        },
        "id": "sF-Kaq1b11aS",
        "outputId": "596a2de7-6ff9-4fa0-b57b-2e9a6ec639dd"
      },
      "execution_count": null,
      "outputs": [
        {
          "output_type": "stream",
          "name": "stdout",
          "text": [
            "hello\n"
          ]
        }
      ]
    },
    {
      "cell_type": "code",
      "source": [
        "# 단락 평가(컴퓨터가 어디까지 보는지 판단해서 활용)\n",
        "username = '' #사용자가 아무것도 입력하지 않았을 경우\n",
        "username = username or 'licat'"
      ],
      "metadata": {
        "id": "_21iBUzl2Jkf"
      },
      "execution_count": null,
      "outputs": []
    },
    {
      "cell_type": "code",
      "source": [
        "# 단락 평가(컴퓨터가 어디까지 보는지 판단해서 활용)\n",
        "username = 'gony' #사용자가 아무것도 입력하지 않았을 경우\n",
        "username = username or 'licat'\n",
        "username"
      ],
      "metadata": {
        "colab": {
          "base_uri": "https://localhost:8080/",
          "height": 35
        },
        "id": "LjqT0AAE2gMI",
        "outputId": "c9b85b51-5f3b-4e94-b04c-20717bc855c5"
      },
      "execution_count": null,
      "outputs": [
        {
          "output_type": "execute_result",
          "data": {
            "text/plain": [
              "'gony'"
            ],
            "application/vnd.google.colaboratory.intrinsic+json": {
              "type": "string"
            }
          },
          "metadata": {},
          "execution_count": 35
        }
      ]
    },
    {
      "cell_type": "code",
      "source": [
        "# and와 or의 우선순위 (and가 더 높습니다.)\n",
        "\n",
        "for i in range(101):\n",
        "    if i % 3 == 0 and i % 5 == 0 or i % 2 == 0:\n",
        "        print(i)\n",
        "\n",
        "for i in range(101):\n",
        "    if (i % 3 == 0 and i % 5 == 0) or i % 2 == 0:\n",
        "        print(i)"
      ],
      "metadata": {
        "colab": {
          "base_uri": "https://localhost:8080/"
        },
        "id": "9tmh_wqC2snj",
        "outputId": "af0e465f-570c-4d3f-cfa1-4f64e9b1009f"
      },
      "execution_count": null,
      "outputs": [
        {
          "output_type": "stream",
          "name": "stdout",
          "text": [
            "0\n",
            "2\n",
            "4\n",
            "6\n",
            "8\n",
            "10\n",
            "12\n",
            "14\n",
            "15\n",
            "16\n",
            "18\n",
            "20\n",
            "22\n",
            "24\n",
            "26\n",
            "28\n",
            "30\n",
            "32\n",
            "34\n",
            "36\n",
            "38\n",
            "40\n",
            "42\n",
            "44\n",
            "45\n",
            "46\n",
            "48\n",
            "50\n",
            "52\n",
            "54\n",
            "56\n",
            "58\n",
            "60\n",
            "62\n",
            "64\n",
            "66\n",
            "68\n",
            "70\n",
            "72\n",
            "74\n",
            "75\n",
            "76\n",
            "78\n",
            "80\n",
            "82\n",
            "84\n",
            "86\n",
            "88\n",
            "90\n",
            "92\n",
            "94\n",
            "96\n",
            "98\n",
            "100\n",
            "0\n",
            "2\n",
            "4\n",
            "6\n",
            "8\n",
            "10\n",
            "12\n",
            "14\n",
            "15\n",
            "16\n",
            "18\n",
            "20\n",
            "22\n",
            "24\n",
            "26\n",
            "28\n",
            "30\n",
            "32\n",
            "34\n",
            "36\n",
            "38\n",
            "40\n",
            "42\n",
            "44\n",
            "45\n",
            "46\n",
            "48\n",
            "50\n",
            "52\n",
            "54\n",
            "56\n",
            "58\n",
            "60\n",
            "62\n",
            "64\n",
            "66\n",
            "68\n",
            "70\n",
            "72\n",
            "74\n",
            "75\n",
            "76\n",
            "78\n",
            "80\n",
            "82\n",
            "84\n",
            "86\n",
            "88\n",
            "90\n",
            "92\n",
            "94\n",
            "96\n",
            "98\n",
            "100\n"
          ]
        }
      ]
    },
    {
      "cell_type": "code",
      "source": [
        "for i in range(101):\n",
        "    if i % 3 == 0 or (i % 5 == 0 and i % 2 == 0):\n",
        "        print(i)\n",
        "\n",
        "for i in range(101):\n",
        "    if i % 3 == 0 or i % 5 == 0 and i % 2 == 0:\n",
        "        print(i)"
      ],
      "metadata": {
        "colab": {
          "base_uri": "https://localhost:8080/"
        },
        "id": "dd8VSt9i3DdY",
        "outputId": "e5a335b3-7647-4b16-e78d-e52757632558"
      },
      "execution_count": null,
      "outputs": [
        {
          "output_type": "stream",
          "name": "stdout",
          "text": [
            "0\n",
            "3\n",
            "6\n",
            "9\n",
            "10\n",
            "12\n",
            "15\n",
            "18\n",
            "20\n",
            "21\n",
            "24\n",
            "27\n",
            "30\n",
            "33\n",
            "36\n",
            "39\n",
            "40\n",
            "42\n",
            "45\n",
            "48\n",
            "50\n",
            "51\n",
            "54\n",
            "57\n",
            "60\n",
            "63\n",
            "66\n",
            "69\n",
            "70\n",
            "72\n",
            "75\n",
            "78\n",
            "80\n",
            "81\n",
            "84\n",
            "87\n",
            "90\n",
            "93\n",
            "96\n",
            "99\n",
            "100\n"
          ]
        }
      ]
    },
    {
      "cell_type": "markdown",
      "source": [
        "## 비트연산 (중요도 하하)"
      ],
      "metadata": {
        "id": "v-NoVjdc4Ejh"
      }
    },
    {
      "cell_type": "code",
      "source": [
        "# # and\n",
        "# 1001 == 9\n",
        "# 0010 == 2\n",
        "# ---\n",
        "# 0000"
      ],
      "metadata": {
        "colab": {
          "base_uri": "https://localhost:8080/",
          "height": 153
        },
        "id": "LLG5Vj414LKA",
        "outputId": "9db7687f-a533-466e-ee34-2213ad725ffc"
      },
      "execution_count": null,
      "outputs": [
        {
          "output_type": "error",
          "ename": "SyntaxError",
          "evalue": "ignored",
          "traceback": [
            "\u001b[0;36m  File \u001b[0;32m\"<ipython-input-41-f379d4eb158a>\"\u001b[0;36m, line \u001b[0;32m3\u001b[0m\n\u001b[0;31m    0010 == 2\u001b[0m\n\u001b[0m    ^\u001b[0m\n\u001b[0;31mSyntaxError\u001b[0m\u001b[0;31m:\u001b[0m leading zeros in decimal integer literals are not permitted; use an 0o prefix for octal integers\n"
          ]
        }
      ]
    },
    {
      "cell_type": "code",
      "source": [
        "9 & 8"
      ],
      "metadata": {
        "colab": {
          "base_uri": "https://localhost:8080/"
        },
        "id": "uiw-EIre4y3K",
        "outputId": "68df42a2-838d-462f-e086-faab8f791dce"
      },
      "execution_count": null,
      "outputs": [
        {
          "output_type": "execute_result",
          "data": {
            "text/plain": [
              "8"
            ]
          },
          "metadata": {},
          "execution_count": 43
        }
      ]
    },
    {
      "cell_type": "code",
      "source": [
        "# or(더하기, 대신 자리올림이 되진 않습니다.)\n",
        "# 1001 == 9\n",
        "# 0011 == 3\n",
        "# ----\n",
        "# 1011\n",
        "\n",
        "9 | 3"
      ],
      "metadata": {
        "colab": {
          "base_uri": "https://localhost:8080/"
        },
        "id": "MxOjncWR5wwe",
        "outputId": "dff9f818-87b7-40ff-bb03-296983922a11"
      },
      "execution_count": null,
      "outputs": [
        {
          "output_type": "execute_result",
          "data": {
            "text/plain": [
              "11"
            ]
          },
          "metadata": {},
          "execution_count": 45
        }
      ]
    },
    {
      "cell_type": "code",
      "source": [
        "# xor(같을경우 0, 다를 경우 1)\n",
        "# 1001 == 9\n",
        "# 0011 == 3\n",
        "# ----\n",
        "\n",
        "# 1010\n",
        "9 ^ 3"
      ],
      "metadata": {
        "colab": {
          "base_uri": "https://localhost:8080/"
        },
        "id": "UBDP8pTH6Dni",
        "outputId": "5f028cf5-76cc-4c63-abf4-6f13675b054b"
      },
      "execution_count": null,
      "outputs": [
        {
          "output_type": "execute_result",
          "data": {
            "text/plain": [
              "10"
            ]
          },
          "metadata": {},
          "execution_count": 46
        }
      ]
    },
    {
      "cell_type": "code",
      "source": [
        "~9 # 2보수를 취하는 것입니다. ( 9에게 +1 한 다음에 -를 취하시면 됩니다)\n",
        "~-7 # (7에게 +1한 다음에 -를 취하시면 됩니다.)"
      ],
      "metadata": {
        "colab": {
          "base_uri": "https://localhost:8080/"
        },
        "id": "8IA3-8nA6OK0",
        "outputId": "7642c1c3-f1cc-442d-e14b-fcfc25f87a18"
      },
      "execution_count": null,
      "outputs": [
        {
          "output_type": "execute_result",
          "data": {
            "text/plain": [
              "6"
            ]
          },
          "metadata": {},
          "execution_count": 49
        }
      ]
    },
    {
      "cell_type": "code",
      "source": [
        "3 << 2 # 11"
      ],
      "metadata": {
        "colab": {
          "base_uri": "https://localhost:8080/"
        },
        "id": "zqyICLwW6W4r",
        "outputId": "15271d49-4f7c-4830-d242-c8ee5acdd6d8"
      },
      "execution_count": null,
      "outputs": [
        {
          "output_type": "execute_result",
          "data": {
            "text/plain": [
              "12"
            ]
          },
          "metadata": {},
          "execution_count": 51
        }
      ]
    },
    {
      "cell_type": "code",
      "source": [
        "7 >> 2"
      ],
      "metadata": {
        "colab": {
          "base_uri": "https://localhost:8080/"
        },
        "id": "hr35lkkc7mOl",
        "outputId": "76da9fac-945b-45d0-fe7d-ff5d4c0ad7eb"
      },
      "execution_count": null,
      "outputs": [
        {
          "output_type": "execute_result",
          "data": {
            "text/plain": [
              "1"
            ]
          },
          "metadata": {},
          "execution_count": 52
        }
      ]
    },
    {
      "cell_type": "markdown",
      "source": [
        "## 할당연산"
      ],
      "metadata": {
        "id": "xTTYF1u78GjN"
      }
    },
    {
      "cell_type": "code",
      "source": [
        "# a = 10\n",
        "# a = a + 10\n",
        "a = + 10 # 이렇게 a를 지우면 양수를 표현하는 10만 남아요.\n",
        "\n",
        "a"
      ],
      "metadata": {
        "colab": {
          "base_uri": "https://localhost:8080/"
        },
        "id": "8k2RmO5u8HnD",
        "outputId": "df7b1898-5b45-4a79-be34-c8386bee2d7b"
      },
      "execution_count": null,
      "outputs": [
        {
          "output_type": "execute_result",
          "data": {
            "text/plain": [
              "10"
            ]
          },
          "metadata": {},
          "execution_count": 55
        }
      ]
    },
    {
      "cell_type": "code",
      "source": [
        "a = 10\n",
        "a += 10 # a = a + 10\n",
        "a"
      ],
      "metadata": {
        "colab": {
          "base_uri": "https://localhost:8080/"
        },
        "id": "JG7UuJmR8VPz",
        "outputId": "6e86a834-47a9-40e4-aa56-c1f6c2560a3c"
      },
      "execution_count": null,
      "outputs": [
        {
          "output_type": "execute_result",
          "data": {
            "text/plain": [
              "20"
            ]
          },
          "metadata": {},
          "execution_count": 57
        }
      ]
    },
    {
      "cell_type": "code",
      "source": [
        "a = 10\n",
        "a //= 10 # 산술연산 모두 됩니다.\n",
        "a"
      ],
      "metadata": {
        "colab": {
          "base_uri": "https://localhost:8080/"
        },
        "id": "vA_-Kzzm9HRu",
        "outputId": "18bac068-6d47-4f32-8f82-4ace4cbfcf58"
      },
      "execution_count": null,
      "outputs": [
        {
          "output_type": "execute_result",
          "data": {
            "text/plain": [
              "1"
            ]
          },
          "metadata": {},
          "execution_count": 59
        }
      ]
    },
    {
      "cell_type": "code",
      "source": [
        "#Python 에서 특이하게 ++a, ++b, a++, b++가 없습니다."
      ],
      "metadata": {
        "id": "jOwNSQOo9cJa"
      },
      "execution_count": null,
      "outputs": []
    },
    {
      "cell_type": "markdown",
      "source": [
        "## 식별연산자"
      ],
      "metadata": {
        "id": "sn2ffg_I9nnv"
      }
    },
    {
      "cell_type": "code",
      "source": [
        "#앞으로 아래 2개를 활용해서 Python에 컨벤션 자료형이 어떻게 구성이되는지 확인해볼겁니다.\n",
        "# id()\n",
        "# is"
      ],
      "metadata": {
        "id": "syso8O5k9ox-"
      },
      "execution_count": null,
      "outputs": []
    },
    {
      "cell_type": "code",
      "source": [
        "a = 999\n",
        "b = 999\n",
        "a is b"
      ],
      "metadata": {
        "colab": {
          "base_uri": "https://localhost:8080/"
        },
        "id": "t1uCWC8N9wZ8",
        "outputId": "f2fee67c-3b03-4b2c-ea2d-da76670ae7ea"
      },
      "execution_count": null,
      "outputs": [
        {
          "output_type": "execute_result",
          "data": {
            "text/plain": [
              "False"
            ]
          },
          "metadata": {},
          "execution_count": 62
        }
      ]
    },
    {
      "cell_type": "code",
      "source": [
        "a = 256\n",
        "b = 256\n",
        "a is b"
      ],
      "metadata": {
        "colab": {
          "base_uri": "https://localhost:8080/"
        },
        "id": "q4HXlQsW93Sh",
        "outputId": "cb9e25c8-a020-4514-a893-70f59313ad22"
      },
      "execution_count": null,
      "outputs": [
        {
          "output_type": "execute_result",
          "data": {
            "text/plain": [
              "True"
            ]
          },
          "metadata": {},
          "execution_count": 64
        }
      ]
    },
    {
      "cell_type": "code",
      "source": [
        "a = [1, 2, 3]\n",
        "b = [1, 2, 3]\n",
        "a is b"
      ],
      "metadata": {
        "colab": {
          "base_uri": "https://localhost:8080/"
        },
        "id": "fdtxXDeL958Y",
        "outputId": "088b563a-550a-492d-b0c4-982e50a14a4a"
      },
      "execution_count": null,
      "outputs": [
        {
          "output_type": "execute_result",
          "data": {
            "text/plain": [
              "False"
            ]
          },
          "metadata": {},
          "execution_count": 66
        }
      ]
    },
    {
      "cell_type": "code",
      "source": [
        "a == b # Python에 등호는 type과 value를 봅니다."
      ],
      "metadata": {
        "colab": {
          "base_uri": "https://localhost:8080/"
        },
        "id": "l6DgkuYH-HE6",
        "outputId": "4a0bb314-ad3d-4454-fe61-42e9991af23e"
      },
      "execution_count": null,
      "outputs": [
        {
          "output_type": "execute_result",
          "data": {
            "text/plain": [
              "True"
            ]
          },
          "metadata": {},
          "execution_count": 67
        }
      ]
    },
    {
      "cell_type": "code",
      "source": [
        "# is는 주소값을 비교합니다.\n",
        "id(a) == id(b) # 이게 False면 is도 False입니다."
      ],
      "metadata": {
        "colab": {
          "base_uri": "https://localhost:8080/"
        },
        "id": "HegHhzZd_QhH",
        "outputId": "969b82cc-5eb1-4b9f-a2f1-f9c6c726ee2c"
      },
      "execution_count": null,
      "outputs": [
        {
          "output_type": "execute_result",
          "data": {
            "text/plain": [
              "False"
            ]
          },
          "metadata": {},
          "execution_count": 73
        }
      ]
    },
    {
      "cell_type": "markdown",
      "source": [
        "## not의 위치"
      ],
      "metadata": {
        "id": "rSxqeS4f-0kq"
      }
    },
    {
      "cell_type": "code",
      "source": [
        "a = 10\n",
        "b = 100\n",
        "a is not b\n",
        "# a not is b # error"
      ],
      "metadata": {
        "colab": {
          "base_uri": "https://localhost:8080/"
        },
        "id": "7zbzSW-j-2UX",
        "outputId": "15e68f47-aebc-4205-f794-df76aebef0a0"
      },
      "execution_count": null,
      "outputs": [
        {
          "output_type": "execute_result",
          "data": {
            "text/plain": [
              "True"
            ]
          },
          "metadata": {},
          "execution_count": 70
        }
      ]
    },
    {
      "cell_type": "code",
      "source": [
        "a = 10\n",
        "b = [10, 20, 30]\n",
        "a not in b"
      ],
      "metadata": {
        "colab": {
          "base_uri": "https://localhost:8080/"
        },
        "id": "uCDsBoLg_AiT",
        "outputId": "3f2f1350-7cd5-427e-9767-858e7a916a11"
      },
      "execution_count": null,
      "outputs": [
        {
          "output_type": "execute_result",
          "data": {
            "text/plain": [
              "False"
            ]
          },
          "metadata": {},
          "execution_count": 74
        }
      ]
    },
    {
      "cell_type": "markdown",
      "source": [
        "## 멤버 연산"
      ],
      "metadata": {
        "id": "ZFN0COsl_jUY"
      }
    },
    {
      "cell_type": "code",
      "source": [
        "'a' in 'hello a world'\n",
        "'a' in 'hello world'\n",
        "'a' in ['a', 'b']\n",
        "\n",
        "'a' in {'a':10, 'b':20}\n",
        "# 10 in {'a':10, 'b':20} # dict안에있는 value값이 있는지 확인하고 싶으면\n",
        "10 in {'a':10, 'b':20}.values()\n",
        "10 in {10, 20, 30}"
      ],
      "metadata": {
        "colab": {
          "base_uri": "https://localhost:8080/"
        },
        "id": "EDCBEmPQ_kRB",
        "outputId": "93521094-ce7d-401d-ed79-72abaae1fc50"
      },
      "execution_count": null,
      "outputs": [
        {
          "output_type": "execute_result",
          "data": {
            "text/plain": [
              "True"
            ]
          },
          "metadata": {},
          "execution_count": 81
        }
      ]
    },
    {
      "cell_type": "code",
      "source": [
        "'a' not in ['aa', 'bb']"
      ],
      "metadata": {
        "colab": {
          "base_uri": "https://localhost:8080/"
        },
        "id": "kEy50JDiAE9d",
        "outputId": "5db89861-4870-436f-8171-46e1f3b16db3"
      },
      "execution_count": null,
      "outputs": [
        {
          "output_type": "execute_result",
          "data": {
            "text/plain": [
              "True"
            ]
          },
          "metadata": {},
          "execution_count": 82
        }
      ]
    },
    {
      "cell_type": "code",
      "source": [
        "10 in [10, 20 ,30]\n",
        "[10] in [10, 20, 30]\n",
        "[10] in [[10], [20], [30]]\n",
        "[10, 20] in [[10, 20], 30]\n",
        "set([10, 20]).issubset(set([10, 20, 30]))\n",
        "{10, 20}.issubset({10, 20, 30, 40})"
      ],
      "metadata": {
        "colab": {
          "base_uri": "https://localhost:8080/"
        },
        "id": "4rfKVdRdDfGo",
        "outputId": "63725add-b6a8-4ba0-d9e2-b69b38cf8354"
      },
      "execution_count": null,
      "outputs": [
        {
          "output_type": "execute_result",
          "data": {
            "text/plain": [
              "True"
            ]
          },
          "metadata": {},
          "execution_count": 88
        }
      ]
    },
    {
      "cell_type": "markdown",
      "source": [
        "## 연습문제\n",
        "\n",
        "![image.png](data:image/png;base64,iVBORw0KGgoAAAANSUhEUgAAA8IAAAN6CAIAAADKEGfiAAAgAElEQVR4nOzde1yTZf8H8K9JqDSMk8rBEkVopqgVDmeaCJ5QRCVTM5x41kAzEfGQD/ozBTTNRyUPFSKSihmmIhIFYh6WE49oLBCBcqC4IckE5RH5/bExxjbGboRt6Of96g+47t3Xru3GV59d+17X3aq6upoAAAAAAICJVww9AAAAAACAlgcxGgAAAACAMcRoAAAAAADGEKMBAAAAABhDjAYAAAAAYAwxGgAAAACAMcRoAAAAAADGEKMBAAAAABhDjAYAAAAAYAwxGgAAAACAMcRoAAAAAADGEKMBAAAAABhDjAYAAAAAYAwxGgAAAACAMcRoAAAAAADGEKMBAAAAABhDjAYAAAAAYAwxGgAAAACAMcRoAAAAAADGEKMBAAAAABgzMfQAwKjl5+UtWvTp3aIiRcuIEd7LV4a1bdvWgKMCRq5cvjR/3kzllqm86YFBnxlqPAAAAC8GxGgwCseP/bzuy9XKLSu/WD3Gd1wzPd3jx4/D16355ZeTzdG5/j9plJaWBi9ecPNGpqLF1s5uy5ZvHLt21dsYAAAAXjaI0S+gqqqqrKybv59Ov3TpYk52dmXlEyKytrZ5i812d+cO+sDD1tbulVdQzwMAAADQeIjRL5TKyspfU5J37/rm3r27KockEvH5c2fPnzv79eaNbm6cT4M+69Hj7VatWhlknOqePXtm6CEAAAAAMIAY/eIoLBSt/3JNRoagwUdmZAjmzJr2if+0GTPntGnTRg9j066ysvLGjesqjdevXx0xcpSpqalBhqQf6qUsjKDEGQAAwIDwzf4L4uaNzEULP9UlQ8s8ffp0b8z3keFfVpSXN+vAdJF3O5fPP6fSmH4qLTtbaJDxAAAAADQIs9Evgtu3c9es/uLvvwuYnpiUdLzVK61Clq4w4M4bYrF4y5avxPfvq7SXlT2M2v7ftV9G2tjY6GckO3Z+/8677zE9S30fDAAAAHgZtIAYXVFeLhRm8fnnrl69LLpzRyIRy9q7OHbt2rXbBx94uPfnWlvrKWnJVFdX7435fueO7SrtBtkM7uHDf//79VfqGfr99wd94j/t7Z692rZtW11dXVpaeu7s7zEx39355x/lh51IPHYi8Zgex1vHv/+W/nfLV1cuX9J49MrlSyuWL1m9Zp29vYOeBwYAAACgnfHG6GfPngmFWXv3fHfu3JmnT5+qP6AgP68gPy/9VKqJicmgDzyCFixycOisn7EVF99LS/tNP8/VoNPppy5c4Cu3mJiYfL44ZNz4Ca1bt5a1tGrVytLS0mfM2EEfDP5qY8SvKcmGGKmqf/75OzL8S+2FKNevXf10/qywsC/7vvOu8SyIBAAAADDSGC0S3dm6ZdPp06d0efDTp09Ppf2WcVGwNHTF0GEjmjtsVVdXnz59Kvsvoyjbffjw31+Sk1QaZ82eN97vI41b2r3+usVni5aIxffrmwDWj8rKypRfTu74ZpviuwUFS0urBw9KlFvuFhUtCJr78ZSpM2bOadeunR6H2ezG+I7TuDe2nnfRBgAAgEYwxiWGpaWl/1m1XMcMrVBW9nDN6i9OJB6rrq5upoHJFBffSzx+tFmfQne5t25dvXpZucXNjeP3oeYMLWNjYzP/04VmZq81/+g0qKqq+uOP8/PnzfxybZh6hp4+Y/ZPR45PnzFbpf3p06f7YvdM8BuT8NOhiooKfQ0WAAAAoF7GGKMb7enTpzt3bm/WeeLq6upfkpOMZCqaiK5du6JS8TLog8Ht27+u/azu3bu79evXnONS9ezZs8JCUezeaL9xoxct/FT5fnsyJiYmCxZ+Pmv2PDOz12bNnhe67AtTU9Wd+CQS8YbI9b4+I7Z8vTE7+6+qqip9DR8AAABAlZEWdTSa+P79n3/+6fPFS5tpv+GC/PyEhB+bo+dGqKx88ndBnZWFZmav9erVu8ETzcxee/vtXr+fTlduXB++0dNrmMoj8/PyFi369G5REdOxPX78uKKiXCS6k5+Xd/lSxoULfPW5ZwVra5uFi4KHDRshm0Rv3br1uPEfOnbtuu7L1SoLIomorOzhwQM/HDzwg6lpm3feeXfA+wNdXNhvvNmFxWIZcL8RAAAAeNm0gBhtbt5+tM+YAQMGdXPqbmJiQkSiO/+kn0qNjz8gu821Cj7/3CSRyLFr1yYfSVVV1ZEjhxuRKZvJ48eP74jqpMz2r7d/7TWWLud26mSr0nL/fnFTDeyPP86vWBZSXv5IlwcPHjxk4aJgleWhrVq1eued9/bFHdob893+H+I0XujKyicXLvAVyyvNzdtv2Ph1I3asU8C+dQAAAKA7o47R1tY28+YHDR/hrXKnPQsLi569XDn9uSuWhZSVPVQ5625R0e3bt5ojRl++nHH82M9N3m2jPXtWrVLYYG1tY2Fpqcu5trZ2Ki1icb2zxUz16+f+0cTJe2O+1/6wzm+8ERwc6t5/QH2V3O3atZs3f8EY3/Hbt20583u6xg1bFEaNHtO7T9/GDxoAAACACeOtjR41asy+H+LH+I6r727Vbm6cT/x5Gg/l5GQ3+XgePvw3LjZGxxnWl1zr1q39PvzI5S12fQ9w6u4cufHr/Qd+4g4YqGU1pIyDQ+f14RsPxCf4+o5XL5iWsbWzG6+0wR8AAABAczPG2ehXXmk1YcIkr6HDtdc3y773NzExUZ+k1D5t2QjV1dXJyUkq2zMb3CuvtFIJjhKJuPTBAwsLiwbPvXu3eUtTOnWynTsvMDTkc+VrYW1t4zNm7PAR3l27dmswPStr1arVG2+8ueKLsIWLgn8/ferY0SMq+5NM+YTXxdGxyUZvfJQ/v6lvhwcAAAD6Z4wxun37171H+ejyyNdft7Dp0EEPxcrZfwlj90Yrtzg6ds3Pz2vu59Wubdu2nR3euH7tqqLl4b8PHz2S6nLuvXt3VVrefLNLUw6OqF8/d1/f8deuX+3T5x03t369XHvb2HRglJ7VsVisUaPHjBo9RnFvy0uXLrZr287La9iLdHMW9XtSFhcXV1dXv0ivEQAAoKUzxhitu2fVz6qfNe8u0UQklUqjv98tvn9f0dKtm9PESVMiwtc291NrZ2ra5s0udbJvefmjGzeu9+zlqv3E8vJHf/55Q6XR1k61Wvq5h2e6dNnKpu1ToZ2Z2TvvvtfoBYVt27ZdszZ8zdrwph1Vk6isfCJRq1P/55+CiopyQ+32DQAAAOpadowuKipUn1Ulom7dnJrqKaqrq5OSjqvcC2ac34QuXYyihKBPn3dUylrST6UNHTbC2tpGy1m3bt3KuHhRpXFB4NxmGSIw9OjRo7y8XJXGvwsKSktLEaMBAACMh/EuMWxQZWVl+qlU9XYzs9easD7h5s3Mb3ftUG5xc+MMGzaiqfp/Tk7du/ft+65yy5UrlxJ++lHLrUnEYvGOb7ZiraTRKhSJCgpUizry8/Py8m4bZDwAAACgUQuejb58OSP1t1/V2znu/ZtqNvrBg5Kd32xX3lPPxMTk40+mWlpa5ecZuDBapn3710eMHJWRIVBu3BvzvZWV1ThNO1f8+2/pf7d8deXypWYaz5XLlwy++/KOnd8/z+7RBnfjxnWNH3LST6X26+duamo6xnfcGN9xyodKS0uDFy9QvzckAAAANJ+WOht9+3bu5q8iNaYNL69h7czMnv8pqqqqDv8Yr5JQx/iO69fP/fk7b0KDPYa4u3OVW54+fbpxQ/jSJYsuX8p4/PgxEVVXVz948CDx+NGZM6b+mpJsoJFCwx4+/PfM76c1HuLzz/39d76exwMAAAD1aZGz0QUF+V+uDVPfzYCIBg8ewh0wsEmeJT09TeUGIm++2WXy5E+a6Tbjjda+/euffb5k2dLFKm/IuXNnzp07Y6hRGZUWNEf+580bKnv5KYjv3z+ReDxowSJsjw0AAGAMWl6Mvnkjc83qLzRmaFs7uznzAlksne6Grd3t27m7dmxXXrpnYmLCmzbjTeNYWaiiWzensNVf1ve2aGFu3n7Vf/5v0AeD69tJLT8vb9GiT43n/ucvtsePH59MStSy63ni8aNeQ4f16tVbn6MCAAAAjVpSUUdVVVXi8aOLPgvUGBbNzdsHBn7WJFXRYrF444b1Ks8yfLi3MW9O3LOX65at37i5cXQ/pVs3p/9u2/HBYA+jfVEvm8zMa2fO/K7lAWVlD/ft3SOV6rQ1OAAAADSrFjMb/e+/pbt2RCUk/KjxqKlpm88XhwwdNuL5E2FVVdWRhB9VFuG9+WaXaQEzmqTkuvnY2zts3rL915Tk3bu+0bgPoIK1tc0n/rzxfh+1a9euacfwzrvv/SG42vDjQI363ebNzF5bHLx0/w+xt2/X7n93+vSp7vv3zZg5B6UdAAAAhtUyYvTt27lfrg3786bqHUNkrK1tlq9Y9f7AD54/Q1dXV59MSlQpiTYxMfns8yVdHLs+Z+d6YGpqOtrHd6T36Kysm7+fTr906WJOdnZl5RMiMjdv79i16zvvvDdw0OAePd5+9dVXDT1YqFVVVRV/cL/K3eZHjPQePmLks+pn679co9y+N+Z7Ozv70T6++BoBAADAgIw9RldXV587+3v4+rUSiep93WT69n136bKVTbXDXUaG4L9bNqkUp04LmNm//4Am6V8/Wrdu3atXb1TQKjR6jly9NLxnL9dNm7dZWFg03eiIiC5fzjgUf0C5xaZDh3HjPjQ1bTNs6Iirly8nJR1XHHr69OmGyPWvvPKK9ygfJGkAAABDMeoY/ezZs8TEoxsi1mlcdGViYvLhhElz5n762mtNc2u327dzN0auV94lmojc3bmTJk/BF+iNpr6lsa2d3ZYt3zh2ZTy7r7dQq2c3b2Sq/+Hxps1weYtNRO3MzD4N+qzobqFyoVFl5ZP169ZUVJRr3B0cAAAA9MB4Y3R1dXXSieP1ZegmLORQuHkjU33x4j///L3os0D1Bz96pGHL6vPnz82fO6PVK68Qkb29w9LQFe3bv95Uw2Pk+LGf1325WrllKm96YNBnBhkMaKFx55nBg4eMGjVG8bdtY2MzY+ac1QUrlb+Tke0Onnvr1qw58155BUkaAABA34w3Rmusr5Bxc+Os+CLM3t5BD8MoLBQVFop0fHBZ2cOsrD9lP7dq1erZs+pmGxe0eNXV1VevXF6z5guV/QTffLPL3PlBKvs29uvnvvr/1q1YFqIyaS2W3EddBwAAgEEYaYwW3fnn600bVBKDzEcTJ8+bv6CpCjng5dSEpSaNU1lZmXj85y1fb5ItAFUwN28fErpCY62/mxvn88UhEeFfKk75YLDH8hX/sbS0Ki0t1cegAQAAQIkxxuiqqqpDhw4qb/KlMH3G7OkzZhvbfQQBmCq+dy8x8ZhKhjYxMflsUXB9m3+3atXKe5TPq6++uiFyfVnZw2HDRy4JWfb66y27LhwAAKDlMsYYnZV1M+nEcfX2UaPG8HjTkaFburtFRZMnjTf0KAys8xtvbNq8NXz9//1+Ol3ROC1gpvbNN1q1ajV02Agbmw6//fbLp4Gf4TsZAAAAAzK6GF1VVZX626/q5Rxvvtll5qw5z3MDlMrKyvRTqft/2CcU/mlq2ub9gYMCAma6vMXWT2lpdXV19l/CmJjvz509U1n5hM1+e8onUz2GeOFTwUvL0tJqzZr1O3ZsPxS/n4imz5g9LWBmg9tutGrV6p1333vn3ff0MkYAAACol9HF6JISyaUMgXp7hw4d8wvyCwsLdenEytrayam7cktFefnGDeGKzXcrK5+cSvst46IgdPkXQ4cOlzWO8R03xnecjuO8cvnS/HkzVRpHjPBevjKsbdu2Ku3V1dUnEo9FhK9VrJgUCv/8z6rlkyZ/Mv/TBeqPNx6OXbv+fPSkoUfxwmpnZvbZomBbW1simjT5E2xdBwAA0IIYXYwuFIk0VkVfunTx0qWLOnaivrnb2bO/K9/AQqas7OEP+2L69nnHpkOHxo1WR4WiO7F7o9V3HfnpcDyXO6A/9/1mfXYwZq1bt57yCc/QowAAAADGjC5G//13gcZN7p5TdvZfGttzcrJFojvNHaOLi4vVd6QmoqdPn167dhUx2mhhMh4AAADqY3Qxurxcw21N4EXShHcxBAAAADCUVww9AFVisbjhBzHH7vG2iYmGzwzOzi4ODp2b4xmVdezYUeNOwCYmJn369G3uZwcAAACAJmd0MbqZDOC+P2rUGJVGc/P2nwZ91twVHURk79DZf2qAqWkblfZpATP7cfo397MDAAAAQJMzuqKOZtLOzGzJ0uVu/TiyDe/Mzdtz3PvzeNNd3mLr4dllN85wcuou2/Du2bOqHj3e/mjixx5DvPS2OcO+2D37Yvc0SVf1bUiiI+PcN7ppR7Xyi9W67/oCAAAALZHRxejAoM9UNtloKqampsNHeA8f4d0kvb3z7nt/CK7q/vhWrVq9xe4RHvFVkzw7AAAAABjWy1LUAQAAAADQhBCjAQAAAAAYM7qiDgBgysLC4vvofYYeBQAAwMulVXV1taHHAAAAAADQwqCoAwAAAACAMcRoAAAAAADGEKMBAAAAABhDjAYAAAAAYAwxGgAAAACAMcRoAAAAAADGEKMBAAAAABhDjAYAAAAAYAwxGgAAAACAMcRoAAAAAADGEKMBAAAAABhDjAYAAAAAYAwxGgAAAACAMcRoAAAAAADGEKMBAAAAABhDjAYAAAAAYAwxGgAAAACAMcRoAAAAAADGEKMBAAAAABhDjAYAAAAAYAwxGgAAAACAMcRoAAAAAADGEKMBAAAAABhDjAYAAAAAYAwxGgAAAACAMcRoAAAAAADGEKMBAAAAABhDjNaq+MhiTt+tV7U9pCz/7OHIYN7EQf05fftz+vbnDJo8bU7YriOZxfoaZPMSH1vUt/+2a7qfkLmtb/9FRySN6Orq5v6coGN13jfxsUU1velwLXR2bSun7+LjYuYnKo2nyZ+06knh1SM7V89R+lvqO2ziZN7S8MNn8sqqGvOUKiTHg/pzNmdS49/M2h6YPEDpT6LR73xj1D7v1c39m+yPBwAAQM7E0ANoyarE57cFLTtiOmFJcMSn6+3N2xARVT0pK8w7n7J5sU/skPDtK7wcdOjo2lbOtP0NPWjAqt82j7HRcODq5v5zYrWfO2X31YV9NR+S3DjyQ2zs8fS8MiJzR68xU3mfjOpj3VqHURslyfGg0WvPajgwde8fC/poPzdzW9/Z++o51sDp4mOLhq4/r+HAhC0Xlgxoo/15iYgqhfuDpu0s95w3d/nXwfbW5vJTKsvEhVeT9uyavHXX1KjdQa5mDfdE5XnHtoXtSrouqTB3HRW0MHiSq7kOZ9UhPrZoaLpXPX9vzeLaVs60/Pr+wuWXtdu3gsWu9Zzf4AO0qSrLP590+PiRjKvC/FIiItOO7N5uA4ePGz/S1cG0xf5bAACA5vYyx+j6w+uAsBNbxls3dH7Zmahl+00XHoqd4KjU2rqN+RvsETN3u1oH+S3f/F7KphEWDY6kz0LB1YUNDTVfaxdagnL9nmTHzJ61h6Zs2H4i3MG0NVUWXTu8NWj88WnfbZnlokti09RnWTnRE3qi26PVU+96n77r5T8OXJG4munTW4/Z/seYuk1lqWFewfR2twbPdV1w9Y8F6s3iY4uGrldvrsPGd8tVX5W2q5s/mCNwtNchQxNJftu+9eqozelhA+q+7abmNo6DeGve69bGI2hP+uTNoxrKtVWiY6sm77fbFJs20JrKsn9aPmtm2XcHZrkgC9ZHcnbrZ8GHyXPe3PCo1V2tZe9/uTj/UtLO9aO/Mp2l66cXAAB4+bS0GF1VlrkvMLAs+PeGZhZ1VO8Urw7yc3+rpPFvOWo+av9WX2va/lc+jWCcbvWk8mrUsm/KZsQdCXCRt5ja9Zny5UFW8OhZ3/T+bQnHtBGdVuVlnycqOptZOt6+4c8PmlJvHeJjjRhDXZL0I7+0845478mxRYOUJ4wH6NrBE3pCLp3aM3zaJ+d/ia/stXhAPX8ezaTszHdf3Zr93YaB1q2JyNxlYvjKK4Oif5sUMYLRjHRZ5QPKl4iJdPqnoTaLf3Y2R/H1yMAVidu7Mnlu/RIdDgk63Cns4Ibx9sqfNMxsHAfxIt4btH/F+MBVTkc2eTf4oRoAAF5CLSlGl2Ud2bYu4lj2E5pq6KEQEZGj01BTuvpXPrlqikqFf12VkFd9IdsYXE+PLRwQNsalbmtrhyFjvNcvT81YyBnAPEdXXjgSXdrV0S51V4xgyCKdg3ixIOarzT9eEEoqyLQje8D4oIUfD7RvkinA4pPrvjrrOP2gh4UN1U4YNzy7r0Scf4lsRjErjKi8FPXVTzRhyzh73R5vPTRo4c/Tls15PG/unBF91Ys6ok71DfrOo8FQ+yTzwpHKIbuV5p7N3QYNDFs1qP8qRUvDs/JUdjsziwrt88qIrcvLrmcWv5aWWmoDyz65/4bDjL11M7SCWdcpAbydc46cK/L2tdP30AAAwPi1kBj9z5HF8yPOF5PLuFEDso9oqkE1APNBgRFTgpZN4xUuCZ7gwVapjf5q133f8O06VHQYirgwn8ipm/o0m7l1B6Lb4lKijgy7LBfsjIx3+/zEmrdOLp63INBib1QAu+EknR3Lm32EvSQ89ku2tSlVSoTJ3yz3C7j6bVyQq+zk82tGc9bIHsvsU0m5MOaL1eedlh+cymZymqyKo/7Cnprx1PdVRmVu/LLFsaZT9y5Uq4o+v3Zo/7VE6kU4puwpO373yEw69nP459uysvPLZM3mjuy33uZ4zD24ZEBX84YLM/Kyz9OAWXWCsrV9N6Ju2/mL3VrLSmga7EQ2f9/GNPXAL/neEzS847HyyWbdap90p3hz6tHgB4D7kjIiRp93yh8WUlcrLa/BvqsbxebfI0KMBgAANS0kRktEf701ac3m2SNcbm/92VhiNLW2GbDo4IlxZ3+Jj122T1ATfcwde/R4a4D35sTxrkxjqF7Z2DsS5d6WUB+VFFEmuU/kYMP0A0C5MGbRguNvh+8d42Deeta3cQ7rgyfz/gn7vwXjXbR2lfnL5uxR278bIw/cptZs39Dg7IFBv2TMdpUVXsjiWvGRxT5rGIynTLBz/oKYyknfxkxyfJ7KYElhPpGjvVJc1hofJWc2f/5FbNGA8L2f9lH/CKGtiKh1G/u+4+f1HT+v8WN98rBIY/vtQonOH4qKjqz76uKE8BMjMmfP3nJkwCb1mVqe5pV8xYL932z/4dR1SQWZO3qNmTl7+lC2DtG/lpY3p8EPAIWFF4n6PJQSmddd86C9dsesvT3llWh5cwrzMojj0Un7wAEA4CXVQmJ036AThqsw3j+nr/z/ypq2azB3HDghdOCE5+g/c5v77H0NL8nTuZZXV709ePZzYo9njQ/oodRalffLDydNJ+52Y1LRUZYdvy5oc+GoTQcXDJTv8vGG94oD/TJiVn8eJFz53+UD9FlbWlWWnbT5y6+OFA1YfnDVJEdZcUjxkcU+a5Q/gOn6flp7bxZ46/LAsvyzP21avvNCpevM3QdncVrkbif/nFwfHFE2fe/CATam7ttXLPVbvL795hVemmselBUdWTw5ggL3xq5gW5tSZZEgOmza7Kubvg0dyHibkMbI++v8EyLBpT/LfO1qF+xmbus7O1freS7jAgZs/+q7I8M3aKrrqBIdjomtHBD2PqaiAQBAkxYSow2qUZtgMOC64IL20lKGtby6Mu0bGPHp1VnzeI83hM9wk+3UIdi/Pji6clbUpwzWF1YWpW6LSGWvPRHhXncqsbWN28ztJ2Y2cLrriMUus5f/p/u3IWMURR2bDjvO+tatDVEZs5dULspMjd+1LTbjCdt3ycGoUUqzoR3HbxaMr/mlad/PsuykvT8cjv/lRpmpy/gVcYt9XXSOjjpsVqiu/j/INu0bHfjknz2SbAIPRk3sakpErR18NyS0Xx80edq1iI2BA+y0bDlSlh61JmPU9t8m1nylYMeZt2F1/vDwn8afkC9gVarMafIPhJSVuj/Le8KH1w9nXFvpNZDJB0Ab37W7C+cvmDzt+sIFvCGudXbq2LMr6hTN2r6jKQtXAADgRYIYzVi9OxNrM3BF4nbf5qzxqJ0y10jztsdtXAJiTww4uee7oNELZPtGcwaM2XRkCrOZVFM7rxXRXjo8UNOucETkwov9kb3/m/W8rdflSwxHzDkY4+3YiI1CJIIf9t12WbB3DdOtr29s/2DGd5V1mmpjn9yAsBNbBmk62dya8v6yHL9iN8+3L8NdX/ou/kOwmNkp2nR1GUA7c28r77AhKbytS4lOZX7SD/H3R0b9NqWX0meA1g4eqw7GHo9YF5XmuMa7/jnp2/kCcltQtw7ewt6eRMI8MbnYECkqYbR9gGlsbfST88e+FU/ctnBS378+PJg8fSCzf2jmnHmbl2X7rDm8S3Ss+Fp28RMiIouuLhbi7PwnU3YHuellOh0AAFoixGjGGtqj7bkVH1nss8ZRbcaxTnmusueLYuYu3gs3eGvdtVp39d6FpJbGQN+RM2V17BTGm0SreWN8xKHxDT+M+iwU1L2jXa+g3wVBOpyo+fZ71qM2HRzF/EmbXhtX9/GmX1/PXsCp2ayjLOPMWSJaPDC+5jGaw6ip06Q1cZM09uk4Juzbmj/4ev74uzlyKPpPYeUYpZng0sJCcmB31fFzhcrW6Q2t8lRSeePbrT/1W5LIMe3Y45Phm7fuF4zUfYsYJQMW7q7zL65RXxQAAMBLBTG6JSi+nU/0XOvk9KSe+WY5Xe5jUn+HdaoyGqJWCa1Oty3DxccWDV3v1PAdEElWiUuKR17byplGtZ+FGrgvoC5fcegyYPNBs5Yc9/vP1+yoz+W3X1mX2nXK7oML+7YhHRbqydXc1e/6n3ny2Vkyd+zBcfMdP8FroKOGiW1zj8Awt8nL/9P925Xj2OatZbXRqy+NWb/SRf3BTar82s7/+85+xQnfjkRk7jFr8Q8Tw3d6yF8vAABAs3rZY3T93yPXsx2BEl2iT9PUVbdub6gj1SEAACAASURBVG7BcXwJtgsoyz/7y88n0q8I/8rKqymLNnfs4eD49njfSaMGOOr8/XoDmVvn2uhKYfZ5onaFZdTHnKihzwmN19BXHDoPuLWD79qDtC2M5xkkqWhj3ddz3o5vpzDKlOXCmEXTostHLVyyaa6Lg7msVrjqSVmh8NTPUbOHb9J8i3u78Zt/dNj/zfrJWxU7dexNGKrTttONV3YtJnjO4TfCDo6pGY/jpDWrzkz+LNjx4Hbs9AwAAM3tZY7RDd6CWxf1p22mG7RpYe21JkWX4mOD06Gow6m+A08yd00L3G86YUnwioBuNubmpjWz75WlovwLJ7fOGbR10KaoVV76XO9VmHTwMBHVu4OyzqpE+Vcow0mk430Bn4tZV9/QWN/Qxp38JOObaTufBh7cy6vz7UfrNuZv9PFdsNvtjfpvcd9UlTm6K72dR1Oj1tbZZMN+zKaowuDj10Uj7dSyPgAAQJN6mWP0S0xycrH38pq428bapavmBXn2kyLCNS6q00rzcsYGh5S253uh75YL6rcsMbVwcBkxa3t3U97HK34cf2FeLx1606Woo6E+yi5tXrz+4oAVuz3OLFi/NNx+hw7b9u2b1l/ptthTan6ozEg6XEGVh5POz+wzQNPdGXUq6mjoyZtCWeGdJ/ROn/oqiOwHeA2gNcZyi/s3xq/Zrd7axnXudu3fIwEAADSJFyFGV97YzpsR77j2SMSI5p/qa1r1L2M6X//OG/JCkefZK03nvZDrW1TXIjS+oqaqLPvn1YGRgvdCD/7fuK6mww9WruUt/jhv3tr1Ae5a/8am1q2Nlim/tnNTvFvobo/zC7Z+P8ptgYbbshCRLnVEzc/cvnMbOnMx+9M+LpqSdOH51PPtxvvW+5UCU9q/vlDbLEWmCe6eqOF5Nf6Lq7MBTlPftREAAFq6FyFGt2DPs8lGE++VZmjWntNnsgOXzzZdEjxhkKaijk3bK8ds+kiXqejnUFkm+is9fs+u+AyLUUvikuQ7QJt1nfBlUu+kzV8uHfpDb94C//HvKzYYblDx2a2Lg88P2v3tOI659+78gDmzqjZ9rbhJjdFp4/bp7oCrc2ZNE9XZR7mmNnrb4YdTwld7NFnJc3PVmhvr8wIAwAulxcVoDQXNpr2CDuq0W1lziJ3N0TYl/Dz1tC1V3cIGNfVtod3Gde7BEyMEp345uP4zDUsMp+w+w2CJIRE1uJe2+uxv0ZFl06LKBowb8+WJzSo7QLc2dxkTFjtqcf75I3viFu8y5X2r8b53KkUdZdd2LtstnXQwdkxXUyIy67Mw5uCxLWFh8Q6bp3RVm5Nu4G9JT9PVZn3m7f1t5Pmkwz8t/3ytyk4dvG+PatypowGuC67+0dTDNObnBQCAl0Sr6upqQ48BAAAAAKCFecXQAwAAAAAAaHkQowEAAAAAGEOMBgAAAABgDDEaAAAAAIAxxGgAAAAAAMYQowEAAAAAGEOMBgAAAABgDDEaAAAAAIAxxGgAAAAAAMYQowEAAAAAGEOMBgAAAABgDDEaAAAAAIAxxGgAAAAAAMYQowEAAAAAGDMx9AD0rarqadXT/z17VmXogQAAAABAE3vlldatTV5t3VofEbdVdXW1Hp7GSFRVPf1f5WNDjwIAAAAAmtGrpm31kKRfrqKOqqf/M/QQAAAAAKB56SfyvVwxGrUcAAAAAC88/US+lytGAwAAAAA0CcRoAAAAAADGEKMBAAAAABhDjAYAAAAAYAwxGgAAAACAMcRoAAAAAADGEKMBAAAAABhDjAYAAAAAYAwxGgAAAACAMcRoAAAAAADGEKMBAAAAABhDjAYAAAAAYAwxGgAAAACAMcRoAAAAAADGEKMBAAAAABhDjAYAAAAAYAwxGgAAAACAMcRoAAAAAADGEKMBAAAAABhDjAYAAAAAYAwxGgAAAACAMcRoAAAAAADGEKMBAAAAABhDjAYAAAAAYAwxGgAAAACAMcRoAAAAAADGEKMBAAAAABhDjAYAAAAAYAwxGgAAAACAMcRoAAAAAADGEKMBAAAAABhDjAYAAAAAYAwxGgAAAACAMcRoAAAAAADGEKMBAAAAABhDjAYAAAAAYAwxGgAAAACAMcRoAAAAAADGEKMBAAAAABhDjAYAAAAAYAwxGgAAAACAMcRoAAAAAADGEKMBAAAAABhDjDZ2yzd8r6VF/SgAAAAA6AFiNAAAAAAAY4jRenSX//UufjERUXbchu/jrtc9ev3k8g3fL5c/AAAAAACMmomhB/AyKS4tJgsioruS+8Tq21FxIDtuw5mbjm8Pf70wRdN52us6AAAAAED/EKP1y9K6o2qT5NSuMzRyZnhvyaldf2o8KXzpTOVfl2/4XtGCPA0AAABgEIjRenH95PLkQiIiKly+4YysLSX2+5TX3/58LnfI3Jn1nwkAAAAAxggxWi96e4f3ppuHvo+jQeETXYp/i/86983P53LVZqYBAAAAoGVAjNarjlbWTE8JXzpTpXJDpcYDAAAAAPQPMVpvJMUPiKyIiO6XSDUVSdcLuRkAAADA2CBG64Hk1K6fU/4lIqLLPy+/LGs8s3zDmZ4jZ/r3NuDAAAAAAKCREKP1wHrI3JlDKDtuwxUH3qQhtpJTu36+6jTu86G6Fngob80BAAAAAMYAt1/Rl7uS+/KfJKJ/qUNHxkXSGiFeAwAAABgEZqP1qX1HWw2txb/Ff31ZWvPbn19v+JOIUO8BAAAAYMxaVVdXG3oM+vO4Qtrwg4ySltusYEIaAAAAQEXbdqzmfgrEaAAAAAB40eghRqM2GgAAAACAMcRoAAAAAADGEKMBAAAAABhDjAYAAAAAYAwxGgAAAACAMcRoAAAAAADGEKMBAAAAABhDjAYAAAAAYAw3AzdeJq+aajn69H+VehsJAAAAAKjAbDQAAAAAAGOI0QAAAAAAjCFGAwAAAAAwhhgNAAAAAMAYlhi+0ARxsR5p5OfvE+dpVfdITvgM/lrZj07snJUcB7WziIiIFbPBb6KNXsYKAAAA0JJgNvpFlZViNiM21Z7tp+FYTvgM/k1/n/JoXnm0TwwJndcJRDXHBHGxHgXsnGheeTQvx58CliYcEutx2AAAAAAtA2L0C0ks8N9I6dG85b01HBTE8dc6sSPl89NWE+ey/XKFsVlERJSV4pHGipkrn5x28PSIcZIGJOfoa9wAAAAALQVitP6UJIV4DB4o/29pYkkzPpUNJy56OKeeYeQXkB+3u6KKQ3T9TgLR2ks5RCQqkpJT5/cVVRziW8dyidLyBM04VgAAAICWCDFaX65HbaBl6afPpp8+m35658QLEX47bxhkIJLcXOppJy+VFsTFOhe6pnsSFTwQEYkKpdTFUp6ws1LMlpYuDLElkuajrgMAAACgDiwx1JfegRG1FRa9Bn9Mh27nl1AvKy2nEJX8uuxo8gXV1j7bp/N6NnYc4gc3iXoSEZUcWpd4jOtT7mkliOPLni6/gKgLEZEoLcGZ3zknmuOQldLYZwIAAAB4gSFG643kxNKxG5UjsXvD51gNi5g+rGmHYWPZk0i2ypBCeHE9atq7WDqQlWMXItkqQ+KWr3SuOcZyxGYdAAAAAHUgRuuHLEN/HHU6UDaNfHPnwMDbhhmKtZMTBWzMjNnAq9nJrnYS2sGeRXH8rf4+5TUb5ImKpEQsw4wUAAAAwHghRutHUcEF6h86mWkpRjMUdcinnFXXEa7ycyYiBzsWEfn2VpSalJzjS8nTtZ7VigAAAAAvLcRo/bDr4k6H/i4isibZVPQBQxV1EHFGsv2WCkPTusd5WhGVHNolTHBiR8qqO3q4xTglBuwSvL+S40AkSksPyGXFzHVuoEcAAACAl06r6upqQ49Bfx5XSA323PcTl02I+EP288c7E97c65c+OGGDj5Ylhiavmmrp7+n/KrUcLTm0LjEgV6XRNl2xC55Y4L9UmCD72ZNb7u9cz7lKpwAAAAC0GG3bNXtRKmK08XqeGA0AAADwMtNDjMa+0QAAAAAAjCFGAwAAAAAwhhgNAAAAAMAYduowXqh+BgAAADBamI0GAAAAAGAMMRoAAAAAgDHEaAAAAAAAxhCjAQAAAAAYwxLDlkrLzVmwNlGfcCEAAABeTpiNBgAAAABgDDEaAAAAAIAxxGgAAAAAAMYQow3hVmrsvtQcQ4+iiUkyEgz3oi78eLJd1LV7DM/KSd0fm5rbLAMyIINeCAAAgJcHlhjqnSQjgX/PljvF2cDjEAv8lwoTyDY9ejin7hFBXKxHmuxHVswGv4k2tYdEaQnOcVLZz6tCeMt71B6ydnO138/fl0pTvQz90nRScvEov7ATd6qTIQeh9FaTn79PnKdVPUdf4AsBAADQQmE2Ws9yU5KyiT1yeHdDDqLk0LpYs13k66nhmCAu1qOAnRPNK4/m5fhTwNKEQ2L5IVFagnMcKz2aVx7NKw+xXbsxNjxL+VRnr5Fs1j1+i5jfvZWaKCT2KIMGTVFaguKtLg+xTYhLVH4/X5ILAQAA0GIhRutVTuqFuywXj35WDT9UF5k79gQv4xczPEsQl3iM61O+kuOofiwrxSONFTOX40BERA6eHjFO0oDkHCIisSA0TroqpGbqusfwdE9amyAQKZ9uxfnAhVV4IeUW89eiV7kp/Hss9iCOdXN0fjM5eEhypg4PdPD0K18pf6uph1uME629VFOM8ZJcCAAAgBYMRR36lJtXSLZcNw0h+nqUx4IDNb98HHU6sKcu/bnOH9hnyNnIIf8GnBrpqvMoOP68uHoOiYqk5NT5fUXxgPjWsVyi3DyBvzPnfmkC2S6sLR7ISU0jojvnxBzlYgNrN1f7bH5mRkl3TS9Ts9zINdmra35ZPck7lC178muToyTjA/tQvCBANg/7tkvFR0o1GEJ+u/jS2l+VRtGAW/l3qRNX44eZxl0Ihcwde2IOUZ/t03W/HHUUPBARORjqQgAAAAADmI3Wo1v5d+k1C0u19vuJy84PTj99Nv302fTTR0PcDwQuTSzRrUtn3qmxI92LYobsib3ZBCMUFUqpi6V8fjQrxWxp6cIQWyJpvlgW7Czkh8QC/xmZTiFsP5Lm3lcdUpdOJP1XoutTSuKjij3CvCvCvCvCvPM92qyOT4sXK44+CYgS5Ht5V4R5V0yyoD+zI4XyA/dOp7WLr4gJlJ+Y/jaDV5lTcI9Yr2uYiX6OC0FEJb8u2xNziDXyp+k8ZtlbRpKbS4o33wAXAgAAAJhBjNafkgdSYjl0V49vHXwi5vWq+cWa68GlCwVFOndrNSxieugS1rWgPZEndM98mkeYXyD/SZSWYJZgkaO0+lBUKF/QJk910X4TO2juxfJ1Ft3L07WcwHpSINe95pdOPa3H0pP82hitNDnN7ria6Mo9WSzMjUl/MtajzyTdZ6BrlTx4SKzO3TTM0Tb+QpTwI4ccTSZ26KmPhjVq8lcQx19LrJiRslptQ1wIAAAAYAZFHfojefiovkM3dw4MPKDcoKFsWZuOoz/a5JgcHHQ0+Aw7NKKf+oS3bqwcuxDJFrcRt3ylYvkdy9GGHOxZVECitARnfuec6JqKXmI51ZPhdKdSm0H0ToOniKVXqM34no0rbX5QKq33WKMuxM3k4KAimjhw0/xGLlgUpSV4pJGfv0dNVYZhLgQAAAAwgdlo/bFu/5rG9ps7BwYe4IYcltUSnE0I5TLuuvjEj8FBRR2XjN0Uwe34HEN0sGdRGn+rvU+5vzy6iYrkmdPBjkW5Qo9C19pVcfdLE+rrSFPtikZCfrv40rEeHFltRkWg/djnGL5uLC1Ymg809kL0HLnpJ3bHQ2cbsdyTFFvXeXKVd7vT/4UAAAAAhhCj9cfKkkVS0S3VYlVJ/m2ij6eNbvRkYuaOPZFfSftsnx46+nkXkznYsYhYvr0V/ZSc40vJsyuHiDpY+BGteq92wlVw6W6dZXA1HvwrJZalbjPF9+5VEFl8PrgR88rKtR+SfAb51cqyPUnv3FYrgHmeC2HFDT01diQJI4f8+CujypqsFFmGVsRlGb1fCAAAAGAKMVqPujva0iO1/Gbt2I3odr6stSQpxC+Sr3uXObFD9sQcsgs41bhlbWp6uMU4SQN2yXdPE6WlB+TWFOzacBZ60tqNKQLZI7NSPNJolZ+iqKB2SPUt4NOkU6d2RBXyQCy+Njmq8Kgup9l0Hm9Dq1Nlty2UxEfVbOWhG+cunTR9nnmuC0GyIvWAidLkD3Ve7ikW+G+8q56hifR/IQAAAIAp1Ebrk1NX+wt84ZWcfnXu+tFz3s6Jg+f5DY4gInJflrDN0W+Bbv1l7jh7zZ0dyrSQIyvFbOPdml/uesyIpdpb6FlNXOlD6xKdZ8i2xKhzj0OOPy+dYmWPJ2LFbOBNVJsBlWRk1repn0ZsbvrbJz2iTgYQEbWJCXR5Jypbh9OsJwW65K/JdlxTSESrJ3nn30tzvKHjUxJ1d7TlXxBezeV41bmFYeMvhILr/OmbPkgODkrObHgLwpJDu4QJRJTGN0urDew1tyTU94UAAAAAhlpVV1cbegz687ii/sVlepKbsu+ClD3S77nvwGLyqml9h57+r/I5O2+sEsGRZGF7d56XQe+wrYtbqbF8KXvU2Oe/AwsuBAAAgBFq266etVBNB0UdeuY0nNtJKkxOuPice9MZo5zUZKG0E7dFRLfuXlz7R8Kko4IXcV/llnQhAAAAWizEaL3r7sXjdpIKr+Q0/NAWRZKRWdiJO9WrkZu+6Z2z1xSu/SPh1VxDD6SptbQLAQAA0EKhqKOlMspagpcRLgQAAIAR0kNRB5YYtlSIaEYCFwIAAODlhKIOAAAAAADGEKMBAAAAABhDjAYAAAAAYAwxGgAAAACAMcRoAAAAAADGsFNHS4V91vRGy1tNeLcBAABeVpiNBgAAAABgDDEaAAAAAIAxxGgAAAAAAMYQow3hVmrsvtQcQ4+iiUkyEozxRZUIjuxPuFhi6GE0sZzUF/BFAQAAtCxYYqh3kowE/j1b7hRnA49DLPBfKkwg2/To4Zy6RwRxsR5psh9ZMRv8JtrUHhKlJTjHSWU/rwrhLe9Re8jazdV+P39fKk31MvRLq5WTmiwkF59+VoYcQ/gM/lr5z6rvZ81VICIiT265f523rv4L4dzXJTMpOYFG+hn0pQEAALzMMButZ7kpSdnEHjm8uyEHUXJoXazZLvL11HBMEBfrUcDOieaVR/Ny/ClgacIhsfyQKC3BOY6VHs0rj+aVh9iu3RgbnqV8qrPXSDbrHj81t/lfgU5KLh7lF3bijnczYNIsObSOf9PfpzyaVx7NS/eUBixNESgOigX+S4U9Q3jl0bzyaO6qNL5ZXO10vpYLQUTWbn7cTlLhGYFEn68GAAAAaiFG61VO6oW7LBePpppBzNyxJ3gZv5jhWYK4xGNcn/KVHEf1Y1kpHmmsmLkcByIicvD0iHGSBiTnEBGJBaFx0lUhNVPXPYane9LaBIFI+XQrzgcurMILKbeYv5YmJ8lIFz6y5TbL1HjJr8v2RJ7QpajCauJKXpyn/HpzRrL96G6q/LNHyaFdwgRPbs2MvvPyEFtKy5RnZS0XokZ3L679I+HvGajtAAAAMAjEaH3KzSskW1dNk6PXozwGD6z5L+qmjv25zh/Y54IwckhyJpNRcPxrg50KUZGUnDq/rygeEN86lkuUlicgovulCWTrVVvFkZOaRpR755y4Tg/Wbq72dDeTUbbLjVxzsp38v7T42v4k8VEnJ5+WkJCv6WgDSm6LpCwXNw2z/pITSxVv9cBlSUync0v4kUOOJhN7+uhGfhi6WSR7cyS5ubTqvdqUL7h0l0h67HoJab8QtZz7urCk2RnG8KEFAADg5YMYrUe38u/SaxaWau33E5edH5x++mz66bPpp4+GuB8IXJqoYwx15p0aO9K9KGbInlhds7c2okIpdbGUzYBSVorZ0tKFIbZE0nyxLNhZyA+JBf4zMp1C2H4kzb2vOqQunUj6r67hVHxt8prsKx6cijDvijDvfA8KiDoZKaw9fjRd0C6e0sO8K8K8099+EhB/7Z5O/ZbcuvOI2luqJ92bOyMo5Kz83d728R+RY7+5ruNYiehmcvCHwuKJAzdFcDvqfpbC/dIEop52VkRE4gc3ieXUQT7cQ+tit9pzY5wooVBCWi+EMutunVkkfYD5aAAAAANAjNafkgdSYjl0t1Y70MEnYl6vml+suR5culBQpHO3VsMipocuYV0L0rHMQNsI8wvkP4nSEswSLHKUVh+KCuUrC+WpLtpvYgfNvVi+zqJ7ebpNkV44VXjUxv6/g+VvSqfBfWJsaHWmUnW1jX1+GNediIgcO7YhcXm+Th0/KJWSbRcn9QM9520crRh478ETif6+o1vmz9yxJzioqM/26ZvmN65QJCd8411yYvNkM/r3SxMU7TMSc/14cZ6KPw1tF6IOK8v2JL1zGzkaAABA/7BTh/5IHj6q79DNnQMDDyg3aChb1qbj6I82OSYHBx0NPsMOjeinPuGtGyvHLkSyxW3ELV+pCIssRxtysGdRAYnSEpz5nXOi5TW7VDuf2iiS/GIa26tzp9oWa49ebeiG9B6RvLEjS3G002DPisE6dvxASsTSeOh+4rIJEX8oNfTXob+SX5cdTb7AGvnTR8MaWcpRcmgdfy3VljtTBws/ktJ9gf/SO74beIpdOPzsrbVfCAAAADAOmI3WH+v2r2lsv7lzYOABbshheaVBQiiXcdfFJ34MDirquGRsI4sNajjYsyiNv9XeR7HzmqhIPgntYMeiXKFHoWv5ypogWDufqkZT7Yo+WVtqy9Af76wpodk5Ubf+rIZFTA+YKE3+sHHFMyWH1iUG5NKqEKVN62wse5I0YGPpwmhFoyS3Zhpey4VQp6l2BQAAAJobYrT+WFmySCq6pVpBIMm/TfTxtNGNntXN3LEn8itpn+3TQxu76E3BwY5FxPLtrein5BxfSp5dOSSbPVVbEqe8DK7Gg3+lxLJUr13RwNqxIx29cUep3FmSfuOJ8gx0Y1lasOhugdrWe0UFfxA35MNemk5piOv86Zu2210L2hO8g9ldZgRxsgxdZ5ttImsnJ5K/tzJZeWtr3nxtF0JZyYOHxGpv2I8sAAAALynEaD3q7mhLj9QKWa0duxHdzpe1liSF+EXyde8yJ3bInphDdgGnpvN6NsUQe7jFOEkDdsm3sROlpQfksmJGOhMR2XAWetLajTXbHmeleKTRKj9FdUftkAruEet1nVI0kburBYkLPzst/2xx7/S1AHGbmCEaapoZsure+TUqzFfNu3Zd+hO/pvD8xjeD5x1i1m3PkZt+Ync8dFb3fQZFaQkeaeoZmoisJvrZUhq/Zu/tnPCNd8nTVT4zreVCKJHcviMlFiajAQAADKFVdXW1ocegP48r6v1iXD9yUvfzCztxVe/zp5Tn3Jcl+Bf4LaCo04Hac7HJq6aUuWNPTAE7VLWQ4+n/KrWempVitvGuSpufv0/NLnjyCgQiIrV7HGq5waGMJCMhKZvFncLg/jLia5OjCo/Kf7FIr1lQSCSJjxIEdHSp+KhRqVqSkZCUTWzV+/wpf1CZuO1ol7ixZzyORozSFvtNXjVVaSn5ddnRy4PGho62auDdVr5JYS2ld1XpWihdAvmzaLkQRCT7c3ro4mPQ+8sAAAAYp7btNBd4NiHEaD3LTdl3QaqW7RpBPdspNBSjm0+J4EiysL07z+v5p5ObQMnFo4lCltqHFsa0vNVkwHf7VmosX8oeNZaj48w/AADAy0QPMRpFHXrmNJzbSSpMTrj4Au5RlpOaLJR24hpHhiYiq36D2Kx7/H2pzEqZWwRJRgL/Hos9CBkaAADAUBCj9a67F4/bSSq88qJlO0lGpoZ6FcOy4owfyWbdy3zhPrTkXNVQrwIAAAD6hKKOlsooizpeTEZa1AEAAAD100NRB26/0lIhvekN3moAAABQh6IOAAAAAADGEKMBAAAAABhDjAYAAAAAYAwxGgAAAACAMSwxbKm0bx9RH6yW06fGXSPCZQIAAGgJMBsNAAAAAMAYYjQAAAAAAGOI0QAAAAAAjCFGG8Kt1Nh9qS/azcC1KREc2Z9yy0BPLr42ec3JSCHDsyQZCfuOCiTNMiLjlJO6P+GFu2s6AABA88ESQ72TZCTw79lypzgbeiBalBxalxiQS6tCeMt71DkgSktwjpPfUV3taE74DP5a2Y9O7JyVHAfFESuOa6dY/v4UmjK8e/OOvInkpiRlE3skx9rQA6mH0ltNrJgNfhNt6jmqciGIBHGxHmkaT3Tu65KZlJxAI/36WTXj0AEAAF4UmI3WM3k+M940KUpLMJuRTlxbjYec41jp0bzyaF55iO3ajbHhWYqDOeEz+Df9fcqjeeXRPjEkdF4nECmd293Lh/3aXX6LmIMvERy5cNfe3WjTZMmhdYq3mpfuKQ1YmiKoPartQgjiYj0K2DnRvPJoXo4/BSxNOCSuPdPazY/bSSo881LNwQMAADQaYrRe5aReuMty8WiqfJa5Y0/wMn5x03RGRERZKc78zjnRfhPt1A6JBaFx0lUhwzmyX3sMT/ektQnyiCaI4691Ykd6yl6Y1cS5bL9cYWyW8vlW/QaxWff4qblNONzmUHLxjFDaievl1Bx98yOH/Pjr8xZOWE1cyYuTv9XEGcn2o7upNW+1tguRleKRxoqZK5+cdvD0iHGSBiTX+WDT3Ytr/0j4ewZqOwAAABqEog59ys0rJFuum4YQfT3KY8GBml8+jjod2FOX/lznD+wz5GzkkH8DTo10bZIR9hhevrKeQ/dLE8h2YW0VR05qGhHdOSfmTLQpyS8gP253RfGA6PqdBKKESznLeyjVrlhxXDsJ+TcEEiediyUk8VGCgJoJ07EenIODrRXtR3px/kvXHNOfEBGRRXoY172eE4noHR2fkEpu3XnEYg/SVHJz45vB8w7V/DJx29lPe+vaKRFR8YkfI7+SdlwydlgzTHLfLCqhHlZE2i6EqEhKA+advwAAIABJREFUTp3fV1RxiG8dyyXKzRP4O3Nqe3Lu65KZlJ1xy814vzABAAAwDpiN1qNb+XfpNQtLtfb7icvOD04/fTb99Nn000dD3A8ELk3UcTrQmXdq7Ej3opghe2JvNvFoVYiKpORkIc9nYoH/jEynELYfSXPvE5EkN5d62snjoSAu1rnQNd2TqOCBqG4n3R1t6VHpA12f88KP12iSd0WYd0WYd8Uki6PpAuWVgkfTBY7FXSrCvCvCXFZTqcePinnu3Mg1goCOLvITA+3H6v4yJbfvSIllqZ50JSeWnh4sv0ZnE0K5hxaEnLivc7eZO/ZEfiXts3166OimDtH3SxNI8eZruxCiQil1sZRfwawUs6WlC0NsiaT54jr9WXfrzCLpA8xHAwAANACz0fpT8kBKLIfu6hOxHXwi5il+seZ6cCmyoIhIx7xlNSxiep8TP0YG7YlcMlae0kr4kR8K1Yo97AJODWU3dvSiQvnKQspKMdtI6dF+HLHgmKxF/OAmUU8i2drEY1yfck8rQRxfQy+WFiwSFuRSd51KJtw/8qydYGZ3XE2lV+5JiF3zDr7tUvGRrB8nj7ezqVh6j6gT0b3TBavJIv2jRlVlPPhXSp1cNUzEWo/eEKj4xarf4P4UUVBE1KHhLnNih5y9RnZq3xiU/LrsaPIF1Uf32T6dp9NXEfLOwzfeJSc2T/YtgbYLUZJfQNSFSFbjzu+cE81xyErR0KWVZXsS3rld0s/KSGvDAQAAjANitP5IHj6q79DNnQMDDyg3ODLruuPojzY5JgcHHQ0+ww6N4Ha04oae4mp64NP/Meu4loM9iwqUEpi8meXUgcjGsieRbHEbhfDiFIUfirnPxhJfmxxVeFSpQZd55fziJ/R2F/eGH6hByQMpEUvzsTqFN0REb+rQHz/yQ2GxOzs0gttR9ZjVsIjpwxo1SkXvh9bx11JtubPWC2Hl2IVItsqQuOUrFVUrLEcbAgAAAOYQo/XHuv1r9FBD+82dAwMPcEMObxzdgYioJCnEL5Jh14q626avGajhYMeiXKFHF6UEdr80gciXiMjayYkCNmbGbODVbKBWO/ephtVeva5FE1mGrp1yzo1ck33l+V5Eg6wstWXo/qFHI0ZZExHdT1w2IUKX/rihp2xim7Z+XU6xKaHypnXaLoSDPYvi+Fv9fcprlieKiur90NBeQ10LAAAAKEOM1h8rSxYJRbckbnUX2EnybxN9PG20DuUBmmXu2BNzqG4xQDMUdVAHCz+62/O92rV3gkt3yYn9vg2RfKZTdfnaKj+1hXoPSjVXHmsiLj9KbWKGNKo2o6bAo6YfnZcYWr7Oouy8W+Rct66j5E4+0cdTRzVmH2ln3innzB17YobsqVuw8VxFHYI4jRt7a7sQDnYsIvLtrXj3S87xpeTpyqG6Sh48JFZn3T7qAAAAvMQQo/Wou6Mt/8Kd2yUca+Ucae3Yjeh2fgn1spJPRfN1L+qop+62GYo6yIaz0FPosTHFK3o4h2S7p9GqEHk5AWck22+pMDSte5ynFVHJoV3CBCd2ZA/VPm7l36XX2DomNBuzsVSaLyayIdlU9GrdijrcXS0ovjBG2CeUTSTkt4sv1f1FknW3zqxs9eptq86ORPn596lnB/lU9B86FXXUcJ0/PfTNuvXrz1HUIUpL8EjTcHMc0n4herjFOCUG7BK8v5LjQCRKSw/IZcXMVf2oU+8iSwAAAKijVXV1taHHoD+PK6QNP6g55aTu5xd24k71qptdlHZSc1+W4F/gt4Aa3PPO5FVTytyxJ6ZAY91tfZ7+r7KBESrdHq+G0p3w6r8HHpFY4L9UmCD72ZNb7q82FV0iOJIsbO/O03lL5nun02r2s6PVkziOqYIjvWR73kniowQBHRX1HnThx5Mexfb5gX06qZxoY58fyIpZk02TvEN1m4kvuXg0UUjsUWNVduVTql/nhhyeVjBhHjW0553Jq6YqffMjP7zz7k8fNbTnndbLpPw+17JNj67Z0lvbhZCXgqieUisndT//oYvPeE3bMgIAALQcbdvVU6jZdBCj9Sw3Zd8FKbsJ7resFtF00mCMbj4lF48mCllqHyGMEOO4X5/GXSMy4GW6lRrLl6p/hAAAAGhx9BCjsW+0njkN53aSCpMTLr5k+/LeSk0UPrLlGn+GJiIrzgcurMILsUZ/w8UmJslI4N9jsQchQwMAAOgCMVrvunvxuJ2kwis5DT/0hVEiyLxny53SYm6MZ+3mN8qFVXhDIDH0SPQo52o2NcX3JAAAAC8JFHW0VC2uqOMl1PKKOgAAAF4UeijqwE4dLRWSlvHDNQIAAHiBoagDAAAAAIAxxGgAAAAAAMYQowEAAAAAGEOMBgAAAABgDDEaAAAAAIAx7NTRUmHDOyOBCwEAAPBywmw0AAAAAABjiNEAAAAAAIwhRgMAAAAAMIYYbQi3UmP3peYYehR6VCI4sj/llqFHoSYndX9saq6hR6FPRnohAAAAWiIsMdQ7SUYC/54td4qzoQeiRcmhdYkBubQqhLe8R50DorQE5zip7Ge1oznhM/hrZT86sXNWchwUR6w4rp1i+ftTaMrw7s07ct2VXDzKL+zEnepk6IHURyzwXypMkP9imx49nKN08AW6EAAAAC0UZqP1LDclKZvYI403xIjSEsxmpBPXVuMh5zhWejSvPJpXHmK7dmNseJbiYE74DP5Nf5/yaF55tE8MCZ3XCURK53b38mG/dpdvNHPwt1IThcQe5WW0H2ZywpcKe4bw5O+n010PpffzRboQAAAALRZitF7lpF64y3Lx6GfVNN1l7tgTvIxf3DSdERFRVoozv3NOtN9EO7VDYkFonHRVSM2caI/h6Z60NkEe0QRx/LVO7EhP2QuzmjiX7ZcrjM1SPt+q3yA26x7fKIooclP491jsQRzr5uj8ZnLwkOTM5+3FeXm0Yo7ZaqKfLeXeOScmohfrQgAAALRgiNH6lJtXSLaubhpC9PUoj8EDa/6Luqljf67zB/a5IIxsgtBWo8fwcuUaAGX3SxPI1qu2eCAnNY1qsl1JfgH5cbsrThRdv5NAtPZS3SlPK45rJyq8IZDoPh5JfNTJdmvk/0UKaw/cO53WLuraPcqNrDk6+bTO/d7Kv0udXDV+mGnchVDI3LEnOKioz/aRrkzPbJg09z4RGehCAAAAgCrEaD26lX+XXrOwVGu/n7js/OD002fTT59NP300xP1A4NLEEt26dOadGjvSvShmyJ5YxpGPGVGRlJws5PlMLPCfkekUwvaTZztJbi71tJPHUkFcrHOha7onUcEDUd1Oujva0qPSBzo+ZW7kGkFAR5eKMO+KMO+KSRar4+tmZXGh45psmiQ/ejT9WrxYp35zCu4R63UNM9HPcSGIqOTXZXtiDrFG/jSd11Pnk3QjKpISsZw61Pys5wsBAAAAGmCJof6UPJASy6G7enzr4BMxT/GLNdeDS5EFRUQ6Vn5YDYuY3ufEj5FBeyKXjA0dbUVEVMKP/FCoVuxhF3BqKLuxoxcVyhe0UVaK2UZKj/bjiAXHZC3iBzeJehLJ1iYe4/qU/z979x4XZZ3/cf9T1JAu461CmtBhyCSsSLpjUVhoMcwzFOYKsYpaom4C64LloZ8LrAVmwrYK5Wk9oCK6KC0kHtKilYUkvEOpJEyZtoA0MH8NP11I8v4D0AGGmbmGs76ejx6PnGuuw5e55vC+vtfn+l5PDyzYkW9gLQP620jJN2flIdMX9p3/+JsY6Z/zu6Y5nT1yHjng8/l3539rO7hxkvXWBU8H2omIiF3fZ+WStkrEzuSKL/74k9jc+6CBl9fyHdHwgo90XvyRx6DW01vOrXBHVBUs3lEjT3tMsxPphh0BAAAMIkZ3neqf/q+tp75Y57Vgl/4EjbJVD5r0uwTNwaiwf0Ydc1680mPQQI/FH3kYmvHqz8pWfIODvY18I+Uf7huWf++ZzdcLP2yG3i1iN+BRkYaL2+SVkB3X6w0eGGC4PsQs2gu18sgDI/WmjHTpL7sva0WaYnQfzfXQbDciLXqEeSv+8VJNm89ZtCO+OBgVVinTvBL+0OqCxQ7YEWfiXy3ZJ/fkTG9ceZfvCAAAYBBFHV3Htt+vDE7/Yp3Xgl0er6Q31BLk7ltsMHcZdWH/P6LCKgctejZhZfPe0I7jMMRGzpb4VLjcKJ7+4VLTcGy2Q4fKireKh666flXcRe03ba3Jpl/rupauNKC/jeEnLN0Rj45P2Os8aE9uB1/uKdI0dJ3N1lU3Rru7eXYEAAC9G73RXWfgABspKf+62q35ABHV2nMiL8ycdLel6y1+d8vWPTIiSa8ktxOKOuTu/lPk+0efvNHhWnDiexnq/Bs7ERmoeUBE7v3N9c7hqq8zz8ryKa16Z3+8VCM2A8wqV9EMspacC8dl6PUO6ePFl8TOXmFHfWsDB/STku/OXfz1wObtaM+OGOix+KOHP1jyzzdHfzd+7++eub7idu2Ii3veaMjQU6bpl6p09Y4AAAAGEaO70EOae/KPf3fuorutfnyx1Twock57UR4bKHIx+5Upb+abX9RxJmV07kkZMuuj5kNDdEJRh9i5Rzxd4vPWYd+G+4CcPuzzoSx/pbFD1H2885RXSxZ/+NCOpweKXNyzvmTfUOc3h7dcx9fa7+VXzub1gQ5+1PbZnAqff5y90lAeXZLv86XEBI4YbGpBk4Y9MDg/v/XxTLt2hDQUqd/z7patz2+pvH5I044dUbDj/VlnW2Vo6fodAQAADLrt2rVr3d2GrvPfK21XxXaJM0dT8ysGe8xocdePz9/57fw9Df8cuWTf9G+mhEvyxwuMD/dwx50qKX53y9ZvnBcrKOS4+nOdiRbeuAHedXp3wivYkeLzYcPUVglP/657T3tcnt6qB/RiQcbBkn4jQ3zNv6zt7JuxpTGN/9a7oFDk/McfanL65ER7jGxrUaOrPbz9+Pf2rVti6Y5o5ouDUWHS8sCmJVM74vThvm9933JiN+4IAAB6mbv6tFHE2XGI0V3s7OHtx2ucx09p9x1YWqU3s5iM0Z3n4qf/fL/EptUhRDf5+mhKfo3zxGfbfwcWdgQAAD1QF8RoLjHsYkPHegyuKTm471PzxyO+KXx99P2S/7vHo8dEt4d8Pez/ryT7n7fcLUh62o4AAKDXIkZ3uYd8QzwG15R8dsb0rDeNiwXF5+/xCB77UHc3RM8w32AP+/8rKbql7ondE3cEAAC9FEUdvVWvqyW4WbEjAADogbqgqIOROnorclgPwY4AAODWRFEHAAAAoBgxGgAAAFCMGA0AAAAoRowGAAAAFCNGAwAAAIoRowEAAADFiNEAAACAYsRoAAAAQDFiNAAAAKAYMRoAAABQjBgNAAAAKEaMBgAAABQjRgMAAACKEaMBAAAAxYjRAAAAgGLEaAAAAEAxYjQAAACgGDEaAAAAUIwYDQAAAChGjAYAAAAUI0YDAAAAihGjAQAAAMWI0QAAAIBixGgAAABAMWI0AAAAoBgxGgAAAFCMGA0AAAAoRowGAAAAFCNGAwAAAIoRowEAAADFiNEAAACAYsRoAAAAQDFiNAAAAKAYMRoAAABQjBgNAAAAKEaMBgAAABQjRgMAAACKEaMBAAAAxYjRAAAAgGLEaAAAAEAxYjQAAACgGDEaAAAAUIwYDQAAAChGjAYAAAAUI0YDAAAAihGjAQAAAMWI0QAAAIBixGgAAABAMWI0AAAAoBgxGgAAAFCMGA0AAAAoRowGAAAAFCNGAwAAAIoRowEAAADFiNEAAACAYsRoAAAAQDFiNAAAAKAYMRoAAABQjBgNAAAAKEaMBgAAABQjRgMAAACKEaMBAAAAxYjRAAAAgGLEaAAAAEAxYjQAAACg2K0Vo2+/3aq7mwAAAIDO1TWR79aK0VZ33NndTQAAAEDn6prId9u1a9e6YDM9R3391fqrP//yS313NwQAAAAd7PbbrazuuNPK6o4u2NYtF6MBAACA9ru1ijoAAACADkGMBgAAABQjRgMAAACKEaMBAAAAxYjRAAAAgGLEaAAAAEAxYjQAAACgGDEaAAAAUIwYDQAAAChGjAYAAAAUI0YDAAAAihGjAQAAAMWI0QAAAIBixGgAAABAMWI0AAAAoBgxGgAAAFCMGA0AAAAoRowGAAAAFCNGAwAAAIoRowEAAADFiNEAAACAYsRoAAAAQDFiNAAAAKAYMRoAAABQjBgNAAAAKEaMBgAAABQjRgMAAACKEaMBAAAAxYjRAAAAgGLEaAAAAEAxYjQAAACgGDEaAAAAUIwYDQAAAChGjAYAAAAUI0YDAAAAihGjAQAAAMWI0QAAAIBixGijLmREuruuKTI2i06bm/5mVMg071HurqPcXUe5ewfNnBu9PqP4Qlc1snNVZS50HbX2pPkLFK91HbUwo9qCVRUljnIPy2z2ulVlLmxamxn7wmwn17i7RmZVKV9Qrz0dvtH62oqijHUxc/XeS67PTAsKeTU+/ViZrt6STbZQnRU2yj2xWCx/MW+sQckMem8Ji195S9zYblHiqA578wAA0OiO7m5Ab1Zflbc2bEmGauqiqJUvx9mrrUVE6mt1FWV5hxMjJ6eMjk9a5utgxopOrnGfmWpqJs/lRxL97Aw8UZQ4am6K8WWDNxRFuBp+qvrzjJ0pKVk5ZToRtcbXb0bI7yeOsLUyo9U9UnVW2KQVuQaemLHtk/ARxpctXusaur2N50wsXpW5cExcnoEnpr59fJGntfHtiojUlaSGzVx3+en585b+NcreVt24SJ2uqqIoe8v6oDXrZyRvCHPpa3pNcrksc230+uxT1VfULhPDIqICXdRmLNVMVebCMTm+bbzfOsXJNe4ztW29wxt364MbCyJd2lje5AzG1Ou0ednpWRmFRSXaSyIiqkHOj7t5jX0uYLyLg6rXfhYAAJ3tVo7RbYdXz+j9bwfYmlpedyx5SaoqYk/KVI3eVCtr9X3O417a4GIbNmVp4pOHE8b1N9mSEREFRRGmmqo1ugojQblttaVbQ+dskeBVSfvjHVRWUld5Mn1NWEDWzE1vz3EyJ7EZWqfuskit1Jo3d+vUGzfZNa7xn17L3o9Runlbv6RP/JpP0h2N9o2SRx40uaxLeNEn4a0nV2UuHBPXenIzdv5vF/m3mFaU+NTcAo29GRlapPpI0pqiiYk50Z7NX3aV2k7jHRL75IPWPmFbcoISJ5rKtfXlmcuDUockpHzoZSu60r1L57yk27RrjhNZsC3VuWv+GJUuT8+fF58c42jb8PpfrtKeyF4XN2m1ao65Ry8AgFtPL4nRl8vzdiWuy8gtvVAr/R3dfEMiXg5wUtzHZkCbXbxm0J49UicBD2sMP2v/sKutJH2llXGK020XqStKXvKO7sUdGbOcGqeohowIfj3NJmrSnHceP7LIXWXBSuvLSvNEKnOLLwXYmz5+MJR6m6nKtKANzVXnZBzqM2Hlk7WZC731O4w9zV1BrdSK0+B+Cjdbm3dod91jkZ5tvD06ie7YptVfh25a5WVrJSJqp2nxr33mvflI4Mpxij4turofRVtdJWLWR6NVL35uqPv10yNey95PclSy7a5Vnv5KWPrg6LRVAfb6Rxp97TTeISuf9E5dFrBg+dCMhAkmD6oBALegXhGjqw4tn/TGV15T5yVEDFLVXcjdsjo25ETZxq2R3dtLpBk6RiVFX2nFxVBUqviqqFp82wrZPcGpnJQKz2g/p+ZTrRxG+02IW3q0MMLdU3mOrjuesfmSo2bI0fVbC0YvNDuIXyjYujrxH8dLqq+IapCzZ0BYxAte9h2ycy8ceGN1rmZ2mk9/O7nRYWy6d19PlfaE2E1UdtBWdyJ59V6Z+vZz9ubNbzsmLOK9mUvm/nf+vLnjXFsXdSR/5Bq2ycdkqK0tPp5RN3qDXt+z2s3bK3q596jl16eY7pUX3bni01JhX6YTZ3P+7DZ68W8wUkvdzUoPpH7u8OK25hn6ur6OwbNC1s3N+HflBP8hXd00AEDP1ytitNhO3LZ/1Qh140+du+fD/YKmJ205GtKFtZsGqL0XrAwOWzIzpGJR1FQf5xa10avX/+Afn2RGRUd3qarQigx9sHU3m9r2bpFzVZdEBilc5eWCdW/udvvT/tiHD0TOD1/Qf1vyLGfTSbo0JSQ0w3lRfMrrzrYqqasuOfjO0imzijbuCHNpWDgvdpJ7bMO8yo5KLpds/Z+YvKFL02Y4K1msoYqj7cKepva0dSqj7uzuJZEpqhnbIlpVReetGDNqhUjrIhyVc/C7//Ipzs58L/5Pa0+XanUNk9Ua54cfcfeZl7bI01FtujCjrDRPPOc0C8q29g+KPJiUH+lm1VBCY3IlDf331qqjuw5pJ0w18IqnNHY2m1f7ZL7rL04bTB4A/FCtE1F0vHP5pwpxHGjkb7B3dJMU7XkRYjQAoJVeEaPt3HybhxWnX3uKpGrLzTzp3Fms7DwXpu1/LvfQ7pQl2wuaoo9aM3z4w54TEt8PcFEaQ7uUnb1G5Oy5ahnRIkXoqn8QcbBTegBwuWTrwvCsR+K3+TmoreZs3OEQFxUU8m30X8IDnIyuqvhQYunEpE1+jYFbZevsvziq1CvsUGGoS0PhRUNcu5AROTlWQXt0Bev+EL61LnDj1kBNeyqDqyu0Ihp7vXea0fhYfSzxT/+TUukZv+3lEa0PIYwVEVlZ27sGzHcNmG95W2t/qjQ4/VxFtdkHRZUZb6z+dGr8/nHFoaFvZ3gmtO6pDTF8Jd+FgtR3knZ+dKr6iqg1vn4vhc4e42xG9L/ByItj8gCgouJTkRE/1Yiom1/zYLx2p28/eym7aOTFqSgrFHefwcYbDgC4RfWKGG2YypLSXUukznVt/FU2NFyDWuM1dbHX1Hasv3jtyNDtpi/JM7uW11yP+4TYz03JOh0wa7je1PqyQzsPqKZtcFPy8upKd78RllgxMSEt3KtxlI/7Jizb9evCrTF/Cit57W9LPbuytrReV5qd+PrqjErPpWnLAzUNxSEXMiInx+qPpWHu62k7IbFggjkz6rS5exOWrjte5/LShrQ57r1ytJNvD8RFrdTN3hbhaacambTs1SmRcf0Sl/karnnQV5kRGbRSFmxLWeZsq5K6yoLN0TNDixI2LvbqiEsYTCr7Kq9WpODElzr/ITcu2C1e6xp61uhyTs/N8kxavSlj7CpDdR315elbU+o8o39DVzQAwJDeGaNPf5oj1v6uis7UW86iQTAUcAk/bry0VGEtr7lUrgtWvlw0Z37If1fFv+jWMFJHQWpc1Oa6OckvK7i+sK7y6NqVR51X7F85snlXopWd20tJ+18ysbjLuEin0KV/fmjjK37XizoS0jVzNrpZi+iU/UmXy4uP7l6/NqWw1tl/UVryRL3e0EEBiQUBTQ869vXUlWZv25m++9DnOpVTwLIdkf7mX/1qxmCFrbX9hrTuZ3Hgazz2yLZbkJY8zVElIlYO/qv29YsLC5p5cuVbCzyHGBlyRJeTHFs4MenItKZTCkPc56+K0Y6N3xuwv/ECVr3KnA4/IJTTR1NPT5j6/Kn0wpOv+XopOQC081+xoeIP4UEzT0WEh4x2aTZSx5b1yR/JnKR3O7JwBQBwM+mFMfryyTXRSVXe0cFuZg0l1uHaHJnYGK9l7yf5d2aNx40uc4MMD3ts7TQrZb/ngS2bwiaFN4wb7e7pl5ARrKwnVTXEd9lmXzNmNDQqnIg4haT8wzn1nbiQNacaLzEcNzdt6wSNBWcbqgt2bj/nFL4tVunQ158nPfXiprpmk27Evkae0fvf9ja0sNpWyr4aELBsQ4i/q8IqI9fITwoilS1ijKOTp6w7e06/2Km64pw5JTp12uydu38Yn3wk+DG9YwArB5/laSlZK99I/lATO6HtPulz2gJxC29eB9/f3l7KS8qqxMlO5HoljLEDGEtro2vzMjdWTVsbEej61fNpB2d7Kfugqd3nJy4pnRybvr4888LJ0gu1IiL9HZ36V5Vqa4M3hLl1SXc6AKA36m0x+kLu6rCwTNWc5BVtXFzf+UyN0dZuFzIiJ8dqWvU4NivP1de+KKZ2mhCxaoLRUavN1+ZdSG4wGOgHuQfHpAQrHiS6lfsCVu4JMD2bjIgoaH5Hu8fC/lUQZsaChm+/ZzsxIW2i8o12PGuXkQGqv54qDXdvGqxDV3gsV0QivXY3zWM4jKqGBsbuCDS4To1f9MamN3wbb/4HNe6y+cuSOj+9nuBLFRXi4Oxo5nFFi6HTTV3lqafu841r9v560fvuqkHDfz82cU1qwXjzh4jR4xmxodknzqITBQCAW0pvitEVh2KXxGVLQFLG9QLcW8SFc1qRdl0n10Xa6G9uZM59TNpeYbOqDFNaVUK3Zt6Q4VWZC8fEDTV9B0RpqMSV63OeXOM+U24cC5m4L6A5pzjMabDae86irCl//qtz8p8ab7/yxlHH4A1pEa7WYsaFeo2a7up36suyxt5ZUWuGu7v5B0z19dIY6NhW+yyIdgta+ueHNr72nLPaqqE2OuaEX9xrTq1n7lCXT677yyb7Zfv9B4mI2mdO5M5p8et8Gv9eAAA6VS+J0fW6wk2hkamq4MT985/syNE52j6P3MZwBHrMiT4dU1dt1U/d311zCwwXoNPmHnpvf85nJV+dLmsqi1ZrhjtoHgnwD5zoqTH7/LqJzG12bXRdSWmeSJ8KnYxQi5g6TrCcqVMcZjfYysF/RZqsjQ55Oqz6irWt69Pz390YrChTXi7ZunDm5ssTIxYlzHNyUDfUCtfX6ipKPnovOXRsguFb3A8JSPyHQ+o7cUFrro/UsW3fGLOGnbac7uTWqLnp90Wn+TW1RxMYu/xY0B+jNGlJjPQMAOhsvSNGl24PCTvqujIt2qcjfxpN3oLbHG2nbaUDtBlh6xt72Jzi425nRlHH0LaeqC1eP3NBqmrqoqhlsx60U6tVTb3vdZfKtccPrJnrvcY7IXm5b1de71WRnZYuIm2OoGy2+nJh6/HfAAAgAElEQVTtZ1I4tEuGaOzr6L84xX+xZQvXFr4zc93VBWnbQpqd/bCyVt83wj98g9t9bd/ivqMqc8x36VyZzGhR32Xvl5BcEZV1qnz8kFZZHwCADtUbYvSlA5vfKfNPSOvQDH1rqz4QOWFpU9y1tnVyNFwkYx+4Mt7gRXVGGb6c0WSTPtzy9xL/t4+3vmWJqr+D07g5SQ+pQl5Y9o+A4/MfM2Nt5hR1mFqH7kRiZNynnss2+BwLj3s13v5dM4bt2z5zlN5tsYOb/lFXmJ1+RerSs/NeGuFp6O6MZhV1mNp4R9BVfFcrT4xoq4LI3tPXU2J7yi3u7wuI3dB6qrXLvCTj55EAAOgQvSFGnz2dI87Bl08WHm/xhLX9EyPsVVL3eVLIi7s1KzJWjuvWu7FYoO3LmPLaHnmjsVCkPWOlmT0WclsX1fUKllfU1OtK34tZ8GbBk4vT/vKco2psWt2KkMgXyuaviJs10uh7bEbz2ugGl0+uS9jttniDT174mr9PdAs3cFsWETGnjqjzqe3vtZZjn5a+PMLJUJKuyDua1yfAv81TCkoZP33RarCUBh1w90QD2zX4iWs2AE5H37URANDb9YIYXV1xTqQkdfncVj9ynT6KXKdrzyAbHTxWWnezfXr2S84LloaqFkVN9TZU1JGQVOeX8DtzuqLboU5X/lXO7i3rdxf2n7hoR3bjCNB9Hae+nv14duLrr47Z+XhI+PSA31wfYNikC7lrIqPyvDdsfM5dPWGDdtbcOfUJf+2518hau728YVbR3Dkzy5uNo9xUG702/afg+BifDit57qxa8566XQDATaUXxGiTA8ypHgtLM2u0ss6QEupurEu4PfW0vVXzwoZW2jr4sXaZl7Z/XMFHh9Li/mjgEsPgDccUXGIoIibH0m7d+1uZsWRmss7zOb/X9ye2GAHaSu3kF50yMVKbl7FlR+R6VchGg/e9a1HUoTu5bsmGmsC0FD9HlYj0HRGxNS3z7ejo3Q6JwY6t+qRNvJe6qLu674j5246Mz8tO37v0TytajNQRsvGfBkfqMMElvOiTjm5mT94uAOAWcdu1a9e6uw0AAABAL3N7dzcAAAAA6H2I0QAAAIBixGgAAABAMWI0AAAAoBgxGgAAAFCMGA0AAAAoRowGAAAAFCNGAwAAAIoRowEAAADFiNEAAACAYsRoAAAAQDFiNAAAAKAYMRoAAABQjBgNAAAAKHZHdzegq9XXX62/+vMvv9R3d0MAAADQwW6/3crqjjutrLoi4t527dq1LthMD1Fff/Xnuv92dysAAADQie5U3dUFSfrWKuqov/pzdzcBAAAAnatrIt+tFaOp5QAAALjpdU3ku7ViNAAAANAhiNEAAABodCtdNNdet9xIHQAAAGjt559/vnr1av0v9dd++aW726KMWt2vW7ZLjAYAALjVXb169b+1/6UvWhGKOgAAAG5x137++WcytFLEaAAAgFvatWvXrjIosHLEaAAAgFvabbcRCC3BqwYAAAAoRowGAAAAFGOkDgAAAJhQWVFZUnq6RlfT8NDtyV/b9LNR26i7t1XdixgNAAAAE7Zs3fxL/dX+/QeISEVFubZMO+iewRMnTryVkzRFHQAAADBGV6PLz/u3r++YsWPHjR07zt7e4cqVy2e//jo7O1tXo+vcbX+xyW/L6c7dhKWI0QAAADCssqLyxInC3GPHRERlbT3Ewd7p4YcH2tree999kyZOPPv110WfFRlP0iVbJm7+wsDE2A8uGpi76lDs5E0lHdb8zkVRBwAAAAzQ1ei2bN1sbW195fL/2TvYp+7c+cgjj0wLCuqnVldUVgwadM8Trq5Hj3wgIt7e3kbWk7F4YkariW5/7LR2dxVitAnfHYndkn/jocfM6DH3m73wfw6v2Cazl4+9txMaBgAA0KmKPiv6/NSp8IgIEamoqNibnj548OA9aWmPuTxeVPTZocMHReTS/156L2Of8Rgd8Gb2i482m1KyZeLuzmx51yBGmzbMLyrI1UZERPdZ2tuxR4wl6ZqiXQlVv1EStS3yyy/1P/30008//XT//Q+0eKq+vr66uuqX+mv3DLmncxsBAABuat9++59B9wz28PyNiBQXF/fp2/e55wLeey+j4Phx95EjGy4uVNvYbN26xfh6FPRGn/+2UP7jUSXOdh3Q/s5GjFZC/cRkv9N/Lf1uzP3d3L/8yy/Xqqurv//+exHRT9L19fXnz58/d+6s2saGGA0AANqpb58++g+dHn64IUl/+59vpwUFqW3UxcXFxtfgPDs7a7aIiFQdik2SiJhxA9qeuaRgn5ub23fnRfRj9N4ov70iMuWt9+c4W/h3dApitHI//FDzny//2qxao6ZoV0KVq39VeuYZEfk6Nl+G+S0Mdm14UvdZ2tuZZ0REPPQLPGqKUv+adabh3zc6vKWmaFdCyfAor6qEhmISvaduuP32221t7Wr/W/uN9puamppHHnlURK5evfrdd9999+1/VHdZOz08vNP+fgAAcCuqqdF9lPOhiPQf0D8vL8/pYWejtRwXD8dMX1vYcmrI5L/pP3T7447oZwY2Pqg6tHvvlMCt9+1OOvTjo3pp+/mErNk9MdgQo5W5VHVG7n7K5v67PeTvJf8Ze29D8YbuTMnXHl4vPHHv8mHNijp+FJH8Le/7/2l5tI3UFO1K2HLkkeVj7pWGkusf/P+0PNhGROS7IysS0uRGXD6TlWA3M3r5mIbq6syiocGuzcdkvP3229VqtcbRUUR+uHDhS5Fhw5y02nPfV5637mPt8tiIPn3u6qqXBAAA3Pzs7e19fcec+/qsiFjdbqXupy4oOG40Rg8cG5M9VsEWLh5O+tt9b2Y720nEb/4csuX+nhmd9RGjlfjP4S35w/wW3isizh6ypam6o+bs6TMeTwUZXmaY3+QnbEREbFx/45G17cvvxtx7r+6z3PxhfgufaOpkvnfMTI8V/z5T49o0xeOlxiB+v6ffQwlVP4q0GtrcysqqT58+DUn6wvnz//u/P/38c12/fv0efng4GRoAAHQsW1vb56f+rrqqquHhlStXKirKzVju9ObJUa0Lo6VFP3RD1/UDCVmPiogMeGZheMx0vy09tBP6OmK0aWeyElZkNfzTY/by4IaqjHudPKQhE8t3n2RJQ7Y2xM6u9c19fvzhjNh56U8fcPewr3+4JNIQo4fZ9defvepijdzfsq5DRG677bbrSfr7898PHDjQ2Xn4XXeRoQEAQMeztbW1tbVt+HfhicKGGF361VdGb2Q4/MX3s19sNfXHD/68ptnDt9c+oB+aB46N2SEx0zd/YWDZnoMYbZrB6mS539Pvocwqndz745f5Dw3/k9IbYT50d3/TM5nWkKTv12h+ZWNjZ2dHhgYAAF2jsrJyw4b1Rf/f/+dldLQ7cwx45i9ZLacNHBuTLSLS6tYtPQd3MbSYzUPDpeRszXel+cOGDzPQV2zEgLuHfX36a/07/vz4wxlLg/Vtt91m86tfPfDAA7/61a8sWgEAAIBitf+tlWvXvJ96yu/ZZ7u7Ld2DGG05m6HD5XRmbv4w56HNUnTVxRoTS6qf8PI4k/X+Z03zfXdkW77Hb55QlsUBAAA6Uz+1sbPtrk888fzU3z37XMB9997XZU3qUSjqaAf1MGfJzPJ4KejGe6zhOsKEFVl6A94Zcu+Y6NlHYv+6IrPhobKbIwIAAHS+oQ89dOjQwdTUna2fOlFYOHr06Oul0koNeOYv0WbO+uicrEdNz9Utbrt27Vp3t6Hr/PeKqX5iZbronoUAAACdSqf7qfXEy5cv5+flVVaU/6TTtXhqwIABXk891UP6odXqfq0n3tWn00/z0xttuZqizKyvPWa/0N3tAAAA6AR9+/b1HTOmurr68pXLLZ6yHWjbt2/fbmlVz0GMtsh/Dq/Ylt/iroQAAAA3H1tbW1uxsHjj5kZRBwAAwK3OYFFHb9FdRR2M1AEAAAAoRowGAAC4pV279kt3N6FXIkYDAADc0m677bY77rizu1vR+xCjAQAAbnG33XnnnXLbbd3djF6GGA0AAHCru+OOO+6yvuuOO+687XbCobkY8A4AAABy55133nknpR0KcMABAAAAKEaMBgAAABQjRgMAAACKEaMBAAAAxYjRAAAAgGLEaAAAAEAxBrzrue64U2Xk2as/13VZSwAAANACvdEAAACAYsRoAAAAQDFiNAAAAKAYMbprVO9/1ctn3efd3QwAAAB0DC4xvGmdiX8xf0Xjv222rpoyza7pmaqC6a+W7NOf92mPy9OHdWnrAAAAejdi9M3p4p438r+YPvny0wNFpGBHis+rhzWbx7rfmKF5sAYAAIAyFHXcnAZOey1kx9MDGx64j3eeIt8fPd29TQIAALiZEKO7zqj7h1zMfsXnt14+v/Xy+W3yF128+S8qL3bxFgEAAG5exOiu88mbz075z8ycj3NzPv7nKyN3Lei6Kw5/uLRP5NEhA/Um1cx6NaXviyl9X0zpu+NMV7UDAADgpkFtdBd6YV3O/MdERMR20vQX3gr/+Iv5jz1qdImLHyz558HjLaeOSJodYny5Zs7Ev/W9DHUOGd40wc59x2b3G8++mN/3mx/PvObuYP4qAQAAbnXE6G4y5IFR8rH2B3n0bmNzDXxm5exn2rWdi3veyF8hNlvntZWShy19pWzFW9/9u8qdKw4BAADMRlFHN6n85pPO38jFPW+8P+usLH/F5KAcNWd/6PzmAAAA3Dzoje4eF7/Timg0RruipZ1FHQU7GjJ0yNLhxmYrr6wRucfX6DwAAABojhjdHX54f9Wb+aMWLzGZhS0v6ij/cJ/Ph6YztJw+PGxHzZTpPu5G5wIAAEBzt127dq2729B1/nulprs2/cU6rwW7bjyctjb35cdNLHLHnSojz179ua7tJ1vfp1BE5J6chjuwnD7c963vW04EAAC4edzVx6azN0GM7rnaEaMBAABuaV0Qo7nEEAAAAFCMGA0AAAAoRowGAAAAFGOkjp6L6mcAAIAei95oAAAAQDFiNAAAAKAYMRoAAABQjBgNAAAAKMYlhr2VkZuzdMa1icbvBWMEF0pagJ0LAEDPR280AAAAoBgxGgAAAFCMGA0AAAAoRozuDl8fTdl+9EzToy/Wefm8+v5FxWv54mDU6C1Ro7dEvXt9VWdSRm95c/+PHdTM7ldduE/vhepi5z/+sE9s/nGli7FzzdStOxcAgPbjEsMuV124L//8PR7Bw9q3mjMpYZUjkmaHDMl/8/nclKeGhTwqxe/mnpzmlTBpgMkLv8o/3DdsR03jg6c9Lk9vZ2Pap6pg+qsl+ww1xtbNxT41f/tRmeHbrS00W/fvXP0Xs0H37t+baOcCANAcMbqLnT2cXSrO48c+1M71XKyqFJv/d4jIQLshDVO+OLh1j834vcNErppY9vThYTtscjZPcZeGlJM/3d52x9MD29kiC1UVTH+15NFXQnYMF5Ez8S/m9xXRC1vDfMf/mHEw/+jZYb5Du6eBCvSEnSsiYrN11ZRpdu1sREe4mXYuAAAtUdTRpc4cPf69jZPPr9sfWQfaDZGaysrGyDVkyMUPtlcOWuT7jDlrHj728uax7g3/tnOPeFr25X9d3u4WWeTinvUl+572WDq84eGwpa/cIx8W76nSm2Wg+1NONhXHD3/dLQ1UoGfs3B7kZtq5AAC0Rm90VzpbViH3eLgZSEMPagaeSvYJ3yUiIh6vpL816W4T6xo2flHRm2FbokQGLXp2RP7RN8V58SRLc9bZS+UiDhYu3B7VZ8/K8ik3zukXnPheRDJPXZym1ztu6+ZiX5pfXHjxIUMvnWFn34wtjWl6EBM4YbGziIhUnQxKrg5YMEJ2F8xqiHOPOF35nV5XaNXJoOSKf9543MfsP6XH7txu02k7FwCAHoEY3YW+1n4vv3IeYOipXfN9zi3Z93HuQJEv1nkteOt9j1WTTaSKQZN+lzBJREQu5r/5vIzf6zHIkkZd1H4jMrR/d2RokaofvxAb/8ZQeXHPG+9nenhsHZo/q6JaRP/PH/bA4Pz8/20xsW3Vu5Mv+ERPuCIiIuc//lCz+0PNgqcDG8scamclF8QETrjiLFKS32d36ZslQxtDdkl+n92XYgInpDk3LZhj9p/Sk3ZuzaxXU2Y1/LMbC6M7aecCANBTEKO7zsUfa8TG4SFbQ8+NXLKvKVo9+vySUVM/zv9hssk+y8bVfrCqRBY9a9kZ//IPc2adleWvuJsRoy9+sOSfB1sNXDEiaXbIo1L87pate1o+NWjRs4sn9TO2yh8u7RPxF2konJVXQnYMv7gn38CMA/4fGykt+1qGmVV2bBu4wOP6g8GP2j6bU6GtEmmqFr7ROe08KEYufXa+WpxtRap3H70kjzg1PqVQj9m5du47Nrs3PTgT/2J+329+PPOayf3be3YuAAA9BTG661T/9H9mzXe35n5Z+U2liDlJ68L+owePD5m1sjpl9D9PiogMmfXRGHOD4OnDw3bUyI3qVeMGPrNy9jNtPOfyh9kJfzD4jNFL4u7uP0Vq5IeC6a9+578q5PpVcVPsDcZRBUry++y+pD/hCdPLXNJWSYyl17r1vJ0rIjJs6StlK9767t9V7qauOOxNOxcAgJ6BSwy7jm2/X5k13w/a/5i7yov5W1bXjEgaLw2joX307PiRldlmDi18+nDft76Xoc5nunE0NLsBj0rNrLcuRWy+PrJE9dmzbcz8q/4GSyZaK8nvs/vSsz7uV6InXImecGWB/bMd0lijetjObabm7A/KF2q/ztm5AAD0GPRGd52BA2ykpPzrajd3491xld98Ih7eQ8xYY/HukgvTvBY/evGD7TLI21Zk4D0PyIX/VIuYyiRVBdMbMrTp0/3XdcJ5f7EdOlTkAcfrVQhyumyF2Gx9vGURw4//WyM2A8zrxjx//opI/z/91pJOz6YCDxER7YVa8y8x7Ek7V095ZY3IPb6mzzb0lp0LAEDPQYzuQg9p7sk//t25i+62RkpdP38nfJe8sM6M2tkvDm7dM2TWR8NEpClgyfffNEQu487Ev1qyT1mGlk457y8Dp025Z9Zb+fFPDlvaMLTwW9/L0x6tKhDOfHNebJzMDFqDB/cRuaKtkpF2N0beMKOoY6jPI6UxOaXHf+sxUuT4Pw74fGne9hr0mJ2r5/ThYTtqpkz3cTc9a2/ZuQAA9BzE6K401NH+eH7JZ2d+3ey2bUPu95BdK6f8dmXDw1GL/5kz0WSouJj/ZljliKTZLiIi4hLoPOj53Kg9IiOdF08aIEZvdFewI3+FiJwtGfZiyfWJU6ZP7p47sAwfe/mVw33fSlnR1IzLrZpRXVjc1lhyBjl75DxywCf5wCwREeutC5yeSC41Z7mRv3PfmlzgE3tARJ71cb/iUtpnt7l/Rk/ZuY21Oo3uydkcYkaG7jSdsHMBAOgxbrt27Vp3t6Hr/PdKjemZOtfZw9uP1ziPn9Lum3TccaeqraeumrwZeIduzrh2N+ZiQcbBkn4jQ3rBje7YuUr1op0LAOhl7upj09mb4BLDLjZ0rMfgmpKD+z692N0t6R3OHD1YUjPYo3fELHauMr1q5wIA0BIxuss95BviMbim5LMz3d2QXqC6sLhisMcM3+4bS0Qhdq75et3OBQCgOYo6eqtb5rz/rYidCwBAO3VBUQeXGPZWXZxgCExdiZ0LAEDPR1EHAAAAoBgxGgAAAFCMGA0AAAAoRowGAAAAFCNGAwAAAIoRowEAAADFiNEAAACAYsRoAAAAQDFiNAAAAKAYMRoAAABQjBgNAAAAKEaMBgAAABQjRgMAAACKEaMBAAAAxYjRAAAAgGLEaAAAAEAxYjQAAACgGDEaAAAAUIwYDQAAAChGjAYAAAAUI0YDAAAAihGjAQAAAMWI0QAAAIBixGgAAABAMWI0AAAAoBgxGgAAAFCMGA0AAAAoRowGAAAAFCNGAwAAAIoRowEAAADFiNEAAACAYsRoAAAAQDFiNAAAAKAYMRoAAABQjBgNAAAAKEaMBgAAABQjRgMAAACKEaMBAAAAxYjRAAAAgGLEaAAAAECxWytG3367VXc3AQAAAJ2rayLfrRWjre64s7ubAAAAgM7VNZHvtmvXrnXBZnqO+vqr9Vd//uWX+u5uCAAAADrY7bdbWd1xp5XVHV2wrVsuRgMAAADtd2sVdQAAAAAdghgNAAAAKEaMBgAAABQjRgMAAACKEaMBAAAAxYjRAAAAgGLEaAAAAEAxYjQAAACgGDEaAAAAUIwYDQAAAChGjAYAAAAUI0YDAAAAihGjAQAAAMWI0QAAAIBixGgAAABAMWI0AAAAoBgxGgAAAFCMGA0AAAAoRowGAAAAFCNGAwAAAIoRowEAAADFiNEAAACAYsRoAAAAQDFiNAAAAKAYMRoAAABQjBgNAAAAKEaMBgAAABQjRgMAAACKEaMBAAAAxYjRAAAAgGLEaAAAAEAxYjQAAACgGDEaAAAAUIwYDQAAAChGjAYAAAAUI0YDAAAAihGjAQAAAMWI0aZcyIh0d11TZHrG6qywUe5hmRc6v0nGmd3gNpaqylzoOmrtSTOWObnG3XWU8f/MWo9B5jfDgOK1rqMWZlR39GqVsWxHmLl4vU57bPfqV4NCJo9serVHTpoeFBaTlFlUZekmO0v18ZTo8IBn3F1Hubs+NTloydoDpTq9Z7PCRrknFluw3qLEdnziqjIXtvUmscDJNe6ukVkKXnm9v7pjW2K5tj81LRW+3ZENNvcNUJRo4tum6T+LPnSdvRfafoe084vCuKJES18QBe8Hcxjfywaf1WuAwVevKnOhWe8HpX/Fje2249XDreOO7m5Ad6rOCpu04sGNBZEu+lMvZEROjtVsKIpwVba22vo6EZH6jmtfG6o/z9iZkpKVU6YTUWvcxwUumP3cCFsrcxat1WYlvrH+veILtapBXlPDo+aPc1S1rzGey48k+tlZsKCuNGP96uTMoqo6UWt8AmbPCR3npDZzWf1XQDXo8dGBc+c972Xf14JWWOpCRuTk2DxDz5jzghSvdQ3dbuiJGds+CR9hxtaPxoVFfTQ4JPylhHlODuqmP7zuUvlXx3avf3XM2ifjt70+wd6st0Rnqy1eGxSarp61Kmn/2w4qK6mrLjn4ztKQyfuXpSX5D+nu1pmhOits0opcg08Fm/iWOLnGfWZqy4khLb9wLNr0dWa836oyF46JM/hmVdKYG77NSM0QuZKys2hihKu10qUt5xr5SUGk3uPa4rVBodvLNDO2pYSPaOf3mEit1Db8zyL1VcXZKTu3Z+RodSLWtq5P/35G2FRvh3a3qldo6w1m0btLATv/t4v89SfUl2ydErSu/9K0bYEa81ZhOAOYqV6nzctOz8ooLCrRXhIRUQ1yftzNa+xzAeNdHFQ94usXXeGWjtEdqb7kcGqBiGQdK/Of5thpm6kt3Ro6J/Xu+auS9sc7qKykrvJk+pqwgIzA5A1hLqZyZEVWVMh2h5Ub/+U5xFpXujs6NGhJ3b5EP4dOa62RloQFra6a+vq2I+86qERXmp345+khJ1ZtXOZjMpHXlm4PnbNJgq+/AtUlB99ZOmXWsaQNS936d0XjRUQGBSQWBLSaenKN+0ytGd+eLuFFn4Q3n3QhI3JyrAw1a18UZyzL7BOZ9naIpvm2VP0dXPwikx6xC3khJvP3E+Y/Zs7KOlnp9ujtdcHvbpz/ZGPeUtk6+y9LkupJcclHR7/ua/DIyXR8NH68UZQ4am6KwWdMBd+2tAoEFzIiJ8emznXVT8meLZcaEVFQFKH3uDorbNJqBcnK1i/pEz8jz59c4z5Ta3o1rdKGRY0REanXlWYnvr46o9IzLKLv/jVzg2qWx4dPdFa3+Z43eCAhIl7L3k/yH6Rs483VavdELch6cNmGqNK4uQvUGxJnjGi7GWYoPZB6QkQy8rQBU82MYNfVlaSGzVwnMxITjqy8z1rqa6tLs9dHTwo5vmHjIndz+waUavtNLmL2AbmeNo7tYye5x5pas4E3WHVW2KQVirbfAXQ52zZfcnayTsk88VzEk518gFedu+aPUeny9Px58ckxjrYNP76Xq7QnstfFTVqtmmPOLzJuDr0iRtdW5O1evysj7/j13sewiGB38/pfLdTiB9LE92p9eeb/hK6TkMS3VWsWRq6+d+MiT0s6aE0r3f7ndyRiT8L1L3rVkBHBr6eoQgOid43Z95KzsWV1R9ev+NR/bYLnEGsRUTsFxi4reCYupXDcUrcu7jO5dGDNik/dYvZHeDe8Smonv+iVV0KCojf6HFjqafyr59v33lpbPfXdfS1jWdSkyE2+Rxa5d2f3T3WFVqyd7reob/6z3Dx5fJFL+Rr3MQreeB1E9/mmyAU/RXzcqkumuiB1bdLOj05VX7G29Q6MeHnBuKHNfpzqzh5Yt35DVk6ZTtQuE0PnhYe42TZfQdnpCvHybNFnaeXg5v24rC/TihjsBGqKj1WZC8fk+Db1tl7IiJx81Mec+NWy21KaFo81NLfl9EK5WYm2ouJTcZtk37GNsFTZ2VwzG1On01V9d7LwX/uz9h7Q3jth9qojwSPtROaM89u9ZU3oM2sdxz0f4DfO++FBduqWH96WBxIiDfnvXLuafulk6vKwLRKavDfERS2yNS0zIXLKwknxy+e4WRbNv81YEpYkM5ISVQmRr8bbv7vU09b0QtdVZMWtOR+YtCvMreHPt7K2HR6w7G8S+Wz4eu9/LRrZOXmu2Zv85Br3mVpLTww2aHFsX1eUGDI3RSuOwRvS2nHOocVx1IP6z7UK7rmh7tcPDLyWvZ+kqDtKdyJpwV9Kpv4tbb5snPNqVPq7CVOHdl6SLk9/JSx9cHTaqoBmJ/362mm8Q1Y+6Z26LGDB8qEZCROUvI/QW/WK2mhdcXaB2mdu/NoNSWuTFo27K2/t3IBXD3RqKWHwhqJPCoo+KSj65P3oVp1MzRtXmhE3c8paCUvbGunpGZayK6gqZrUvQNAAACAASURBVFLo+oLqTqjuKP5oo9YzYHSLbGXlOHqqV0XKEePFhXXFBYck0MftxjeL2nPiuCu78ywpSm2XiqO7cvoEzh7X7BtfM2HmuCu7D+Xr2lqqQXXRsWLxHf1ky1j2G1+vuj25X3V4W5Wo+6ooT5573En5kvUle/9+VHxfGHffiIgC0288l4A4/yuJoQsTM4vKdZf1GnCpvDgrMewPiXV+cf7Dzdv0pZLMuKBJLyYVX2n1VGVG5JS56ypc572+ISlhyTjd7ugXozIr9TZXlBjywtI8CVi0dkPSilDbLxPD/pBYfLnZOmwdh9tLbl5R81Pl9eWFx06Ju6M5Bwna6h5X6m2pqrLTtfYujj3il7W+5POPxGmks8nG1BUlhkwOWPLOfq3dU69sO/7B5vjgkY2fXFvXwEWbj/1r2zJPu7KshLCgCSOjj5r4/LbLZV3F6QOpMSHPTEuoGJuyf22IS0NPb19H/+UZadNl63Tv0JiUPG2Vrs7sddbrSrNiQ6YnyryMlHAvz3lpaYFV0VNC1h03/11XVXjslIzxdWtxCDHE28ezNr2gxOz19Bj1utKs2Dl/3K0Kjk8MvztrblBcVonOwp+zG19o+5d7tXjOJbzpu87Af0pOVtRXFf597pSlp8avS4twtVa5hm1617vwD+1ptimlB1I/d3hxToDhwrm+jsGzQuRYxr8rDT2Lm06v6I22G/d60rjrj0Z6PT44JGj1to+0ExSffTMgRe8I+AaTK667VK49fnTn7o2Hvhs+f8X+D5p+WlRDA1ce8C3cuizo6WUuUxdMHePu8oBDq04aS9XVytAHW//y2do/KFdM/HRoS3PFc46j/sde7eA4RE5VVMmTlvdh5K0YM8rYybvW5XG12q9PiffMFgUJonZ+8kmJ+/JcrK+yc5GW2D5zlMHS5EaWlfTpPsraLWMTXBT3h9cWv7N0nfbxRasmmHv+d5Dvsl3HgvOy01Oj0r8sK73QEFKtbZ0cXVwmjl11xN/VnB1anhk1c/WxKnEKGO9ZktmytFGXk7wyb3BYyrtznKxERNyedJAX5satOTA6foJaROpLUuNSKsbGZ8ROsLUSEXe3x9WRz8ZG75rY7KyI04zYl44siAxVrYp/0e1GEU7cl76x2wxXdOi/MlIrFZd+anxUUZYnVZ6XjS7Rk104lpNn7TPL6Cmj5tqsoddj/CC/LXWFGZsrHV50Nd3fp3KNTPu4Vde+/gxDnMc97zzueYvaYb768szlM1Prfu0/LXbfcsfW9Ru2I+ckHQjU5mVsSQiNPj8peVfj+7aNtdXqKsrycralbz+gfTgs/h/HmrqxrTXPJ3zgXbB1RcBTK0ZMnRc03nWExl7dBXWuLc5/tmS8SOPCOTNqe0y58Zp8WOES+tq2I54atciED8YVpK6JmbRWNXrGC1O9f62xt1O3/Iprqzb6wdaTOlJTg3du+lDGLUneG3D94hrV0MCV77lnvr20odm/9/EyuhN/qNaJKCq+ufxThTgONHIMau/oJina8yK94fIPtFOviNEtaZxcRVIqLnXIygxXPZpYqDJjSWhKnZvv2Ii011pfTGBl5/bShg+mlRXm7M96Jyz6vHfi1sgOKZOyVjtI0blqGdHi81v97Tnp0+znuelL+UYNYq2uvNX67AY6NsvBCo9KDJ2xNU1XVSky1K7Vt5adnaZVwB3aciZbV28XSfnoxAIX/Q7p+vJ/H81VTQt52PTWDdeJdgBtdvpR66lrvZSWQlZkRS3YXuG5fJ+yY0IrtcY7cJF3oMKt6auq+Mp56oqw2WOcte9ktIzRF45kHq71WRF4I4v0dff/vXPq6n+d0E3wUYsUZ2/WOrzYmKFFRGTIxKnPx0Zm5pa+5KzXI2/tMi8twzVlzY6wSeENRVnOnuPmpuydYPqC0vpy7QmRy2VacdeIVFecEynRVtSKpgsvazPKVG10M9qcjLwhofOVHp95Ru9/O6CjO7CrDu7aXffY0rEWnDnpLlYO/glHTHxyrdQa75BY7xCTK6vIjgrdXufmOyFiW4zLkFZvp0Hus9Yee15b8NGhjDXbl1Z5Jxm9hNHOzftxSTla+NKIZh3Slcdy8qynvmDGUZPhCy2UuFBeKCIV5SIWdojU5cWPWXpU8/ivPccGvLYnXqN/kckg9+DX04IvlRUeO3bonbDCojL7hfsTJ7bakOGgb6yoo6nxBanvNFSOiVrj6/dS6OwxRqrtb7i+E1/5R7xL667rvo7+y9L8Xy7Ly9qwJiqurZ1YUfGpyIifakTUzZtq/MPct5+9lF2sFmmry7yirFDcfQab/itwE+iVMVp3vlxkwuOtMlYHMlEbPSQg8X1TX3xqRze/MDe/MNMb05Uc2rpx56Hc0gu10sfOZXRUbMwEgzWLTp4BmncyPmpxEUx92UcZuZrZYfo/0OZfStV4pX8nVI5a4sZ3cVXmwjFxrWe477lXwvfPad27WRGyMa4bC6OrDq1NLH4s8jW3lj/JN95IBn5marV7l4W++anmpQ0rGy70bDUASGfWRo+Y/35SW8/VfV2SJ86LHm4WdTVO7iIpp87G+7iKtrSgTrycmn0GrR9+xEv2FpVcEKfmvy62I0NiR5oONy2dPZXTx1p1+tipC4GaQVJWmqvqY515omSRp/7LmBs32TVOpNlVa21ffdWxr6eC2ujLuenJp1wi4o11kXYV3dGE1XkOwRues2/9QjVLD0aG+Gibfu5vc0AbL7MCVqex90vab+zaTRERtcbdf567/zxz1rYs4tDMyIWqxOWhbjcuMYytmLFtZScVRjdXevxAnYhkf1o6b4RlR0Yqz6X/+nipsTn6O7r5Obr5Kf0U3+hqMXzRYWVGZNBKWbAtZZmzrUrqKgs2R88MLUrYuNh0f4Q5O1H6O3rOiPec0dbTZV/l1YoUnPhS5z/kRlOL17qGnjW6WqfnZnkmrd6UMXaVobqO+vL0rSl1ntG/oSv61tDbYnRdlfZ42htxBT4xaT6ddQm0iP4PZGfny8qMyKDYPGv34PCEiEEqqSvPe6+8WsTwpT9OM1YuLgqZO7dmRXSw242ROtbdEbZpmoluD2t161Egqi6WiSj+XW/r6nujboRItd0QkfNVrU6jVVVpxW2cyd4Ua6cZKRlPZOxMud67+fjowKX7l3XuJafGVWTFvHHMfv6OwJaVKkaOZ3Ql6XGhq4+Kz+K0vzzfNOygfr9UqzeeOcOftWLhkAi66nKREfYt3oX2jp4i2ooqcbXTnS+R4QH2zQ9cbO97UGR3xYW2O2mU0BYdqfJbsqg6NjW7xH9GbV6Gw9Rgr/TU7MJ5I/Quim3rD2z/WBD6LCz9alJb/PeEdAlMnNDiM6i3WsuKMyxQmRH9lwMyNmG2q7VIs2sxW6WHjjl10+ZHwHjA0md8VAql2+1wKufgd/e7ZKfsjBoTdn3Au6gjy0Z2zoXmLdQVZKaU+yyLtvvrprzTc5zMvCjihnYfLFlOl5McWzgx6cg054YPtGqI+/xVMdqx8XsD9s9qOCDIuzFUSMd/RE4fTT09Yerzp9ILT77m66WkF8bOf8WGij+EB808FREeMtql2UgdW9YnfyRzkt7t8JNI6KF6S4zW+6jbTli27Yh/h53YVfwD2ZFppr5k6x9j8waHbNSr+nDzNrIea83zSftdDmzZ1Bgi1RpfvxlJGRNNjxutcfKSd8rK6uXGnLryskpnz0eUftdbVstxnfXDj3jJ6pPael8X/TZfOpV3wsHtT2aN+Gb7WEDEqgAlbWhn9DemrigxcsWnbsv3zTKvI6iu8uTB9OS12wtqnQKW7Vrib/bl5KaGP+tIFdpckZBWRZAi0jAyelXZWZEBKkNHsrV1V0VERHc02jfqUNNU1SBnjZSVXlBphjcOplutLam+4rXs/aTfGGxBfUnOzjL/ZRPH/6o89cWk1L4O6f0DNs3xtT8ekJod4vZc143S2P6Xva4o+Y3tFePiw1qNQtNQUdbGiZfOoCtY0/CFs8xkYXpPYnDoFWmM1wrjcuekRis7F7/IlX7Gishb6qBjA+17SemDw1L8AuRSSkjKgefjzb7EolFbB0sNb0uz4/L2maO2i2qQs6Zh7uqy0gu10mfOxo/D2q5jOqctELdw52ZfM/3t7aW8pKxKnOxErr/yLc72dMhOrM3L3Fg1bW1EoOtXz6cdnO2l7Khb7T4/cUnp5Nj09eWZF042XqDS39Gpf1WptjZ4Q5hbb/qAoV16S4xWu83ZkPSCSF15ad6BtdOeSg9O+Gu4Vzs7IC37gWxrqYY+FWV9YMXZm7UO87cpq5xWO02IWDVBaZBVubj791mWU7jArek8oy4v+9BjAfO6Zkw1PbbeAeNWR23JCkzUC0Paw7tyHguJ6KBiTZfwok+aTWhn9G+T7kTSgsgUmbFtpdnDb1d9+V7WZ7az1x4J7prOqu6i9o0tKNLvTm+408Fr21pevmlwyJ3q7KR1tpFpbtYqq9DXZgSFrs7VhGc4WTlqIuekL4jPHNndt24x/yZNlRlL/pgiM7a9ZllwzWs1cG9LZve7V+eu/kNY+nmvZWlKL9UwI7V0Sg13Z+ig1KjYiIiC5nfDa+vYQIm6osQlq3XBG2Y4WYkEx8yaPnf1Ua/Yrj5EsvisxYMad9n8ZUmdn15P8KWKCnFwdjT+3dgBO7Hu841r9v560fvuqkHDfz82cU1qwfiFlpQFekZsaPYlYNHREXq13hKjre0fc284w+zmHTB1XGLI3LA3hrZrmMyeoPrbc60KTDuN2nfWol8HJSR6/i2y8fYrceeC/xbXjlFszejiNdih29933mLfmTFhq22TIjybbr+S3G9ZWqCyxhiMMkWJo+ae69AT+m2o15W+F7PgzVzNy2mbZjmb//1r7xu90deM+dq+8MicARzaeUZbPdhZRGrrDdT8qPtai6jshohoDd7yzaFf+6+mrcx4Y/WnU+MTNFYiYu0yMcBp+8nf+zmKiOqx0NemBoX+MdFxa6feIE2pViGpwbcZS16KLXSLTnvZktvstbxNj6U3WBWR6uNJS17dVDw4YGVatI/iIxATOak6K2zSUcVNsoShjNLiOpauq+UwxOBd8YrXuoae7YSA3nCE9tK2+Q3jOqtGzP/bksiZSzOdkvzvs2B1Bg+Wmh/FteNgyVD3k9pnQbRb0NI/P7Txteec1VYNtdExJ/ziXuvsi18vn1z3l032y/b7DxIRtc+cyJ3T4tf5tGeEbNy6ekuMbkblGhj8ZEpczqfVfh0xvHk7fpw6grXi0ZQsTYr2fgkpkvhG6FORF2rVGt/fJ26c1a5vDRNdvMVrXUPbasnEhH0PZaxfGzYpqkzXx85ldMiif0QrvnXC5boqEfvLtSIt/oqyi5faKs+tylw4Jm6o4lt8taArPbBlbVzqKYfghOs3kVHKrDoTg5nAwE0Q9XVENb/axk6kpOJC8wGbLpQXisOL96lFRN3fWk6UVdSL/hU21RXnRB7XtEhpTWfef683rVVlVLMrzCq+LNB5xsz2tBYRqS/PfCe57uVt4xpHD7B2eTlp2fn44m9quzBGG95ZeS0HKWs27E/1scQ//U+K1m1pyoo2xpftEnXfHl23Kib1uE7tuzRteaCmV99ZzUQP7sk17jO7rjGG6K5UiTjo6kRaHDaVVVeLGP61sugHSPf5psgFSTq/pOQ5ekdoQwJWrioLmR5yMTl51mNK+6Tbd7BkVi9sq3GxhgQk/sMh9Z24oDXXR+rYtm+Mc+d2p+tObo2am35fdNr1U4iawNjlx4L+GKVJ6+7TXOiFemWMbtRH1Z23rOsIqr5qkaOfn41066KRp6w1fks3+hm9IrurqJ0CFq0NWNSONVQXH9P2sS7dkx088kZMKT1xVKT81FdNpXWdo66qqFhmJu2b42b5YZypOpNuHTvF9hFvJ4kvLasVveHAtF/m1vXxekwjIvKwy3MiBdpvxe1GUVDtV8W58thS0yPZNe+aan2Fmb1v/PUO+zptbo5uxmv6V9BaOfi/niQiYqj/t8n1ETxas+Dqw5Y7S7snJGj1KfsZ29LaHgqt9tIP1gFJGe2uPWsnlb2zxsbRf0X8snEWF5SbU9TR5hmWNkdE9o7ff7Pd5q3qVF6Zqk9JenaI5/WKtfqSE0dEKg2MYNMeuvPl6oCkla3eXSrXyJR1myLfyfBJCNF05Q+kqRqVNi8kHeQeHJMSHNNJzTLk0rkymZHc/ODW3i8huSIq61T5+CFdd90Fbg69MkbXFe1OPSE+K9y7ogSs/YN6tk3tMWlqnwOb17cxbo5lOrPBzZlT1NFpG79csHPTTxHb9qnWTpn5P3XJiwOd+otcOrozpVyjcczbnlY8Lkz5nVDMZeu5dGOXDa3QijlFHe2teNd4+T8mqze9N3Vk0/Ajlwsyd5bYh8Q0jJKhcvOd2mf3mt25/oub6hors9P3is+KiW1V5lh2KYJqaGDiBoXLdETVqRENBalT5wUWro9Z55kS8aTh7yF7v/iNndcI81k5+MentH/ADU8L7jXd4d9FZnR5Bnfk9pSpO5Gy9afIlDTVmqCgJfWNhQq6nG2bKx01mtzUjJPj51lS22OQvW90YhtHLqrhc5LWWrDKdh0s9Sb3BcQa+EqxdpmX1JPqxNBr9IYYXbQp9L2fxnl4afqLSLU2J2P93gLxjU8c0/jrVfd5UsiLuzUrMlaaHi6th+nrFfG3kMK5sUEzC+bPCHDqL3KpLOewblzCnN7yee6eSsT68szl4XkTN6RoHFSr9tutjdx82P0vz6sOrlh2aOjStCTng/9/e3cfF2Wd73/8s9EORx/O/izIEo6/HXQjLFHOkbBYOIvBSppwwjzhmiIpqJtIhmZiN0gmmCkVoKmY6WgsmkmLeXu828VDxdpZlEqiNWZ/HbAlpvU4PWiZjfX3x3AzDHN3wTAM8no++sPmmrmu7zUzXPO+vtfn+72S563bFlb0RJgz0/gPSH0+oss/PiPlwPzc1GX1Sx+N8JO6E9vyyryTijpuJ6EKe/yZiLI1y1MMSx6LC/K5enHXpsKLkVklMYrPbd05A0lvtRpqj+S9sPFS1BvaxRPV+rF5T2VMW5XeFphcxm5Y7FZJ0qZ/a4LdqGc3Ge17V0pXZZRP2VyiGemdd/C2/KeLjofkzFQdyXrx6F0rSjfffThp/pqtoTZPujxET06WBhErZxpW/x67XIEZMKNv0UMDIUZr7p0smw9s0uquimlKzsc3lcaFW7kf7ECkCsko2jv2rR27385ZqP9e1Jqw8Lglbp88Y0BprNz63NJi9aoSU1Ggl2/4Mm1447n8ecuLjYlFuxI1Q2Xx65u+fXLhjIaMvKeSrNzgCk5QjUvT/sY//+XNG5drjUN8g6et0j6REGhWWeszrbD09h2vvFyUtdQgwwOiEreXJvfn7N19q7m+tvzU23uK6u7OePH9LFPhik94hvb96AMvr5nxlu9jS9OmRAb5uaTyuI970+Fy+o8KV63co15xcPE4bxERn4j0nRH68ryk57TGmbu1jwaoJC0vV5/x62kNSwufnu14flJ4pD67CS4GsoEQo4dPmL1mu51LdapxaSWVTtws0C6bBXwmfXlC2aMJ7OyUfpoo7LPp6eVXB++bi++CISItuvLSjzU5Jc9Em5XBtOjKD1ffvapkWULbCKqR0avf3K1ZvelQdXRwdLdaN4tbjlvy1O4ucw7nQVPyjbU1ZlE1JmHFdnv16z4TU9bvT3FmE46+J57cDdZS/ea8jFJVeFzCzFdOWt47Wj1h5ksl8VcuHCvbnVVw2hC3XevchfuB1AcvIiIVa2Pus3uTFHd1h1uf6b+T+zv/muvOHKoMeOHgavNDTXPdmeNVQStKV8S13VzJLzqraGdAZt571TETuk+W4uAPxLk57HvPYz5lESvzlt7g28UA9aPr16/3dxsAAACAAeam/m4AAAAAMPAQowEAAADFiNEAAACAYsRoAAAAQDFiNAAAAKAYMRoAAABQjBgNAAAAKEaMBgAAABQjRgMAAACKEaMBAAAAxYjRAAAAgGLEaAAAAEAxYjQAAACgGDEaAAAAUOzm/m6Au7W2/tD6w9//8Y/W/m4IAAAAXOymm7y8bv6xl5c7Iu6Prl+/7obNeIjW1h/+bvxbf7cCAAAAfejHqn9yQ5IeXEUdrT/8vb+bAAAAgL7lnsg3uGI0tRwAAAA3PPdEvsEVowEAAACXIEYDAAAAihGjAQAAAMWI0QAAAIBixGgAAABAMWI0AAAAoBgxGgAAAFCMGA0AAAAoRowGAAAAFCNGAwAAAIoRowEAAADFiNEAAACAYsRoAAAAQDFiNAAAAKAYMRoAAABQjBgNAAAAKEaMBgAAABQjRgMAAACKEaMBAAAAxYjRAAAAgGLEaAAAAEAxYjQAAACgGDEaAAAAUIwYDQAAAChGjAYAAAAUI0YDAAAAihGjAQAAAMWI0QAAAIBixGgAAABAMWI0AAAAoBgxGgAAAFCMGA0AAAAoRowGAAAAFCNGAwAAAIoRowEAAADFiNEAAACAYsRoAAAAQDFiNAAAAKAYMRoAAABQjBgNAAAAKHZzfzcANt38Y5WdpT/83ei2lgAAAMACvdEAAACAYsRoAAAAQDFiNAAAAKAYMRoAAABQjCGGN7TKvdqo0zJjzvS9D9zadckXufM/WGv655igL54N8+/2KhERGbZrw4xHfTsX1Z8+eOfe70z/fv7ppMyxfdZ0AAAAj0Zv9I3q0omh87Wn/IJmWFn2Re78Dz6dM715Z1Lzzum7pObOdZX17csq92qj/hz0xc6k5p1JX8yR5JUH9ze1Lao/ffDOvcPO7kxq3pnU/PQda1/R5l5yz84AAAB4GmL0Dampcs4rcnZnUuZ4Kwsr936wdkzQy23907c+uihoxuUarSkQXzoRdXrYrkVtndP+D0TtGvNd8rEvTOt8Zu93zz89Jcy0lrFTzj4gaw925m8AAIDBhBjtTvrDKyOifmH6b/Onfbgh37C9O9vzrqVvdX+WGff/rKOKo/7i/xwUWfvxFyJSf+U7GfPPP++o4mj6U9llkdN1lSLyzdWDckd0ZxXHF6dOi1z+n/9qEgAAgMGHGO02n2z5xb+/IqsO/u7c2d+dO/u7X/xu6yf90g795ctyz8i2UunKvdo7G4LPPiDy57/Wi9Q3fCc/vaUtYV86MXTl1fSn7xD5TtdkStjD2xY1Vc6ZXz3m6aAZ8t3lb/plLwAAAPoXQwzd5NOti/fLrzZvmN4+1G/cE4sdv+rb/1z122MfWT46ofDxpHt62pCmv34qco+IyLf7171fdv/05gdurdz7gWlzuj+L/FTEVAb9wT9/sTPM/9IJ0+vqG9pGFsqlE0NfkbM7Z4Q1VZb1tBUAAAADHDHaPfS6L0V+9Qul4ffWX65//JeubYnvLfeImEYZytNJezuKNH56i7/cqvmpiGmUodzf/Oyd7cuGaXzF32+Y/NksXrcvGnOba9sHAAAwIFDUMej4jBkja1+pHrOhY7q6b3V/blvm7zdMTn+Q7ze9eU5bhq6/0tYJ7T9ymFyuiWoIbu6YHe+bqwfd2nIAAADPQW+0e/hoRot8qftWxt3q+Mmd+qCoo63L2XIc4fMz7hRTVhaJH9/RyG//64Pv5IHgMBG5bfgM+fqeiR1d1FL58dcyJujnZrNKAwAADBrEaDe555FV981cP2Or5uzicSIi8smWrfJE279t6oOiDpGwB4NmrKx55vTP9j5wq8i3+7fVHBwT9LKpZ3ps6K4x7ydvq/z5s2H+IvWnzyZfHrZr0Z0iIr5h6Q/URL1yIto0B8ilE1Gn5fmnu9y3BQAAYND40fXr1/u7De7zt++/c/ykPvTJll8s3t/2719t/t0S+13KN/9YZWfpD3832ln67f517ydftnjwjrMds+A1Vc5ZWdNWkvHA/R0lHN1ea/YSEbF7g0MAAACP8U9DhvX1JojRnqs3MRoAAGAwc0OMZoghAAAAoBgxGgAAAFCMGA0AAAAoxkwdnovqZwAAAI9FbzQAAACgGDEaAAAAUIwYDQAAAChGjAYAAAAUI0YDAAAAihGjAQAAAMWI0QAAAIBixGgAAABAMW6/4ukyN7xp8UjuygXmS83/1/l1Wn1V77dlsYYetK33OtpgsXXXvld98SoAADCAEKM9Xfc01j3sdmf1OQ6DndVtORkHTVvsnlyd2a4LmTfYycb3OPLaP+sAAAA3NmK0G339wau/lccW3T9CavduKJcHF8wZ38M1mSdF+08w13ddpLbWbHqwZ9ttPLnv1f/+TjSRuY8Gdlnw9Qevaj9rNP2761KLDeWuXOD+XQYAAIMEMdqNGq82ynARka/138iwkBH93R5HuidFW73LpsDafVEPe6O//uBV7Wfyr3ffI599am3RbQ8ueGq8iNTu3VCeuV8sczYAAEDfI0a71y0+vQzPpmjrTF1HL1ntbbUTiDs6np18vm21e7X/LyRpweQ7avf+t8Ui/ZnfftaoiXyqrRc/cM6DlzOP/fHM14GT71C+HQAAgF4gRrvFxaOZxxpERKQhc0O56bET2jdP/J+7n1p0v5PB2rxn12FRR8dSW0HWfj9xjysWXFHnEDhnpa3eZX39/8o993cu/bSmQUSqPtFPvsNHulVx9G/dhfvrwgEAgDsRo91i/NTc8fLp/jf3SmTuo4GNJ/e9evn/OhOgzVOyawNZz+J1P+tSDKM/s+29qjGRU/5afuJbvYiP6VHzrvr+3QsPfQ8BAICLEKPdasStPoqe34O5NXrMYYC2n7wdckFTG6+2jSxsH6P51Hj9mcvObohcCwAAXIgY7Tb6xr+K3Coi8s233ykqkraTU52Phg4rHLrPquFkgYT74umI4SPkmjR+8Gpb8XT7w2YnJ/brWEjSAADAVYjRbqA/s+29E/8rIiL//V5m27C58swN5fc4N+ednfA3uKLhHT63yWcnjl2dszLxnraH9PX/21dbc8M4TgAAMHARo93AZ/KiBZOlosQcfQAAIABJREFUdu+GP/onJU6+w1TU+/BTMQoKPBTND23rmU7WPfcgProrzfv4/x/59JYx93Q8cPHypzJsyrgu76TS9tua+cTq3CP2eXRlOQAAcClitLt8rf9GxF/E1IF62whlGVpRMjNPfj0YpOjkNCD9wWfy/X4njpXvvRg4xzRv9LEG0URazHbXgxruHgRfq+HbqfW03T5m2JSkRObpAwBg4CJGu9NPRrglNrm8N7Rjsmr39LN+uv/Nvbr2/9GVZ24ol47QOX5qrhzNPPZm5jERkRH/+nCukk591+rhu9E5UBIAAAxgP7p+/Xp/t8F9/vb9d/3dhB5ybU+q/UBsPmGcRZWCnaIF+13X7qxz6H0BjMXaXP4OAwCAvvZPQ4b19SaI0QAAALjRuCFG39TXGwAAAABuPMRoAAAAQDFiNAAAAKAYMRoAAABQjBgNAAAAKEaMBgAAABQjRgMAAACKEaMBAAAAxYjRAAAAgGLEaAAAAEAxYjQAAACgGDEaAAAAUIwYDQAAAChGjAYAAAAUI0YDAAAAihGjAQAAAMWI0QAAAIBixGgAAABAMWI0AAAAoBgxGgAAAFCMGA0AAAAoRowGAAAAFCNGAwAAAIoRowEAAADFiNEAAACAYsRoAAAAQDFiNAAAAKAYMRoAAABQjBgNAAAAKEaMBgAAABQjRgMAAACKEaMBAAAAxYjRAAAAgGLEaAAAAEAxYjQAAACgGDEaAAAAUIwYDQAAAChGjAYAAAAUI0YDAAAAihGjAQAAAMWI0QAAAIBixGgAAABAscEVo2+6yau/mwAAAIC+5Z7IN7hitNfNP+7vJgAAAKBvuSfy/ej69etu2IznaG39ofWHv//jH6393RAAAAC42E03eXnd/GMvr5vdsK1BF6MBAACA3htcRR0AAACASxCjAQAAAMWI0QAAAIBixGgAAABAMWI0AAAAoBgxGgAAAFCMGA0AAAAoRowGAAAAFCNGAwAAAIoRowEAAADFiNEAAACAYsRoAAAAQDFiNAAAAKAYMRoAAABQjBgNAAAAKEaMBgAAABQjRgMAAACKEaMBAAAAxYjRAAAAgGLEaAAAAEAxYjQAAACgGDEaAAAAUIwYDQAAAChGjAYAAAAUI0YDAAAAihGjAQAAAMWI0QAAAIBixGgAAABAMWI0AAAAoBgxGgAAAFCMGA0AAAAoRowGAAAAFCNGAwAAAIoRowEAAADFiNEAAACAYsRoAAAAQDFiNAAAAKAYMRoAAABQ7Ob+bsAAVJV338IvV79fGD/C1jMu5IfN0z1/Mi/Ot+vjTWXLYnLG7P5w6YTur9EfSnto7Tm7G46wu1H7Tb2QHzaveK71TTvWWFm8ZUdZRaXuqqhGBIXHzpufPDVQ3bm8uiAk9XLW4dcSfJSv29FrbbZc0UadeHtl9vaq9BBnmmy+ztFFlRnBdj9ZaTXoKo4cOFR68bO62sYWERHx9gkMCPhZxJSHZ8WH+Fp5icdqNdSeLNq550hFbZNRRK0JC49LSZ8d5uPVtrw334R+NnB3beC2XET/kTZ/b2nFR3UGsXJsMfsTu5HZ+oAcf3CNpRnTszVWDly2foPsv2qQMzuM23+LrtZVnCopK7tQravRfy8iIkN8AzWjA8KnzkxICFb0G22P3Q+xKu++hVr7r1f6i9bJ1u47sdGebLpzc01ly2JyxEMPVrYQo21wnJX7QpLNH4yqvPsWfunOpnQwVhWmPLnPL71o8+ogH5XI1brjOzKSFlSufz0raqT9l17ID5tX3P3h8H74I/GJK/wwzvbixtKM6dnWF7U2nS/etG3f6erGFtWI8ZMT08wDimONp3LSlp+5PWnpgk2LAv3VQ9seNl6t/7x837aVMQUTc3e/NNXP+RX2o9b6spUzcr6atjq75MVAX5WXGL+q3Ll26UOHEot2ZQQPdbwCzzVwd23gtlxaqgtmpR5QJ28oPPyav8pLjPqaY1syk6YfXl1SGO/g2CIiIq0tDdVHyt47WnH+gukEVTUiaHxoxJSHEx4M9lfZ/JuycVzqwvahWPGq+ueI5xZNZcticiqceKL1d6A3H4QTr7W2Uev9KUo+IP3Z7CUrT/rOzVj0Utpdfuq2r1lri6Gh5sx7mzOm501cU7J+mr+DtTSWZkzPtvrOhdvKzVYo71kzaTXUHil8Zdt71Y0tMjwgKm6hRb+YTSEZH1ZmmD9gOL78l8+fmvnaRyvCvZ3btt1zg4GJGO0S1v6k18bct7bz/3p+XmhXdUFI6h5rC1x14G6tKc7a4b2kdP0jAW2PDA+IXVHUsizmhc0Rh1+KtvunNyG9siq9e4Mv29+ktUPznnn3me2mkgON87xV3f8ajBd2zV947K5VL+7NDRwucrWmrCAzYd5Dm3emBKucWml16eqyIRklryVpuv6oq4b7B8dlFN7tm/SrNWWPTV08ziW70LcMZwtzyu9d/dusjoijGhW2+LUC468WZu2fdjA5qF9b1ysDd9cGbsuldk/WHuPsN4oWT2z7AVb5BMWvLhT9QzmbT012cGwRaa7ZtWzezuYHFi/KfHVlgI/phKG5Sffxkbc2ztg4NHXHaymB1s8irByXzOkPpT201vZiJatqO5pZ34RFmMt+KKzzTL5vDnEu5xv/WlV8z1/emw/C/mutv+1ipT/F5jNtuPBOVqlqWWnh7IAuD3t5q0dNiF+6fbzPrFkvl1ZPS3Pm+km3VHAhP2yeTkFjeqS1vmzljI1/SVxf9Pvwkd6mH7WkBZXrC7OilCby1pp33zylCQwq239k9qSEgdEZ1AcGYIy+enTVlMyzromJLdUFs5bokko2dPsGtCpaj8ODaV8JXlr14VIRUXidrvlCfvJCXfLhvGmOjtSXTu68ErYisushQ3wffDQxZ9nJj5+JjnLmFLY7i3Px8C4r792hucfu9et2EGk4tGmrIVW7OiHQ9PUYHhS/OvfbGbPyD00tesRRf4MrWTu1sCh00VcWFxS+feai/ntvn8jE9CeWxI7p0j1gvHx067bth87WGUQdPC110dKk0C5/Py2645u3vll6VmeQ4eNj51rpdNfpzklIWqhFN+HQsPBIKf68Ti9Bvfp7bDVU71myxLD8990KYxy13FN3zVqHk8UPp4e23Izhkx0ZS66l/65bj2Bvv2+ir7vUIBHhIV07sbz8QyPHy7Y6nYjdINJ0/Pl5W4dmHHwjscuhe6ivJjIpOzw6ePlDKc/7l26a6pl9wA4ujtljpcumYmGI2SM97aHsBVPetdyu6Sfpjar0iW5tDOwznMzLOX9v9jsZ4aYPa3hQ/Oo8Y2rCC29Fn3wmwrneIRERaa0vey5156iskg1h1c/Nynj1ts1PRSi4TnsDGXAxuqV6T+FZF63L+PHmrANBL/7WyllUbfUpkfqKPxriY3uWEz3b0AmLX5ibtGTN8dDCWPsH3B+MRlFJt/dHNdRbxHDte5GevT0jEvIqE0z/tNk/3Vxf8W5h8aFz53UGEW+fwIjYuamPxwSp3feHaqj940WJWR5ovkWvoIkxsvVPdUZxKkYHJ+TEn1qeuqxp6YLEyd2LOgq0xrhN8WMdrqbp2zpRTcvMm2p2PuM7uvPfV0ozZmWfvytpxUtpflJfsWd91vwvW8yujBur8pIWaiUqY0VBkM/VmgNv5qX9usnson9LdcGs1D0StXR1YaCPvnbfWwULl1zdrV06wfyoqtFEyLby81cSu1xwb66sKBe/hIDe5BXDpdKCdevLaltkruUiRy334F27qteJd+yKgrifdj7mq3F+1/r5Q5GrNWVb1mx8r8YoSZaLevt9ExHxCRjrJ6UVVS2hE82SdGv9+fKLEjZPI3ZdKT9ULrO3J1rvAPPyn5mclL+w9L+uTHWqOKSfGGqPvl1ceraiUndVREStCZoYmfhYov3i2n7rsrHDZ9RoEa2uQaRLjK4/L6K50XLVhP/ITji7MilNn7Ho4ZjuRR0Fe1ricxM8uJS//vi+U6qZu7v87nsFxD42dWPm4YonIpzsFzPUlha8mFdz95qSZ6L9vMTvpVJ1QdqsX1flvpQW6t5TOE8w0GJ07Z51B1SakeKCCx+tNcUva33SD0cN77bIeOFYab1qiPfZnMKKyMxwp+sLDbpzh3Zpy9oOi94+gRGTExIff1hJKW3vGJtbRJwqUVKNS02f9m+rtJWTV4TZOwG9WaUSY/e+eWNzi4j6J0Psb8RWbbQT7Wu+kJ88ryI468U31gT6eEtri/6r028/N2/G2TUluX3Qw9RQVyES1ZNXalPD2odcjLG2fET06t+Uz644cqB4+YGuQwyDg6dN2XDSuSGGLdeuSGhKdOgkq082nN28vuL2NO0bKabEHzrRX361MCf/6OTcqWoRaa0pztE2TMktzZ7q4yUiYaHj1Rn/np31m2kHFwSJiNTuWbenIXbt4exYXxGRSWHB6rQZOauLYw4nm0V8dVRadvSsrCezJXvJg2ZluAfUKZsf7WnxwFelGb9eX9EogQ9PC68ttSwWdNhyT9615msNcm9yVJj13xVPbrnUly2ft7G8SQITHgyvKbP8VHr9fTMJnJu94OSSjFTVhtz5oZ210TmfRWfvdlTR8Ze683LvFD/bT/ALCBWt7i8i3WO07bJUM6MdLFdk5G3dd8dwKvOhzJoHn8/dvDKovSKlvvrojnX/sS++qGR2oKN16i+UFWuLD53SXRUZHhAanpD8RJKiBFPcpQ+7mx6PR+/wg9EoYZrbbT/B/R+Ezdpos3+bFRBaPZfzicoqOZFUcark7ef2dR1iOGF8zNS89104xNChcznTQ+xVpHT/EI11uk9k8mOW76r67rBQyb54OTfK7tVso6Gp4bPysr15xZ+PXby2dHXH75GXb/iykpKPd2TNmZQVnLjo0YSf3+3no7YZRXT6JhHPr1ly1oCK0a01u54r9Htqe9TZhUqKmawzni/d+ZfEvLjufYot1dvWFHunad+/9/SvF65aqM57Iy3UiVM0/fHls57/crLZYbFtrM8+58f6mGUyKyLsvbTZ2CQieoOId9eCaVuv8g6PT/Wdt+9MSlhs9xOJDmNj5o/cUXy8Jr5LkWXTsf37VFM2TXTibbFe5GevqENEpHb/6uJhmSWrE9o6M7y8fTRT0wulYcqatz56YMUkJ0czKOLva/k+qAP/Zbxo/1D7xITODunWuurzEhwf0H7ukdQ5U4etFXupNZGJKyITe9601hZ7SxtPlp1oiVqb2NnIoWHxjwUVb/z9x4apUWqR6iM7df7z2zKNiIiMnDbzkeyMsnO1C4ICRaqPF+lGpr4Y0/kx+U2bNTMnreyjmuSxZp+7l3/sS0cCThbtXDdrY+ekEAWlisZcWtDXf35XYnZeamzgl/nvdYvRjlru0btmvzDMk1suTQ2fB81cm/Z4TJBuS6lljO71962dd/CiktIQbf7etIeWdszUsVD7rhOjnfwCwmWfZfenuYa68xIRZTtn99FgFeuGqrt3Veg+O2p8dPvqOLOPcqh/8CNLZpfHbDxzYXag3Qh7pTRj1nrD7IK89zb5DRUx1lfvy8uYnhC3vSQ9xIljo9nFQNfwC7DRN2LlSqYFt34QbeyOH53bOVOHzRUMDwh/JDP8kT5pnIWK9kFWlm9Ut9F+Trn6TYOIxqfbH5jPbZpuZ1aWZxHNF7b+evl5v+j4R7X/GR7Q/bKwz8SUwqNzG6qPHCjO3Pa876Ld1gYK6xt0Ig1Xr0m3UxoHF6A82ACK0S3VWzK3+mUdjBt93gVVHS3nz+4zTiscb3l4a9HtX77k0Ojs3SmBagncfTDg5eUZj1ycvzYn2XpHYIeaQ1tOqReVmB8WVaPCFr+26duotLfOJjmsQu5FtZyIiL66XDfEu/azGmNcRGfBtP35PcZGxI8sPF7eFGtnLItX0OzslNNPpq5SFz0dZ5qpo6asIDOnIbFwu6MeIzscFHU01VTVy78EWV4QHO7nJy26RkNnj3tF+7gcG30nzsxz1yEjYp+ImBcX+sUtX1y68IUcnxeXJnQMMdzamrbZytlXX9LX60Q0o6x/TMY/1VRI0Iq7unwamsAwEa2pd0FXW2mUiMAuneXed90dIe9W1TRK4Ii6z8+3SHjXd1sVFBguB6ouWRbXeqkDYzPWxyo/fNsSknbY9o+oo5Z79K7pG74UGR1gI+d5cstFJix+v9DWsl5/37qszWdSUvakbkUjDo2IiZ+yftWufTM3WavraK0/sEsrUzZN9uDry5q7p6pezMsPzn0ssm18pNFQ//mJHcUVAbNTzLK1lUNc/YFns3UJ20sWtV9IVPkHz91U5J00K2vz5HcynBz97HJ6vcG8yM+g/0ZktF8/FqePGe2ZlfGKuHOwaWdSt3oWMXRC+t6TDlbh5e0XkpAekmCr7sj4eVWFiJy5WLssLLAj89g/afF4AyZGG6s2rzvgv7okwc+ryRXrq7l4RGJf6FJlKMa64xsz11WNfXF3+1RuXv6xq0tCo7X5BWkbWwtXhPfw26z2Nush6Lhm1PurZp3qz5T+YWZ6RnV++cWnIkKdPYwGTYzx3vrRBUOcvUCsCknTvhNWvCVvybb2eaMTlh9cHuHXh3Np+QaF+Mvva3StE7rEiMYvdeLdJU06Gmnay5MTUU1I3n14XPGmV+asb5/wLrN0teN+PkXxvZ2DsUFtXQVDfAMnTXssJTW2vcvOoK8XmeBn0fHmFxAuomtokhBfw19qZGyCX9dvhc+o0SL7GhpFRlxruCSBD/l3Xe4bMEbkQH2DSD/+FDlqucMn9PuutV1f6j4jsse33KZef99c0gp11Ord6c+kzppXtXjRwtiJXWfq2La54paMHat7cZ6vUNcJnp2a0ksdnXt41NG3dmQu2VRjqo021Wak788I15j9XnQ/xDVWVnwiUemWxXiayITQjTs+1mUEt3f4d3RkuvS3xpoRozUiuuYW8xhtbDaI3OZ9g9RGOz21n7m+mOjQ6ZmbzXXm4+G3+XU74RER0X+jk7ApdipwXMNw5tA+v0cSg989eVGXEjhw+5+7GiAx+krpqif3+a046LLxIo1f1n7vP36U+TepqeLVrAOSqN2VoOkaEJ3rLwmKWxSxc01mzojcRdHmRR3LyzRJRfebbajrEc0lectYta/4u9T1D0+763xk8fHUUKdPXv0098qBSzqJdjAkYkTY7DVhs20vD15a9aGNRaZDuVoTNHKIiIjxSo3uqkhk7mG7g+gDH82ZfWTeqhzVi09MM6uNXt8Ql/Osm68AevmGzs0N7Tb0zb7exncLqpDZBdtN77/+f04d2qbNmlP+efsF3AbdOZEkK5eNxVRX0FR3WeQWlbVI0WL8wXRyIr5DrC3/3tj2j9odM+YUNrQ/rNYE+Vyt0bX4BmpM37SWK5fqDJJU1IOLjPY4arln75rq7qTCAtNxQ687W7ptT+bZ8kvt9V0e3XL7evt9ExHDqazo5cfbH1WNCNJIXW2jSjO27bRBr6vRfx+x+v3Cn9tpx9Cg2QXlsVWl77yX+9TLXeeNXnE425PuaqSy0a+hDpyavmFqurjwlhNNfzN2/o9lR2YvE1h3FrV5Xed4FRGRc+1liv0wf4ht2tQwrQxp/0vR19U2tsjErINvRNp+SZ/MH2W1PN3B0KGe1XJ0UAUFhsvGz77Mju5yWmW4eO78yLB0O/nKJV8e3ZEDp8bPfjdD4/VvOYcuxHcdLT1wDYQY3Xwh/8nshpm7tS68kn5Vr5OAroMLfcOf0Toz+E1CMj6stPKwz7TCwz87+taONUkb24YdmIoUD9stUrSZtxpLM6afinLm0NNaV5a/L3jRyUAvtebhxHUriyqinR0W6TNqdOevsj1279Jn825bvRhUPnRC+q7Doe8W5v86z2ymjt1FMUGeM3OK2WfXx5P0DQ8IndQ+R8eksNip0/KT5xVn7XnwYEqgezp7AlMOVqaYP1BdEJJ6ecmr3e+75pbmuFKf7Zp6TFhoe2FD6KSp8bF5SQu1lsPsemPgfijq6OzKKvOLuKa7FT6727JiVe9oTT4hCYtDEhYrb4KDAXbiqh5cg/GvEurn0hqwEWHh46T4bOXikC4d0rry0vNDHk62MzaxlwnMSktcUGPtrg+ijd0ODpdc6HaOy8vTneU7OW7qxsyisplmhcutdcf3nQpOyrA3rtXWl6cq776FWucK3JuOF+Tp526PH+Wtik9VzSk6NtO5uyx5PI+P0a31Zc8vPDAqq+QJl564NF9rcPwkxdp7F9x5n56W6i0Z+besKY1Wi4hqUuqzoQ+tKohUNgFkv7LZkz3UP3xubrjCbmBbenmvdZu3uTFn647ljl6oeJDN0AmLlyUWLyutuJwSGCjq24NEpKVVuo/mUQ/1FlH5jhTRibVRiv4/Gdp2mU9ndRTjyJ/0xVhOp6kdtNzhEzxp11QhS9If0bYPsxtILbfQ2+9bv+uWYPryZunXjN+rLd8o/dGMqZndCgS63H5F7F1G8J+5Lqti1tIlQwqy54Z1DjEsMMzenuF0RZ8H6OMPws/2TBE2mPWG2Iy5LrwFZu/09Gbg6qi0Z6NnZT2Z6/t6RsftV/JvySp5uG8H/DQcWrPuT4l5ayeoRCRwbvojRas2loZ2v2XHAOTxMbp6X055i0j2jPstKtCzHwrL7vl56s22rrOJ9Dpy9UxPjiCmO1Yc8H/2nY4CCd/YFauOz1q+5Pbdm5ODPOGI6lTVio0aMlf/vNn+1BpLM6afsvPKzlGb1tmcqcPBC3s6tEI11Fuk/lqziIh6mK9ITUNj17m9GuvPi//8UWoRUQ/3lo/rGlrF/IClb/hSZLxmpIhKPWyInNfVS5eZsJsadCLBARadBR33WTC/H4/lqYJT13Sc4e2g5Q6f4Fm75q0eKnLlWoszu+ZZLe+it983c+1dWY9Z7o75EcPFU56514TZ+8sty+F8puZVTnXmxTYvI4xMyDs4uqxYm/Hwwo4J73Lf3+TshHeK7tU1IBmMfxWNj71urJ52cLjwFpjSqztjO7i2cCE/bJ71Jaa5fY4U5j8Zk6EztA346dXEPo41HM/OWFs/c/um0LYTae/wpdtnJs/L2DJaO/BLOzw+RmsSCgsspmzTV2zJLJak7CcifHx7eoQd4R8q54zNdp5h+4TS/vQXbnWt7k8y+/VNXaZSH5mw/vX6VR9da2kVh99OfcOXMsTpS8xd78htycbvtMMqYSduD26dnYLsG57hL/UiQX7DRUR87o4MlNzauhYZ2dn7ovvsnHFIxDiNiMhdwQ+LVOq+ktDOIR0tn1efk3GZgWoRCRo/TeSPdToJ61xurKkul+BnnCqhMT9V6PGnaZWjlg+sXTM0NIiM9Vc7tWse1fIuev19c7R+syOGwlAy4FzID5snPYuzPhPil26Kt3duP5hda7hk5WqJJTtDAAf43BEOeKkD4zIL4zLdtLlWQ4Pu8l1rCrvMxjh0QvrrWfqNf/jcMMGD71bjFI+P0eZVoW2aGn4jIgGhk8J63kk5YnTgkJrqy4aZGheU2tbueihpS73lo2tj7tvYMdxH5Hv/mYVKvrXO1E55+ce/ZOWyjiokLc+543LDV3+QyARnx8va7vt37e/0jcSZPg/F45WbL7z15ikZlxlueqUmIn6cbNzx3sxJiW0TmzRXlr1d45e0xnSFVxUaPXPIvvx95+I7Sn2uHDnwrkStneYnIuIdGpWoejfvQMXDK8LbDnMNR0oOSHR2tM3LfO45h3HU8oG0a8aqordOSfAzEZqB1nJLvf2+WeHiIbk3isHcU9ArRoNRROPXF0WVzhR1uOr6yYT0yiqbC50p6nBRO3rLSx26SBva/fGRCdmbRETkezc3yMU8PkY7wfhJYdL8fZq1petjnf+zCRo/TYr/eOnZaLv38HNOYPLhD5OdeWJTWa+35VJ1n1e0BMd70KC9G1Ovpz3SH898pSpkclSAj4ix8VxxgfZ8S8Tq1xPbQ4l/fEbKgfm5qcvqlz4a4Sd1J7bllXknFf2q/TqDKuzxZyLK1ixPMSx5LC7I5+rFXZsKL0ZmlcS0ffKqSanPRr6XlTnPkDIvLtBH/8mOjdsuhD9/0N59eWzo9sNvOPtc5Cp14e97VqzvqOUevGtNx9fkVgfHRP2zj4ixoVJbsKeyJdKsANFzW+5Qb79vzusWr3sz75j911qUJlu8thsrIabrGqxMW9EvtxrpI/31QSjZbsfgRVdPPOfOuZztcksRNhy5EWJ0j3iHRiXKylMX08MG0pgM17p0qvjS+NkvufdOIlBOdfsYqS5a926T0TQDcVyuNrnLnd5U49K0v/HPf3nzxuVa4xDf4GmrtE8kBJoN5/KZVlh6+45XXi7KWmqQ4QFRidtLk82L4XxjNxz22ZW7cU/m8aui1kQ/VnDY0f2GnNP65cXybhO0K+Go5R67a95+Gnn7rTUHGltM88zErS15PCZIPQBa7livv2891pspcVw6nY7LZ70YYPrrg+jjOZEA5QZijLb8Q1KNSyupTFO6FlVowvzbZ9meZbkX9+XusQobJ+IdlA6ptDE3n4iItFSUFTU9sil+lNNr61FtdG85ek+UdAycy5keYvs28hFRylrmNIcfq6POEnVIyvq9KbaXi4ioxiSs2J6wwvYTfCamrN9veyVevqELNpUssL8RE/tvo4h5r9tXNee/nzo/zJluSJtjdxy03EN3TR2cvEnr6CKVR7a8C1tjZHv7fTPjcMozj+n86xMOd7+P+rAdbLev79jiCRwdmW2V21VYu9RgTtE31tHa7HQ5208pfXP/l77Qb9P/ucaPrl+/3t9t6DfGj/NmZXyT/tvcKOXXSQc64yeFSUtqHn+nMNZTpsTHDchwKvOXh8IGxqFcoYG7awO35QDgaW7q7wb0J9XEJdkza15YW9rQ2t9NcbPmC1tf3OP3zBoyNPrU59VHw6Mjb8i4NnB3beC2HAA8zaDujQYAAAB6ZlD3RgMAAAA9Q4wGAAAAFCNGAwAAAIoRowEAAADFiNEAAACx8Z7GAAACDElEQVSAYsRoAAAAQDFiNAAAAKAYMRoAAABQjBgNAAAAKEaMBgAAABS7ub8b4BEMunPH95WWfVxZqzOIiAzxDRx/b/iUWfGxE/xU/d04AAAAeJ4fXb9+vb/b0K9amyoK0laVyuSUtMdj79WM8BYRaW3Rf/WH41s25X/knfz67sUh3v3dSgAAAHiWwR6jG95NmpH/k9V7C+NHdV/YoitePmubZL9TGDvC/U0DAACA5xrktdE1J7QX/ZLSrGVoEfHWJKbOlnOHKurd3CwAAAB4uEEeo1uuXRHNCF+by738Nf8i579qcmOTAAAAMAAM8hjt/ZORomu0nZJb63V/lNBRtnM2AAAABqVBHqOD4lIiGrSFZVesL254r6j4+4gp4f7ubRUAAAA83WAfYiithvM7UjOK5cH0jNmRE7rM1LGjcGu5zM4rWjxR3d+tBAAAgGcZ9DFaRKSpbFlMTsP4UFXDxdomo4iIWjPWV3+pzjB394dLJ/R38wAAAOBxuP1Ku8jlhV0S84X8sHnF/dYaAAAAeLRBXhsNAAAA9AQxGgAAAFCMGA0AAAAoRowGAAAAFBukM3XoD6U9tPacwhdFrH6/MH6EGD8pTJq/T7O2dH0st2UBAAAYpAbpTB0+cYUfxvV3IwAAADBgDdLeaAAAAKA3qI0GAAAAFCNGAwAAAIoRowEAAADFiNEAAACAYv8frsZpxV072pgAAAAASUVORK5CYII=)\n",
        "\n"
      ],
      "metadata": {
        "id": "b3LN7sstEAYY"
      }
    },
    {
      "cell_type": "code",
      "source": [
        "#1번\n",
        "# a = 100\n",
        "# (a > 100) and (a < 200) False\n",
        "# (a > 100) or (a < 200) True\n",
        "# (a >= 100) and (a <= 200) True\n",
        "# (a >= 100) or (a <= 200) True"
      ],
      "metadata": {
        "id": "_QC5yiHVD_DG"
      },
      "execution_count": null,
      "outputs": []
    },
    {
      "cell_type": "code",
      "source": [
        "#2번\n",
        "b = 25\n",
        "(b % 2 == 0) and (b % 5 == 0)\n",
        "#False"
      ],
      "metadata": {
        "colab": {
          "base_uri": "https://localhost:8080/"
        },
        "id": "cBueKxKgEIoR",
        "outputId": "55e486c1-1830-4627-8f89-eaa54027b0c3"
      },
      "execution_count": null,
      "outputs": [
        {
          "output_type": "execute_result",
          "data": {
            "text/plain": [
              "False"
            ]
          },
          "metadata": {},
          "execution_count": 92
        }
      ]
    },
    {
      "cell_type": "code",
      "source": [
        "#3번 변수 c 안에 들어있는 가격을 100원짜리로 몇개로 거슬러 줄 수 있는지 출력해주세요\n",
        "\n",
        "c = 1000\n",
        "# 결과값은 10입니다.\n",
        "d = c / 100\n",
        "print(int(d),'개')\n",
        "\n",
        "\n",
        "# c = 1000\n",
        "# c / 100\n",
        "# c // 100"
      ],
      "metadata": {
        "colab": {
          "base_uri": "https://localhost:8080/"
        },
        "id": "8Hmf92taEKca",
        "outputId": "1b794855-59f7-4520-d385-081ea5e50ce0"
      },
      "execution_count": null,
      "outputs": [
        {
          "output_type": "stream",
          "name": "stdout",
          "text": [
            "10 개\n"
          ]
        }
      ]
    },
    {
      "cell_type": "code",
      "source": [
        "# #4번\n",
        "# # 그리디 알고리즘\n",
        "# user_money = input(\"금액을 입력해주세요\")\n",
        "# coin_types = [5000, 1000, 500, 100]\n",
        "\n",
        "# for user_money in coin_types:\n",
        "\n",
        "#     count += n // coin # 해당 화폐로 거슬러 줄 수 있는 동전의 개수 세기\n",
        "#     n %= user_money\n",
        "\n",
        "# print(count)\n",
        "\n",
        "#4번\n",
        "# 그리디 알고리즘(욕심쟁이 알고리즘)\n",
        "남은금액 = int(input())\n",
        "\n",
        "오천원 = 남은금액 // 5000\n",
        "남은금액 = 남은금액 % 5000\n",
        "# 남은금액 = 남은금액 - ( 5000 * 오천원 )\n",
        "\n",
        "천원 = 남은금액 // 1000\n",
        "남은금액 = 남은금액 % 1000\n",
        "\n",
        "오백원 = 남은금액 // 500\n",
        "남은금액 = 남은금액 % 500\n",
        "\n",
        "백원 = 남은금액 // 100\n",
        "남은금액 = 남은금액 % 100\n",
        "\n",
        "print(오천원, 천원, 오백원, 백원)"
      ],
      "metadata": {
        "colab": {
          "base_uri": "https://localhost:8080/"
        },
        "id": "j0tB8BZrEKx_",
        "outputId": "d5000915-8aa4-4fbd-adde-f5dcf9e86ac1"
      },
      "execution_count": null,
      "outputs": [
        {
          "output_type": "stream",
          "name": "stdout",
          "text": [
            "8800\n",
            "1 3 1 3\n"
          ]
        }
      ]
    },
    {
      "cell_type": "code",
      "source": [
        "a = [1, 2, 3]\n",
        "b = [1, 2, 3]\n",
        "\n",
        "id(a) #5152\n",
        "\n",
        "id(b) #9280"
      ],
      "metadata": {
        "colab": {
          "base_uri": "https://localhost:8080/"
        },
        "id": "_WMIiY0TLwjj",
        "outputId": "5fd5a589-2ea5-49b6-cf3d-b2ccc27c99bd"
      },
      "execution_count": null,
      "outputs": [
        {
          "output_type": "execute_result",
          "data": {
            "text/plain": [
              "140649529625984"
            ]
          },
          "metadata": {},
          "execution_count": 106
        }
      ]
    },
    {
      "cell_type": "code",
      "source": [
        "a == b # 값이 같은 것과 메모리에 같은 공간에 저장되어 있다는 얘기는 다른 이야기다"
      ],
      "metadata": {
        "colab": {
          "base_uri": "https://localhost:8080/"
        },
        "id": "MTtlPMo4MK-1",
        "outputId": "42570be5-c940-4890-da89-7c1bf65395b4"
      },
      "execution_count": null,
      "outputs": [
        {
          "output_type": "execute_result",
          "data": {
            "text/plain": [
              "True"
            ]
          },
          "metadata": {},
          "execution_count": 107
        }
      ]
    }
  ]
}