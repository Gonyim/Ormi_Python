{
  "nbformat": 4,
  "nbformat_minor": 0,
  "metadata": {
    "colab": {
      "provenance": [],
      "authorship_tag": "ABX9TyPFY5Mh1/uFsQaz8xTi1TZV",
      "include_colab_link": true
    },
    "kernelspec": {
      "name": "python3",
      "display_name": "Python 3"
    },
    "language_info": {
      "name": "python"
    }
  },
  "cells": [
    {
      "cell_type": "markdown",
      "metadata": {
        "id": "view-in-github",
        "colab_type": "text"
      },
      "source": [
        "<a href=\"https://colab.research.google.com/github/Gonyim/Ormi_Python/blob/main/%ED%8C%8C%EC%9D%B4%EC%8D%AC_%EC%A4%91.ipynb\" target=\"_parent\"><img src=\"https://colab.research.google.com/assets/colab-badge.svg\" alt=\"Open In Colab\"/></a>"
      ]
    },
    {
      "cell_type": "code",
      "execution_count": null,
      "metadata": {
        "id": "t-0ajhf-CNa0"
      },
      "outputs": [],
      "source": [
        "# id, name, email이 각각 3번씩 반복\n",
        "# -> 이러한 현상을  보일러 플레이트(boiler-plate)라 함\n",
        "# -> print를 해도 필드값이 보이지 않아 불편\n",
        "class User:\n",
        "    def __init__(self, id, name, email):\n",
        "        self.id = id\n",
        "        self.name = name\n",
        "        self.email = email"
      ]
    },
    {
      "cell_type": "code",
      "source": [
        "# id, name, email이 각각 3번씩 반복\n",
        "# -> 이러한 현상을  보일러 플레이트(boiler-plate)라 함\n",
        "# -> print를 해도 필드값이 보이지 않아 불편\n",
        "class User:\n",
        "    def __init__(self, id, name, email):\n",
        "        self.id = id\n",
        "        self.name = name\n",
        "        self.email = email\n",
        "\n",
        "    def __repr__(self):\n",
        "        return (f'{self.__class__.__qualname__}{self.id, self.name, self.email}')\n",
        "\n",
        "user = User(123, 'hojun', 'hojun@gmail')\n",
        "user\n",
        "# User(123, 'hojun', 'hojun@gmail')"
      ],
      "metadata": {
        "colab": {
          "base_uri": "https://localhost:8080/"
        },
        "id": "S8XWs_A6DyxI",
        "outputId": "4544f011-b33e-4b20-e5d6-ddc0b7ccbe65"
      },
      "execution_count": null,
      "outputs": [
        {
          "output_type": "execute_result",
          "data": {
            "text/plain": [
              "User(123, 'hojun', 'hojun@gmail')"
            ]
          },
          "metadata": {},
          "execution_count": 3
        }
      ]
    },
    {
      "cell_type": "code",
      "source": [
        "from dataclasses import dataclass\n",
        "\n",
        "@dataclass\n",
        "class User:\n",
        "    id: int\n",
        "    name: str\n",
        "    email : str\n",
        "\n",
        "user = User(123, 'hojun', 'hojun@gmail')\n",
        "user"
      ],
      "metadata": {
        "colab": {
          "base_uri": "https://localhost:8080/"
        },
        "id": "1hobfwo-Ei6k",
        "outputId": "159cfff3-6cb1-480d-e629-14f789220fde"
      },
      "execution_count": null,
      "outputs": [
        {
          "output_type": "execute_result",
          "data": {
            "text/plain": [
              "User(id=123, name='hojun', email='hojun@gmail')"
            ]
          },
          "metadata": {},
          "execution_count": 4
        }
      ]
    },
    {
      "cell_type": "code",
      "source": [
        "x = {\"key1\": \"value1\"}\n",
        "y = {\"key2\": \"value2\"}\n",
        "z = x | y\n",
        "z"
      ],
      "metadata": {
        "colab": {
          "base_uri": "https://localhost:8080/"
        },
        "id": "8StYjowjFfrF",
        "outputId": "6f78bd09-251e-4190-a567-f9bc33c4a17f"
      },
      "execution_count": null,
      "outputs": [
        {
          "output_type": "execute_result",
          "data": {
            "text/plain": [
              "{'key1': 'value1', 'key2': 'value2'}"
            ]
          },
          "metadata": {},
          "execution_count": 6
        }
      ]
    },
    {
      "cell_type": "code",
      "source": [
        "x.update(y)\n",
        "x"
      ],
      "metadata": {
        "colab": {
          "base_uri": "https://localhost:8080/"
        },
        "id": "0x0hSxk4FiGi",
        "outputId": "b1b2854e-417b-49d6-a67a-6d32e3e4c167"
      },
      "execution_count": null,
      "outputs": [
        {
          "output_type": "execute_result",
          "data": {
            "text/plain": [
              "{'key1': 'value1', 'key2': 'value2'}"
            ]
          },
          "metadata": {},
          "execution_count": 8
        }
      ]
    },
    {
      "cell_type": "code",
      "source": [
        "# JSON 형태에서는 아래처럼 +연산자를 사용하는 경우가 종종 있어습니다.\n",
        "\n",
        "list(x.items()) + list(y.items())"
      ],
      "metadata": {
        "colab": {
          "base_uri": "https://localhost:8080/"
        },
        "id": "8B46SJzjFkcc",
        "outputId": "3847c677-ea46-4475-f5e6-aeddc1f82f63"
      },
      "execution_count": null,
      "outputs": [
        {
          "output_type": "execute_result",
          "data": {
            "text/plain": [
              "[('key1', 'value1'), ('key2', 'value2'), ('key2', 'value2')]"
            ]
          },
          "metadata": {},
          "execution_count": 9
        }
      ]
    },
    {
      "cell_type": "code",
      "source": [
        "# 기본적인 왈러스 연산자의 사용\n",
        "x = (n := 10) * 2\n",
        "print(x)  # 출력: 20\n",
        "print(n)  # 출력: 10"
      ],
      "metadata": {
        "colab": {
          "base_uri": "https://localhost:8080/"
        },
        "id": "bQ0BgBbyF1UO",
        "outputId": "1bfdcde3-c1e0-4a46-c714-baf9e7b86d41"
      },
      "execution_count": null,
      "outputs": [
        {
          "output_type": "stream",
          "name": "stdout",
          "text": [
            "20\n",
            "10\n"
          ]
        }
      ]
    },
    {
      "cell_type": "code",
      "source": [
        "# 왈러스 연산자가 없을 때의 코드\n",
        "import random\n",
        "\n",
        "while True:\n",
        "    x = random.randint(0, 10)\n",
        "    if x == 7:\n",
        "        break\n",
        "    print(x)\n",
        "\n",
        "# 왈러스 연산자를 사용한 코드\n",
        "import random\n",
        "while (x := random.randint(0, 10)) != 7:\n",
        "    print(x)"
      ],
      "metadata": {
        "id": "uEI4x42eGQGP"
      },
      "execution_count": null,
      "outputs": []
    },
    {
      "cell_type": "code",
      "source": [
        "count = 0\n",
        "s = 0\n",
        "while count <= 10:\n",
        "    s += count\n",
        "    count += 1\n",
        "\n",
        "s"
      ],
      "metadata": {
        "colab": {
          "base_uri": "https://localhost:8080/"
        },
        "id": "q2jTj4amGlLV",
        "outputId": "8ad4d99b-206d-489e-b2a8-0e29a4d16dc4"
      },
      "execution_count": null,
      "outputs": [
        {
          "output_type": "execute_result",
          "data": {
            "text/plain": [
              "55"
            ]
          },
          "metadata": {},
          "execution_count": 13
        }
      ]
    },
    {
      "cell_type": "code",
      "source": [
        "count = 0\n",
        "s = 0\n",
        "while (count := count+1) <= 10:\n",
        "    s += count\n",
        "s"
      ],
      "metadata": {
        "id": "oMPk9A_VHzfx"
      },
      "execution_count": null,
      "outputs": []
    },
    {
      "cell_type": "code",
      "source": [
        "# f-string (아래 문법들은 정규표현식에서 자주 사용)\n",
        "\n",
        "f'{{1, 2, 3}}'\n",
        "f'{{{1, 2, 3}}}'"
      ],
      "metadata": {
        "colab": {
          "base_uri": "https://localhost:8080/",
          "height": 35
        },
        "id": "XRtUw4GmIXw8",
        "outputId": "326f978a-9cca-4f3a-da0b-39c5fb9b6644"
      },
      "execution_count": null,
      "outputs": [
        {
          "output_type": "execute_result",
          "data": {
            "text/plain": [
              "'{(1, 2, 3)}'"
            ],
            "application/vnd.google.colaboratory.intrinsic+json": {
              "type": "string"
            }
          },
          "metadata": {},
          "execution_count": 19
        }
      ]
    },
    {
      "cell_type": "code",
      "source": [
        "# f-string\n",
        "\n",
        "one = 1\n",
        "two = 2\n",
        "three = 3\n",
        "\n",
        "f'{{{one, two, three}}}'"
      ],
      "metadata": {
        "colab": {
          "base_uri": "https://localhost:8080/",
          "height": 35
        },
        "id": "-1xAJMA1IouG",
        "outputId": "e5265443-ef4c-4499-c1d5-69f25aa8d10c"
      },
      "execution_count": null,
      "outputs": [
        {
          "output_type": "execute_result",
          "data": {
            "text/plain": [
              "'{(1, 2, 3)}'"
            ],
            "application/vnd.google.colaboratory.intrinsic+json": {
              "type": "string"
            }
          },
          "metadata": {},
          "execution_count": 20
        }
      ]
    },
    {
      "cell_type": "code",
      "source": [
        "one = 1\n",
        "\n",
        "f'{{{one}}}'"
      ],
      "metadata": {
        "colab": {
          "base_uri": "https://localhost:8080/",
          "height": 35
        },
        "id": "MPKjBPqHIwvL",
        "outputId": "d4df5906-9cdb-4230-857d-1d7468c9b247"
      },
      "execution_count": null,
      "outputs": [
        {
          "output_type": "execute_result",
          "data": {
            "text/plain": [
              "'{1}'"
            ],
            "application/vnd.google.colaboratory.intrinsic+json": {
              "type": "string"
            }
          },
          "metadata": {},
          "execution_count": 21
        }
      ]
    },
    {
      "cell_type": "code",
      "source": [
        "def add(a, b):\n",
        "    \"\"\"\n",
        "    Add two numbers and return the result.\n",
        "\n",
        "    Args:\n",
        "        a (int or float): The first number.\n",
        "        b (int or float): The second number.\n",
        "\n",
        "    Returns:\n",
        "        int or float: The sum of the two numbers.\n",
        "    \"\"\"\n",
        "    return a + b\n",
        "\n",
        "# google coding convention\n",
        "def fetch_smalltable_rows(\n",
        "    table_handle,  keys, require_all_keys\n",
        "):\n",
        "    \"\"\"Fetches rows from a Smalltable.\n",
        "\n",
        "    Retrieves rows pertaining to the given keys from the Table instance\n",
        "    represented by table_handle.  String keys will be UTF-8 encoded.\n",
        "\n",
        "    Args:\n",
        "        table_handle: An open smalltable.Table instance.\n",
        "        keys: A sequence of strings representing the key of each table\n",
        "          row to fetch.  String keys will be UTF-8 encoded.\n",
        "        require_all_keys: If True only rows with values set for all keys will be\n",
        "          returned.\n",
        "\n",
        "    Returns:\n",
        "        A dict mapping keys to the corresponding table row data\n",
        "        fetched. Each row is represented as a tuple of strings. For\n",
        "        example:\n",
        "\n",
        "        {b'Serak': ('Rigel VII', 'Preparer'),\n",
        "         b'Zim': ('Irk', 'Invader'),\n",
        "         b'Lrrr': ('Omicron Persei 8', 'Emperor')}\n",
        "\n",
        "        Returned keys are always bytes.  If a key from the keys argument is\n",
        "        missing from the dictionary, then that row was not found in the\n",
        "        table (and require_all_keys must have been False).\n",
        "\n",
        "    Raises:\n",
        "        IOError: An error occurred accessing the smalltable.\n",
        "    \"\"\""
      ],
      "metadata": {
        "id": "obilnOHmJUx6"
      },
      "execution_count": null,
      "outputs": []
    },
    {
      "cell_type": "code",
      "source": [
        "# 딕셔너리 컴프리헨션\n",
        "square_dict = {x: x**2 for x in range(5)}  # 0부터 4까지의 수를 키로, 그 제곱을 값으로 하는 딕셔너리 생성"
      ],
      "metadata": {
        "id": "bU5mQhVOK-Ie"
      },
      "execution_count": null,
      "outputs": []
    },
    {
      "cell_type": "code",
      "source": [
        "square_dict"
      ],
      "metadata": {
        "colab": {
          "base_uri": "https://localhost:8080/"
        },
        "id": "rmoNnlWRLB8n",
        "outputId": "c38d8973-35c4-4389-9d64-9b88545430b7"
      },
      "execution_count": null,
      "outputs": [
        {
          "output_type": "execute_result",
          "data": {
            "text/plain": [
              "{0: 0, 1: 1, 2: 4, 3: 9, 4: 16}"
            ]
          },
          "metadata": {},
          "execution_count": 28
        }
      ]
    },
    {
      "cell_type": "code",
      "source": [
        "books = ['python', 'javascript', 'html/css']\n",
        "book_dict = {book: idx for idx, book in enumerate(books)}\n",
        "book_dict"
      ],
      "metadata": {
        "colab": {
          "base_uri": "https://localhost:8080/"
        },
        "id": "9YxBm5mXLJUC",
        "outputId": "fa9fedfc-a7d4-470e-809d-52f585dbf07e"
      },
      "execution_count": null,
      "outputs": [
        {
          "output_type": "execute_result",
          "data": {
            "text/plain": [
              "{'python': 0, 'javascript': 1, 'html/css': 2}"
            ]
          },
          "metadata": {},
          "execution_count": 30
        }
      ]
    },
    {
      "cell_type": "code",
      "source": [
        "# 문제 : {'python': 10000000, 'javascript': 24000000, 'html/css': 39000000}\n",
        "books = [('python', 1000, '10000원'), ('javascript', 2000, '12000원'), ('html/css', 3000, '13000원')]"
      ],
      "metadata": {
        "id": "F6RwlgtELt2a"
      },
      "execution_count": null,
      "outputs": []
    },
    {
      "cell_type": "code",
      "source": [
        "books = [('python', 1000, '10000원'), ('javascript', 2000, '12000원'), ('html/css', 3000, '13000원')]\n",
        "\n",
        "book_dict = {book[0]: book[1] * int(book[2].replace('원', '')) for book in books}\n",
        "print(book_dict)\n"
      ],
      "metadata": {
        "id": "DSmw_hfiMMOh"
      },
      "execution_count": null,
      "outputs": []
    },
    {
      "cell_type": "code",
      "source": [
        "square_gen = (i**2 for i in range(2, 10, 2))  # 0부터 9까지의 제너레이터"
      ],
      "metadata": {
        "id": "NeyKH1bTP0Sg"
      },
      "execution_count": null,
      "outputs": []
    },
    {
      "cell_type": "code",
      "source": [
        "gen = (i**2 for i in range(2, 10000000, 2))  # 0부터 9까지의 제너레이터\n",
        "for i, j in zip(range(10), gen):\n",
        "    print(i, j)"
      ],
      "metadata": {
        "id": "qeXHj9RCQAp0"
      },
      "execution_count": null,
      "outputs": []
    },
    {
      "cell_type": "code",
      "source": [
        "class MyIterator:\n",
        "    def __init__(self, stop):\n",
        "        self.currentValue = 0\n",
        "        self.stop = stop\n",
        "\n",
        "    def __iter__(self):\n",
        "        return self\n",
        "\n",
        "    def __next__(self):\n",
        "        if self.currentValue >= self.stop:\n",
        "            raise StopIteration\n",
        "        result = self.currentValue\n",
        "        self.currentValue += 1\n",
        "        return result\n",
        "\n",
        "my_iterator = MyIterator(5)\n",
        "\n",
        "for i in my_iterator:\n",
        "    print(i)"
      ],
      "metadata": {
        "id": "oaXMqdZ4QnXT"
      },
      "execution_count": null,
      "outputs": []
    },
    {
      "cell_type": "code",
      "source": [
        "def count():\n",
        "    count = 2\n",
        "    while True:\n",
        "        yield count\n",
        "        count += 2\n",
        "\n",
        "for i, j in zip(range(10), count()):\n",
        "    print(i, j)"
      ],
      "metadata": {
        "id": "zzSu8tXrRk9K"
      },
      "execution_count": null,
      "outputs": []
    },
    {
      "cell_type": "code",
      "source": [
        "class MyIterator:\n",
        "    def __init__(self, stop):\n",
        "        self.stop = stop\n",
        "\n",
        "    def __iter__(self):\n",
        "        self.currentValue = 0\n",
        "        return self\n",
        "\n",
        "    def __next__(self):\n",
        "        if self.currentValue >= self.stop:\n",
        "            raise StopIteration\n",
        "        result = self.currentValue\n",
        "        self.currentValue += 1\n",
        "        return result\n",
        "\n",
        "my_iterator = MyIterator(5)\n",
        "\n",
        "for i in my_iterator:\n",
        "    print(i)\n",
        "\n",
        "for i in my_iterator:\n",
        "    print(i)\n",
        "\n",
        "# 결국 for는 iter먼저 실행하고, next로 StopIteration\n",
        "# i = iter(li)\n",
        "# next(i)"
      ],
      "metadata": {
        "id": "5wCXYq6sSsPA"
      },
      "execution_count": null,
      "outputs": []
    },
    {
      "cell_type": "code",
      "source": [
        "from collections import deque\n",
        "\n",
        "d = deque()\n",
        "d.append('a')  # 오른쪽 끝에 추가\n",
        "d.appendleft('b')  # 왼쪽 끝에 추가\n",
        "d.pop()  # 오른쪽 끝 요소 제거\n",
        "d.popleft()  # 왼쪽 끝 요소 제거"
      ],
      "metadata": {
        "id": "96OrxNtwThg5"
      },
      "execution_count": null,
      "outputs": []
    },
    {
      "cell_type": "code",
      "source": [
        "from collections import Counter\n",
        "\n",
        "c = Counter('hello world')\n",
        "print(c)  # 출력: Counter({'l': 3, 'o': 2, 'h': 1, 'e': 1, ' ': 1, 'w': 1, 'r': 1, 'd': 1})"
      ],
      "metadata": {
        "id": "w-_ukwIMTsxI"
      },
      "execution_count": null,
      "outputs": []
    },
    {
      "cell_type": "code",
      "source": [
        "# 클로저\n",
        "\n",
        "# 클로저가 아닌경우\n",
        "def outer_function():\n",
        "    def inner_function():\n",
        "        return 100+100\n",
        "    return inner_function\n",
        "\n",
        "# 클로저인 경우\n",
        "def outer_function(x):\n",
        "    def inner_function(y):\n",
        "        return x + y\n",
        "    return inner_function\n",
        "\n",
        "inner = outer_function(100)\n",
        "inner(200)"
      ],
      "metadata": {
        "id": "St-yyY7vX0dj"
      },
      "execution_count": null,
      "outputs": []
    },
    {
      "cell_type": "code",
      "source": [
        "def simple_decorator(function):\n",
        "    def wrapper():\n",
        "        print(\"Before the function call\")\n",
        "        function()\n",
        "        print(\"After the function call\")\n",
        "    return wrapper\n",
        "\n",
        "@simple_decorator\n",
        "def hello():\n",
        "    print(\"Hello, World!\")\n",
        "\n",
        "hello() # 데코레이터가 없는 상태에서는 simple_decorator(hello)() 와 같습니다."
      ],
      "metadata": {
        "id": "A0bZ_34XY5ZS"
      },
      "execution_count": null,
      "outputs": []
    },
    {
      "cell_type": "code",
      "source": [
        "def simple_decorator(function):\n",
        "    def wrapper():\n",
        "        print(\"Before the function call\")\n",
        "        function()\n",
        "        print(\"After the function call\")\n",
        "    return wrapper\n",
        "\n",
        "@simple_decorator\n",
        "def hello():\n",
        "    print(\"Hello, World!\")\n",
        "\n",
        "hello() # 데코레이터가 없는 상태에서는 simple_decorator(hello)() 와 같습니다."
      ],
      "metadata": {
        "id": "13cbZIHEFqAd"
      },
      "execution_count": null,
      "outputs": []
    },
    {
      "cell_type": "code",
      "source": [
        "def simple_decorator(function):\n",
        "    def wrapper():\n",
        "        print(\"Before the function call\")\n",
        "        function()\n",
        "        print(\"After the function call\")\n",
        "    return wrapper\n",
        "\n",
        "def hello():\n",
        "    print(\"Hello, World!\")\n",
        "\n",
        "simple_decorator(hello) # 값은 wrapper\n",
        "simple_decorator(hello)() # wrapper()\n",
        "\n",
        "'''\n",
        "결국 실행되는 코드\n",
        "\n",
        "print(\"Before the function call\")\n",
        "function()\n",
        "print(\"After the function call\")\n",
        "\n",
        "'''"
      ],
      "metadata": {
        "id": "6SN1pJx_GCTp"
      },
      "execution_count": null,
      "outputs": []
    },
    {
      "cell_type": "code",
      "source": [
        "'''\n",
        "@login\n",
        "def 비밀게시판():\n",
        "    비밀게시판읽기\n",
        "\n",
        "@전처리\n",
        "def 통계함수():\n",
        "    그래프그리기\n",
        "'''"
      ],
      "metadata": {
        "id": "pnW58Pt2Gn06"
      },
      "execution_count": null,
      "outputs": []
    },
    {
      "cell_type": "code",
      "source": [
        "def data_Preprocessing:\n",
        "    pass\n",
        "\n",
        "def data_Cleanging:\n",
        "    pass"
      ],
      "metadata": {
        "id": "yYcoXo4eHCtq"
      },
      "execution_count": null,
      "outputs": []
    },
    {
      "cell_type": "code",
      "source": [
        "def data_Preprocessing(function):\n",
        "    def wrapper(data):\n",
        "        print(data)\n",
        "    return wrapper\n",
        "\n",
        "@data_Preprocessing\n",
        "def mean(data):\n",
        "    return sum(data)/len(data)\n",
        "\n",
        "mean([1, 2, '3', 4, '5'])"
      ],
      "metadata": {
        "id": "86osHjeBHVm1"
      },
      "execution_count": null,
      "outputs": []
    },
    {
      "cell_type": "code",
      "source": [
        "# step 2\n",
        "def data_Preprocessing(function):\n",
        "    def wrapper(data):\n",
        "        print(data)\n",
        "    return wrapper\n",
        "\n",
        "@data_Preprocessing\n",
        "def mean(data):\n",
        "    return sum(data)/len(data)\n",
        "\n",
        "mean([1, 2, '3', 4, '5'])"
      ],
      "metadata": {
        "colab": {
          "base_uri": "https://localhost:8080/"
        },
        "id": "TwRduabIIO_H",
        "outputId": "234a15ea-b52b-4a7f-ef50-488d47d5bff3"
      },
      "execution_count": 1,
      "outputs": [
        {
          "output_type": "stream",
          "name": "stdout",
          "text": [
            "[1, 2, '3', 4, '5']\n"
          ]
        }
      ]
    },
    {
      "cell_type": "code",
      "source": [
        "# step 2\n",
        "def data_Preprocessing(function):\n",
        "    def wrapper(data):\n",
        "        return function(list(map(int, data)))\n",
        "    return wrapper\n",
        "\n",
        "@data_Preprocessing\n",
        "def mean(data):\n",
        "    return sum(data)/len(data)\n",
        "\n",
        "mean([1, 2, '3', 4, '5'])"
      ],
      "metadata": {
        "colab": {
          "base_uri": "https://localhost:8080/"
        },
        "id": "ZvftoTKpIVrC",
        "outputId": "1304b582-275d-4b54-d4a6-7b5f756e020a"
      },
      "execution_count": 3,
      "outputs": [
        {
          "output_type": "execute_result",
          "data": {
            "text/plain": [
              "3.0"
            ]
          },
          "metadata": {},
          "execution_count": 3
        }
      ]
    },
    {
      "cell_type": "code",
      "source": [
        "# step 3\n",
        "def data_Preprocessing(function):\n",
        "    def wrapper(data):\n",
        "        return function(list(map(int, data)))\n",
        "    return wrapper\n",
        "\n",
        "@data_Preprocessing\n",
        "def mean(data):\n",
        "    return sum(data)/len(data)\n",
        "\n",
        "# mean([1, 2, '3', 4, '5', 'a'])\n",
        "# mean([1, 2, '3', 4, '5', ''])"
      ],
      "metadata": {
        "id": "JBj6IvBoIlDw"
      },
      "execution_count": null,
      "outputs": []
    },
    {
      "cell_type": "code",
      "source": [
        "# step 4 문제\n",
        "# 아래 주석 2개가 된 코드가 작동이 되로록 데코레이터를 완성해주세요.\n",
        "\n",
        "def data_Preprocessing(function):\n",
        "    def wrapper(data):\n",
        "        평균 = []\n",
        "        for i in len(data):\n",
        "             if isinstance(i, int):\n",
        "                평균.append(x)\n",
        "        return function(평균)\n",
        "    return wrapper\n",
        "\n",
        "@data_Preprocessing\n",
        "def mean(data):\n",
        "    return sum(data)/len(data)\n",
        "\n",
        "mean([1, 2, '3', 4, '5', 'a'])\n",
        "# mean([1, 2, '3', 4, '5', ''])"
      ],
      "metadata": {
        "id": "ygrA-qMnI3LY"
      },
      "execution_count": null,
      "outputs": []
    },
    {
      "cell_type": "code",
      "source": [
        "# step 4 문제\n",
        "# 아래 주석 2개가 된 코드가 작동이 되로록 데코레이터를 완성해주세요.\n",
        "\n",
        "def data_Preprocessing(function):\n",
        "    def wrapper(data):\n",
        "        l = []\n",
        "        for i in data:\n",
        "             if str(i).isdigit():\n",
        "                l.append(int(i))\n",
        "        return function(l)\n",
        "    return wrapper\n",
        "\n",
        "@data_Preprocessing\n",
        "def mean(data):\n",
        "    return sum(data)/len(data)\n",
        "\n",
        "mean([1, 2, '3', 4, '5', 'a'])\n",
        "# mean([1, 2, '3', 4, '5', ''])"
      ],
      "metadata": {
        "colab": {
          "base_uri": "https://localhost:8080/"
        },
        "id": "aCWLwgSoLKHJ",
        "outputId": "f3e10d1b-8895-4f12-9c2e-0810789dc943"
      },
      "execution_count": 10,
      "outputs": [
        {
          "output_type": "execute_result",
          "data": {
            "text/plain": [
              "3.0"
            ]
          },
          "metadata": {},
          "execution_count": 10
        }
      ]
    },
    {
      "cell_type": "code",
      "source": [
        "# step 4 문제\n",
        "# 아래 주석 2개가 된 코드가 작동이 되로록 데코레이터를 완성해주세요.\n",
        "\n",
        "def data_Preprocessing(function):\n",
        "    def wrapper(data):\n",
        "        l = []\n",
        "        for i in data:\n",
        "             if str(i).isdigit():\n",
        "                l.append(int(i))\n",
        "        return function(l)\n",
        "    return wrapper\n",
        "\n",
        "@data_Preprocessing\n",
        "def mean(data):\n",
        "    return sum(data)/len(data)\n",
        "\n",
        "mean([1, 2, '3', 4, '5', 'a'])\n",
        "# mean([1, 2, '3', 4, '5', ''])"
      ],
      "metadata": {
        "id": "0iRtPZ9yLbmf"
      },
      "execution_count": null,
      "outputs": []
    },
    {
      "cell_type": "code",
      "source": [
        "def data_Preprocessing(function):\n",
        "    def wrapper(data):\n",
        "        return function(list(map(int, filter(lambda x:str(x).isdigit(), data))))\n",
        "    return wrapper\n",
        "\n",
        "@data_Preprocessing\n",
        "def mean(data):\n",
        "    return sum(data)/len(data)\n",
        "\n",
        "mean([1, 2, '3', 4, '5', 'a'])\n",
        "mean([1, 2, '3', 4, '5', ''])"
      ],
      "metadata": {
        "id": "T2sW-mImLnT8"
      },
      "execution_count": null,
      "outputs": []
    },
    {
      "cell_type": "code",
      "source": [
        "def f(*args):\n",
        "    print(args)\n",
        "\n",
        "f(10, 20, 30, 40)"
      ],
      "metadata": {
        "colab": {
          "base_uri": "https://localhost:8080/"
        },
        "id": "ariCue1-Mcjf",
        "outputId": "55358199-abfe-4a41-bdaf-a0df988e7a2d"
      },
      "execution_count": 12,
      "outputs": [
        {
          "output_type": "stream",
          "name": "stdout",
          "text": [
            "(10, 20, 30, 40)\n"
          ]
        }
      ]
    },
    {
      "cell_type": "code",
      "source": [
        "def f(a, b, *args):\n",
        "    print(args)\n",
        "\n",
        "f(10, 20, 30, 40)"
      ],
      "metadata": {
        "colab": {
          "base_uri": "https://localhost:8080/"
        },
        "id": "qb44M-a6M0Sz",
        "outputId": "868f11ea-43b1-43b9-cff7-bb029409ea34"
      },
      "execution_count": 13,
      "outputs": [
        {
          "output_type": "stream",
          "name": "stdout",
          "text": [
            "(30, 40)\n"
          ]
        }
      ]
    },
    {
      "cell_type": "code",
      "source": [
        "def f(**kargs):\n",
        "    print(kargs)\n",
        "\n",
        "f(one=1, two=2)"
      ],
      "metadata": {
        "colab": {
          "base_uri": "https://localhost:8080/"
        },
        "id": "gs0knaNDM55e",
        "outputId": "a81cee5e-f003-4a2c-829e-eb9bebb04258"
      },
      "execution_count": 16,
      "outputs": [
        {
          "output_type": "stream",
          "name": "stdout",
          "text": [
            "{'one': 1, 'two': 2}\n"
          ]
        }
      ]
    },
    {
      "cell_type": "code",
      "source": [
        "def debug(function):\n",
        "    def new_function(*args, **kwargs):\n",
        "        print(f'{function.__name__} 함수 시작')\n",
        "        result = function(*args, **kwargs)\n",
        "        print(f'{function.__name__} 함수 끝')\n",
        "        return result\n",
        "\n",
        "    return new_function"
      ],
      "metadata": {
        "id": "ykr5nCWWNd0c"
      },
      "execution_count": null,
      "outputs": []
    },
    {
      "cell_type": "code",
      "source": [
        "def decorator1(function):\n",
        "    def new_function1(f):\n",
        "        print('첫번째 데코레이터 시작')\n",
        "        result = function(f)\n",
        "        print('첫번째 데코레이터 끝')\n",
        "        return result\n",
        "    return new_function1\n",
        "\n",
        "\n",
        "def decorator2(function):\n",
        "    def new_function2(f):\n",
        "        print('두번째 데코레이터 시작')\n",
        "        result = function(f)\n",
        "        print('두번째 데코레이터 끝')\n",
        "        return result\n",
        "    return new_function2\n",
        "\n",
        "\n",
        "def decorator3(function):\n",
        "    def new_function3(f):\n",
        "        print('세번째 데코레이터 시작')\n",
        "        result = function(f)\n",
        "        print('세번째 데코레이터 끝')\n",
        "        return result\n",
        "    return new_function3\n",
        "\n",
        "\n",
        "@decorator1\n",
        "@decorator2\n",
        "@decorator3\n",
        "def hello(value):\n",
        "    print(value)\n",
        "\n",
        "\n",
        "hello('hello')"
      ],
      "metadata": {
        "colab": {
          "base_uri": "https://localhost:8080/"
        },
        "id": "jPPoFFL8NpZo",
        "outputId": "2456a2cc-11ac-4386-8995-94e1072cee74"
      },
      "execution_count": 21,
      "outputs": [
        {
          "output_type": "stream",
          "name": "stdout",
          "text": [
            "첫번째 데코레이터 시작\n",
            "두번째 데코레이터 시작\n",
            "세번째 데코레이터 시작\n",
            "hello\n",
            "세번째 데코레이터 끝\n",
            "두번째 데코레이터 끝\n",
            "첫번째 데코레이터 끝\n"
          ]
        }
      ]
    },
    {
      "cell_type": "code",
      "source": [
        "def decorator1(function):\n",
        "    def new_function1(f):\n",
        "        print('첫번째 데코레이터 시작')\n",
        "        print(f'{function.__name__}')\n",
        "        function(f)\n",
        "        print('첫번째 데코레이터 끝')\n",
        "    return new_function1\n",
        "\n",
        "\n",
        "def decorator2(function):\n",
        "    def new_function2(f):\n",
        "        print('두번째 데코레이터 시작')\n",
        "        print(f'{function.__name__}')\n",
        "        function(f)\n",
        "        print('두번째 데코레이터 끝')\n",
        "    return new_function2\n",
        "\n",
        "\n",
        "def decorator3(function):\n",
        "    def new_function3(f):\n",
        "        print('세번째 데코레이터 시작')\n",
        "        print(f'{function.__name__}')\n",
        "        function(f)\n",
        "        print('세번째 데코레이터 끝')\n",
        "    return new_function3\n",
        "\n",
        "\n",
        "@decorator1\n",
        "@decorator2\n",
        "@decorator3\n",
        "def hello(value):\n",
        "    print(value)\n",
        "\n",
        "\n",
        "hello('hello world')"
      ],
      "metadata": {
        "id": "t24yCbVvPZbl"
      },
      "execution_count": null,
      "outputs": []
    },
    {
      "cell_type": "code",
      "source": [
        "def decorator1(function):\n",
        "    def new_function1(f):\n",
        "        print('첫번째 데코레이터 시작')\n",
        "        print(f'{function.__name__}')\n",
        "        function(f)\n",
        "        print('첫번째 데코레이터 끝')\n",
        "    return new_function1\n",
        "\n",
        "\n",
        "def decorator2(function):\n",
        "    def new_function2(f):\n",
        "        print('두번째 데코레이터 시작')\n",
        "        print(f'{function.__name__}')\n",
        "        function(f)\n",
        "        print('두번째 데코레이터 끝')\n",
        "    return new_function2\n",
        "\n",
        "\n",
        "def decorator3(function):\n",
        "    def new_function3(f):\n",
        "        print('세번째 데코레이터 시작')\n",
        "        print(f'{function.__name__}')\n",
        "        function(f)\n",
        "        print('세번째 데코레이터 끝')\n",
        "    return new_function3\n",
        "\n",
        "\n",
        "def hello(value):\n",
        "    print(value)\n",
        "\n",
        "\n",
        "decorator1(decorator2(decorator3(hello)))('hello world')"
      ],
      "metadata": {
        "id": "52ocAvR4R9Oz"
      },
      "execution_count": null,
      "outputs": []
    },
    {
      "cell_type": "code",
      "source": [
        "def add(n):\n",
        "    def decorator(function):\n",
        "        def new_function(*args, **kwargs):\n",
        "            result = function(*args, **kwargs)\n",
        "            return result + n\n",
        "        return new_function\n",
        "    return decorator\n",
        "\n",
        "@add(1000)\n",
        "def plus(a, b):\n",
        "    return a + b\n",
        "\n",
        "result = plus(10, 20)\n",
        "print(f'result : {result}')"
      ],
      "metadata": {
        "id": "PWn87RA1S1Kc"
      },
      "execution_count": null,
      "outputs": []
    },
    {
      "cell_type": "code",
      "source": [
        "def add(n):\n",
        "    def decorator(function):\n",
        "        def new_function(a, b):\n",
        "            result = function(a, b)\n",
        "            return result + n\n",
        "        return new_function\n",
        "    return decorator\n",
        "\n",
        "@add(1000)\n",
        "def plus(a, b):\n",
        "    return a + b\n",
        "\n",
        "result = plus(10, 20)\n",
        "print(f'result : {result}')"
      ],
      "metadata": {
        "id": "oKVl4zaYS1o8"
      },
      "execution_count": null,
      "outputs": []
    },
    {
      "cell_type": "code",
      "source": [
        "def f():\n",
        "    pass\n",
        "\n",
        "print(type(f))"
      ],
      "metadata": {
        "colab": {
          "base_uri": "https://localhost:8080/"
        },
        "id": "0AhnDzFTS3_S",
        "outputId": "93567ca7-854d-453d-e96c-7e925beb7404"
      },
      "execution_count": 23,
      "outputs": [
        {
          "output_type": "stream",
          "name": "stdout",
          "text": [
            "<class 'function'>\n"
          ]
        }
      ]
    },
    {
      "cell_type": "code",
      "source": [
        "class CreateFunction:\n",
        "    def __call__(self):\n",
        "        print('hello world')\n",
        "\n",
        "t = CreateFunction()\n",
        "t()"
      ],
      "metadata": {
        "colab": {
          "base_uri": "https://localhost:8080/"
        },
        "id": "8WLZmBcETEbR",
        "outputId": "ed35532d-944a-4d3d-903a-519e21dc6e9a"
      },
      "execution_count": 24,
      "outputs": [
        {
          "output_type": "stream",
          "name": "stdout",
          "text": [
            "hello world\n"
          ]
        }
      ]
    },
    {
      "cell_type": "code",
      "source": [
        "class Debug:\n",
        "    def __init__(self, function):\n",
        "        self.function = function\n",
        "\n",
        "    def __call__(self, *args, **kwargs):\n",
        "        print(f'{self.function.__name__} 함수 시작')\n",
        "        self.function()\n",
        "        print(f'{self.function.__name__} 함수 끝')\n",
        "\n",
        "@Debug\n",
        "def f1():\n",
        "    print('안녕하세요')\n",
        "\n",
        "\n",
        "@Debug\n",
        "def f2():\n",
        "    print('hello')\n",
        "\n",
        "\n",
        "f1()\n",
        "f2()"
      ],
      "metadata": {
        "colab": {
          "base_uri": "https://localhost:8080/"
        },
        "id": "ZtovJtjPTz3e",
        "outputId": "ae68428b-05c7-4dc0-8870-6ecc1e3733d0"
      },
      "execution_count": 25,
      "outputs": [
        {
          "output_type": "stream",
          "name": "stdout",
          "text": [
            "f1 함수 시작\n",
            "안녕하세요\n",
            "f1 함수 끝\n",
            "f2 함수 시작\n",
            "hello\n",
            "f2 함수 끝\n"
          ]
        }
      ]
    },
    {
      "cell_type": "code",
      "source": [
        "class MyClass:\n",
        "    count = 0\n",
        "\n",
        "    @classmethod\n",
        "    def increment(cls):\n",
        "        cls.count += 1\n",
        "\n",
        "MyClass.increment()\n",
        "print(MyClass.count)  # 출력: 1"
      ],
      "metadata": {
        "id": "8ELsF_FvUjS3"
      },
      "execution_count": null,
      "outputs": []
    },
    {
      "cell_type": "code",
      "source": [
        "class MyClass:\n",
        "    @staticmethod\n",
        "    def my_method(x, y):\n",
        "        return x + y\n",
        "\n",
        "print(MyClass.my_method(5, 3))  # 출력: 8"
      ],
      "metadata": {
        "id": "5TIf5MeeUw8N"
      },
      "execution_count": null,
      "outputs": []
    },
    {
      "cell_type": "code",
      "source": [
        "import random\n",
        "import json\n",
        "import hashlib\n",
        "\n",
        "\n",
        "class Playlist:\n",
        "    class NoMusicInPlayListException(Exception):\n",
        "        \"\"\"Raised when music is not in the playlist.\"\"\"\n",
        "        pass\n",
        "\n",
        "    def __init__(self):\n",
        "        self._playlist = []\n",
        "        self.current_play = None\n",
        "\n",
        "    def show(self):\n",
        "        print(self._playlist)\n",
        "\n",
        "    def add(self, music):\n",
        "        self._playlist.append(music)\n",
        "\n",
        "    def remove(self, title):\n",
        "        for music in self._playlist:\n",
        "            if music['title'] == title:\n",
        "                self._playlist.remove(music)\n",
        "                break\n",
        "\n",
        "    def play(self, title):\n",
        "        for music in self._playlist:\n",
        "            if title == music['title']:\n",
        "                self.current_play = music\n",
        "                print(f'\"{self.current_play[\"title\"]}\" is playing...')\n",
        "                break\n",
        "        else:\n",
        "            raise self.NoMusicInPlayListException(f'\"{music}\" is not in the playlist.')\n",
        "\n",
        "    def random_play(self):\n",
        "        self.current_play = random.choice(self._playlist)\n",
        "        print(f'\"{self.current_play[\"title\"]}\" is playing...')\n",
        "\n",
        "    @staticmethod\n",
        "    def playtime_diff(music1, music2):\n",
        "        return abs(music1['play_time'] - music2['play_time'])\n",
        "\n",
        "    @staticmethod\n",
        "    def hash(music):\n",
        "        music_str = json.dumps(music, sort_keys=True).encode()\n",
        "        return hashlib.sha256(music_str).hexdigest()\n",
        "\n",
        "\n",
        "if __name__ == \"__main__\":\n",
        "    p = Playlist()\n",
        "\n",
        "    p.add({\"title\": \"Circle\", \"artist\": \"Post Malone\", \"play_time\": 3.47})\n",
        "    p.add({\"title\": \"Better Now\", \"artist\": \"Post Malone\", \"play_time\": 3.53})\n",
        "\n",
        "    p.show()\n",
        "    p.random_play()\n",
        "\n",
        "    print(p.hash({\"title\": \"Better Now\", \"artist\": \"Post Malone\"}))\n",
        "    print(\n",
        "        p.playtime_diff(\n",
        "            {\"title\": \"Circle\", \"artist\": \"Post Malone\", \"play_time\": 3.47},\n",
        "            {\"title\": \"Better Now\", \"artist\": \"Post Malone\", \"play_time\": 3.53}\n",
        "        )\n",
        "    )"
      ],
      "metadata": {
        "id": "HCW5gPSOVDmw"
      },
      "execution_count": null,
      "outputs": []
    },
    {
      "cell_type": "code",
      "source": [
        "# https://myjamong.tistory.com/289\n",
        "import json\n",
        "\n",
        "class Playlist:\n",
        "    def __init__(self):\n",
        "        self._playlist = []\n",
        "        self.current_play = None\n",
        "\n",
        "    def show(self):\n",
        "        print(self._playlist)\n",
        "\n",
        "    def add(self, music):\n",
        "        self._playlist.append(music)\n",
        "\n",
        "    def remove(self, title):\n",
        "        for music in self._playlist:\n",
        "            if music['title'] == title:\n",
        "                self._playlist.remove(music)\n",
        "                break\n",
        "\n",
        "    def play(self, title):\n",
        "        for music in self._playlist:\n",
        "            if title == music['title']:\n",
        "                self.current_play = music\n",
        "                print(f'\"{self.current_play[\"title\"]}\" is playing...')\n",
        "                break\n",
        "        else:\n",
        "            raise self.NoMusicInPlayListException(f'\"{music}\" is not in the playlist.')\n",
        "\n",
        "    def random_play(self):\n",
        "        self.current_play = random.choice(self._playlist)\n",
        "        print(f'\"{self.current_play[\"title\"]}\" is playing...')\n",
        "\n",
        "    @staticmethod\n",
        "    def playtime_diff(music1, music2):\n",
        "        return abs(music1['play_time'] - music2['play_time'])\n",
        "\n",
        "\n",
        "p = Playlist()\n",
        "\n",
        "music1 = {\"title\": \"Circle\", \"artist\": \"Post Malone\", \"play_time\": 3.47}\n",
        "music2 = {\"title\": \"Better Now\", \"artist\": \"Post Malone\", \"play_time\": 3.53}\n",
        "\n",
        "p.add(music1)\n",
        "p.add(music2)\n",
        "\n",
        "# p.current_play = 'hello world'\n",
        "# p._playlist = [{\"title\": \"Better Now\", \"artist\": \"Post Malone\", \"play_time\": 3.53}]\n",
        "# _가 1개 있으면 보통 수정하지 말라는 변수입니다. 그런데 강제로 수정할 수 있어요. 문법적으로 막는 것은 아닙니다.\n",
        "p.show()\n",
        "\n",
        "# p.random_play()\n",
        "\n",
        "print(p.playtime_diff(music1, music2))"
      ],
      "metadata": {
        "id": "SxjgL5xXWorC"
      },
      "execution_count": null,
      "outputs": []
    },
    {
      "cell_type": "code",
      "source": [
        "# https://myjamong.tistory.com/289\n",
        "import json\n",
        "\n",
        "class Playlist:\n",
        "    value = 10\n",
        "\n",
        "    def __init__(self):\n",
        "        self._playlist = []\n",
        "        self.current_play = None\n",
        "\n",
        "    def show(self):\n",
        "        print(self._playlist)\n",
        "\n",
        "    def add(self, music):\n",
        "        self._playlist.append(music)\n",
        "\n",
        "    def remove(self, title):\n",
        "        for music in self._playlist:\n",
        "            if music['title'] == title:\n",
        "                self._playlist.remove(music)\n",
        "                break\n",
        "\n",
        "    def play(self, title):\n",
        "        for music in self._playlist:\n",
        "            if title == music['title']:\n",
        "                self.current_play = music\n",
        "                print(f'\"{self.current_play[\"title\"]}\" is playing...')\n",
        "                break\n",
        "        else:\n",
        "            raise self.NoMusicInPlayListException(f'\"{music}\" is not in the playlist.')\n",
        "\n",
        "    def random_play(self):\n",
        "        self.current_play = random.choice(self._playlist)\n",
        "        print(f'\"{self.current_play[\"title\"]}\" is playing...')\n",
        "\n",
        "    @staticmethod\n",
        "    def playtime_diff(music1, music2):\n",
        "        # 다 안됩니다!\n",
        "        # value += 100\n",
        "        # print(value)\n",
        "        # self._playlist = []\n",
        "        return abs(music1['play_time'] - music2['play_time'])\n",
        "\n",
        "\n",
        "p = Playlist()\n",
        "\n",
        "music1 = {\"title\": \"Circle\", \"artist\": \"Post Malone\", \"play_time\": 3.47}\n",
        "music2 = {\"title\": \"Better Now\", \"artist\": \"Post Malone\", \"play_time\": 3.53}\n",
        "\n",
        "p.add(music1)\n",
        "p.add(music2)\n",
        "\n",
        "# p.current_play = 'hello world'\n",
        "# p._playlist = [{\"title\": \"Better Now\", \"artist\": \"Post Malone\", \"play_time\": 3.53}]\n",
        "# _가 1개 있으면 보통 수정하지 말라는 변수입니다. 그런데 강제로 수정할 수 있어요. 문법적으로 막는 것은 아닙니다.\n",
        "p.show()\n",
        "\n",
        "# p.random_play()\n",
        "\n",
        "print(p.playtime_diff(music1, music2))\n",
        "Playlist.value"
      ],
      "metadata": {
        "id": "bSoffIf_X0E4"
      },
      "execution_count": null,
      "outputs": []
    },
    {
      "cell_type": "code",
      "source": [
        "class Person:\n",
        "    def __init__(self, first_name, last_name):\n",
        "        self._first_name = first_name\n",
        "        self._last_name = last_name\n",
        "\n",
        "    @property\n",
        "    def full_name(self):\n",
        "        return f\"{self._first_name} {self._last_name}\"\n",
        "\n",
        "hojun = Person('lee', 'hojun')\n",
        "hojun._first_name\n",
        "hojun._last_name\n",
        "hojun.full_name\n",
        "# hojun.full_name()"
      ],
      "metadata": {
        "colab": {
          "base_uri": "https://localhost:8080/",
          "height": 35
        },
        "id": "Ozt1qxI2YBOS",
        "outputId": "5cde1bcd-8cb6-4806-a3bb-3c637ab331a0"
      },
      "execution_count": 28,
      "outputs": [
        {
          "output_type": "execute_result",
          "data": {
            "text/plain": [
              "'lee hojun'"
            ],
            "application/vnd.google.colaboratory.intrinsic+json": {
              "type": "string"
            }
          },
          "metadata": {},
          "execution_count": 28
        }
      ]
    },
    {
      "cell_type": "code",
      "source": [
        "class Duck:\n",
        "    def quack(self):\n",
        "        print(\"Quack!\")\n",
        "\n",
        "class Person:\n",
        "    def quack(self):\n",
        "        print(\"I'm Quacking Like a Duck!\")\n",
        "\n",
        "def quack(obj):\n",
        "    obj.quack()\n",
        "\n",
        "duck = Duck()\n",
        "person = Person()\n",
        "\n",
        "quack(duck)  # 출력: Quack!\n",
        "quack(person)  # 출력: I'm Quacking Like a Duck!"
      ],
      "metadata": {
        "colab": {
          "base_uri": "https://localhost:8080/"
        },
        "id": "PsGJhbBtYqDT",
        "outputId": "734d967e-50f6-470f-d921-03717c3a1846"
      },
      "execution_count": 29,
      "outputs": [
        {
          "output_type": "stream",
          "name": "stdout",
          "text": [
            "Quack!\n",
            "I'm Quacking Like a Duck!\n"
          ]
        }
      ]
    },
    {
      "cell_type": "code",
      "source": [
        "from abc import ABC, abstractmethod\n",
        "\n",
        "class AbstractClassExample(ABC):\n",
        "\n",
        "    @abstractmethod\n",
        "    def do_something(self):\n",
        "        pass\n",
        "\n",
        "class Person(AbstractClassExample):\n",
        "\n",
        "    def __init__(self, name):\n",
        "        self.name = name\n",
        "\n",
        "    def print_name(self):\n",
        "        print(f'제 이름은 {self.name}입니다.')\n",
        "\n",
        "hojun = Person('hojun')\n",
        "hojun.print_name()"
      ],
      "metadata": {
        "colab": {
          "base_uri": "https://localhost:8080/",
          "height": 224
        },
        "id": "roBJwPnwZRjT",
        "outputId": "1b1ae52d-820f-45b5-8a37-3fc55a93d634"
      },
      "execution_count": 30,
      "outputs": [
        {
          "output_type": "error",
          "ename": "TypeError",
          "evalue": "ignored",
          "traceback": [
            "\u001b[0;31m---------------------------------------------------------------------------\u001b[0m",
            "\u001b[0;31mTypeError\u001b[0m                                 Traceback (most recent call last)",
            "\u001b[0;32m<ipython-input-30-15cbe4aeb172>\u001b[0m in \u001b[0;36m<cell line: 17>\u001b[0;34m()\u001b[0m\n\u001b[1;32m     15\u001b[0m         \u001b[0mprint\u001b[0m\u001b[0;34m(\u001b[0m\u001b[0;34mf'제 이름은 {self.name}입니다.'\u001b[0m\u001b[0;34m)\u001b[0m\u001b[0;34m\u001b[0m\u001b[0;34m\u001b[0m\u001b[0m\n\u001b[1;32m     16\u001b[0m \u001b[0;34m\u001b[0m\u001b[0m\n\u001b[0;32m---> 17\u001b[0;31m \u001b[0mhojun\u001b[0m \u001b[0;34m=\u001b[0m \u001b[0mPerson\u001b[0m\u001b[0;34m(\u001b[0m\u001b[0;34m'hojun'\u001b[0m\u001b[0;34m)\u001b[0m\u001b[0;34m\u001b[0m\u001b[0;34m\u001b[0m\u001b[0m\n\u001b[0m\u001b[1;32m     18\u001b[0m \u001b[0mhojun\u001b[0m\u001b[0;34m.\u001b[0m\u001b[0mprint_name\u001b[0m\u001b[0;34m(\u001b[0m\u001b[0;34m)\u001b[0m\u001b[0;34m\u001b[0m\u001b[0;34m\u001b[0m\u001b[0m\n",
            "\u001b[0;31mTypeError\u001b[0m: Can't instantiate abstract class Person with abstract method do_something"
          ]
        }
      ]
    },
    {
      "cell_type": "code",
      "source": [
        "from abc import ABC, abstractmethod\n",
        "\n",
        "class AbstractClassExample(ABC):\n",
        "\n",
        "    @abstractmethod\n",
        "    def do_something(self):\n",
        "        pass\n",
        "\n",
        "class Person(AbstractClassExample):\n",
        "\n",
        "    def __init__(self, name):\n",
        "        self.name = name\n",
        "\n",
        "    def print_name(self):\n",
        "        print(f'제 이름은 {self.name}입니다.')\n",
        "\n",
        "    def do_something(self):\n",
        "        pass\n",
        "\n",
        "hojun = Person('hojun')\n",
        "hojun.print_name()"
      ],
      "metadata": {
        "id": "aMgm_Lb9Z3EY"
      },
      "execution_count": null,
      "outputs": []
    }
  ]
}