{
  "nbformat": 4,
  "nbformat_minor": 0,
  "metadata": {
    "colab": {
      "provenance": [],
      "authorship_tag": "ABX9TyNlwRHhyMqRDuiTs2j9YABL",
      "include_colab_link": true
    },
    "kernelspec": {
      "name": "python3",
      "display_name": "Python 3"
    },
    "language_info": {
      "name": "python"
    }
  },
  "cells": [
    {
      "cell_type": "markdown",
      "metadata": {
        "id": "view-in-github",
        "colab_type": "text"
      },
      "source": [
        "<a href=\"https://colab.research.google.com/github/Gonyim/Ormi_Python/blob/main/%EC%A0%95%EA%B7%9C%ED%91%9C%ED%98%84%EC%8B%9D.ipynb\" target=\"_parent\"><img src=\"https://colab.research.google.com/assets/colab-badge.svg\" alt=\"Open In Colab\"/></a>"
      ]
    },
    {
      "cell_type": "markdown",
      "source": [
        "## 정규표현식\n",
        "* Anchors (처음과 끝)\n",
        "    ```\n",
        "    /^hello/gm: 처음에 hello\n",
        "    /hello$/gm : 끝에 hello\n",
        "    ```\n",
        "* dot (모든 문자)\n",
        "    /.ello/gm : hello, Hello, vello\n",
        "    /./gm : 모든 문자열(*과 같은 역할)\n",
        "    /....../gm : 모든 6개의 문자열\n",
        "    ```\n",
        "* 대괄호 (택1)\n",
        "    ```\n",
        "    /h[eay]llo/gm : 대괄호 안에 문자는 문자 1개에 해당!\n",
        "    /h[ea]l../gm: 총 5개의 문자\n",
        "    ```\n",
        "\n",
        "* 대쉬 (범위)\n",
        "    ```\n",
        "    /h[a-f]llo/gm\n",
        "    /[a-zA-Z0-9]/gm : 모든 알파뱃과 숫자를 찾음\n",
        "    /[^a-zA-Z0-9]/gm : 나머지 문자열을 찾음\n",
        "    ```\n",
        "\n",
        "\n",
        "* 캐럿(caret) (대괄호 안에 들어가면 부정)\n",
        "    * 아래 경우 a와 e가 모두 부정\n",
        "        ```\n",
        "        /h[^ae]llo/gm : 대괄호 안에 있다면 not에 의미\n",
        "        ```\n",
        "\n",
        "* 소괄호 (서브패턴, 그룹)\n",
        "    * 패턴으로 외시는 것보다 다양한 예제로 습득하는게 좋음\n",
        "    ```\n",
        "    /(on|ues|rida)/gm : 그룹 1로 3개 중 매칭되는 패턴 찾음\n",
        "    ```\n",
        "\n",
        "* 수량\n",
        "\n",
        "    ```\n",
        "    _* : 앞에 있는 문자가 0개 ~ N개\n",
        "    _+ : 앞에 있는 문자가 1개 ~ N개\n",
        "    _? : 앞에 있는 문자가 0개 ~ 1개\n",
        "\n",
        "    {3} : 3개\n",
        "    {3,} : 3개 이상\n",
        "    {1,3} : 1개 ~ 3개\n",
        "\n",
        "    _* : 앞에 있는 문자가 0개 ~ N개 ({0,})\n",
        "    _+ : 앞에 있는 문자가 1개 ~ N개({1,})\n",
        "    _? : 앞에 있는 문자가 0개 ~ 1개 ({0,1})\n",
        "\n",
        "    /[0-9]{3}[-.* ][0-9]{4}[-.* ][0-9]{4}/gm\n",
        "    /[0-9a-zA-Z]{2,3}[-.* ][0-9]{3,4}[-.* ][0-9]{4}/gm\n",
        "    /[0-9a-zA-Z]+@[0-9a-zA-Z]+.[a-zA-Z]+/gm\n",
        "\n",
        "    '''\n",
        "\n",
        "* 캐릭터 클래스\n",
        "    ```\n",
        "    /\\w/gm : 워드\n",
        "    /\\w{5} /gm : 5개의 글자와 스페이스 하나\n",
        "    /\\W/gm : not 워드\n",
        "    /\\d/gm : 숫자\n",
        "    /\\D/gm : not 숫자\n",
        "    /\\s/gm : 스페이스\n",
        "    /\\S/gm : not 스페이스\n",
        "    ```\n",
        "* 전화번호\n",
        "    ```\n",
        "    010([-,. ]?[0-9]{4})[-,. ]?[0-9]{4}\n",
        "    010([-,. ]?[0-9]{4}){2}"
      ],
      "metadata": {
        "id": "dGMel2Lj1iEu"
      }
    },
    {
      "cell_type": "markdown",
      "source": [
        "* 공식문서\n",
        "https://docs.python.org/ko/3/library/re.html"
      ],
      "metadata": {
        "id": "sg4IyC0EAnJB"
      }
    },
    {
      "cell_type": "markdown",
      "source": [
        "* 정규표현식에서 자주 사용되는 패턴\n",
        "    * 아래와 같이 2가지 방법으로 사용할 수 있습니다.\n",
        "    ```\n",
        "    # 1\n",
        "    p = re.compile(r'([0-9]|10)([SDT])([\\*\\#]?)')\n",
        "    p.findall('1S2D*3T')\n",
        "\n",
        "    # 2\n",
        "    re.findall(r'([0-9]|10)([SDT])([\\*\\#]?)', '1S2D*3T')\n",
        "    ```\n",
        "    * compile() : 패턴 컴파일\n",
        "    * match() : 문자열의 앞 부분이 매치되는가를 체크, 추출\n",
        "    * sub() : 매치된 부분을 치환\n",
        "    * search() : 선두에 한해서 매치하는지를 체크, 추출\n",
        "    * findall() : 매치된 부분 모두 리스트 반환\n",
        "    * finditer() : 정규식과 매치되는 모든 문자열(substring)을 반복 가능한 객체로 리턴한다.\n",
        "    * spilt() : 정규표현 패턴으로 문자열을 분할 (str에 split과 같은 역할)\n",
        "\n",
        "* 반환 객체의 값\n",
        "    * group() : 매치된 문자열\n",
        "    * groups() : 매치된 문자열 전체\n",
        "    * start() : 매치된 문자열의 시작 위치\n",
        "    * end() : 매치된 문자열의 끝 위치\n",
        "    * span() : 매치된 문자열의 시작과 끝\n",
        "\n",
        "* 컴파일 옵션(플래그)\n",
        "    * 사용 예\n",
        "    ```\n",
        "    re.compile('[a-z]+', re.I)\n",
        "    ```\n",
        "    * re.DOTALL, re.S : 줄바꿈 문자까지 모두 매칭\n",
        "    * re.IGNORECASE, re.I : 대소문자 구분하지 않음\n",
        "    * re.MULTILINE, re.M : ^, & 등의 매칭 패턴을 라인마다 적용\n",
        "    * re.VERBOSE, re.X : 아래와 같이 #으로 주석문을 사용할 수 있음\n",
        "    ```\n",
        "    a = re.compile(r\"\"\"\\d +  # the integral part\n",
        "                   \\.    # the decimal point\n",
        "                   \\d *  # some fractional digits\"\"\", re.X)\n",
        "    b = re.compile(r\"\\d+\\.\\d*\")\n",
        "    ```\n",
        "\n",
        "* tip\n",
        "    * 같은 패턴입니다.\n",
        "    ```\n",
        "    re.compile('\\\\\\\\section')\n",
        "    re.compile(r'\\\\section')\n",
        "    ```\n",
        "    * {}를 표현하고 싶을 때에는 중괄호 2개, 또는 때에 따라 3개가 필요합니다.\n",
        "    ```\n",
        "    re.compile(f'{{section}}')\n",
        "    ```\n"
      ],
      "metadata": {
        "id": "Vr1UPDPVA6fh"
      }
    },
    {
      "cell_type": "code",
      "execution_count": null,
      "metadata": {
        "colab": {
          "base_uri": "https://localhost:8080/"
        },
        "id": "a50W5oqtzOAP",
        "outputId": "bb66ebe8-127a-465d-91f7-8c084df3bc54"
      },
      "outputs": [
        {
          "output_type": "execute_result",
          "data": {
            "text/plain": [
              "[('1', 'S', ''), ('2', 'D', '*'), ('3', 'T', '')]"
            ]
          },
          "metadata": {},
          "execution_count": 1
        }
      ],
      "source": [
        "import re\n",
        "\n",
        "p = re.compile(r'([0-9]|10)([SDT])([\\*\\#]?)')\n",
        "p.findall('1S2D*3T')"
      ]
    },
    {
      "cell_type": "code",
      "source": [
        "2 + 8 + 27"
      ],
      "metadata": {
        "id": "sXyGecjYDSYd"
      },
      "execution_count": null,
      "outputs": []
    },
    {
      "cell_type": "markdown",
      "source": [
        "## compile"
      ],
      "metadata": {
        "id": "hg7dP59LE6p1"
      }
    },
    {
      "cell_type": "code",
      "source": [
        "import re\n",
        "p = re.compile('h[eao]llo')"
      ],
      "metadata": {
        "id": "S4spjexZE7x5"
      },
      "execution_count": null,
      "outputs": []
    },
    {
      "cell_type": "code",
      "source": [
        "text = '''hello\n",
        "hallo\n",
        "hollo\n",
        "'''\n",
        "text"
      ],
      "metadata": {
        "colab": {
          "base_uri": "https://localhost:8080/",
          "height": 35
        },
        "id": "FRCwSAxjFMsC",
        "outputId": "61d0b8a2-90a6-46c1-bdfd-13f071854760"
      },
      "execution_count": null,
      "outputs": [
        {
          "output_type": "execute_result",
          "data": {
            "text/plain": [
              "'hello\\nhallo\\nhollo\\n'"
            ],
            "application/vnd.google.colaboratory.intrinsic+json": {
              "type": "string"
            }
          },
          "metadata": {},
          "execution_count": 4
        }
      ]
    },
    {
      "cell_type": "markdown",
      "source": [
        "## match    "
      ],
      "metadata": {
        "id": "Buql5S42Fmml"
      }
    },
    {
      "cell_type": "code",
      "source": [
        "# 실무에서는 특정한 패턴이 존재하는지만 사용하는 것으로 많이 사용\n",
        "# 찾아서 무언가를 하는 것은 findall이나 sub 메서드를 많이 사용"
      ],
      "metadata": {
        "id": "YuIXHT8oHRLc"
      },
      "execution_count": null,
      "outputs": []
    },
    {
      "cell_type": "code",
      "source": [
        "import re\n",
        "\n",
        "p = re.compile('h[eao]llo')\n",
        "p.match('hello hallo hollo hillo hallo')"
      ],
      "metadata": {
        "colab": {
          "base_uri": "https://localhost:8080/"
        },
        "id": "LABe11ooFgEO",
        "outputId": "62c84ca9-cec0-4f89-991c-bf7165ca65b1"
      },
      "execution_count": null,
      "outputs": [
        {
          "output_type": "execute_result",
          "data": {
            "text/plain": [
              "<re.Match object; span=(0, 5), match='hello'>"
            ]
          },
          "metadata": {},
          "execution_count": 8
        }
      ]
    },
    {
      "cell_type": "code",
      "source": [
        "result = p.match('hello hallo hollo hillo hallo')\n",
        "result.group(0)\n",
        "# result.group(1)"
      ],
      "metadata": {
        "colab": {
          "base_uri": "https://localhost:8080/",
          "height": 35
        },
        "id": "9Wk9eU5gGU5a",
        "outputId": "61495b0f-09c5-46df-c4ab-dc5896b703bc"
      },
      "execution_count": null,
      "outputs": [
        {
          "output_type": "execute_result",
          "data": {
            "text/plain": [
              "'hello'"
            ],
            "application/vnd.google.colaboratory.intrinsic+json": {
              "type": "string"
            }
          },
          "metadata": {},
          "execution_count": 9
        }
      ]
    },
    {
      "cell_type": "code",
      "source": [
        "import re\n",
        "\n",
        "p = re.compile('(\\w+) (\\w+) (\\w+)')\n",
        "p.match('hello hallo hollo hillo hallo')\n",
        "result.group(0)"
      ],
      "metadata": {
        "colab": {
          "base_uri": "https://localhost:8080/",
          "height": 35
        },
        "id": "YhVKbqQpGlGN",
        "outputId": "5c3a589b-82e6-49da-9b3c-9b1d09952566"
      },
      "execution_count": null,
      "outputs": [
        {
          "output_type": "execute_result",
          "data": {
            "text/plain": [
              "'hello'"
            ],
            "application/vnd.google.colaboratory.intrinsic+json": {
              "type": "string"
            }
          },
          "metadata": {},
          "execution_count": 12
        }
      ]
    },
    {
      "cell_type": "code",
      "source": [
        "p = re.compile('(\\w+) (\\w+) (\\w+)')\n",
        "result = p.match('hello hallo hollo hillo hallo')\n",
        "result.group(0) # 전체 그룹\n",
        "result.group(1) # 그룹1\n",
        "result.group(2) # 그룹2\n",
        "result.group(3) # 그룹3"
      ],
      "metadata": {
        "id": "TFCFRuFwHCI7"
      },
      "execution_count": null,
      "outputs": []
    },
    {
      "cell_type": "code",
      "source": [
        "import re\n",
        "\n",
        "p = re.compile('(\\w+) (\\w+) (\\w+)')\n",
        "result = p.match('hello hallo hollo hillo hallo')\n",
        "result.group(1, 2) # 그룹1, 그룹2"
      ],
      "metadata": {
        "id": "EDJmEn2eHFgn"
      },
      "execution_count": null,
      "outputs": []
    },
    {
      "cell_type": "code",
      "source": [
        "# 아래 문법은 match 말고도 다른 문법에서도 사용이 가능합니다.\n",
        "m = re.match(r\"(?P<first_name>\\w+) (?P<last_name>\\w+)\", \"Malcolm Reynolds\")\n",
        "m.group('first_name'), m.group('last_name')"
      ],
      "metadata": {
        "colab": {
          "base_uri": "https://localhost:8080/"
        },
        "id": "FD2iIrJbIEIB",
        "outputId": "a514203e-81a6-4e5d-c218-a951950c9a6e"
      },
      "execution_count": null,
      "outputs": [
        {
          "output_type": "execute_result",
          "data": {
            "text/plain": [
              "('Malcolm', 'Reynolds')"
            ]
          },
          "metadata": {},
          "execution_count": 15
        }
      ]
    },
    {
      "cell_type": "code",
      "source": [
        "m[0]"
      ],
      "metadata": {
        "colab": {
          "base_uri": "https://localhost:8080/",
          "height": 35
        },
        "id": "y6Jf1yDmIp03",
        "outputId": "2d65478e-86a8-42e4-8c37-df374cb6dbc7"
      },
      "execution_count": null,
      "outputs": [
        {
          "output_type": "execute_result",
          "data": {
            "text/plain": [
              "'Malcolm Reynolds'"
            ],
            "application/vnd.google.colaboratory.intrinsic+json": {
              "type": "string"
            }
          },
          "metadata": {},
          "execution_count": 17
        }
      ]
    },
    {
      "cell_type": "code",
      "source": [
        "m[1], m[2]"
      ],
      "metadata": {
        "colab": {
          "base_uri": "https://localhost:8080/"
        },
        "id": "hNml8_vPIrg9",
        "outputId": "73d81b98-c809-4a31-ff1f-ab3599cbc3b4"
      },
      "execution_count": null,
      "outputs": [
        {
          "output_type": "execute_result",
          "data": {
            "text/plain": [
              "('Malcolm', 'Reynolds')"
            ]
          },
          "metadata": {},
          "execution_count": 18
        }
      ]
    },
    {
      "cell_type": "code",
      "source": [
        "m = re.match(r\"010-(?P<앞자리>[0-9]{4})-(?P<뒷자리>[0-9]{4})\", \"010-1000-2000\")\n",
        "m.group('앞자리'), m.group('뒷자리')"
      ],
      "metadata": {
        "id": "SwajKFAfJGHb"
      },
      "execution_count": null,
      "outputs": []
    },
    {
      "cell_type": "code",
      "source": [
        "# 실제로 실무에서 match 사용되는 패턴\n",
        "valid = re.compile(r\"^[a2-9tjqk]{5}$\")\n",
        "\n",
        "def displaymatch(match):\n",
        "    if match is None:\n",
        "        return None\n",
        "    return '<Match: %r, groups=%r>' % (match.group(), match.groups())\n",
        "\n",
        "displaymatch(valid.match(\"akt5q\"))"
      ],
      "metadata": {
        "id": "Jq3mL9WdJMQL"
      },
      "execution_count": null,
      "outputs": []
    },
    {
      "cell_type": "code",
      "source": [
        "# 문제링크 : https://school.programmers.co.kr/learn/courses/30/lessons/120849"
      ],
      "metadata": {
        "id": "9ujQuMu6JutH"
      },
      "execution_count": null,
      "outputs": []
    },
    {
      "cell_type": "code",
      "source": [
        "def solution(my_string):\n",
        "    return my_string.replace('a', '').replace('e', '').replace('i', '').replace('o', '').replace('u', '')"
      ],
      "metadata": {
        "id": "Xeq3wJn_Jx_i"
      },
      "execution_count": null,
      "outputs": []
    },
    {
      "cell_type": "code",
      "source": [
        "def solution(my_string):\n",
        "    string = 'aeiou'\n",
        "    for i in string:\n",
        "        my_string = my_string.replace(i, '')\n",
        "    return my_string"
      ],
      "metadata": {
        "id": "8FV1EBpUKIlf"
      },
      "execution_count": null,
      "outputs": []
    },
    {
      "cell_type": "code",
      "source": [
        "import re\n",
        "\n",
        "def solution(my_string):\n",
        "    return re.sub(r\"[aeiou]\", \"\", my_string)"
      ],
      "metadata": {
        "id": "fNUMZvjnKUXX"
      },
      "execution_count": null,
      "outputs": []
    },
    {
      "cell_type": "code",
      "source": [
        "다음 숫자를 모두 포함하는 정규표현식을 만들어주세요.\n",
        "참고로 지역번호 들어가야 합니다.\n",
        "\n",
        "010-9091-5491\n",
        "010-5043-2901\n",
        "010-5050-40409\n",
        "010 2913 3132\n",
        "01019133829\n",
        "064-721-3213\n",
        "010.1913.3829"
      ],
      "metadata": {
        "id": "1513PUI3OIae"
      },
      "execution_count": null,
      "outputs": []
    },
    {
      "cell_type": "code",
      "source": [
        "import re\n",
        "\n",
        "정규표현식 = r','\n",
        "문자열 = 'name : leehojun, age : 10, height : 180, email : paul-lab@naver.com'\n",
        "결과 = re.split(정규표현식, 문자열, 2)\n",
        "\n",
        "결과"
      ],
      "metadata": {
        "colab": {
          "base_uri": "https://localhost:8080/"
        },
        "id": "hd4UtD4AXetD",
        "outputId": "8fb51351-883e-4ab7-a49a-bc7619981de9"
      },
      "execution_count": null,
      "outputs": [
        {
          "output_type": "execute_result",
          "data": {
            "text/plain": [
              "['name : leehojun', ' age : 10', ' height : 180, email : paul-lab@naver.com']"
            ]
          },
          "metadata": {},
          "execution_count": 21
        }
      ]
    },
    {
      "cell_type": "code",
      "source": [
        "import re\n",
        "\n",
        "정규표현식 = r','\n",
        "문자열 = 'name : leehojun, age : 10, height : 180, email : paul-lab@naver.com'\n",
        "\n",
        "결과 = re.sub(정규표현식, \" !!!\", 문자열)\n",
        "\n",
        "결과"
      ],
      "metadata": {
        "colab": {
          "base_uri": "https://localhost:8080/",
          "height": 35
        },
        "id": "c0ZmERqXW7NC",
        "outputId": "a3aebb12-6b4b-448c-d0d9-d46d3f0a275c"
      },
      "execution_count": null,
      "outputs": [
        {
          "output_type": "execute_result",
          "data": {
            "text/plain": [
              "'name : leehojun !!! age : 10 !!! height : 180 !!! email : paul-lab@naver.com'"
            ],
            "application/vnd.google.colaboratory.intrinsic+json": {
              "type": "string"
            }
          },
          "metadata": {},
          "execution_count": 20
        }
      ]
    },
    {
      "cell_type": "markdown",
      "source": [
        "## sub"
      ],
      "metadata": {
        "id": "aDAurUd-Jt7Q"
      }
    },
    {
      "cell_type": "markdown",
      "source": [
        "* str에 replace"
      ],
      "metadata": {
        "id": "tPQ75XUZ4kSI"
      }
    },
    {
      "cell_type": "code",
      "source": [
        "# 문제 링크 : https://school.programmers.co.kr/learn/courses/30/lessons/120826"
      ],
      "metadata": {
        "id": "eNaqyDXg4-hA"
      },
      "execution_count": null,
      "outputs": []
    },
    {
      "cell_type": "code",
      "source": [
        "def solution(my_string, letter):\n",
        "    for i in letter:\n",
        "        my_string = my_string.replace(i, '')\n",
        "    return my_string"
      ],
      "metadata": {
        "id": "gmeRM7vq5ael"
      },
      "execution_count": null,
      "outputs": []
    },
    {
      "cell_type": "code",
      "source": [
        "import re\n",
        "\n",
        "def solution(my_string, letter):\n",
        "    return re.sub(letter, \"\", my_string)"
      ],
      "metadata": {
        "id": "dRNsaj7F5NqV"
      },
      "execution_count": null,
      "outputs": []
    },
    {
      "cell_type": "code",
      "source": [
        "def solution(my_string):\n",
        "    return my_string.replace('a', '').replace('e', '').replace('i', '').replace('o', '').replace('u', '')"
      ],
      "metadata": {
        "id": "bE1RembI5MT_"
      },
      "execution_count": null,
      "outputs": []
    },
    {
      "cell_type": "code",
      "source": [
        "# 문제 링크 : https://school.programmers.co.kr/learn/courses/30/lessons/120851"
      ],
      "metadata": {
        "id": "napuUJC7516e"
      },
      "execution_count": null,
      "outputs": []
    },
    {
      "cell_type": "code",
      "source": [
        "def solution(my_string):\n",
        "    s = 0\n",
        "    for i in my_string:\n",
        "        if i.isdigit():\n",
        "            s += int(i)\n",
        "    return s"
      ],
      "metadata": {
        "id": "jtyfz3wY53yS"
      },
      "execution_count": null,
      "outputs": []
    },
    {
      "cell_type": "code",
      "source": [
        "def solution(my_string):\n",
        "    return sum([int(i) for i in my_string if i.isdigit()])"
      ],
      "metadata": {
        "id": "Fy_W_QvX7OJ4"
      },
      "execution_count": null,
      "outputs": []
    },
    {
      "cell_type": "code",
      "source": [
        "def solution(my_string):\n",
        "    return sum(map(int, filter(lambda x:x.isdigit(), my_string)))"
      ],
      "metadata": {
        "id": "nR_eAAvC7vR6"
      },
      "execution_count": null,
      "outputs": []
    },
    {
      "cell_type": "code",
      "source": [
        "import re\n",
        "\n",
        "my_string = \"aAb1B2cC34oOp\"\n",
        "re.sub('[a-zA-Z]', '', my_string)"
      ],
      "metadata": {
        "id": "wQ_q3-mT8v_f"
      },
      "execution_count": null,
      "outputs": []
    },
    {
      "cell_type": "code",
      "source": [
        "import re\n",
        "\n",
        "my_string = \"aAb1B2cC34oOp\"\n",
        "re.sub('[^1-9]', '', my_string)"
      ],
      "metadata": {
        "id": "XcQ4SvOm8wqb"
      },
      "execution_count": null,
      "outputs": []
    },
    {
      "cell_type": "code",
      "source": [
        "import re\n",
        "\n",
        "def solution(my_string):\n",
        "    return sum([int(i) for i in re.sub('[^1-9]', '', my_string)])"
      ],
      "metadata": {
        "id": "ACgrF97d8xyQ"
      },
      "execution_count": null,
      "outputs": []
    },
    {
      "cell_type": "code",
      "source": [
        "import re\n",
        "\n",
        "def solution(my_string):\n",
        "    return sum(int(i) for i in re.sub('[^1-9]', '', my_string))"
      ],
      "metadata": {
        "id": "PlD_KzsF9_b3"
      },
      "execution_count": null,
      "outputs": []
    },
    {
      "cell_type": "markdown",
      "source": [
        "### sub의 실무 응용(중고급 강좌)"
      ],
      "metadata": {
        "id": "Q4Agrb4S-Ia_"
      }
    },
    {
      "cell_type": "code",
      "source": [
        "# 문제\n",
        "# 입력 : '2023/05/16'\n",
        "# 출력 : '2023/05/16'\n",
        "\n",
        "import re\n",
        "\n",
        "re.sub(r'([0-9]{4})/([0-9]{2})/([0-9]{2})',\n",
        "        r'\\1/\\2/\\3',\n",
        "        '2023/05/16')"
      ],
      "metadata": {
        "colab": {
          "base_uri": "https://localhost:8080/",
          "height": 35
        },
        "id": "2WnwNyX7-L7C",
        "outputId": "7a5e191a-86b0-4dd7-fec1-300292e88385"
      },
      "execution_count": 7,
      "outputs": [
        {
          "output_type": "execute_result",
          "data": {
            "text/plain": [
              "'2023/05/16'"
            ],
            "application/vnd.google.colaboratory.intrinsic+json": {
              "type": "string"
            }
          },
          "metadata": {},
          "execution_count": 7
        }
      ]
    },
    {
      "cell_type": "code",
      "source": [
        "# 변수로 사용하는 것 test1\n",
        "import re\n",
        "\n",
        "re.sub(r'(?P<year>[0-9]{4})/(?P<month>[0-9]{2})/(?P<day>[0-9]{2})',\n",
        "       r'\\3/\\2/\\1',\n",
        "       '2023/05/16')"
      ],
      "metadata": {
        "colab": {
          "base_uri": "https://localhost:8080/",
          "height": 35
        },
        "id": "LNMumyQRB-0y",
        "outputId": "bd866b8f-f390-4a53-e50d-9477252d226b"
      },
      "execution_count": 11,
      "outputs": [
        {
          "output_type": "execute_result",
          "data": {
            "text/plain": [
              "'16/05/2023'"
            ],
            "application/vnd.google.colaboratory.intrinsic+json": {
              "type": "string"
            }
          },
          "metadata": {},
          "execution_count": 11
        }
      ]
    },
    {
      "cell_type": "code",
      "source": [
        "# ?P<> 변수를 정하는 문법\n",
        "import re\n",
        "\n",
        "re.sub(r'(?P<year>[0-9]{4})/?P<month>([0-9]{2})/?P<day>([0-9]{2})',\n",
        "        r'\\3/\\2/\\1',\n",
        "        '2023/05/16')"
      ],
      "metadata": {
        "colab": {
          "base_uri": "https://localhost:8080/",
          "height": 35
        },
        "id": "y7rcv1GWBG3F",
        "outputId": "14c747b9-7cc2-4747-b0e6-4a14837ff7ac"
      },
      "execution_count": 12,
      "outputs": [
        {
          "output_type": "execute_result",
          "data": {
            "text/plain": [
              "'2023/05/16'"
            ],
            "application/vnd.google.colaboratory.intrinsic+json": {
              "type": "string"
            }
          },
          "metadata": {},
          "execution_count": 12
        }
      ]
    },
    {
      "cell_type": "code",
      "source": [
        "# 변수로 사용하는 것 test2\n",
        "# 작동하지 않습니다.\n",
        "import re\n",
        "\n",
        "re.sub(r'(?P<year>[0-9]{4})/(?P<month>[0-9]{2})/(?P<day>[0-9]{2})',\n",
        "       r'\\<year>/\\<month>/\\<day>',\n",
        "       '2023/05/16')"
      ],
      "metadata": {
        "colab": {
          "base_uri": "https://localhost:8080/",
          "height": 35
        },
        "id": "JLcrlKIOCAdL",
        "outputId": "124b349f-8d36-4fb9-d912-1a50e6655b7a"
      },
      "execution_count": 13,
      "outputs": [
        {
          "output_type": "execute_result",
          "data": {
            "text/plain": [
              "'\\\\<year>/\\\\<month>/\\\\<day>'"
            ],
            "application/vnd.google.colaboratory.intrinsic+json": {
              "type": "string"
            }
          },
          "metadata": {},
          "execution_count": 13
        }
      ]
    },
    {
      "cell_type": "code",
      "source": [
        "# ?P<> 변수를 정하는 문법\n",
        "# 작동하지 않습니다\n",
        "import re\n",
        "\n",
        "re.sub(r'(?P<year>[0-9]{4})/?P<month>([0-9]{2})/?P<day>([0-9]{2})',\n",
        "        r'\\<year>/\\<month>/\\<day>',\n",
        "        '2023/05/16')"
      ],
      "metadata": {
        "colab": {
          "base_uri": "https://localhost:8080/",
          "height": 35
        },
        "id": "Cn0F_j0sB0RX",
        "outputId": "bae467fd-5af8-4d2f-8135-95c64ba78735"
      },
      "execution_count": 10,
      "outputs": [
        {
          "output_type": "execute_result",
          "data": {
            "text/plain": [
              "'2023/05/16'"
            ],
            "application/vnd.google.colaboratory.intrinsic+json": {
              "type": "string"
            }
          },
          "metadata": {},
          "execution_count": 10
        }
      ]
    },
    {
      "cell_type": "code",
      "source": [
        "# 변수로 사용하는 것 test3\n",
        "import re\n",
        "\n",
        "re.sub(r'(?P<year>[0-9]{4})/(?P<month>[0-9]{2})/(?P<day>[0-9]{2})',\n",
        "       r'\\g<year>/\\g<month>/\\g<day>',\n",
        "       '2023/05/16')"
      ],
      "metadata": {
        "id": "TVndW5XCCFCy"
      },
      "execution_count": null,
      "outputs": []
    },
    {
      "cell_type": "code",
      "source": [
        "# md -> html 파일로\n",
        "# '# hello world' => <h1>hello world</h1>\n",
        "import re\n",
        "\n",
        "re.sub(r'# (.*)',\n",
        "       r'<h1>\\1</h1>',\n",
        "       '# hello world')"
      ],
      "metadata": {
        "colab": {
          "base_uri": "https://localhost:8080/",
          "height": 35
        },
        "id": "Hp-yyq8DFESX",
        "outputId": "c1a80461-7a03-4d40-e54a-c73210fd430a"
      },
      "execution_count": 15,
      "outputs": [
        {
          "output_type": "execute_result",
          "data": {
            "text/plain": [
              "'<h1>hello world</h1>'"
            ],
            "application/vnd.google.colaboratory.intrinsic+json": {
              "type": "string"
            }
          },
          "metadata": {},
          "execution_count": 15
        }
      ]
    },
    {
      "cell_type": "code",
      "source": [
        "# md -> html 파일로\n",
        "# '# hello world' => '<h1>hello world</h1>'\n",
        "import re\n",
        "\n",
        "text='''# hello1\n",
        "## hello1.1\n",
        "hello world\n",
        "# hello2\n",
        "## hello2.1\n",
        "hello world\n",
        "# hello3\n",
        "## hello3.1\n",
        "hello world\n",
        "'''\n",
        "\n",
        "text = re.sub(r'# (.*)', r'<h1>\\1</h1>', text)\n",
        "text"
      ],
      "metadata": {
        "colab": {
          "base_uri": "https://localhost:8080/",
          "height": 54
        },
        "id": "r1ocR4LsF2wj",
        "outputId": "05ddcb30-f657-40b9-cb74-6ea1cedf4b7b"
      },
      "execution_count": 19,
      "outputs": [
        {
          "output_type": "execute_result",
          "data": {
            "text/plain": [
              "'<h1>hello1</h1>\\n## hello1.1\\nhello world\\n# hello2\\n## hello2.1\\nhello world\\n# hello3\\n## hello3.1\\nhello world\\n'"
            ],
            "application/vnd.google.colaboratory.intrinsic+json": {
              "type": "string"
            }
          },
          "metadata": {},
          "execution_count": 19
        }
      ]
    },
    {
      "cell_type": "code",
      "source": [
        "import re\n",
        "\n",
        "text='''# hello1\n",
        "## hello1.1\n",
        "hello world\n",
        "# hello2\n",
        "## hello2.1\n",
        "hello world\n",
        "# hello3\n",
        "## hello3.1\n",
        "hello world\n",
        "'''\n",
        "\n",
        "text = re.sub(r'## (.*)', r'<h2>\\1</h2>', text)\n",
        "text = re.sub(r'# (.*)', r'<h1>\\1</h1>', text)\n",
        "text"
      ],
      "metadata": {
        "colab": {
          "base_uri": "https://localhost:8080/",
          "height": 54
        },
        "id": "9gHcfhsAG-Ro",
        "outputId": "f9a9146f-9e73-4d00-9852-1d442e2f5c25"
      },
      "execution_count": 22,
      "outputs": [
        {
          "output_type": "execute_result",
          "data": {
            "text/plain": [
              "'<h1>hello1</h1>\\n<h2>hello1.1</h2>\\nhello world\\n<h1>hello2</h1>\\n<h2>hello2.1</h2>\\nhello world\\n<h1>hello3</h1>\\n<h2>hello3.1</h2>\\nhello world\\n'"
            ],
            "application/vnd.google.colaboratory.intrinsic+json": {
              "type": "string"
            }
          },
          "metadata": {},
          "execution_count": 22
        }
      ]
    },
    {
      "cell_type": "code",
      "source": [
        "import re\n",
        "\n",
        "text='''# hello1\n",
        "## hello1.1\n",
        "hello world\n",
        "# hello2\n",
        "## hello2.1\n",
        "hello world\n",
        "# hello3\n",
        "## hello3.1\n",
        "hello world\n",
        "'''\n",
        "\n",
        "# p = re.compile('^# (.*)', re.MULTILINE)\n",
        "# text = p.sub(r'<h1>\\1</h1>', text)\n",
        "text = re.sub(r'^# (.*)', r'<h1>\\1</h1>', text, flags=re.M)\n",
        "text = re.sub(r'^## (.*)', r'<h2>\\1</h2>', text, flags=re.M)\n",
        "print(text)"
      ],
      "metadata": {
        "id": "5Msn4D26HVZm"
      },
      "execution_count": null,
      "outputs": []
    },
    {
      "cell_type": "code",
      "source": [
        "import re\n",
        "\n",
        "def markdown_to_html(markdown):\n",
        "    html = re.sub(r'### (.*)', r'<h3>\\1</h3>', markdown)\n",
        "    html = re.sub(r'## (.*)', r'<h2>\\1</h2>', html)\n",
        "    html = re.sub(r'# (.*)', r'<h1>\\1</h1>', html)\n",
        "    return html"
      ],
      "metadata": {
        "id": "HHR1ZVQCIWco"
      },
      "execution_count": null,
      "outputs": []
    },
    {
      "cell_type": "code",
      "source": [
        "import re\n",
        "\n",
        "text = '''# This is a h1\n",
        "## This is a h2\n",
        "### This is a h3\n",
        "#### This is a h4\n",
        "##### This is a h5\n",
        "###### This is a h6\n",
        "\n",
        "* This is a bulleted list\n",
        "  * This is a nested bulleted list\n",
        "\n",
        "**This is bold text**\n",
        "\n",
        "_This is italic text_\n",
        "\n",
        "~~This text is strikethrough~~\n",
        "'''\n",
        "\n",
        "def markdown_to_html(markdown):\n",
        "    html = re.sub(r'### (.*)', r'<h3>\\1</h3>', markdown)\n",
        "    html = re.sub(r'## (.*)', r'<h2>\\1</h2>', html)\n",
        "    html = re.sub(r'# (.*)', r'<h1>\\1</h1>', html)\n",
        "    html = re.sub(r'`(.*)`', r'<pre><code>\\1</code></pre>', html)\n",
        "    html = re.sub(r'\\*\\*(.*)\\*\\*', r'<strong>\\1</strong>', html)\n",
        "    html = re.sub(r'_(.*)_', r'<em>\\1</em>', html)\n",
        "    html = re.sub(r'~~(.*)~~', r'<del>\\1</del>', html)\n",
        "    html = re.sub(r'^(>+) (.*)', r'<blockquote>\\1\\2</blockquote>', html)\n",
        "    # html = re.sub(r'^\\* (.*)', r'<ul><li>\\1</li></ul>', html, flags=re.M+re.S)\n",
        "    return html\n",
        "\n",
        "print(markdown_to_html(text))"
      ],
      "metadata": {
        "id": "8dJjXxIjKj5C"
      },
      "execution_count": null,
      "outputs": []
    },
    {
      "cell_type": "markdown",
      "source": [
        "## search"
      ],
      "metadata": {
        "id": "hYfPA9I4Kpxo"
      }
    },
    {
      "cell_type": "code",
      "source": [
        "p = re.compile('[yth]')\n",
        "m = p.search('python')\n",
        "print(m)"
      ],
      "metadata": {
        "colab": {
          "base_uri": "https://localhost:8080/"
        },
        "id": "PsZC_eLrKrE4",
        "outputId": "e0ce5748-b97c-41db-e93d-46be9e1b20f9"
      },
      "execution_count": 25,
      "outputs": [
        {
          "output_type": "stream",
          "name": "stdout",
          "text": [
            "<re.Match object; span=(1, 2), match='y'>\n"
          ]
        }
      ]
    },
    {
      "cell_type": "markdown",
      "source": [
        "## findall"
      ],
      "metadata": {
        "id": "kzQmCt4jLK6L"
      }
    },
    {
      "cell_type": "code",
      "source": [
        "p = re.compile('[a-z]+') #소문자와 모두\n",
        "result = p.findall('Python')\n",
        "print(result)"
      ],
      "metadata": {
        "colab": {
          "base_uri": "https://localhost:8080/"
        },
        "id": "UMCR00OPLKYc",
        "outputId": "f6d8113a-761a-43a1-9e4b-8b747bdda900"
      },
      "execution_count": 27,
      "outputs": [
        {
          "output_type": "stream",
          "name": "stdout",
          "text": [
            "['ython']\n"
          ]
        }
      ]
    },
    {
      "cell_type": "code",
      "source": [
        "p = re.compile('[a-z]+')\n",
        "result = p.findall('Life is Short, You Need Python!')\n",
        "print(result)"
      ],
      "metadata": {
        "colab": {
          "base_uri": "https://localhost:8080/"
        },
        "id": "c_Entpw_LYOD",
        "outputId": "afb60370-51a0-4531-c5d6-b774e956a253"
      },
      "execution_count": 28,
      "outputs": [
        {
          "output_type": "stream",
          "name": "stdout",
          "text": [
            "['ife', 'is', 'hort', 'ou', 'eed', 'ython']\n"
          ]
        }
      ]
    },
    {
      "cell_type": "code",
      "source": [
        "p = re.compile('[a-z]+')\n",
        "result = p.findall('LifeisShort,YouNeed P y t h o n !')\n",
        "print(result)"
      ],
      "metadata": {
        "colab": {
          "base_uri": "https://localhost:8080/"
        },
        "id": "UT9iAaKUL_G2",
        "outputId": "9107ab74-589b-479c-ec6b-39c3440ae803"
      },
      "execution_count": 30,
      "outputs": [
        {
          "output_type": "stream",
          "name": "stdout",
          "text": [
            "['ifeis', 'hort', 'ou', 'eed', 'y', 't', 'h', 'o', 'n']\n"
          ]
        }
      ]
    },
    {
      "cell_type": "code",
      "source": [
        "p = re.compile('[0-9]+')\n",
        "result = p.findall('010-5000-1000')\n",
        "print(result)"
      ],
      "metadata": {
        "colab": {
          "base_uri": "https://localhost:8080/"
        },
        "id": "vTaznkKgLoo6",
        "outputId": "c41fe1c9-1c91-4a2f-b89e-96ea9cd93a11"
      },
      "execution_count": 31,
      "outputs": [
        {
          "output_type": "stream",
          "name": "stdout",
          "text": [
            "['010', '5000', '1000']\n"
          ]
        }
      ]
    },
    {
      "cell_type": "code",
      "source": [
        "'010-5000-1000'.split('-')"
      ],
      "metadata": {
        "colab": {
          "base_uri": "https://localhost:8080/"
        },
        "id": "TRwKzkCvMJcw",
        "outputId": "48d3572d-74be-4b50-f5d3-3c14eb587fa5"
      },
      "execution_count": 33,
      "outputs": [
        {
          "output_type": "execute_result",
          "data": {
            "text/plain": [
              "['010', '5000', '1000']"
            ]
          },
          "metadata": {},
          "execution_count": 33
        }
      ]
    },
    {
      "cell_type": "code",
      "source": [
        "# 문제 링크 : "
      ],
      "metadata": {
        "id": "LOLxyGlfNGa7"
      },
      "execution_count": null,
      "outputs": []
    },
    {
      "cell_type": "code",
      "source": [
        "# 1\n",
        "p = re.compile(r'([0-9]|10)([SDT])([\\*\\#]?)')\n",
        "p.findall('1S2D*3T')\n",
        "\n",
        "# 2\n",
        "# re.findall(r'([0-9]|10)([SDT])([\\*\\#]?)', '1S2D*3T')"
      ],
      "metadata": {
        "colab": {
          "base_uri": "https://localhost:8080/"
        },
        "id": "1p89fV2hMSU-",
        "outputId": "498ca983-ee98-4337-98ae-319aea39c682"
      },
      "execution_count": 34,
      "outputs": [
        {
          "output_type": "execute_result",
          "data": {
            "text/plain": [
              "[('1', 'S', ''), ('2', 'D', '*'), ('3', 'T', '')]"
            ]
          },
          "metadata": {},
          "execution_count": 34
        }
      ]
    },
    {
      "cell_type": "code",
      "source": [
        "# 문제 링크(369) : https://school.programmers.co.kr/learn/courses/30/lessons/120891"
      ],
      "metadata": {
        "id": "fGabvnFkNVCH"
      },
      "execution_count": null,
      "outputs": []
    },
    {
      "cell_type": "code",
      "source": [
        "import re\n",
        "\n",
        "def solution(order):\n",
        "    p = re.compile('[369]')\n",
        "    return len(p.findall(str(order)))"
      ],
      "metadata": {
        "id": "fqyBM94JOTIH"
      },
      "execution_count": null,
      "outputs": []
    },
    {
      "cell_type": "code",
      "source": [
        "def solution(order):\n",
        "    count = 0\n",
        "    for i in str(order):\n",
        "        if i == '3' or i == '6' or i == '9':\n",
        "            count += 1\n",
        "    return count"
      ],
      "metadata": {
        "id": "3jQsYzauO0D8"
      },
      "execution_count": null,
      "outputs": []
    },
    {
      "cell_type": "code",
      "source": [
        "def solution(order):\n",
        "    count = 0\n",
        "    for i in str(order):\n",
        "        if i == '3':\n",
        "            count += 1\n",
        "        elif i == '6':\n",
        "            count += 1\n",
        "        elif i == '9':\n",
        "            count += 1\n",
        "    return count"
      ],
      "metadata": {
        "id": "VNDKnx4wO1w3"
      },
      "execution_count": null,
      "outputs": []
    },
    {
      "cell_type": "code",
      "source": [
        "# 문제 링크 : https://school.programmers.co.kr/learn/courses/30/lessons/120913"
      ],
      "metadata": {
        "id": "74oE2OMAPVKI"
      },
      "execution_count": 35,
      "outputs": []
    },
    {
      "cell_type": "code",
      "source": [
        "n = 3\n",
        "s = \"abc1Addfggg4556b\"\n",
        "\n",
        "for i in range(0, len(s), n):\n",
        "    print(s[i:i+n])"
      ],
      "metadata": {
        "colab": {
          "base_uri": "https://localhost:8080/"
        },
        "id": "8oWkr1FwPdiv",
        "outputId": "ef8dd5e8-f5ca-42f5-ecf8-67c5a8c1a5f8"
      },
      "execution_count": 37,
      "outputs": [
        {
          "output_type": "stream",
          "name": "stdout",
          "text": [
            "abc\n",
            "1Ad\n",
            "dfg\n",
            "gg4\n",
            "556\n",
            "b\n"
          ]
        }
      ]
    },
    {
      "cell_type": "code",
      "source": [
        "s = \"abc1Addfggg4556b\"\n",
        "len(s)\n",
        "s[15:18] # str에 slicing 경우 out of range error가 발생 하지 않습니다."
      ],
      "metadata": {
        "id": "pnT2EcxITOmz"
      },
      "execution_count": null,
      "outputs": []
    },
    {
      "cell_type": "code",
      "source": [
        "n = 3\n",
        "s = \"abc1Addfggg4556b\"\n",
        "\n",
        "for i in range(0, len(s), n):\n",
        "    print(s[i:i+n])"
      ],
      "metadata": {
        "id": "HAhR4soOTPvl"
      },
      "execution_count": null,
      "outputs": []
    },
    {
      "cell_type": "code",
      "source": [
        "def solution(my_str, n):\n",
        "    result = []\n",
        "    for i in range(0, len(my_str), n):\n",
        "        result.append(my_str[i:i+n])\n",
        "    return result"
      ],
      "metadata": {
        "id": "z-R6ZO-fT78I"
      },
      "execution_count": null,
      "outputs": []
    },
    {
      "cell_type": "code",
      "source": [
        "import re\n",
        "\n",
        "def solution(my_str, n):\n",
        "    return re.findall(f'.{{1,{n}}}', my_str)"
      ],
      "metadata": {
        "id": "L-pe2j3kT72X"
      },
      "execution_count": null,
      "outputs": []
    },
    {
      "cell_type": "code",
      "source": [
        "# 문제 링크 : https://school.programmers.co.kr/learn/courses/30/lessons/120894"
      ],
      "metadata": {
        "id": "Zkem3xD6V_lM"
      },
      "execution_count": null,
      "outputs": []
    },
    {
      "cell_type": "code",
      "source": [
        "import re\n",
        "\n",
        "re.findall('(one|two|three|four|five|six|seven|eight|nine|zero)', \"onetwothreefourfivesixseveneightninezero\")"
      ],
      "metadata": {
        "colab": {
          "base_uri": "https://localhost:8080/"
        },
        "id": "hb_0ssQRWvgj",
        "outputId": "6b95d113-66b1-4c72-9bba-3700ed98faad"
      },
      "execution_count": 38,
      "outputs": [
        {
          "output_type": "execute_result",
          "data": {
            "text/plain": [
              "['one',\n",
              " 'two',\n",
              " 'three',\n",
              " 'four',\n",
              " 'five',\n",
              " 'six',\n",
              " 'seven',\n",
              " 'eight',\n",
              " 'nine',\n",
              " 'zero']"
            ]
          },
          "metadata": {},
          "execution_count": 38
        }
      ]
    },
    {
      "cell_type": "code",
      "source": [
        "d = {\n",
        "    'one': 1,\n",
        "    'two': 2,\n",
        "    'three': 3,\n",
        "    'four': 4,\n",
        "    'five': 5,\n",
        "    'six': 6,\n",
        "    'seven': 7,\n",
        "    'eight': 8,\n",
        "    'nine': 9,\n",
        "    'zero': 0\n",
        "}\n",
        "\n",
        "l = ['one',\n",
        " 'two',\n",
        " 'three',\n",
        " 'four',\n",
        " 'five',\n",
        " 'six',\n",
        " 'seven',\n",
        " 'eight',\n",
        " 'nine',\n",
        " 'zero']\n",
        "\n",
        "s = ''\n",
        "for i in l:\n",
        "    s += str(d[i])\n",
        "s\n"
      ],
      "metadata": {
        "colab": {
          "base_uri": "https://localhost:8080/",
          "height": 35
        },
        "id": "P97o3HxSXEvf",
        "outputId": "99d86837-12ab-4c26-eaa1-27e2aa636c66"
      },
      "execution_count": 40,
      "outputs": [
        {
          "output_type": "execute_result",
          "data": {
            "text/plain": [
              "'1234567890'"
            ],
            "application/vnd.google.colaboratory.intrinsic+json": {
              "type": "string"
            }
          },
          "metadata": {},
          "execution_count": 40
        }
      ]
    },
    {
      "cell_type": "code",
      "source": [
        "d = {\n",
        "    'zero': 0,\n",
        "    'one': 1,\n",
        "    'two': 2,\n",
        "    'three': 3,\n",
        "    'four': 4,\n",
        "    'five': 5,\n",
        "    'six': 6,\n",
        "    'seven': 7,\n",
        "    'eight': 8,\n",
        "    'nine': 9\n",
        "}\n",
        "l = ['one', 'two', 'three', 'four', 'five', 'six', 'seven', 'eight', 'nine']\n",
        "# list(map(lambda x:str(d[x]), l))\n",
        "''.join(map(lambda x:str(d[x]), l)) # join 뒤에도 이터러블 객체가 옵니다."
      ],
      "metadata": {
        "colab": {
          "base_uri": "https://localhost:8080/",
          "height": 35
        },
        "id": "-lFUezSZXzuV",
        "outputId": "61319d6e-84e4-47d0-9c70-5f3b9215605b"
      },
      "execution_count": 44,
      "outputs": [
        {
          "output_type": "execute_result",
          "data": {
            "text/plain": [
              "'123456789'"
            ],
            "application/vnd.google.colaboratory.intrinsic+json": {
              "type": "string"
            }
          },
          "metadata": {},
          "execution_count": 44
        }
      ]
    },
    {
      "cell_type": "code",
      "source": [
        "d = {\n",
        "    'zero': 0,\n",
        "    'one': 1,\n",
        "    'two': 2,\n",
        "    'three': 3,\n",
        "    'four': 4,\n",
        "    'five': 5,\n",
        "    'six': 6,\n",
        "    'seven': 7,\n",
        "    'eight': 8,\n",
        "    'nine': 9\n",
        "}\n",
        "l = ['one', 'two', 'three', 'four', 'five', 'six', 'seven', 'eight', 'nine']\n",
        "''.join([str(d[i]) for i in l])"
      ],
      "metadata": {
        "id": "vxbTXUxzYJmp"
      },
      "execution_count": null,
      "outputs": []
    },
    {
      "cell_type": "code",
      "source": [
        "import re\n",
        "\n",
        "def solution(numbers):\n",
        "    s = ''\n",
        "    d = {\n",
        "        'one':   '1',\n",
        "        'two':   '2',\n",
        "        'three': '3',\n",
        "        'four':  '4',\n",
        "        'five':  '5',\n",
        "        'six':   '6',\n",
        "        'seven': '7',\n",
        "        'eight': '8',\n",
        "        'nine':  '9',\n",
        "        'zero':  '0',\n",
        "    }\n",
        "    for i in re.findall(r'(zero|one|two|three|four|five|six|seven|eight|nine)', numbers):\n",
        "        s += d[i]\n",
        "    return int(s)"
      ],
      "metadata": {
        "id": "A26EnrI1Yazs"
      },
      "execution_count": null,
      "outputs": []
    },
    {
      "cell_type": "markdown",
      "source": [
        "## finditer\n",
        "\n",
        "* 정규식과 매치되는 모든 문자열(substring)을 반복 가능한 객체로 리턴한다."
      ],
      "metadata": {
        "id": "BXy3S-wJYuMU"
      }
    },
    {
      "cell_type": "code",
      "source": [
        "p = re.compile('.{4}')\n",
        "result = p.finditer('asdpfojaspofpewpodomd;d,d,q,,s,ssds')\n",
        "for i in result:\n",
        "    print(i)\n",
        "    print(i.group())"
      ],
      "metadata": {
        "colab": {
          "base_uri": "https://localhost:8080/"
        },
        "id": "HrFEdgRVZE44",
        "outputId": "1427dfd2-7bb7-4062-e5c1-0f699d6dee59"
      },
      "execution_count": 46,
      "outputs": [
        {
          "output_type": "stream",
          "name": "stdout",
          "text": [
            "<re.Match object; span=(0, 4), match='asdp'>\n",
            "asdp\n",
            "<re.Match object; span=(4, 8), match='foja'>\n",
            "foja\n",
            "<re.Match object; span=(8, 12), match='spof'>\n",
            "spof\n",
            "<re.Match object; span=(12, 16), match='pewp'>\n",
            "pewp\n",
            "<re.Match object; span=(16, 20), match='odom'>\n",
            "odom\n",
            "<re.Match object; span=(20, 24), match='d;d,'>\n",
            "d;d,\n",
            "<re.Match object; span=(24, 28), match='d,q,'>\n",
            "d,q,\n",
            "<re.Match object; span=(28, 32), match=',s,s'>\n",
            ",s,s\n"
          ]
        }
      ]
    },
    {
      "cell_type": "markdown",
      "source": [
        "## spilt\n",
        "* 정규표현 패턴으로 문자열을 분할 (str에 split과 같은 역할)"
      ],
      "metadata": {
        "id": "mjr_qBLJZ626"
      }
    },
    {
      "cell_type": "code",
      "source": [
        "import re\n",
        "\n",
        "s = '010 5000!4000'\n",
        "re.split(r' ',s)"
      ],
      "metadata": {
        "colab": {
          "base_uri": "https://localhost:8080/"
        },
        "id": "riL5U2URZ-j0",
        "outputId": "09015277-611f-426b-b66a-197b20e155b1"
      },
      "execution_count": 47,
      "outputs": [
        {
          "output_type": "execute_result",
          "data": {
            "text/plain": [
              "['010', '5000!4000']"
            ]
          },
          "metadata": {},
          "execution_count": 47
        }
      ]
    },
    {
      "cell_type": "code",
      "source": [
        "import re\n",
        "\n",
        "s = '010 5000!4000'\n",
        "re.split(r'[ !]',s)"
      ],
      "metadata": {
        "colab": {
          "base_uri": "https://localhost:8080/"
        },
        "id": "89GO-SV0aErp",
        "outputId": "684730fe-0fbd-49b4-c03a-550e6e7b7d9c"
      },
      "execution_count": 48,
      "outputs": [
        {
          "output_type": "execute_result",
          "data": {
            "text/plain": [
              "['010', '5000', '4000']"
            ]
          },
          "metadata": {},
          "execution_count": 48
        }
      ]
    },
    {
      "cell_type": "code",
      "source": [
        "text = '''\n",
        "\n",
        "<!DOCTYPE html>\n",
        "<html lang=\"ko\">\n",
        "<head>\n",
        "    <title>hello title</title>\n",
        "</head>\n",
        "<body>\n",
        "    <h1>hello h1</h1>\n",
        "    <p>hello p</p>\n",
        "</body>\n",
        "</html>\n",
        "'''\n",
        "\n",
        "text.split('>')"
      ],
      "metadata": {
        "id": "qDmeGdQzau2Z"
      },
      "execution_count": null,
      "outputs": []
    },
    {
      "cell_type": "code",
      "source": [
        "import re\n",
        "\n",
        "text = '''\n",
        "<!DOCTYPE html>\n",
        "<html lang=\"ko\">\n",
        "<head>\n",
        "    <title>hello title</title>\n",
        "</head>\n",
        "<body>\n",
        "    <h1>hello h1</h1>\n",
        "    <p>hello p</p>\n",
        "</body>\n",
        "</html>\n",
        "'''\n",
        "\n",
        "result = re.split(r'<[^<>]*>', text) # beautifulsoup 원리 : 정규표현식으로 문자열 조각\n",
        "list(filter(lambda x:x !='\\n', map(lambda x:x.strip(), result)))"
      ],
      "metadata": {
        "id": "-vbMkXDubNWx"
      },
      "execution_count": null,
      "outputs": []
    },
    {
      "cell_type": "code",
      "source": [
        "(?:(?:(?:(?:(?:(?:(?:(?:(?:(?:(?:(?:(?:(?:(?:(?:(?:(?:(?:(?:(?:(?:(?:(?:(?:(?:(?:(?:(?:(?:[01]?\\\\d\\\\d?|2[0-4]\\\\d|25[0-5])\\\\.){3}(?:[01]?\\\\d\\\\d?|2[0-4]\\\\d|25[0-5]))|(?:(?:[0-9a-fA-F]{1,4}:){7}(?:[0-9a-fA-F]{1,4}|:))|(?:(?:[0-9a-fA-F]{1,4}:){6}(?::[0-9a-fA-F]{1,4}|:(?:[01]?\\\\d\\\\d?|2[0-4]\\\\d|25[0-5])))|(?:(?:[0-9a-fA-F]{1,4}:){5}(?:(?::[0-9a-fA-F]{1,4}){1,2}|:(?:[01]?\\\\d\\\\d?|2[0-4]\\\\d|25[0-5]))))|(?:(?:[0-9a-fA-F]{1,4}:){4}(?:(?::[0-9a-fA-F]{1,4}){1,3}|:(?:[01]?\\\\d\\\\d?|2[0-4]\\\\d|25[0-5])))|(?:(?:[0-9a-fA-F]{1,4}:){3}(?:(?::[0-9a-fA-F]{1,4}){1,4}|:(?:[01]?\\\\d\\\\d?|2[0-4]\\\\d|25[0-5])))|(?:(?:[0-9a-fA-F]{1,4}:){2}(?:(?::[0-9a-fA-F]{1,4}){1,5}|:(?:[01]?\\\\d\\\\d?|2[0-4]\\\\d|25[0-5])))|(?:(?:[0-9a-fA-F]{1,4}:){1}(?:(?::[0-9a-fA-F]{1,4}){1,6}|:(?:[01]?\\\\d\\\\d?|2[0-4]\\\\d|25[0-5]))))|(?:(?:::(?:[0-9a-fA-F]{1,4}:){0,5}(?:(?::[0-9a-fA-F]{1,4}){1,5}|:(?:[01]?\\\\d\\\\d?|2[0-4]\\\\d|25[0-5]))))|(?:(?:[0-9a-fA-F]{1,4})?::(?:[0-9a-fA-F]{1,4}:){0,5}(?:(?::[0-9a-fA-F]{1,4}){1,5}|:(?:[01]?\\\\d\\\\d?|2[0-4]\\\\d|25[0-5]))))|(?:(?:[0-9a-fA-F]{1,4}:){1,7}:))|(?:(?:(?:(?:[a-zA-Z\\\\x{00a1}-\\\\x{ffff}0-9]+-?)*[a-zA-Z\\\\x{00a1}-\\\\x{ffff}0-9]+)\\\\.)+[a-zA-Z\\\\x{00a1}-\\\\x{ffff}]{2,})))|localhost)(?::\\\\d{1,5})?(?:\\\\/[^\\\\s]*)?$/gm"
      ],
      "metadata": {
        "id": "IW7xvntQdEyb"
      },
      "execution_count": null,
      "outputs": []
    },
    {
      "cell_type": "code",
      "source": [],
      "metadata": {
        "id": "Lhgy14P6dEuz"
      },
      "execution_count": null,
      "outputs": []
    }
  ]
}