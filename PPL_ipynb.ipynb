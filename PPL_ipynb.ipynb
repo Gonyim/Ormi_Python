{
  "nbformat": 4,
  "nbformat_minor": 0,
  "metadata": {
    "colab": {
      "provenance": [],
      "authorship_tag": "ABX9TyMnG9d22/3lpPl4tT4BUwzX",
      "include_colab_link": true
    },
    "kernelspec": {
      "name": "python3",
      "display_name": "Python 3"
    },
    "language_info": {
      "name": "python"
    }
  },
  "cells": [
    {
      "cell_type": "markdown",
      "metadata": {
        "id": "view-in-github",
        "colab_type": "text"
      },
      "source": [
        "<a href=\"https://colab.research.google.com/github/Gonyim/Ormi_Python/blob/main/PPL_ipynb.ipynb\" target=\"_parent\"><img src=\"https://colab.research.google.com/assets/colab-badge.svg\" alt=\"Open In Colab\"/></a>"
      ]
    },
    {
      "cell_type": "code",
      "execution_count": null,
      "metadata": {
        "id": "BB_MKgiDvkwh"
      },
      "outputs": [],
      "source": [
        "def print_args(a, b, c, d, e):\n",
        "    print(a, b, c, d, e)\n",
        "\n",
        "print_args('aa', 'bb', 'cc', 'dd', 'ee')"
      ]
    },
    {
      "cell_type": "code",
      "source": [
        "def print_args(*args):\n",
        "    print(args)\n",
        "\n",
        "print_args('aa', 'bb', 'cc', 'dd', 'ee')"
      ],
      "metadata": {
        "colab": {
          "base_uri": "https://localhost:8080/"
        },
        "id": "ffy9Ghwyv0of",
        "outputId": "da134de1-7ece-48d3-d496-46a9bdd1762c"
      },
      "execution_count": 1,
      "outputs": [
        {
          "output_type": "stream",
          "name": "stdout",
          "text": [
            "('aa', 'bb', 'cc', 'dd', 'ee')\n"
          ]
        }
      ]
    },
    {
      "cell_type": "code",
      "source": [
        "숫자 = [1, 2, 3, 4, 5]\n",
        "승수 = [2, 2, 2, 3, 3]\n",
        "\n",
        "#문제\n",
        "#1. 숫자의 승수를 zip으로 맵핑해서 진행하세요.\n",
        "#2. 숫자를 승수만큼 승수하여 결과값을 표현해주세요.\n",
        "#3. 승수한 값이 100이상인 값을 출력하세요.\n",
        "#4. 승수한 값을 모두 더하세요.\n",
        "\n",
        "#1\n",
        "list(zip(숫자, 승수))\n",
        "\n",
        "\n",
        "#2\n",
        "for i in zip(숫자, 승수):\n",
        "    print(i[0] ** i[1])\n",
        "list(map(lambda i: i[0] ** i[1], zip(숫자, 승수)))\n",
        "\n",
        "a = list(map(lambda i: i[0] ** i[1], zip(숫자, 승수)))\n",
        "\n",
        "#3\n",
        "x = []\n",
        "for i in a:\n",
        "    if i >= 100:\n",
        "        x.append(i)\n",
        "\n",
        "def s(i):\n",
        "    return i >= 100\n",
        "\n",
        "list(map(lambda i: i >= 100, a))\n",
        "list(map(s, a))\n",
        "\n",
        "print(x)\n",
        "\n",
        "4\n",
        "승수합 = 0\n",
        "for i in a:\n",
        "    승수합 += i\n",
        "\n",
        "print(승수합)\n",
        "\n",
        "sum(a)"
      ],
      "metadata": {
        "colab": {
          "base_uri": "https://localhost:8080/"
        },
        "id": "lRHfR9rFydK5",
        "outputId": "e1e0a980-ce51-431d-9326-a91493667cf7"
      },
      "execution_count": 32,
      "outputs": [
        {
          "output_type": "execute_result",
          "data": {
            "text/plain": [
              "203"
            ]
          },
          "metadata": {},
          "execution_count": 32
        }
      ]
    },
    {
      "cell_type": "code",
      "source": [
        "# 결과값은 다음과 같아야 합니다.\n",
        "# 1. 숫자의 승수를 zip으로 맵핑해서 진행하세요.\n",
        "[(1, 2), (2, 2), (3, 2), (4, 3), (5, 3)]\n",
        "\n",
        "# 2. 숫자를 승수만큼 제곱하여 결과값을 표현해주세요.\n",
        "[1, 4, 9, 64, 125]\n",
        "\n",
        "# 3. 승수한 값이 100이상인 값을 출력하세요.\n",
        "[125]\n",
        "\n",
        "# 4. 승수한 값을 모두 더하세요\n",
        "203"
      ],
      "metadata": {
        "id": "jAjZJ3WiytGI"
      },
      "execution_count": null,
      "outputs": []
    }
  ]
}