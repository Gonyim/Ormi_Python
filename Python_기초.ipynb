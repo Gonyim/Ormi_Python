{
  "nbformat": 4,
  "nbformat_minor": 0,
  "metadata": {
    "colab": {
      "provenance": [],
      "authorship_tag": "ABX9TyOSsRW5HEWQxIiSxUieeJit",
      "include_colab_link": true
    },
    "kernelspec": {
      "name": "python3",
      "display_name": "Python 3"
    },
    "language_info": {
      "name": "python"
    }
  },
  "cells": [
    {
      "cell_type": "markdown",
      "metadata": {
        "id": "view-in-github",
        "colab_type": "text"
      },
      "source": [
        "<a href=\"https://colab.research.google.com/github/Gonyim/Ormi_Python/blob/main/Python_%EA%B8%B0%EC%B4%88.ipynb\" target=\"_parent\"><img src=\"https://colab.research.google.com/assets/colab-badge.svg\" alt=\"Open In Colab\"/></a>"
      ]
    },
    {
      "cell_type": "markdown",
      "source": [
        "# Python 기본"
      ],
      "metadata": {
        "id": "vG5xWHYqt3eM"
      }
    },
    {
      "cell_type": "markdown",
      "source": [
        "파이썬\n",
        "- 2점대, 3점대\n",
        "- 2점대로 서비스 운영 -> 서포트 중지\n",
        "  - 인코딩\n",
        "  - 함수들, 기능...\n",
        "- 현재 실습 환경: 3점대"
      ],
      "metadata": {
        "id": "ZHzSTc9Jt7hp"
      }
    },
    {
      "cell_type": "code",
      "execution_count": null,
      "metadata": {
        "colab": {
          "base_uri": "https://localhost:8080/"
        },
        "id": "SFkzwzjktxVi",
        "outputId": "90738299-b650-490e-b993-807046a57229"
      },
      "outputs": [
        {
          "output_type": "stream",
          "name": "stdout",
          "text": [
            "Python 3.10.12\n"
          ]
        }
      ],
      "source": [
        "!python --version"
      ]
    },
    {
      "cell_type": "markdown",
      "source": [
        "# 주석\n",
        "\n",
        "- 한 줄 주석: #\n",
        "- 여러 줄 주석: ''' ''', \"\"\" \"\"\"\n",
        "- 에디터 단축키: ctrl, cmd + /"
      ],
      "metadata": {
        "id": "gm_LDP87ub-l"
      }
    },
    {
      "cell_type": "code",
      "source": [
        "def add(num1, num2):\n",
        "'''\n",
        "숫자 합을 구하는 함수입니다.\n",
        "'''\n",
        "    return num1 + num2\n",
        "\n",
        "print(add(1, 2))"
      ],
      "metadata": {
        "id": "0I9ukwXyusP5"
      },
      "execution_count": null,
      "outputs": []
    },
    {
      "cell_type": "code",
      "source": [
        "def add(num1, num2):\n",
        "    '''\n",
        "    숫자 합을 구하는 함수입니다.\n",
        "    '''\n",
        "    return num1 + num2\n",
        "\n",
        "print(add(1, 2))"
      ],
      "metadata": {
        "id": "T4Ps-zckvKAt"
      },
      "execution_count": null,
      "outputs": []
    },
    {
      "cell_type": "markdown",
      "source": [
        "# 변수\n",
        "\n",
        "- 변수: 변할 수 있는 값 -> 소문자 (상수 -> 대문자로 선언)\n",
        "- 상자 -> 값을 담아줄 수 있다. -> 변수를 선언한다.\n",
        "- var = 1 (할당 연산자) / ==\n",
        "- 변수 값을 가리키는 것\n",
        "\n",
        "변수 이름\n",
        "- _(언더바)나 영문자로 시작해야합니다.\n",
        "- 숫자로 시작할 수 없습니다.\n",
        "- 특수문자(언더바 제외)는 사용할 수 없습니다.\n",
        "- add num -> add_num (addNum Java)\n",
        "- 예약어로 변수명을 사용할 수 없습니다. (for, it .. )\n",
        "- 이 규칙을 지키지 않을 경우 오류가 발생하기도 합니다.\n",
        "\n",
        "변수 선언\n",
        "- 변수를 선언할 때 값을 넣어주어야 합니다.\n",
        "  - 변수 선언 시, 값을 넣어주는 것 -> 자료형 자체가 지정된다.\n",
        "  - 변수 = 값 -> 왼쪽에는 무조건 변수, 오른쪽에는 값, 변수, 수식, 함수 등\n",
        "\n",
        "변수 타입\n",
        "- int, float, string, bool\n",
        "- type(변수명)"
      ],
      "metadata": {
        "id": "wz4dov1dvfYN"
      }
    },
    {
      "cell_type": "code",
      "source": [
        "book = 'gony'"
      ],
      "metadata": {
        "id": "AWCT2t_OxbLj"
      },
      "execution_count": null,
      "outputs": []
    },
    {
      "cell_type": "code",
      "source": [
        "type(book)"
      ],
      "metadata": {
        "colab": {
          "base_uri": "https://localhost:8080/"
        },
        "id": "UEqViI3VyV5l",
        "outputId": "25d48e64-9575-48db-bc9d-ecd324f40b42"
      },
      "execution_count": null,
      "outputs": [
        {
          "output_type": "execute_result",
          "data": {
            "text/plain": [
              "str"
            ]
          },
          "metadata": {},
          "execution_count": 7
        }
      ]
    },
    {
      "cell_type": "code",
      "source": [
        "# 변수 연속 할당\n",
        "\n",
        "var1 = var2 = var3 = var4 = 10"
      ],
      "metadata": {
        "id": "4cAnsq1uyZBw"
      },
      "execution_count": null,
      "outputs": []
    },
    {
      "cell_type": "code",
      "source": [
        "print(var1)"
      ],
      "metadata": {
        "id": "DfuPN-BbyhPF"
      },
      "execution_count": null,
      "outputs": []
    },
    {
      "cell_type": "code",
      "source": [
        "print(id(var1))\n",
        "print(id(var2))\n",
        "print(id(var3))\n",
        "print(id(var4))\n",
        "# 파이썬에서는 정수형(int) 중에서 자주 사용될 것 같은 값들은 미리 메모리에 올려두고\n",
        "# 메모리를 효율적으로 사용하기 위해서 같은 위치를 사용합니다."
      ],
      "metadata": {
        "id": "s5LcE6Gkyl30"
      },
      "execution_count": null,
      "outputs": []
    },
    {
      "cell_type": "code",
      "source": [
        "# 변수 연산 결과를 다시 사용하기\n",
        "x1 = 10\n",
        "x1 = x1 + 10\n",
        "\n",
        "x2 = 20\n",
        "x2 = x2 + x2"
      ],
      "metadata": {
        "id": "yRLfvI2ezSet"
      },
      "execution_count": null,
      "outputs": []
    },
    {
      "cell_type": "code",
      "source": [
        "print(x1)"
      ],
      "metadata": {
        "colab": {
          "base_uri": "https://localhost:8080/"
        },
        "id": "8LtlCgCRzdB4",
        "outputId": "1ecd0061-111d-4d6b-a1c7-35829f3c6b52"
      },
      "execution_count": null,
      "outputs": [
        {
          "output_type": "stream",
          "name": "stdout",
          "text": [
            "20\n"
          ]
        }
      ]
    },
    {
      "cell_type": "code",
      "source": [
        "print(x2)"
      ],
      "metadata": {
        "colab": {
          "base_uri": "https://localhost:8080/"
        },
        "id": "cyY-zglYzgWf",
        "outputId": "1d7ceaf3-6f7a-4f52-ea91-52638d28e437"
      },
      "execution_count": null,
      "outputs": [
        {
          "output_type": "stream",
          "name": "stdout",
          "text": [
            "40\n"
          ]
        }
      ]
    },
    {
      "cell_type": "code",
      "source": [
        "x3 = 20"
      ],
      "metadata": {
        "id": "aMdbbqXnzmzD"
      },
      "execution_count": null,
      "outputs": []
    },
    {
      "cell_type": "code",
      "source": [
        "print(id(x1))\n",
        "print(id(x2))\n",
        "print(id(x3))"
      ],
      "metadata": {
        "id": "0LUXgUFxzpgV"
      },
      "execution_count": null,
      "outputs": []
    },
    {
      "cell_type": "markdown",
      "source": [
        "# 자료형"
      ],
      "metadata": {
        "id": "zg41P04a0YpT"
      }
    },
    {
      "cell_type": "markdown",
      "source": [
        "## 숫자형\n",
        "\n",
        "- int, float(, complex)\n",
        "- int: 정수(10진수), 2진수, 8진수, 16진수\n",
        "- float: 실수\n",
        "- complex: 복소수"
      ],
      "metadata": {
        "id": "FN-EFUKn0bHt"
      }
    },
    {
      "cell_type": "markdown",
      "source": [
        "###int"
      ],
      "metadata": {
        "id": "qJaYbhJ4DPH3"
      }
    },
    {
      "cell_type": "code",
      "source": [
        "int_a = 30\n",
        "int_b = 0b100\n",
        "int_c = 0o56\n",
        "int_d = 0xAC"
      ],
      "metadata": {
        "id": "tKkus4Xt0aNl"
      },
      "execution_count": null,
      "outputs": []
    },
    {
      "cell_type": "code",
      "source": [
        "print(type(int_a))\n",
        "print(type(int_b))\n",
        "print(type(int_c))\n",
        "print(type(int_d))"
      ],
      "metadata": {
        "colab": {
          "base_uri": "https://localhost:8080/"
        },
        "id": "Thn8FElZ1Imm",
        "outputId": "8c441660-c241-490e-e88c-7006e859f363"
      },
      "execution_count": null,
      "outputs": [
        {
          "output_type": "stream",
          "name": "stdout",
          "text": [
            "<class 'int'>\n",
            "<class 'int'>\n",
            "<class 'int'>\n",
            "<class 'int'>\n"
          ]
        }
      ]
    },
    {
      "cell_type": "markdown",
      "source": [
        "### float"
      ],
      "metadata": {
        "id": "tZzPsR_CDTVd"
      }
    },
    {
      "cell_type": "code",
      "source": [
        "float_a = 3.14"
      ],
      "metadata": {
        "id": "b7i_QuWX1OVT"
      },
      "execution_count": null,
      "outputs": []
    },
    {
      "cell_type": "code",
      "source": [
        "print(type(float_a))"
      ],
      "metadata": {
        "colab": {
          "base_uri": "https://localhost:8080/"
        },
        "id": "lkqkHNdg1QNs",
        "outputId": "e738c95c-1e3e-4a01-acc9-98f479d3f882"
      },
      "execution_count": null,
      "outputs": [
        {
          "output_type": "stream",
          "name": "stdout",
          "text": [
            "<class 'float'>\n"
          ]
        }
      ]
    },
    {
      "cell_type": "markdown",
      "source": [
        "### complex"
      ],
      "metadata": {
        "id": "1AUWHfWMDVU1"
      }
    },
    {
      "cell_type": "code",
      "source": [
        "com_a = 4-4j"
      ],
      "metadata": {
        "id": "CrZvjKU61S7R"
      },
      "execution_count": null,
      "outputs": []
    },
    {
      "cell_type": "code",
      "source": [
        "print(type(com_a))"
      ],
      "metadata": {
        "colab": {
          "base_uri": "https://localhost:8080/"
        },
        "id": "8HkKucID1W5h",
        "outputId": "f94e9e5b-67d3-47aa-b88c-9a46412b9cde"
      },
      "execution_count": null,
      "outputs": [
        {
          "output_type": "stream",
          "name": "stdout",
          "text": [
            "<class 'complex'>\n"
          ]
        }
      ]
    },
    {
      "cell_type": "markdown",
      "source": [
        "### 연산자\n",
        "\n",
        "- 연산자: 산술연산자, 대입연산자(할당연산자), 비교연산자, 논리연산자, 비트연산자, 멤버연산자, 식별연산자"
      ],
      "metadata": {
        "id": "AqpvmdIM3zu8"
      }
    },
    {
      "cell_type": "markdown",
      "source": [
        "#### 산술연산자\n",
        "\n",
        "- 덧셈, 뺄셈, 곱셈, 나눗셈, 제곱, 몫, 나머지"
      ],
      "metadata": {
        "id": "b_B7cLK54Ln4"
      }
    },
    {
      "cell_type": "code",
      "source": [
        "num1 = 25\n",
        "num2 = 40\n",
        "\n",
        "print(num1 + num2)\n",
        "print(num1 - num2)\n",
        "print(num1 * num2)\n",
        "print(num1 / num2)  # 나누기 -> 실수값으로 몫을 최대한 구한다.\n",
        "print(num1 // num2) # 몫 -> 정수부분까지만\n",
        "print(num1 % num2)  # 정수부분까지 몫을 구한 뒤, 그 나머지\n",
        "print(num1 ** num2)"
      ],
      "metadata": {
        "colab": {
          "base_uri": "https://localhost:8080/"
        },
        "id": "3r9JBAJs4Qef",
        "outputId": "5db4f3a6-221e-4fb7-a411-c3d872b2bc58"
      },
      "execution_count": null,
      "outputs": [
        {
          "output_type": "stream",
          "name": "stdout",
          "text": [
            "65\n",
            "-15\n",
            "1000\n",
            "0.625\n",
            "0\n",
            "25\n",
            "82718061255302767487140869206996285356581211090087890625\n"
          ]
        }
      ]
    },
    {
      "cell_type": "code",
      "source": [
        "# 나머지 값 활용 -> 문제 풀 때 유용하게 사용할 수 있다.\n",
        "\n",
        "# 짝수 홀수 -> 값 % 2 == 0 : 짝수 / 값 % 2 != 0: 홀수\n",
        "# 배수 약수 -> 값 % 5 == 0: 5의 배수\n",
        "\n",
        "# 두 칸씩 이동 가능"
      ],
      "metadata": {
        "id": "4ib_1lAs4j_I"
      },
      "execution_count": null,
      "outputs": []
    },
    {
      "cell_type": "markdown",
      "source": [
        "#### 비교 연산자\n",
        "\n",
        "- \">, <, >=, <=, ==, !=\"\n",
        "- boolean 으로 리턴"
      ],
      "metadata": {
        "id": "jO2VORwq6EOq"
      }
    },
    {
      "cell_type": "code",
      "source": [
        "print(3 > 0)\n",
        "print(3 < 0)"
      ],
      "metadata": {
        "colab": {
          "base_uri": "https://localhost:8080/"
        },
        "id": "19487SwR6QsZ",
        "outputId": "2e01c747-df07-42fb-983f-b9f25c3e9cec"
      },
      "execution_count": null,
      "outputs": [
        {
          "output_type": "stream",
          "name": "stdout",
          "text": [
            "True\n",
            "False\n"
          ]
        }
      ]
    },
    {
      "cell_type": "code",
      "source": [
        "# 비교연산자 활용\n",
        "\n",
        "# 조건\n",
        "# if 조건(true):\n",
        "#   참일 때 조건 실행\n",
        "# false\n",
        "\n",
        "# a, b\n",
        "# 가로, 세로 -> 가로 더 큰 경우 16:9"
      ],
      "metadata": {
        "id": "WEeEPgBa6Z2J"
      },
      "execution_count": null,
      "outputs": []
    },
    {
      "cell_type": "markdown",
      "source": [
        "#### 논리연산자\n",
        "\n",
        "- and, or, not\n",
        "- boolean 기반으로 이해하기\n",
        "- 값1(true) 값2(false)\n",
        "- and: 그리고 -> 왼쪽값 그리고 오른쪽값 -> 왼쪽값이 true 그리고 오른쪽값이 true: true\n",
        "- or: 또는 -> 왼쪽값 또는 오른쪽값 -> 왼쪽값이 ture 이거나 오른쪽 값이 true: true\n",
        "- not: 반대 -> 하나의 값을 부정 -> 값이 true false, false true"
      ],
      "metadata": {
        "id": "QcDCmvxw6_po"
      }
    },
    {
      "cell_type": "code",
      "source": [
        "# a > 0 (true or false) b < 0 (true, false)"
      ],
      "metadata": {
        "id": "tZSxpKyX7Vxz"
      },
      "execution_count": null,
      "outputs": []
    },
    {
      "cell_type": "code",
      "source": [
        "# and\n",
        "# true true: true\n",
        "# true false: false\n",
        "# false false: false\n",
        "\n",
        "# if 조건1 and 조건2:\n",
        "# -> 둘 다 참일 때만 이 조건을 실행해주세요."
      ],
      "metadata": {
        "id": "37PAMnh_7tpk"
      },
      "execution_count": null,
      "outputs": []
    },
    {
      "cell_type": "code",
      "source": [
        "# or\n",
        "# ture ture: true\n",
        "# ture false: true\n",
        "# false false: true\n",
        "# false false: false\n",
        "\n",
        "# if 조건1 or 조건2:\n",
        "# -> 둘 중 하나라도 참이면 이 조건을 실행해주세요."
      ],
      "metadata": {
        "id": "m8rzU7S_8dRZ"
      },
      "execution_count": null,
      "outputs": []
    },
    {
      "cell_type": "code",
      "source": [
        "# not\n",
        "# true -> false\n",
        "# false -> true\n",
        "\n",
        "# 유저의 정보가 있을 때, input 조건에 있지 않으면 -> 로그인 불가\n",
        "# if not 조건1:\n",
        "#  -> 조건이 충족되지 않을 때"
      ],
      "metadata": {
        "id": "GZZYP4c29DUg"
      },
      "execution_count": null,
      "outputs": []
    },
    {
      "cell_type": "markdown",
      "source": [
        "#### 비트연산자\n",
        "\n",
        "- !! 이진수 진법을 먼저 공부하시고\n",
        "- !! 비트연산 다시 공부\n",
        "\n",
        "- 비트(bit) 단위로 (논리) 연산을 할 때 사용\n",
        "- 2진수\n",
        "- 0 0 0 0 1 1 1 1\n",
        "- 0 0 0 1 0 1 0 1\n",
        "\n",
        "- &(and), |(or), ^(xor), ~(not)\n",
        "- >>(오른쪽으로 shift), <<(왼쪽으로 shift)\n",
        "- 0 0 0 0 1 1 1 1\n",
        "- >> 2\n",
        "- 1 1 0 0 0 0 1 1"
      ],
      "metadata": {
        "id": "mZ3SjRDx96Bo"
      }
    },
    {
      "cell_type": "code",
      "source": [
        "# and -> &\n",
        "# 0: false, 1: ture\n",
        "'''\n",
        "1) 0 0 0 0 1 1 1 1\n",
        "2) 0 0 0 1 0 1 0 1\n",
        "-------------------\n",
        "   0 0 0 0 0 1 0 1\n",
        "'''"
      ],
      "metadata": {
        "id": "XziPJCTk-Yll"
      },
      "execution_count": null,
      "outputs": []
    },
    {
      "cell_type": "code",
      "source": [
        "# or -> |\n",
        "# 0: false, 1: ture\n",
        "'''\n",
        "1) 0 0 0 0 1 1 1 1\n",
        "2) 0 0 0 1 0 1 0 1\n",
        "-------------------\n",
        "   0 0 0 1 1 1 1 1\n",
        "'''"
      ],
      "metadata": {
        "id": "TovytO7n--zH"
      },
      "execution_count": null,
      "outputs": []
    },
    {
      "cell_type": "code",
      "source": [
        "# xor -> ^ : 둘 값이 다를 경우 true\n",
        "# 0: false, 1: ture\n",
        "'''\n",
        "1) 0 0 0 0 1 1 1 1\n",
        "2) 0 0 0 1 0 1 0 1\n",
        "-------------------\n",
        "   0 0 0 1 1 0 1 0\n",
        "'''"
      ],
      "metadata": {
        "id": "aZudCqzN_9mK"
      },
      "execution_count": null,
      "outputs": []
    },
    {
      "cell_type": "code",
      "source": [
        "# not -> ^ : 둘 값이 다를 경우 true\n",
        "# 0: false, 1: ture\n",
        "'''\n",
        "1) 0 0 0 0 1 1 1 1\n",
        "2) 0 0 0 1 0 1 0 1\n",
        "-------------------\n",
        "   0 0 0 1 1 0 1 0\n",
        "'''"
      ],
      "metadata": {
        "id": "OQ5-q90P__Fa"
      },
      "execution_count": null,
      "outputs": []
    },
    {
      "cell_type": "markdown",
      "source": [
        "### 자주 사용되는 내장함수\n",
        "\n",
        "- sum(): 합계\n",
        "- max(), min(): 최대, 최소\n",
        "- round(): 반올림\n",
        "- abs(): 절대값 ...\n",
        "\n",
        "---\n",
        "- numpy: 파이썬 라이브러리 -> 디테일한 수학적 계산이 가능"
      ],
      "metadata": {
        "id": "achwA389BIjy"
      }
    },
    {
      "cell_type": "code",
      "source": [
        "abs(-1)"
      ],
      "metadata": {
        "colab": {
          "base_uri": "https://localhost:8080/"
        },
        "id": "PTm3fMOHCPSV",
        "outputId": "5eb92d89-250b-49ac-dfdc-34a448346b16"
      },
      "execution_count": null,
      "outputs": [
        {
          "output_type": "execute_result",
          "data": {
            "text/plain": [
              "1"
            ]
          },
          "metadata": {},
          "execution_count": 35
        }
      ]
    },
    {
      "cell_type": "code",
      "source": [
        "round(3.5)"
      ],
      "metadata": {
        "colab": {
          "base_uri": "https://localhost:8080/"
        },
        "id": "pFpRys2qCSBn",
        "outputId": "c016deb3-37ac-4625-9610-3034b0e6e982"
      },
      "execution_count": null,
      "outputs": [
        {
          "output_type": "execute_result",
          "data": {
            "text/plain": [
              "4"
            ]
          },
          "metadata": {},
          "execution_count": 39
        }
      ]
    },
    {
      "cell_type": "code",
      "source": [
        "round(-3.5)"
      ],
      "metadata": {
        "id": "COLDVGvcC2tk"
      },
      "execution_count": null,
      "outputs": []
    },
    {
      "cell_type": "code",
      "source": [
        "# 숫자형 함수 중 많이 사용하는 random\n",
        "import random"
      ],
      "metadata": {
        "id": "uH-ZD4RRC6md"
      },
      "execution_count": null,
      "outputs": []
    },
    {
      "cell_type": "code",
      "source": [
        "# 0과 1사이 랜덤한 숫자를 만들기\n",
        "random.random()"
      ],
      "metadata": {
        "colab": {
          "base_uri": "https://localhost:8080/"
        },
        "id": "E9kmeFiTDCuC",
        "outputId": "d688160d-2f17-49a9-f16f-3256d3b71217"
      },
      "execution_count": null,
      "outputs": [
        {
          "output_type": "execute_result",
          "data": {
            "text/plain": [
              "0.3900231816497536"
            ]
          },
          "metadata": {},
          "execution_count": 41
        }
      ]
    },
    {
      "cell_type": "code",
      "source": [
        "# 최소, 최대값 사이에 랜덤한 숫자 만들기 - float\n",
        "random.uniform(1, 10)"
      ],
      "metadata": {
        "colab": {
          "base_uri": "https://localhost:8080/"
        },
        "id": "4meOWZNuDHLM",
        "outputId": "e39f635d-bd43-4d41-80dd-f9d54ca33146"
      },
      "execution_count": null,
      "outputs": [
        {
          "output_type": "execute_result",
          "data": {
            "text/plain": [
              "3.2078050485970238"
            ]
          },
          "metadata": {},
          "execution_count": 43
        }
      ]
    },
    {
      "cell_type": "code",
      "source": [
        "# 최소, 최대값 사이에 랜덤한 숫자 만들기 - int\n",
        "random.randint(1, 10)"
      ],
      "metadata": {
        "colab": {
          "base_uri": "https://localhost:8080/"
        },
        "id": "vXVe0dgGGIWS",
        "outputId": "383ab913-31bd-40db-bd77-1891dde52cee"
      },
      "execution_count": null,
      "outputs": [
        {
          "output_type": "execute_result",
          "data": {
            "text/plain": [
              "1"
            ]
          },
          "metadata": {},
          "execution_count": 42
        }
      ]
    },
    {
      "cell_type": "markdown",
      "source": [
        "## 문자형\n",
        "\n",
        "- \", ''\n",
        "- 순서가 있는 시퀀스 자료형\n",
        "  - 시퀀스 자료형: Index(인덱스)\n",
        "  - 인덱스: 인덱싱, 슬라이싱 가능"
      ],
      "metadata": {
        "id": "nx4sN6pZ_dEz"
      }
    },
    {
      "cell_type": "code",
      "source": [
        "# 문자열 선언\n",
        "a = 'hello'"
      ],
      "metadata": {
        "id": "cZtQpgIRG-AK"
      },
      "execution_count": null,
      "outputs": []
    },
    {
      "cell_type": "code",
      "source": [
        "# 인덱싱\n",
        "a[0]"
      ],
      "metadata": {
        "colab": {
          "base_uri": "https://localhost:8080/",
          "height": 35
        },
        "id": "g0QmY_GCHAkr",
        "outputId": "494c43a1-0211-4b42-ff08-73a9dba2c9d5"
      },
      "execution_count": null,
      "outputs": [
        {
          "output_type": "execute_result",
          "data": {
            "text/plain": [
              "'h'"
            ],
            "application/vnd.google.colaboratory.intrinsic+json": {
              "type": "string"
            }
          },
          "metadata": {},
          "execution_count": 46
        }
      ]
    },
    {
      "cell_type": "code",
      "source": [
        "# 슬라이싱\n",
        "a[0:3]"
      ],
      "metadata": {
        "colab": {
          "base_uri": "https://localhost:8080/",
          "height": 35
        },
        "id": "WseELiS3HDz_",
        "outputId": "8ed70db2-fbcd-458c-e903-b4fed82b82e5"
      },
      "execution_count": null,
      "outputs": [
        {
          "output_type": "execute_result",
          "data": {
            "text/plain": [
              "'hel'"
            ],
            "application/vnd.google.colaboratory.intrinsic+json": {
              "type": "string"
            }
          },
          "metadata": {},
          "execution_count": 48
        }
      ]
    },
    {
      "cell_type": "code",
      "source": [
        "# 인덱싱을 활용하기\n",
        "# 인덱싱을 이용하는 함수를 사용할 수 있다.\n",
        "# index\n",
        "\n",
        "a.index('l')"
      ],
      "metadata": {
        "colab": {
          "base_uri": "https://localhost:8080/"
        },
        "id": "h3HrQsmaHN6r",
        "outputId": "56e0f7fa-b110-4298-db3e-a7d7f9f02e04"
      },
      "execution_count": null,
      "outputs": [
        {
          "output_type": "execute_result",
          "data": {
            "text/plain": [
              "2"
            ]
          },
          "metadata": {},
          "execution_count": 50
        }
      ]
    },
    {
      "cell_type": "markdown",
      "source": [
        "#### 문자열 포맷\n",
        "\n",
        "- % 포맷팅\n",
        "- format 함수\n",
        "- f-string"
      ],
      "metadata": {
        "id": "fc0FuEOkHj4e"
      }
    },
    {
      "cell_type": "code",
      "source": [
        "# % 포맷팅\n",
        "# %d: 정수, %f: 실수, %s: 문자열\n",
        "\n",
        "n = 10\n",
        "print(\"%d\" % n  )"
      ],
      "metadata": {
        "colab": {
          "base_uri": "https://localhost:8080/"
        },
        "id": "lQElcxvKH3ru",
        "outputId": "20b6b0ad-32a2-48e4-fcf2-85bf15a6dd33"
      },
      "execution_count": null,
      "outputs": [
        {
          "output_type": "stream",
          "name": "stdout",
          "text": [
            "10\n"
          ]
        }
      ]
    },
    {
      "cell_type": "code",
      "source": [
        "# format 함수\n",
        "\n",
        "a = 3\n",
        "b = 14\n",
        "print(\"파이는 {0}.{1}\".format(3, 14))"
      ],
      "metadata": {
        "colab": {
          "base_uri": "https://localhost:8080/"
        },
        "id": "lxdFdnj8IF-V",
        "outputId": "1f1e4f56-07b5-4002-eb93-1df6521fc250"
      },
      "execution_count": null,
      "outputs": [
        {
          "output_type": "stream",
          "name": "stdout",
          "text": [
            "파이는 3.14\n"
          ]
        }
      ]
    },
    {
      "cell_type": "code",
      "source": [
        "# f-string\n",
        "# python 3.6 이상\n",
        "# 다른 파이썬 버전에서 사용하면 안됩니다.\n",
        "\n",
        "num = 1\n",
        "print(f'오르미 {num}기 입니다.')"
      ],
      "metadata": {
        "colab": {
          "base_uri": "https://localhost:8080/"
        },
        "id": "K7kiCiDiIiup",
        "outputId": "6bba6554-9db9-47b7-e6f6-8c9e0c705689"
      },
      "execution_count": null,
      "outputs": [
        {
          "output_type": "stream",
          "name": "stdout",
          "text": [
            "오르미 1기 입니다.\n"
          ]
        }
      ]
    },
    {
      "cell_type": "markdown",
      "source": [
        "#### 이스케이프 문자\n",
        "\n",
        "- \\n: 엔터(개행)\n",
        "- \\t: 탭\n",
        "- \\': 작은 따옴표\n",
        "- \\\": 큰 따옴표\n",
        "- \\b: 백 스페이스\n",
        "- \\\\: 역슬러시 표\n",
        "\n",
        "여러 줄 내용을 하나의 변수에 표시할 때\n",
        "'나는 \"안녕하세요 '라고 생각했다.' \"라고 말했다.'\n",
        "\"안녕하세요 \\n 반갑습니다.\""
      ],
      "metadata": {
        "id": "JRl9VMeJI--p"
      }
    },
    {
      "cell_type": "markdown",
      "source": [
        "#### 내장 함수\n",
        "\n",
        "- count(): 안에 있는 문자 객수 세기\n",
        "- strip(): 양쪽 공백, 특정 문자를 제거\n",
        "- replace(): 어떤 문자를 원하는 문자로 바꿔줄 때\n",
        "- split(): 특정 기준으로 문자열을 쪼개줄 때\n",
        "- join(): 문자열을 합쳐줄 때"
      ],
      "metadata": {
        "id": "f0Z2oKSAK3j4"
      }
    },
    {
      "cell_type": "code",
      "source": [
        "# 1 ~ 10000 까지 있을 때 8이 몇 개 있는가\n",
        "# for if 8 count+ / \"\".count('8')"
      ],
      "metadata": {
        "id": "AsPYjE7OKqtn"
      },
      "execution_count": null,
      "outputs": []
    },
    {
      "cell_type": "markdown",
      "source": [
        "## 불리언\n",
        "\n",
        "숫자형 연산 부분을 참고해주세요."
      ],
      "metadata": {
        "id": "DdIHh2KLLYhS"
      }
    },
    {
      "cell_type": "markdown",
      "source": [
        "# 자료구조\n",
        "\n",
        "- 리스트, 튜플, 딕셔너리, 셋"
      ],
      "metadata": {
        "id": "QhVLjuDyLjPZ"
      }
    },
    {
      "cell_type": "markdown",
      "source": [
        "## 리스트 (배열)\n",
        "\n",
        "- 순서를 가진 시퀀스(sequence)형 -> 인덱싱 슬라이싱 가능 -> 인덱싱 함수 사용 가능\n",
        "- list_a = []\n",
        "- 값 변경이 가능"
      ],
      "metadata": {
        "id": "6doosyk1LvLG"
      }
    },
    {
      "cell_type": "code",
      "source": [
        "# 리스트 선언\n",
        "list_a = [1, 2, 3]"
      ],
      "metadata": {
        "id": "Jjyupq_7Ldgq"
      },
      "execution_count": null,
      "outputs": []
    },
    {
      "cell_type": "code",
      "source": [
        "# 인덱싱\n",
        "list_a[0]"
      ],
      "metadata": {
        "colab": {
          "base_uri": "https://localhost:8080/"
        },
        "id": "0SqBdWsNMkJS",
        "outputId": "d2336281-35cd-4bc5-d04a-908e081347fd"
      },
      "execution_count": null,
      "outputs": [
        {
          "output_type": "execute_result",
          "data": {
            "text/plain": [
              "1"
            ]
          },
          "metadata": {},
          "execution_count": 63
        }
      ]
    },
    {
      "cell_type": "code",
      "source": [
        "# 슬라이싱\n",
        "list_a[0:2]"
      ],
      "metadata": {
        "colab": {
          "base_uri": "https://localhost:8080/"
        },
        "id": "WgJPOxnbMmJw",
        "outputId": "a14b47a9-717e-4c54-c632-63406db350aa"
      },
      "execution_count": null,
      "outputs": [
        {
          "output_type": "execute_result",
          "data": {
            "text/plain": [
              "[1, 2]"
            ]
          },
          "metadata": {},
          "execution_count": 65
        }
      ]
    },
    {
      "cell_type": "code",
      "source": [
        "# 인덱스\n",
        "list_a.index(1)"
      ],
      "metadata": {
        "colab": {
          "base_uri": "https://localhost:8080/"
        },
        "id": "iRIZqZweMqOe",
        "outputId": "ba15e1c8-80c5-4078-86f6-ba7876ac3b16"
      },
      "execution_count": null,
      "outputs": [
        {
          "output_type": "execute_result",
          "data": {
            "text/plain": [
              "0"
            ]
          },
          "metadata": {},
          "execution_count": 89
        }
      ]
    },
    {
      "cell_type": "markdown",
      "source": [
        "### 사칙 연산"
      ],
      "metadata": {
        "id": "9pCsfHBAMsmk"
      }
    },
    {
      "cell_type": "code",
      "source": [
        "list_a = [1, 2, 3]\n",
        "\n",
        "list_a = list_a + list_a"
      ],
      "metadata": {
        "id": "6cpBDdaEMx3y"
      },
      "execution_count": null,
      "outputs": []
    },
    {
      "cell_type": "code",
      "source": [
        "print(list_a)"
      ],
      "metadata": {
        "colab": {
          "base_uri": "https://localhost:8080/"
        },
        "id": "cCiSwmV6M1EM",
        "outputId": "512d3c64-9577-404e-c695-7df7ccf65297"
      },
      "execution_count": null,
      "outputs": [
        {
          "output_type": "stream",
          "name": "stdout",
          "text": [
            "[1, 2, 3, 1, 2, 3]\n"
          ]
        }
      ]
    },
    {
      "cell_type": "code",
      "source": [
        "### for 문을 순회하면서 더하기 숙제\n",
        "\n",
        "# 추가: numpy\n",
        "# 1차원 2차원 3차원 ...\n",
        "# 다차원 배열 계산에 강점 -> [] + []"
      ],
      "metadata": {
        "id": "212WRpCBNN7I"
      },
      "execution_count": null,
      "outputs": []
    },
    {
      "cell_type": "code",
      "source": [
        "list_a + 3\n",
        "\n",
        "# 크기가 맞지 않습니다. -> for문 순회로 각각을 더해주어야 합니다."
      ],
      "metadata": {
        "id": "ZI0z1rEVN1yF"
      },
      "execution_count": null,
      "outputs": []
    },
    {
      "cell_type": "code",
      "source": [
        "list_a + [3]"
      ],
      "metadata": {
        "colab": {
          "base_uri": "https://localhost:8080/"
        },
        "id": "susoxt1-OLCA",
        "outputId": "c01b7e6e-1698-4e2a-f81b-9f67ab9fc0b8"
      },
      "execution_count": null,
      "outputs": [
        {
          "output_type": "execute_result",
          "data": {
            "text/plain": [
              "[1, 2, 3, 1, 2, 3, 3]"
            ]
          },
          "metadata": {},
          "execution_count": 70
        }
      ]
    },
    {
      "cell_type": "code",
      "source": [
        "list_a * 3"
      ],
      "metadata": {
        "colab": {
          "base_uri": "https://localhost:8080/"
        },
        "id": "o53uq9uyONaW",
        "outputId": "975e5347-c4c0-4b85-d2b6-278f8cab40d2"
      },
      "execution_count": null,
      "outputs": [
        {
          "output_type": "execute_result",
          "data": {
            "text/plain": [
              "[1, 2, 3, 1, 2, 3, 1, 2, 3, 1, 2, 3, 1, 2, 3, 1, 2, 3]"
            ]
          },
          "metadata": {},
          "execution_count": 71
        }
      ]
    },
    {
      "cell_type": "code",
      "source": [
        "list_a * [3]\n",
        "\n",
        "# 크기가 맞지 않습니다."
      ],
      "metadata": {
        "id": "Ak1OPflUOTRk"
      },
      "execution_count": null,
      "outputs": []
    },
    {
      "cell_type": "code",
      "source": [
        "# list_a + list_a -> [][]\n",
        "# list_a + [3]\n",
        "# append\n",
        "\n",
        "li = [1, 2]\n",
        "\n",
        "li.append(3) # 함수이기때문에 뒤에 소괄호가 들어갑니다.\n",
        "print(li)"
      ],
      "metadata": {
        "colab": {
          "base_uri": "https://localhost:8080/"
        },
        "id": "59BhIzF7OlMz",
        "outputId": "fb1c12cb-9c35-4234-855e-f8cd3ebb231a"
      },
      "execution_count": null,
      "outputs": [
        {
          "output_type": "stream",
          "name": "stdout",
          "text": [
            "[1, 2, 3]\n"
          ]
        }
      ]
    },
    {
      "cell_type": "code",
      "source": [
        "# 값 지우기\n",
        "# .clear()\n",
        "\n",
        "li.clear()"
      ],
      "metadata": {
        "id": "CWp7QX5yO67w"
      },
      "execution_count": null,
      "outputs": []
    },
    {
      "cell_type": "code",
      "source": [
        "print(li)"
      ],
      "metadata": {
        "colab": {
          "base_uri": "https://localhost:8080/"
        },
        "id": "B5MtprPiO9nO",
        "outputId": "6a706767-5943-412e-9802-6b976a1c55e2"
      },
      "execution_count": null,
      "outputs": [
        {
          "output_type": "stream",
          "name": "stdout",
          "text": [
            "[]\n"
          ]
        }
      ]
    },
    {
      "cell_type": "code",
      "source": [
        "a = [1, 2, 3]\n",
        "\n",
        "b = a\n",
        "c = b\n",
        "\n",
        "c[0] = 100"
      ],
      "metadata": {
        "id": "mIK3lkEtPPKo"
      },
      "execution_count": null,
      "outputs": []
    },
    {
      "cell_type": "code",
      "source": [
        "print(a)"
      ],
      "metadata": {
        "colab": {
          "base_uri": "https://localhost:8080/"
        },
        "id": "R6-OY7FXPVgZ",
        "outputId": "7302f1c7-bfc5-4552-e27f-d22152812328"
      },
      "execution_count": null,
      "outputs": [
        {
          "output_type": "stream",
          "name": "stdout",
          "text": [
            "[100, 2, 3]\n"
          ]
        }
      ]
    },
    {
      "cell_type": "code",
      "source": [
        "a = [1, 2, 3]\n",
        "\n",
        "b = a.copy()\n",
        "c = b.copy()\n",
        "\n",
        "c[0] = 1000"
      ],
      "metadata": {
        "id": "p58I35lIPeQv"
      },
      "execution_count": null,
      "outputs": []
    },
    {
      "cell_type": "code",
      "source": [
        "print(a)\n",
        "print(b)\n",
        "print(c)"
      ],
      "metadata": {
        "colab": {
          "base_uri": "https://localhost:8080/"
        },
        "id": "p0KTOjM5Pm_o",
        "outputId": "72799495-bef8-46ea-ec8a-02e063fb0630"
      },
      "execution_count": null,
      "outputs": [
        {
          "output_type": "stream",
          "name": "stdout",
          "text": [
            "[1, 2, 3]\n",
            "[1, 2, 3]\n",
            "[1000, 2, 3]\n"
          ]
        }
      ]
    },
    {
      "cell_type": "code",
      "source": [
        "# append 하나의 값을 뒤에 추가해줄 때\n",
        "# extend 여러 값들을 추가할 때\n",
        "\n",
        "a.extend([4, 5, 6])\n",
        "print(a)"
      ],
      "metadata": {
        "id": "njTlnhnpP1yZ"
      },
      "execution_count": null,
      "outputs": []
    },
    {
      "cell_type": "code",
      "source": [
        "# append 하나의 값을 뒤에 추가해줄 때\n",
        "# extend 여러 값들을 추가할 때\n",
        "\n",
        "a.append(2)\n",
        "print(a)"
      ],
      "metadata": {
        "id": "HE_xG0MHQENS"
      },
      "execution_count": null,
      "outputs": []
    }
  ]
}